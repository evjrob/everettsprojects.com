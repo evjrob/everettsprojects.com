{
 "cells": [
  {
   "cell_type": "markdown",
   "metadata": {},
   "source": [
    "This is the Logiq Tower puzzle. I received it as a Christmas gift at least three years ago, and have not yet found all 22,069 solutions. I have no idea what I've been doing with my life to prevent me from finding them all, but that gets fixed today. Of course finding all the solutions by hand is not practical, so I will rely on code to do it. The puzzle is an interesting take on the exact cover class of problems, where the space to cover has been wrapped in a cylinder around a central pillar. This makes the solutions modulo, in the sense that a piece sticking out of the board on the left or right will overflow into the other side. Think of the game asteroids; it's sort of like when your ship flies off one side of the screen and appears on the opposite one. The only difference is that the Logiq Tower space only circles around on the left and right hand sides but not the top. It's a cylindrical space rather than a toroidal one."
   ]
  },
  {
   "cell_type": "markdown",
   "metadata": {},
   "source": [
    "<img src='img/asteroids.gif' width='800px'>"
   ]
  },
  {
   "cell_type": "markdown",
   "metadata": {},
   "source": [
    "There are fifteen different pieces that the puzzle makers have conveniently named for us:"
   ]
  },
  {
   "cell_type": "markdown",
   "metadata": {},
   "source": [
    "<img src='img/pieces.JPG' width='500px'>"
   ]
  },
  {
   "cell_type": "markdown",
   "metadata": {},
   "source": [
    "The puzzle is two layers thick, and twelve sectors wide. The height varies from two to four units tall. There are two different classes of pieces. The ones with numeric names exist in both layers, while the alphabetically named pieces exist only in the outer layer. The numeric pieces also always occupy the entire inner ring of the row they occupy, and so it's sufficient to only capture the spots they fill in the outer ring, and the row that they occupy. This is convenient since it means we can capture the problem in a two dimensional 12 x tower_height matrix, where height = 2, 3, 4, 5. For example, the sample solution provided for the two unit tall tower by the makers of the puzzle is:"
   ]
  },
  {
   "cell_type": "code",
   "execution_count": 1,
   "metadata": {},
   "outputs": [
    {
     "data": {
      "text/plain": [
       "array([['Q', 'Q', 'U', 'U', 'U', 'L', 'L', 'L', 'L', 'Y', '0', '0'],\n",
       "       ['Q', 'Q', 'U', '2', 'U', 'L', '2', 'Y', 'Y', 'Y', 'Y', 'Q']],\n",
       "      dtype='<U1')"
      ]
     },
     "execution_count": 1,
     "metadata": {},
     "output_type": "execute_result"
    }
   ],
   "source": [
    "import numpy as np\n",
    "\n",
    "example_soln = np.array([['Q','Q','U','U','U','L','L','L','L','Y','0','0'],\n",
    "                         ['Q','Q','U','2','U','L','2','Y','Y','Y','Y','Q']])\n",
    "example_soln"
   ]
  },
  {
   "cell_type": "markdown",
   "metadata": {},
   "source": [
    "To illustrate the modulo nature of the solution, we can shift the above solution by one to the right:"
   ]
  },
  {
   "cell_type": "code",
   "execution_count": 2,
   "metadata": {},
   "outputs": [
    {
     "data": {
      "text/plain": [
       "array([['0', 'Q', 'Q', 'U', 'U', 'U', 'L', 'L', 'L', 'L', 'Y', '0'],\n",
       "       ['Q', 'Q', 'Q', 'U', '2', 'U', 'L', '2', 'Y', 'Y', 'Y', 'Y']],\n",
       "      dtype='<U1')"
      ]
     },
     "execution_count": 2,
     "metadata": {},
     "output_type": "execute_result"
    }
   ],
   "source": [
    "np.roll(example_soln, 1, axis=1)"
   ]
  },
  {
   "cell_type": "markdown",
   "metadata": {},
   "source": [
    "We will need to account for all of these redundant solutions at the end so we don't end up with more than the 22,069 solutions advertised. We can worry more about this when we get to the point of actually generating solutions.\n",
    "\n",
    "The way dlx works, we will need to create a row for every possible location and orientation of each puzzle piece. This row will need to track which spots of the grid the piece occupies, as well as which pieces have been used. We can start by creating a basic representation of each piece in two dimensions:"
   ]
  },
  {
   "cell_type": "code",
   "execution_count": 3,
   "metadata": {},
   "outputs": [],
   "source": [
    "I = np.array(['I','I','I','I','I']).reshape(1,-1)\n",
    "\n",
    "Y = np.array([['.','.','Y','.'],\n",
    "              ['Y','Y','Y','Y']])\n",
    "\n",
    "L = np.array([['.','.','.','L'],\n",
    "              ['L','L','L','L']])\n",
    "\n",
    "N = np.array([['.','.','N','N'],\n",
    "              ['N','N','N','.']])\n",
    "\n",
    "U = np.array([['U','.','U'],\n",
    "              ['U','U','U']])\n",
    "\n",
    "Q = np.array([['.','Q','Q'],\n",
    "              ['Q','Q','Q']])\n",
    "\n",
    "W = np.array([['.','.','W'],\n",
    "              ['.','W','W'],\n",
    "              ['W','W','.']])\n",
    "\n",
    "F = np.array([['.','F','.'],\n",
    "              ['F','F','F'],\n",
    "              ['F','.','.']])\n",
    "\n",
    "T = np.array([['T','T','T'],\n",
    "              ['.','T','.'],\n",
    "              ['.','T','.']])\n",
    "\n",
    "S = np.array([['.','S','S'],\n",
    "              ['.','S','.'],\n",
    "              ['S','S','.']])\n",
    "\n",
    "zero = np.array(['0','0']).reshape(1,-1)\n",
    "\n",
    "one = np.array(['1','.','1']).reshape(1,-1)\n",
    "\n",
    "two = np.array(['2','.','.','2']).reshape(1,-1)\n",
    "\n",
    "three = np.array(['3','.','.','.','3']).reshape(1,-1)\n",
    "\n",
    "four = np.array(['4','.','.','.','.','4']).reshape(1,-1)"
   ]
  },
  {
   "cell_type": "markdown",
   "metadata": {},
   "source": [
    "Some of the pieces also have flipped versions that are not equivalent when they are rotated 180 degrees. This applies to Y, L, N, U, Q, W, F, and T. We need to account for these upside down orientations:"
   ]
  },
  {
   "cell_type": "code",
   "execution_count": 4,
   "metadata": {},
   "outputs": [],
   "source": [
    "Y_ud = np.rot90(Y, k=2)\n",
    "\n",
    "L_ud = np.rot90(L, k=2)\n",
    "\n",
    "N_ud = np.rot90(N, k=2)\n",
    "\n",
    "U_ud = np.rot90(U, k=2)\n",
    "\n",
    "Q_ud = np.rot90(Q, k=2)\n",
    "\n",
    "W_ud = np.rot90(W, k=2)\n",
    "\n",
    "F_ud = np.rot90(F, k=2)\n",
    "\n",
    "T_ud = np.rot90(T, k=2)"
   ]
  },
  {
   "cell_type": "markdown",
   "metadata": {},
   "source": [
    "To keep track of all of these pieces in their different orientations, we can store them in a dictionary of lists. The key will be the alphabetic or numeric name for the piece. The list will contain the possible orientations of the pieces:"
   ]
  },
  {
   "cell_type": "code",
   "execution_count": 5,
   "metadata": {},
   "outputs": [],
   "source": [
    "piece_list = ['I', 'Y', 'L', 'N', 'U', 'Q', 'W', 'F', \n",
    "              'T', 'S', '0', '1', '2', '3', '4']\n",
    "\n",
    "inner_layer = {'I':False,\n",
    "               'Y':False,\n",
    "               'L':False,\n",
    "               'N':False,\n",
    "               'U':False,\n",
    "               'Q':False,\n",
    "               'W':False,\n",
    "               'F':False,\n",
    "               'T':False,\n",
    "               'S':False,\n",
    "               '0':True,\n",
    "               '1':True,\n",
    "               '2':True,\n",
    "               '3':True,\n",
    "               '4':True}\n",
    "\n",
    "symmetric = {'I':True,\n",
    "             'Y':False,\n",
    "             'L':False,\n",
    "             'N':False,\n",
    "             'U':False,\n",
    "             'Q':False,\n",
    "             'W':False,\n",
    "             'F':False,\n",
    "             'T':False,\n",
    "             'S':True,\n",
    "             '0':True,\n",
    "             '1':True,\n",
    "             '2':True,\n",
    "             '3':True,\n",
    "             '4':True}\n",
    "\n",
    "piece_dict = {'I':[I],\n",
    "              'Y':[Y],#,Y_ud],\n",
    "              'L':[L],#,L_ud],\n",
    "              'N':[N],#,N_ud],\n",
    "              'U':[U],#,U_ud],\n",
    "              'Q':[Q],#,Q_ud],\n",
    "              'W':[W],#,W_ud],\n",
    "              'F':[F],#,F_ud],\n",
    "              'T':[T],#,T_ud],\n",
    "              'S':[S],\n",
    "              '0':[zero],\n",
    "              '1':[one],\n",
    "              '2':[two],\n",
    "              '3':[three],\n",
    "              '4':[four]}"
   ]
  },
  {
   "cell_type": "markdown",
   "metadata": {},
   "source": [
    "Next we need to account for all the possible locations in the 12 x tower_height grid of each piece in each orientation:"
   ]
  },
  {
   "cell_type": "code",
   "execution_count": 6,
   "metadata": {},
   "outputs": [],
   "source": [
    "def possible_piece_positions(tower_height, tower_width):\n",
    "    blank_tower = np.zeros((tower_height,tower_width), 'U1')\n",
    "    blank_tower.fill('.')\n",
    "    piece_positions = {}\n",
    "    for piece_name, orientations in piece_dict.items():\n",
    "        piece_height = orientations[0].shape[0]\n",
    "        piece_width = orientations[0].shape[1]\n",
    "        \n",
    "        # Skip this piece if it can't fit in the tower\n",
    "        if orientations[0].shape[0] > tower_height:\n",
    "            continue\n",
    "        \n",
    "        positions = []\n",
    "        for orientation in orientations:\n",
    "            piece = blank_tower.copy()\n",
    "            piece[:piece_height, :piece_width] = orientation\n",
    "            \n",
    "            # For all the ways the piece fits vertically    \n",
    "            for i in range(tower_height - piece_height + 1):\n",
    "                # Since there can only be one numeric piece per row,\n",
    "                # anchor it at the left side of the first row to reduce\n",
    "                # the size of the problem space by 12.\n",
    "                if i == 0 and inner_layer[piece_name]:\n",
    "                    position = piece\n",
    "                    positions.append(piece)\n",
    "                    continue                    \n",
    "                # For all of the horizontal positions it can be in\n",
    "                for j in range(tower_width):\n",
    "                    position = np.roll(np.roll(piece, j, axis=1), i, axis=0)\n",
    "                    positions.append(position)\n",
    "        \n",
    "        piece_positions[piece_name] = positions\n",
    "\n",
    "    return piece_positions"
   ]
  },
  {
   "cell_type": "markdown",
   "metadata": {},
   "source": [
    "Next we need to take all of these piece positions and turn them into something the dlx solver code can work with. I wrote code to solve the dlx algorithm in the language go, but since I wanted to make use of numpy for ease of setup I decided against making this a go project early on. I fought off the \"not invented here\" syndrome and resisted the urge to re-write the dlx algorithm in yet another language. Instead I will use the implementation found here https://kunigami.blog/2013/04/28/the-algorithm-x-and-the-dancing-links/. I have modified it slightly to ensure that it returns all possible exact cover solutions rather than terminating after it finds the first solution. "
   ]
  },
  {
   "cell_type": "code",
   "execution_count": 7,
   "metadata": {},
   "outputs": [],
   "source": [
    "class Node:\n",
    "    def __init__(self, row, col):\n",
    "        self.row, self.col = row, col\n",
    "\n",
    "    def deattach(self):\n",
    "        self.up.down = self.down\n",
    "        self.down.up = self.up\n",
    "\n",
    "    def attach(self):\n",
    "        self.down.up = self.up.down = self\n",
    "\n",
    "class Head:\n",
    "    def __init__(self, col):\n",
    "        self.col = col\n",
    "\n",
    "    def deattach(self):\n",
    "        self.left.right = self.right\n",
    "        self.right.left = self.left\n",
    "\n",
    "    def attach(self):\n",
    "        self.right.left = self.left.right = self\n",
    "\n",
    "class NodeIterator:\n",
    "\n",
    "    def __init__(self, node):\n",
    "        self.curr = self.start = node\n",
    "\n",
    "    def __iter__(self):\n",
    "        return self\n",
    "\n",
    "    def __next__(self):\n",
    "        _next = self.move(self.curr)\n",
    "        if _next == self.start:\n",
    "            raise StopIteration\n",
    "        else:\n",
    "            self.curr = _next\n",
    "            return _next\n",
    "\n",
    "    def move(self):\n",
    "        raise NotImplementedError\n",
    "\n",
    "class LeftIterator (NodeIterator):\n",
    "    def move(self, node):\n",
    "        return node.left\n",
    "\n",
    "class RightIterator (NodeIterator):\n",
    "    def move(self, node):\n",
    "        return node.right\n",
    "\n",
    "class DownIterator (NodeIterator):\n",
    "    def move(self, node):\n",
    "        return node.down\n",
    "\n",
    "class UpIterator (NodeIterator):\n",
    "    def move(self, node):\n",
    "        return node.up\n",
    "\n",
    "class SparseMatrix:\n",
    "\n",
    "    def createLeftRightLinks(self, srows):\n",
    "        for srow in srows:\n",
    "            n = len(srow)\n",
    "            for j in range(n):\n",
    "                srow[j].right = srow[(j + 1) % n]\n",
    "                srow[j].left = srow[(j - 1 + n) % n]\n",
    "\n",
    "    def createUpDownLinks(self, scols):\n",
    "        for scol in scols:\n",
    "            n = len(scol)\n",
    "            for i in range(n):\n",
    "                scol[i].down = scol[(i + 1) % n]\n",
    "                scol[i].up = scol[(i - 1 + n) % n]\n",
    "                scol[i].head = scol[0]\n",
    "\n",
    "    def __init__(self, mat):\n",
    "\n",
    "        nrows = len(mat)\n",
    "        ncols = len(mat[0])\n",
    "\n",
    "        srow = [[ ] for _ in range(nrows)]\n",
    "        heads = [Head(j) for j in range(ncols)]\n",
    "        scol = [[head] for head in heads]\n",
    "\n",
    "        # Head of the column heads\n",
    "        self.head = Head(-1)\n",
    "        heads = [self.head] + heads\n",
    "\n",
    "        self.createLeftRightLinks([heads])\n",
    "\n",
    "        for i in range(nrows):\n",
    "            for j in range(ncols):\n",
    "                if mat[i][j] == 1:\n",
    "                    node = Node(i, j)\n",
    "                    scol[j].append(node)\n",
    "                    srow[i].append(node)\n",
    "\n",
    "        self.createLeftRightLinks(srow)\n",
    "        self.createUpDownLinks(scol)\n",
    "\n",
    "class DancingLinks:\n",
    "\n",
    "    def __init__(self, mat):\n",
    "        self.solution = [ ]\n",
    "        self.smat = SparseMatrix(mat)\n",
    "\n",
    "    def cover(self, col):\n",
    "        col.deattach()\n",
    "        for row in DownIterator(col):\n",
    "            for cell in RightIterator(row):\n",
    "                cell.deattach()\n",
    "\n",
    "    def uncover(self, col):\n",
    "        for row in UpIterator(col):\n",
    "            for cell in LeftIterator(row):\n",
    "                cell.attach()\n",
    "        col.attach()\n",
    "\n",
    "    def solve(self):\n",
    "        solutions = []\n",
    "        for s in self.backtrack():\n",
    "            #print(sorted(s))\n",
    "            solutions.append(sorted(s))\n",
    "        return solutions\n",
    "\n",
    "    def backtrack(self):\n",
    "        # Let's cover the first uncovered item\n",
    "        col = self.smat.head.right\n",
    "        # No column left\n",
    "        if col == self.smat.head:\n",
    "            yield self.solution.copy()\n",
    "            return\n",
    "        # No set to cover this element\n",
    "        if col.down == col:\n",
    "            return\n",
    "\n",
    "        self.cover(col)\n",
    "\n",
    "        for row in DownIterator(col):\n",
    "\n",
    "            for cell in RightIterator(row):\n",
    "                self.cover(cell.head)\n",
    "                \n",
    "            self.solution.append(row.row)\n",
    "            yield from self.backtrack()\n",
    "            self.solution.pop()\n",
    "\n",
    "            for cell in LeftIterator(row):\n",
    "                self.uncover(cell.head)\n",
    "        self.uncover(col)\n",
    "        \n",
    "        return"
   ]
  },
  {
   "cell_type": "markdown",
   "metadata": {},
   "source": [
    "To provide some intuition for how the above solver works, it takes a column with many rows, each partially covering the set of columns. The job of the solver is to find all possible subsets of rows that exactly cover the columns. A solution cannot leave any column blank, and it cannot cover a column with more than one row. The following example of a very small problem makes it easy to see that the solver works as advertised."
   ]
  },
  {
   "cell_type": "code",
   "execution_count": 8,
   "metadata": {},
   "outputs": [
    {
     "name": "stdout",
     "output_type": "stream",
     "text": [
      "[[0, 3, 4], [5, 6], [7]]\n"
     ]
    }
   ],
   "source": [
    "demo_mat = [[0, 0, 1, 0, 1, 1, 0],\n",
    "       [1, 0, 0, 1, 0, 0, 1],\n",
    "       [0, 1, 1, 0, 0, 1, 0],\n",
    "       [1, 0, 0, 1, 0, 0, 0],\n",
    "       [0, 1, 0, 0, 0, 0, 1],\n",
    "       [1, 1, 1, 0, 0, 0, 0],\n",
    "       [0, 0, 0, 1, 1, 1, 1],\n",
    "       [1, 1, 1, 1, 1, 1, 1]]\n",
    "\n",
    "demo_solver = DancingLinks(demo_mat)\n",
    "demo_solutions = demo_solver.solve()\n",
    "print(demo_solutions)"
   ]
  },
  {
   "cell_type": "markdown",
   "metadata": {},
   "source": [
    "Since the solver expects a binary matrix like above, we need to find a way to represent our puzzle in such a way. To do this each row needs to represents a piece in a given location. The columns will encode any key components of the puzzle covered by that piece. For this puzzle there are really only two things we need to track cover on; which pieces have been used (we cannot reuse the same piece in a different location), and which coordinates of the tower have been covered by the row in question. The first fifteen columns can represent which piece we have used, where the first is piece 'I' and the fifteen is piece '4'. Obviously each row should only cover one of these columns. We can represent the second aspect of the cover problem by flattening the 12 x tower_height 2D array into a 12 * tower_height 1D array and then simply convert all '.' empty values to 0's and all piece markers to 1's.\n",
    "\n",
    "If we create a row for every piece produced by the possible_piece_positions() function, we'll almost have everything we need to start producing our first Logiq Tower solutions. The only part that is missing is to add the possibility of not using each piece. This is crucial to the 2, 3, and 4 unit tall towers which will not make use of all fifteen pieces. If we did not account for the left out pieces, it would be impossible to find an exact cover in the above formulation.\n",
    "\n",
    "With this in mind, lets create a function to construct the dlx binary matrix for a tower of a given height using the output of possible_piece_positions():"
   ]
  },
  {
   "cell_type": "code",
   "execution_count": 9,
   "metadata": {},
   "outputs": [],
   "source": [
    "def construct_dlx_matrix(tower_height, tower_width, symmetry_breaking_piece):\n",
    "    piece_positions = possible_piece_positions(tower_height, tower_width)\n",
    "    dlx_matrix = []\n",
    "    \n",
    "    # Create rows for each piece position\n",
    "    for piece_name, positions in piece_positions.items():\n",
    "        piece_cover = [0] * 15\n",
    "        piece_cover[piece_list.index(piece_name)] = 1\n",
    "        # If we ignore the symmetry of one of the symmetric pieces it will\n",
    "        # break the symmetry of flipping the entire tower upside down for\n",
    "        # all solution variants that include that piece.\n",
    "        if piece_name == symmetry_breaking_piece:\n",
    "            positions = [positions[0]]\n",
    "        for p in positions: \n",
    "            inner_row_cover = [0] * tower_height\n",
    "            if inner_layer[piece_name]:\n",
    "                inner_row_index = np.where((p == piece_name).sum(axis=1) > 0)\n",
    "                inner_row_index = inner_row_index[0][0]\n",
    "                inner_row_cover[inner_row_index] = 1\n",
    "            p_flat = p.flatten()\n",
    "            row = np.zeros(p_flat.shape, dtype=int)\n",
    "            row[np.where(p_flat == piece_name)] = 1\n",
    "            row = piece_cover + inner_row_cover + row.tolist()\n",
    "            dlx_matrix.append(row)\n",
    "    \n",
    "    # Create rows for each unused piece\n",
    "    for i, piece_name in enumerate(piece_list):\n",
    "        piece_cover = [0] * 15\n",
    "        piece_cover[i] = 1\n",
    "        inner_row_cover = [0] * tower_height\n",
    "        row = piece_cover + inner_row_cover + [0] * tower_height * tower_width\n",
    "        dlx_matrix.append(row)\n",
    "    \n",
    "    return dlx_matrix\n",
    "\n",
    "\n",
    "def write_dlx_matrix_to_txt(fname, matrix):\n",
    "    text_matrix = np.array(matrix, dtype=int)\n",
    "    np.savetxt(fname, text_matrix, fmt='%i')"
   ]
  },
  {
   "cell_type": "code",
   "execution_count": 10,
   "metadata": {
    "scrolled": true
   },
   "outputs": [
    {
     "name": "stdout",
     "output_type": "stream",
     "text": [
      "total solutions:  0\n",
      "time (minutes):  0.10456072489420573\n"
     ]
    }
   ],
   "source": [
    "from time import time\n",
    "\n",
    "solution_times = {}\n",
    "\n",
    "tower_height = 2\n",
    "tower_width = 12\n",
    "\n",
    "start = time()\n",
    "\n",
    "mat = construct_dlx_matrix(tower_height, tower_width, 'U')\n",
    "#write_dlx_matrix_to_txt('tower_two.txt', mat)\n",
    "solver = DancingLinks(mat)\n",
    "row_list_solutions = solver.solve()\n",
    "print('total solutions: ', len(row_list_solutions))\n",
    "\n",
    "stop = time()\n",
    "solution_times[tower_height] = stop - start\n",
    "print('time (minutes): ', solution_times[2] / 60)"
   ]
  },
  {
   "cell_type": "markdown",
   "metadata": {},
   "source": [
    "Five hunded and fifty two solutions were found in just over four minutes on my not so impressve laptop. This is more than the twenty three we expected, but keep in mind that there should be eleven more equal solutions that are simple rotational translations of this one. There are also twelve more that are equivalent to taking the puzzle matrix, rotating it by one hundred and eighty degrees, and then translating it through it's twelve equivalent solutions. So after dividing five hundred and fifty two by twenty four, we should have found twenty three unique solutions, exactly as expected.\n",
    "\n",
    "To confirm this I will track the duplicate solutions with a dictionary that maps them all back to the first variant of that solution found. I will also store each of those first variant solutions in a separate list. To achive this it is necessary to write some helper functions that reconstuct the numpy array representation of a solution from the dlx_matrix rows returned by solve() on an instance of DancingLinks. First, it will be good to reconstruct the list of dlx_matrix rows into a numpy array that we can recognize as a solution:"
   ]
  },
  {
   "cell_type": "code",
   "execution_count": 11,
   "metadata": {},
   "outputs": [],
   "source": [
    "def reconstruct_solution(row_list_solution, dlx_matrix, tower_height, tower_width):\n",
    "    solution = np.zeros((tower_height,tower_width), 'U1')\n",
    "    solution.fill('.')\n",
    "    for row_index in row_list_solution:\n",
    "        row = dlx_matrix[row_index]\n",
    "        piece_name = piece_list[row[:15].index(1)]\n",
    "        piece_position = row[15 + tower_height:]\n",
    "        piece_position = np.array(piece_position)\n",
    "        piece_position = piece_position.reshape(tower_height, tower_width)\n",
    "        solution[np.where(piece_position == 1)] = piece_name\n",
    "        \n",
    "    return solution"
   ]
  },
  {
   "cell_type": "code",
   "execution_count": 13,
   "metadata": {},
   "outputs": [
    {
     "ename": "IndexError",
     "evalue": "list index out of range",
     "output_type": "error",
     "traceback": [
      "\u001b[0;31m---------------------------------------------------------------------------\u001b[0m",
      "\u001b[0;31mIndexError\u001b[0m                                Traceback (most recent call last)",
      "\u001b[0;32m<ipython-input-13-834741ac9cb1>\u001b[0m in \u001b[0;36m<module>\u001b[0;34m()\u001b[0m\n\u001b[0;32m----> 1\u001b[0;31m \u001b[0mreconstruct_solution\u001b[0m\u001b[0;34m(\u001b[0m\u001b[0mrow_list_solutions\u001b[0m\u001b[0;34m[\u001b[0m\u001b[0;36m0\u001b[0m\u001b[0;34m]\u001b[0m\u001b[0;34m,\u001b[0m \u001b[0mmat\u001b[0m\u001b[0;34m,\u001b[0m \u001b[0mtower_height\u001b[0m\u001b[0;34m,\u001b[0m \u001b[0mtower_width\u001b[0m\u001b[0;34m)\u001b[0m\u001b[0;34m\u001b[0m\u001b[0;34m\u001b[0m\u001b[0m\n\u001b[0m",
      "\u001b[0;31mIndexError\u001b[0m: list index out of range"
     ]
    }
   ],
   "source": [
    "reconstruct_solution(row_list_solutions[0], mat, tower_height, tower_width)"
   ]
  },
  {
   "cell_type": "markdown",
   "metadata": {},
   "source": [
    "Next, we will need to create the 23 additional equivalent solutions to the one we just found, and usethose to filter our full solution list down to just the unique ones."
   ]
  },
  {
   "cell_type": "code",
   "execution_count": 14,
   "metadata": {},
   "outputs": [],
   "source": [
    "def create_equivalent_solutions(solution_np_array):\n",
    "    tower_width = solution_np_array.shape[1]\n",
    "    equivalent_solutions = []\n",
    "    for i in range(tower_width):\n",
    "        eq_sol = np.roll(solution_np_array, i, axis=1)\n",
    "        flipped_eq_sol = np.rot90(eq_sol, k=2)\n",
    "        equivalent_solutions.append(eq_sol)\n",
    "        equivalent_solutions.append(flipped_eq_sol)\n",
    "        \n",
    "    return equivalent_solutions\n",
    "    \n",
    "\n",
    "def find_unique_solutions(row_list_solutions, dlx_matrix, tower_height, tower_width):\n",
    "    solutions_dict = {}\n",
    "    unique_solution_list = []\n",
    "    for row_list_solution in row_list_solutions:\n",
    "        sol = reconstruct_solution(row_list_solution, mat, tower_height, tower_width)\n",
    "        if sol.tostring() not in solutions_dict:\n",
    "            equivalent_solutions = create_equivalent_solutions(sol)\n",
    "            for eq_sol in equivalent_solutions:\n",
    "                solutions_dict[eq_sol.tostring()] = sol\n",
    "            unique_solution_list.append(sol)\n",
    "            \n",
    "    return solutions_dict, unique_solution_list"
   ]
  },
  {
   "cell_type": "code",
   "execution_count": 15,
   "metadata": {},
   "outputs": [
    {
     "name": "stdout",
     "output_type": "stream",
     "text": [
      "0\n"
     ]
    }
   ],
   "source": [
    "solution_dict, solution_list = find_unique_solutions(row_list_solutions, mat, tower_height, tower_width)\n",
    "print(len(solution_list))"
   ]
  },
  {
   "cell_type": "markdown",
   "metadata": {},
   "source": [
    "As predicted, the dancing links solver found all the possible orientations of the twenty three unique solutions for our two row tall Logiq Tower. Twenty three solutions isn't too many, so we can inspect all of them individually."
   ]
  },
  {
   "cell_type": "code",
   "execution_count": null,
   "metadata": {},
   "outputs": [],
   "source": [
    "for sol in solution_list:\n",
    "    print(sol)\n",
    "    print()"
   ]
  },
  {
   "cell_type": "markdown",
   "metadata": {},
   "source": [
    "Now we can repet this exercise for the towers that are three, four, and five rows tall:"
   ]
  },
  {
   "cell_type": "code",
   "execution_count": null,
   "metadata": {
    "code_folding": []
   },
   "outputs": [],
   "source": [
    "full_solutions_dict = {}\n",
    "full_solutions_dict[2] = solution_list\n",
    "\n",
    "for th in range(3,6):\n",
    "    tower_height = th\n",
    "    \n",
    "    start = time()\n",
    "    \n",
    "    mat = construct_dlx_matrix(tower_height, tower_width, 'U')\n",
    "    solver = DancingLinks(mat)\n",
    "    solutions = solver.solve()\n",
    "    \n",
    "    _, solution_list = find_unique_solutions(solutions, mat, tower_height, tower_width)\n",
    "    \n",
    "    full_solutions_dict[tower_height] = solution_list\n",
    "    \n",
    "    stop = time()\n",
    "    solution_times[tower_height] = stop - start\n",
    "    print('tower_height: ', tower_height)\n",
    "    print('time (minutes):', solution_times[tower_height] / 60)\n",
    "    \n",
    "final_counts = {th:len(sols) for th, sols in full_solutions_dict.items()}\n",
    "print(final_counts)    "
   ]
  },
  {
   "cell_type": "code",
   "execution_count": 16,
   "metadata": {},
   "outputs": [
    {
     "ename": "KeyboardInterrupt",
     "evalue": "",
     "output_type": "error",
     "traceback": [
      "\u001b[0;31m---------------------------------------------------------------------------\u001b[0m",
      "\u001b[0;31mKeyboardInterrupt\u001b[0m                         Traceback (most recent call last)",
      "\u001b[0;32m<ipython-input-16-83626a85d33f>\u001b[0m in \u001b[0;36m<module>\u001b[0;34m()\u001b[0m\n\u001b[1;32m      7\u001b[0m \u001b[0;31m#write_dlx_matrix_to_txt('tower_two.txt', mat)\u001b[0m\u001b[0;34m\u001b[0m\u001b[0;34m\u001b[0m\u001b[0;34m\u001b[0m\u001b[0m\n\u001b[1;32m      8\u001b[0m \u001b[0msolver\u001b[0m \u001b[0;34m=\u001b[0m \u001b[0mDancingLinks\u001b[0m\u001b[0;34m(\u001b[0m\u001b[0mmat\u001b[0m\u001b[0;34m)\u001b[0m\u001b[0;34m\u001b[0m\u001b[0;34m\u001b[0m\u001b[0m\n\u001b[0;32m----> 9\u001b[0;31m \u001b[0mrow_list_solutions\u001b[0m \u001b[0;34m=\u001b[0m \u001b[0msolver\u001b[0m\u001b[0;34m.\u001b[0m\u001b[0msolve\u001b[0m\u001b[0;34m(\u001b[0m\u001b[0;34m)\u001b[0m\u001b[0;34m\u001b[0m\u001b[0;34m\u001b[0m\u001b[0m\n\u001b[0m\u001b[1;32m     10\u001b[0m \u001b[0mprint\u001b[0m\u001b[0;34m(\u001b[0m\u001b[0;34m'total solutions: '\u001b[0m\u001b[0;34m,\u001b[0m \u001b[0mlen\u001b[0m\u001b[0;34m(\u001b[0m\u001b[0mrow_list_solutions\u001b[0m\u001b[0;34m)\u001b[0m\u001b[0;34m)\u001b[0m\u001b[0;34m\u001b[0m\u001b[0;34m\u001b[0m\u001b[0m\n\u001b[1;32m     11\u001b[0m \u001b[0;34m\u001b[0m\u001b[0m\n",
      "\u001b[0;32m<ipython-input-7-fb890c8827d3>\u001b[0m in \u001b[0;36msolve\u001b[0;34m(self)\u001b[0m\n\u001b[1;32m    118\u001b[0m     \u001b[0;32mdef\u001b[0m \u001b[0msolve\u001b[0m\u001b[0;34m(\u001b[0m\u001b[0mself\u001b[0m\u001b[0;34m)\u001b[0m\u001b[0;34m:\u001b[0m\u001b[0;34m\u001b[0m\u001b[0;34m\u001b[0m\u001b[0m\n\u001b[1;32m    119\u001b[0m         \u001b[0msolutions\u001b[0m \u001b[0;34m=\u001b[0m \u001b[0;34m[\u001b[0m\u001b[0;34m]\u001b[0m\u001b[0;34m\u001b[0m\u001b[0;34m\u001b[0m\u001b[0m\n\u001b[0;32m--> 120\u001b[0;31m         \u001b[0;32mfor\u001b[0m \u001b[0ms\u001b[0m \u001b[0;32min\u001b[0m \u001b[0mself\u001b[0m\u001b[0;34m.\u001b[0m\u001b[0mbacktrack\u001b[0m\u001b[0;34m(\u001b[0m\u001b[0;34m)\u001b[0m\u001b[0;34m:\u001b[0m\u001b[0;34m\u001b[0m\u001b[0;34m\u001b[0m\u001b[0m\n\u001b[0m\u001b[1;32m    121\u001b[0m             \u001b[0;31m#print(sorted(s))\u001b[0m\u001b[0;34m\u001b[0m\u001b[0;34m\u001b[0m\u001b[0;34m\u001b[0m\u001b[0m\n\u001b[1;32m    122\u001b[0m             \u001b[0msolutions\u001b[0m\u001b[0;34m.\u001b[0m\u001b[0mappend\u001b[0m\u001b[0;34m(\u001b[0m\u001b[0msorted\u001b[0m\u001b[0;34m(\u001b[0m\u001b[0ms\u001b[0m\u001b[0;34m)\u001b[0m\u001b[0;34m)\u001b[0m\u001b[0;34m\u001b[0m\u001b[0;34m\u001b[0m\u001b[0m\n",
      "\u001b[0;32m<ipython-input-7-fb890c8827d3>\u001b[0m in \u001b[0;36mbacktrack\u001b[0;34m(self)\u001b[0m\n\u001b[1;32m    142\u001b[0m \u001b[0;34m\u001b[0m\u001b[0m\n\u001b[1;32m    143\u001b[0m             \u001b[0mself\u001b[0m\u001b[0;34m.\u001b[0m\u001b[0msolution\u001b[0m\u001b[0;34m.\u001b[0m\u001b[0mappend\u001b[0m\u001b[0;34m(\u001b[0m\u001b[0mrow\u001b[0m\u001b[0;34m.\u001b[0m\u001b[0mrow\u001b[0m\u001b[0;34m)\u001b[0m\u001b[0;34m\u001b[0m\u001b[0;34m\u001b[0m\u001b[0m\n\u001b[0;32m--> 144\u001b[0;31m             \u001b[0;32myield\u001b[0m \u001b[0;32mfrom\u001b[0m \u001b[0mself\u001b[0m\u001b[0;34m.\u001b[0m\u001b[0mbacktrack\u001b[0m\u001b[0;34m(\u001b[0m\u001b[0;34m)\u001b[0m\u001b[0;34m\u001b[0m\u001b[0;34m\u001b[0m\u001b[0m\n\u001b[0m\u001b[1;32m    145\u001b[0m             \u001b[0mself\u001b[0m\u001b[0;34m.\u001b[0m\u001b[0msolution\u001b[0m\u001b[0;34m.\u001b[0m\u001b[0mpop\u001b[0m\u001b[0;34m(\u001b[0m\u001b[0;34m)\u001b[0m\u001b[0;34m\u001b[0m\u001b[0;34m\u001b[0m\u001b[0m\n\u001b[1;32m    146\u001b[0m \u001b[0;34m\u001b[0m\u001b[0m\n",
      "\u001b[0;32m<ipython-input-7-fb890c8827d3>\u001b[0m in \u001b[0;36mbacktrack\u001b[0;34m(self)\u001b[0m\n\u001b[1;32m    142\u001b[0m \u001b[0;34m\u001b[0m\u001b[0m\n\u001b[1;32m    143\u001b[0m             \u001b[0mself\u001b[0m\u001b[0;34m.\u001b[0m\u001b[0msolution\u001b[0m\u001b[0;34m.\u001b[0m\u001b[0mappend\u001b[0m\u001b[0;34m(\u001b[0m\u001b[0mrow\u001b[0m\u001b[0;34m.\u001b[0m\u001b[0mrow\u001b[0m\u001b[0;34m)\u001b[0m\u001b[0;34m\u001b[0m\u001b[0;34m\u001b[0m\u001b[0m\n\u001b[0;32m--> 144\u001b[0;31m             \u001b[0;32myield\u001b[0m \u001b[0;32mfrom\u001b[0m \u001b[0mself\u001b[0m\u001b[0;34m.\u001b[0m\u001b[0mbacktrack\u001b[0m\u001b[0;34m(\u001b[0m\u001b[0;34m)\u001b[0m\u001b[0;34m\u001b[0m\u001b[0;34m\u001b[0m\u001b[0m\n\u001b[0m\u001b[1;32m    145\u001b[0m             \u001b[0mself\u001b[0m\u001b[0;34m.\u001b[0m\u001b[0msolution\u001b[0m\u001b[0;34m.\u001b[0m\u001b[0mpop\u001b[0m\u001b[0;34m(\u001b[0m\u001b[0;34m)\u001b[0m\u001b[0;34m\u001b[0m\u001b[0;34m\u001b[0m\u001b[0m\n\u001b[1;32m    146\u001b[0m \u001b[0;34m\u001b[0m\u001b[0m\n",
      "\u001b[0;32m<ipython-input-7-fb890c8827d3>\u001b[0m in \u001b[0;36mbacktrack\u001b[0;34m(self)\u001b[0m\n\u001b[1;32m    142\u001b[0m \u001b[0;34m\u001b[0m\u001b[0m\n\u001b[1;32m    143\u001b[0m             \u001b[0mself\u001b[0m\u001b[0;34m.\u001b[0m\u001b[0msolution\u001b[0m\u001b[0;34m.\u001b[0m\u001b[0mappend\u001b[0m\u001b[0;34m(\u001b[0m\u001b[0mrow\u001b[0m\u001b[0;34m.\u001b[0m\u001b[0mrow\u001b[0m\u001b[0;34m)\u001b[0m\u001b[0;34m\u001b[0m\u001b[0;34m\u001b[0m\u001b[0m\n\u001b[0;32m--> 144\u001b[0;31m             \u001b[0;32myield\u001b[0m \u001b[0;32mfrom\u001b[0m \u001b[0mself\u001b[0m\u001b[0;34m.\u001b[0m\u001b[0mbacktrack\u001b[0m\u001b[0;34m(\u001b[0m\u001b[0;34m)\u001b[0m\u001b[0;34m\u001b[0m\u001b[0;34m\u001b[0m\u001b[0m\n\u001b[0m\u001b[1;32m    145\u001b[0m             \u001b[0mself\u001b[0m\u001b[0;34m.\u001b[0m\u001b[0msolution\u001b[0m\u001b[0;34m.\u001b[0m\u001b[0mpop\u001b[0m\u001b[0;34m(\u001b[0m\u001b[0;34m)\u001b[0m\u001b[0;34m\u001b[0m\u001b[0;34m\u001b[0m\u001b[0m\n\u001b[1;32m    146\u001b[0m \u001b[0;34m\u001b[0m\u001b[0m\n",
      "\u001b[0;32m<ipython-input-7-fb890c8827d3>\u001b[0m in \u001b[0;36mbacktrack\u001b[0;34m(self)\u001b[0m\n\u001b[1;32m    142\u001b[0m \u001b[0;34m\u001b[0m\u001b[0m\n\u001b[1;32m    143\u001b[0m             \u001b[0mself\u001b[0m\u001b[0;34m.\u001b[0m\u001b[0msolution\u001b[0m\u001b[0;34m.\u001b[0m\u001b[0mappend\u001b[0m\u001b[0;34m(\u001b[0m\u001b[0mrow\u001b[0m\u001b[0;34m.\u001b[0m\u001b[0mrow\u001b[0m\u001b[0;34m)\u001b[0m\u001b[0;34m\u001b[0m\u001b[0;34m\u001b[0m\u001b[0m\n\u001b[0;32m--> 144\u001b[0;31m             \u001b[0;32myield\u001b[0m \u001b[0;32mfrom\u001b[0m \u001b[0mself\u001b[0m\u001b[0;34m.\u001b[0m\u001b[0mbacktrack\u001b[0m\u001b[0;34m(\u001b[0m\u001b[0;34m)\u001b[0m\u001b[0;34m\u001b[0m\u001b[0;34m\u001b[0m\u001b[0m\n\u001b[0m\u001b[1;32m    145\u001b[0m             \u001b[0mself\u001b[0m\u001b[0;34m.\u001b[0m\u001b[0msolution\u001b[0m\u001b[0;34m.\u001b[0m\u001b[0mpop\u001b[0m\u001b[0;34m(\u001b[0m\u001b[0;34m)\u001b[0m\u001b[0;34m\u001b[0m\u001b[0;34m\u001b[0m\u001b[0m\n\u001b[1;32m    146\u001b[0m \u001b[0;34m\u001b[0m\u001b[0m\n",
      "\u001b[0;32m<ipython-input-7-fb890c8827d3>\u001b[0m in \u001b[0;36mbacktrack\u001b[0;34m(self)\u001b[0m\n\u001b[1;32m    142\u001b[0m \u001b[0;34m\u001b[0m\u001b[0m\n\u001b[1;32m    143\u001b[0m             \u001b[0mself\u001b[0m\u001b[0;34m.\u001b[0m\u001b[0msolution\u001b[0m\u001b[0;34m.\u001b[0m\u001b[0mappend\u001b[0m\u001b[0;34m(\u001b[0m\u001b[0mrow\u001b[0m\u001b[0;34m.\u001b[0m\u001b[0mrow\u001b[0m\u001b[0;34m)\u001b[0m\u001b[0;34m\u001b[0m\u001b[0;34m\u001b[0m\u001b[0m\n\u001b[0;32m--> 144\u001b[0;31m             \u001b[0;32myield\u001b[0m \u001b[0;32mfrom\u001b[0m \u001b[0mself\u001b[0m\u001b[0;34m.\u001b[0m\u001b[0mbacktrack\u001b[0m\u001b[0;34m(\u001b[0m\u001b[0;34m)\u001b[0m\u001b[0;34m\u001b[0m\u001b[0;34m\u001b[0m\u001b[0m\n\u001b[0m\u001b[1;32m    145\u001b[0m             \u001b[0mself\u001b[0m\u001b[0;34m.\u001b[0m\u001b[0msolution\u001b[0m\u001b[0;34m.\u001b[0m\u001b[0mpop\u001b[0m\u001b[0;34m(\u001b[0m\u001b[0;34m)\u001b[0m\u001b[0;34m\u001b[0m\u001b[0;34m\u001b[0m\u001b[0m\n\u001b[1;32m    146\u001b[0m \u001b[0;34m\u001b[0m\u001b[0m\n",
      "\u001b[0;32m<ipython-input-7-fb890c8827d3>\u001b[0m in \u001b[0;36mbacktrack\u001b[0;34m(self)\u001b[0m\n\u001b[1;32m    142\u001b[0m \u001b[0;34m\u001b[0m\u001b[0m\n\u001b[1;32m    143\u001b[0m             \u001b[0mself\u001b[0m\u001b[0;34m.\u001b[0m\u001b[0msolution\u001b[0m\u001b[0;34m.\u001b[0m\u001b[0mappend\u001b[0m\u001b[0;34m(\u001b[0m\u001b[0mrow\u001b[0m\u001b[0;34m.\u001b[0m\u001b[0mrow\u001b[0m\u001b[0;34m)\u001b[0m\u001b[0;34m\u001b[0m\u001b[0;34m\u001b[0m\u001b[0m\n\u001b[0;32m--> 144\u001b[0;31m             \u001b[0;32myield\u001b[0m \u001b[0;32mfrom\u001b[0m \u001b[0mself\u001b[0m\u001b[0;34m.\u001b[0m\u001b[0mbacktrack\u001b[0m\u001b[0;34m(\u001b[0m\u001b[0;34m)\u001b[0m\u001b[0;34m\u001b[0m\u001b[0;34m\u001b[0m\u001b[0m\n\u001b[0m\u001b[1;32m    145\u001b[0m             \u001b[0mself\u001b[0m\u001b[0;34m.\u001b[0m\u001b[0msolution\u001b[0m\u001b[0;34m.\u001b[0m\u001b[0mpop\u001b[0m\u001b[0;34m(\u001b[0m\u001b[0;34m)\u001b[0m\u001b[0;34m\u001b[0m\u001b[0;34m\u001b[0m\u001b[0m\n\u001b[1;32m    146\u001b[0m \u001b[0;34m\u001b[0m\u001b[0m\n",
      "\u001b[0;32m<ipython-input-7-fb890c8827d3>\u001b[0m in \u001b[0;36mbacktrack\u001b[0;34m(self)\u001b[0m\n\u001b[1;32m    142\u001b[0m \u001b[0;34m\u001b[0m\u001b[0m\n\u001b[1;32m    143\u001b[0m             \u001b[0mself\u001b[0m\u001b[0;34m.\u001b[0m\u001b[0msolution\u001b[0m\u001b[0;34m.\u001b[0m\u001b[0mappend\u001b[0m\u001b[0;34m(\u001b[0m\u001b[0mrow\u001b[0m\u001b[0;34m.\u001b[0m\u001b[0mrow\u001b[0m\u001b[0;34m)\u001b[0m\u001b[0;34m\u001b[0m\u001b[0;34m\u001b[0m\u001b[0m\n\u001b[0;32m--> 144\u001b[0;31m             \u001b[0;32myield\u001b[0m \u001b[0;32mfrom\u001b[0m \u001b[0mself\u001b[0m\u001b[0;34m.\u001b[0m\u001b[0mbacktrack\u001b[0m\u001b[0;34m(\u001b[0m\u001b[0;34m)\u001b[0m\u001b[0;34m\u001b[0m\u001b[0;34m\u001b[0m\u001b[0m\n\u001b[0m\u001b[1;32m    145\u001b[0m             \u001b[0mself\u001b[0m\u001b[0;34m.\u001b[0m\u001b[0msolution\u001b[0m\u001b[0;34m.\u001b[0m\u001b[0mpop\u001b[0m\u001b[0;34m(\u001b[0m\u001b[0;34m)\u001b[0m\u001b[0;34m\u001b[0m\u001b[0;34m\u001b[0m\u001b[0m\n\u001b[1;32m    146\u001b[0m \u001b[0;34m\u001b[0m\u001b[0m\n",
      "\u001b[0;32m<ipython-input-7-fb890c8827d3>\u001b[0m in \u001b[0;36mbacktrack\u001b[0;34m(self)\u001b[0m\n\u001b[1;32m    142\u001b[0m \u001b[0;34m\u001b[0m\u001b[0m\n\u001b[1;32m    143\u001b[0m             \u001b[0mself\u001b[0m\u001b[0;34m.\u001b[0m\u001b[0msolution\u001b[0m\u001b[0;34m.\u001b[0m\u001b[0mappend\u001b[0m\u001b[0;34m(\u001b[0m\u001b[0mrow\u001b[0m\u001b[0;34m.\u001b[0m\u001b[0mrow\u001b[0m\u001b[0;34m)\u001b[0m\u001b[0;34m\u001b[0m\u001b[0;34m\u001b[0m\u001b[0m\n\u001b[0;32m--> 144\u001b[0;31m             \u001b[0;32myield\u001b[0m \u001b[0;32mfrom\u001b[0m \u001b[0mself\u001b[0m\u001b[0;34m.\u001b[0m\u001b[0mbacktrack\u001b[0m\u001b[0;34m(\u001b[0m\u001b[0;34m)\u001b[0m\u001b[0;34m\u001b[0m\u001b[0;34m\u001b[0m\u001b[0m\n\u001b[0m\u001b[1;32m    145\u001b[0m             \u001b[0mself\u001b[0m\u001b[0;34m.\u001b[0m\u001b[0msolution\u001b[0m\u001b[0;34m.\u001b[0m\u001b[0mpop\u001b[0m\u001b[0;34m(\u001b[0m\u001b[0;34m)\u001b[0m\u001b[0;34m\u001b[0m\u001b[0;34m\u001b[0m\u001b[0m\n\u001b[1;32m    146\u001b[0m \u001b[0;34m\u001b[0m\u001b[0m\n",
      "\u001b[0;32m<ipython-input-7-fb890c8827d3>\u001b[0m in \u001b[0;36mbacktrack\u001b[0;34m(self)\u001b[0m\n\u001b[1;32m    142\u001b[0m \u001b[0;34m\u001b[0m\u001b[0m\n\u001b[1;32m    143\u001b[0m             \u001b[0mself\u001b[0m\u001b[0;34m.\u001b[0m\u001b[0msolution\u001b[0m\u001b[0;34m.\u001b[0m\u001b[0mappend\u001b[0m\u001b[0;34m(\u001b[0m\u001b[0mrow\u001b[0m\u001b[0;34m.\u001b[0m\u001b[0mrow\u001b[0m\u001b[0;34m)\u001b[0m\u001b[0;34m\u001b[0m\u001b[0;34m\u001b[0m\u001b[0m\n\u001b[0;32m--> 144\u001b[0;31m             \u001b[0;32myield\u001b[0m \u001b[0;32mfrom\u001b[0m \u001b[0mself\u001b[0m\u001b[0;34m.\u001b[0m\u001b[0mbacktrack\u001b[0m\u001b[0;34m(\u001b[0m\u001b[0;34m)\u001b[0m\u001b[0;34m\u001b[0m\u001b[0;34m\u001b[0m\u001b[0m\n\u001b[0m\u001b[1;32m    145\u001b[0m             \u001b[0mself\u001b[0m\u001b[0;34m.\u001b[0m\u001b[0msolution\u001b[0m\u001b[0;34m.\u001b[0m\u001b[0mpop\u001b[0m\u001b[0;34m(\u001b[0m\u001b[0;34m)\u001b[0m\u001b[0;34m\u001b[0m\u001b[0;34m\u001b[0m\u001b[0m\n\u001b[1;32m    146\u001b[0m \u001b[0;34m\u001b[0m\u001b[0m\n",
      "\u001b[0;32m<ipython-input-7-fb890c8827d3>\u001b[0m in \u001b[0;36mbacktrack\u001b[0;34m(self)\u001b[0m\n\u001b[1;32m    142\u001b[0m \u001b[0;34m\u001b[0m\u001b[0m\n\u001b[1;32m    143\u001b[0m             \u001b[0mself\u001b[0m\u001b[0;34m.\u001b[0m\u001b[0msolution\u001b[0m\u001b[0;34m.\u001b[0m\u001b[0mappend\u001b[0m\u001b[0;34m(\u001b[0m\u001b[0mrow\u001b[0m\u001b[0;34m.\u001b[0m\u001b[0mrow\u001b[0m\u001b[0;34m)\u001b[0m\u001b[0;34m\u001b[0m\u001b[0;34m\u001b[0m\u001b[0m\n\u001b[0;32m--> 144\u001b[0;31m             \u001b[0;32myield\u001b[0m \u001b[0;32mfrom\u001b[0m \u001b[0mself\u001b[0m\u001b[0;34m.\u001b[0m\u001b[0mbacktrack\u001b[0m\u001b[0;34m(\u001b[0m\u001b[0;34m)\u001b[0m\u001b[0;34m\u001b[0m\u001b[0;34m\u001b[0m\u001b[0m\n\u001b[0m\u001b[1;32m    145\u001b[0m             \u001b[0mself\u001b[0m\u001b[0;34m.\u001b[0m\u001b[0msolution\u001b[0m\u001b[0;34m.\u001b[0m\u001b[0mpop\u001b[0m\u001b[0;34m(\u001b[0m\u001b[0;34m)\u001b[0m\u001b[0;34m\u001b[0m\u001b[0;34m\u001b[0m\u001b[0m\n\u001b[1;32m    146\u001b[0m \u001b[0;34m\u001b[0m\u001b[0m\n",
      "\u001b[0;32m<ipython-input-7-fb890c8827d3>\u001b[0m in \u001b[0;36mbacktrack\u001b[0;34m(self)\u001b[0m\n\u001b[1;32m    142\u001b[0m \u001b[0;34m\u001b[0m\u001b[0m\n\u001b[1;32m    143\u001b[0m             \u001b[0mself\u001b[0m\u001b[0;34m.\u001b[0m\u001b[0msolution\u001b[0m\u001b[0;34m.\u001b[0m\u001b[0mappend\u001b[0m\u001b[0;34m(\u001b[0m\u001b[0mrow\u001b[0m\u001b[0;34m.\u001b[0m\u001b[0mrow\u001b[0m\u001b[0;34m)\u001b[0m\u001b[0;34m\u001b[0m\u001b[0;34m\u001b[0m\u001b[0m\n\u001b[0;32m--> 144\u001b[0;31m             \u001b[0;32myield\u001b[0m \u001b[0;32mfrom\u001b[0m \u001b[0mself\u001b[0m\u001b[0;34m.\u001b[0m\u001b[0mbacktrack\u001b[0m\u001b[0;34m(\u001b[0m\u001b[0;34m)\u001b[0m\u001b[0;34m\u001b[0m\u001b[0;34m\u001b[0m\u001b[0m\n\u001b[0m\u001b[1;32m    145\u001b[0m             \u001b[0mself\u001b[0m\u001b[0;34m.\u001b[0m\u001b[0msolution\u001b[0m\u001b[0;34m.\u001b[0m\u001b[0mpop\u001b[0m\u001b[0;34m(\u001b[0m\u001b[0;34m)\u001b[0m\u001b[0;34m\u001b[0m\u001b[0;34m\u001b[0m\u001b[0m\n\u001b[1;32m    146\u001b[0m \u001b[0;34m\u001b[0m\u001b[0m\n",
      "\u001b[0;32m<ipython-input-7-fb890c8827d3>\u001b[0m in \u001b[0;36mbacktrack\u001b[0;34m(self)\u001b[0m\n\u001b[1;32m    142\u001b[0m \u001b[0;34m\u001b[0m\u001b[0m\n\u001b[1;32m    143\u001b[0m             \u001b[0mself\u001b[0m\u001b[0;34m.\u001b[0m\u001b[0msolution\u001b[0m\u001b[0;34m.\u001b[0m\u001b[0mappend\u001b[0m\u001b[0;34m(\u001b[0m\u001b[0mrow\u001b[0m\u001b[0;34m.\u001b[0m\u001b[0mrow\u001b[0m\u001b[0;34m)\u001b[0m\u001b[0;34m\u001b[0m\u001b[0;34m\u001b[0m\u001b[0m\n\u001b[0;32m--> 144\u001b[0;31m             \u001b[0;32myield\u001b[0m \u001b[0;32mfrom\u001b[0m \u001b[0mself\u001b[0m\u001b[0;34m.\u001b[0m\u001b[0mbacktrack\u001b[0m\u001b[0;34m(\u001b[0m\u001b[0;34m)\u001b[0m\u001b[0;34m\u001b[0m\u001b[0;34m\u001b[0m\u001b[0m\n\u001b[0m\u001b[1;32m    145\u001b[0m             \u001b[0mself\u001b[0m\u001b[0;34m.\u001b[0m\u001b[0msolution\u001b[0m\u001b[0;34m.\u001b[0m\u001b[0mpop\u001b[0m\u001b[0;34m(\u001b[0m\u001b[0;34m)\u001b[0m\u001b[0;34m\u001b[0m\u001b[0;34m\u001b[0m\u001b[0m\n\u001b[1;32m    146\u001b[0m \u001b[0;34m\u001b[0m\u001b[0m\n",
      "\u001b[0;32m<ipython-input-7-fb890c8827d3>\u001b[0m in \u001b[0;36mbacktrack\u001b[0;34m(self)\u001b[0m\n\u001b[1;32m    142\u001b[0m \u001b[0;34m\u001b[0m\u001b[0m\n\u001b[1;32m    143\u001b[0m             \u001b[0mself\u001b[0m\u001b[0;34m.\u001b[0m\u001b[0msolution\u001b[0m\u001b[0;34m.\u001b[0m\u001b[0mappend\u001b[0m\u001b[0;34m(\u001b[0m\u001b[0mrow\u001b[0m\u001b[0;34m.\u001b[0m\u001b[0mrow\u001b[0m\u001b[0;34m)\u001b[0m\u001b[0;34m\u001b[0m\u001b[0;34m\u001b[0m\u001b[0m\n\u001b[0;32m--> 144\u001b[0;31m             \u001b[0;32myield\u001b[0m \u001b[0;32mfrom\u001b[0m \u001b[0mself\u001b[0m\u001b[0;34m.\u001b[0m\u001b[0mbacktrack\u001b[0m\u001b[0;34m(\u001b[0m\u001b[0;34m)\u001b[0m\u001b[0;34m\u001b[0m\u001b[0;34m\u001b[0m\u001b[0m\n\u001b[0m\u001b[1;32m    145\u001b[0m             \u001b[0mself\u001b[0m\u001b[0;34m.\u001b[0m\u001b[0msolution\u001b[0m\u001b[0;34m.\u001b[0m\u001b[0mpop\u001b[0m\u001b[0;34m(\u001b[0m\u001b[0;34m)\u001b[0m\u001b[0;34m\u001b[0m\u001b[0;34m\u001b[0m\u001b[0m\n\u001b[1;32m    146\u001b[0m \u001b[0;34m\u001b[0m\u001b[0m\n",
      "\u001b[0;32m<ipython-input-7-fb890c8827d3>\u001b[0m in \u001b[0;36mbacktrack\u001b[0;34m(self)\u001b[0m\n\u001b[1;32m    142\u001b[0m \u001b[0;34m\u001b[0m\u001b[0m\n\u001b[1;32m    143\u001b[0m             \u001b[0mself\u001b[0m\u001b[0;34m.\u001b[0m\u001b[0msolution\u001b[0m\u001b[0;34m.\u001b[0m\u001b[0mappend\u001b[0m\u001b[0;34m(\u001b[0m\u001b[0mrow\u001b[0m\u001b[0;34m.\u001b[0m\u001b[0mrow\u001b[0m\u001b[0;34m)\u001b[0m\u001b[0;34m\u001b[0m\u001b[0;34m\u001b[0m\u001b[0m\n\u001b[0;32m--> 144\u001b[0;31m             \u001b[0;32myield\u001b[0m \u001b[0;32mfrom\u001b[0m \u001b[0mself\u001b[0m\u001b[0;34m.\u001b[0m\u001b[0mbacktrack\u001b[0m\u001b[0;34m(\u001b[0m\u001b[0;34m)\u001b[0m\u001b[0;34m\u001b[0m\u001b[0;34m\u001b[0m\u001b[0m\n\u001b[0m\u001b[1;32m    145\u001b[0m             \u001b[0mself\u001b[0m\u001b[0;34m.\u001b[0m\u001b[0msolution\u001b[0m\u001b[0;34m.\u001b[0m\u001b[0mpop\u001b[0m\u001b[0;34m(\u001b[0m\u001b[0;34m)\u001b[0m\u001b[0;34m\u001b[0m\u001b[0;34m\u001b[0m\u001b[0m\n\u001b[1;32m    146\u001b[0m \u001b[0;34m\u001b[0m\u001b[0m\n",
      "\u001b[0;32m<ipython-input-7-fb890c8827d3>\u001b[0m in \u001b[0;36mbacktrack\u001b[0;34m(self)\u001b[0m\n\u001b[1;32m    134\u001b[0m             \u001b[0;32mreturn\u001b[0m\u001b[0;34m\u001b[0m\u001b[0;34m\u001b[0m\u001b[0m\n\u001b[1;32m    135\u001b[0m \u001b[0;34m\u001b[0m\u001b[0m\n\u001b[0;32m--> 136\u001b[0;31m         \u001b[0mself\u001b[0m\u001b[0;34m.\u001b[0m\u001b[0mcover\u001b[0m\u001b[0;34m(\u001b[0m\u001b[0mcol\u001b[0m\u001b[0;34m)\u001b[0m\u001b[0;34m\u001b[0m\u001b[0;34m\u001b[0m\u001b[0m\n\u001b[0m\u001b[1;32m    137\u001b[0m \u001b[0;34m\u001b[0m\u001b[0m\n\u001b[1;32m    138\u001b[0m         \u001b[0;32mfor\u001b[0m \u001b[0mrow\u001b[0m \u001b[0;32min\u001b[0m \u001b[0mDownIterator\u001b[0m\u001b[0;34m(\u001b[0m\u001b[0mcol\u001b[0m\u001b[0;34m)\u001b[0m\u001b[0;34m:\u001b[0m\u001b[0;34m\u001b[0m\u001b[0;34m\u001b[0m\u001b[0m\n",
      "\u001b[0;32m<ipython-input-7-fb890c8827d3>\u001b[0m in \u001b[0;36mcover\u001b[0;34m(self, col)\u001b[0m\n\u001b[1;32m    106\u001b[0m     \u001b[0;32mdef\u001b[0m \u001b[0mcover\u001b[0m\u001b[0;34m(\u001b[0m\u001b[0mself\u001b[0m\u001b[0;34m,\u001b[0m \u001b[0mcol\u001b[0m\u001b[0;34m)\u001b[0m\u001b[0;34m:\u001b[0m\u001b[0;34m\u001b[0m\u001b[0;34m\u001b[0m\u001b[0m\n\u001b[1;32m    107\u001b[0m         \u001b[0mcol\u001b[0m\u001b[0;34m.\u001b[0m\u001b[0mdeattach\u001b[0m\u001b[0;34m(\u001b[0m\u001b[0;34m)\u001b[0m\u001b[0;34m\u001b[0m\u001b[0;34m\u001b[0m\u001b[0m\n\u001b[0;32m--> 108\u001b[0;31m         \u001b[0;32mfor\u001b[0m \u001b[0mrow\u001b[0m \u001b[0;32min\u001b[0m \u001b[0mDownIterator\u001b[0m\u001b[0;34m(\u001b[0m\u001b[0mcol\u001b[0m\u001b[0;34m)\u001b[0m\u001b[0;34m:\u001b[0m\u001b[0;34m\u001b[0m\u001b[0;34m\u001b[0m\u001b[0m\n\u001b[0m\u001b[1;32m    109\u001b[0m             \u001b[0;32mfor\u001b[0m \u001b[0mcell\u001b[0m \u001b[0;32min\u001b[0m \u001b[0mRightIterator\u001b[0m\u001b[0;34m(\u001b[0m\u001b[0mrow\u001b[0m\u001b[0;34m)\u001b[0m\u001b[0;34m:\u001b[0m\u001b[0;34m\u001b[0m\u001b[0;34m\u001b[0m\u001b[0m\n\u001b[1;32m    110\u001b[0m                 \u001b[0mcell\u001b[0m\u001b[0;34m.\u001b[0m\u001b[0mdeattach\u001b[0m\u001b[0;34m(\u001b[0m\u001b[0;34m)\u001b[0m\u001b[0;34m\u001b[0m\u001b[0;34m\u001b[0m\u001b[0m\n",
      "\u001b[0;32m<ipython-input-7-fb890c8827d3>\u001b[0m in \u001b[0;36m__next__\u001b[0;34m(self)\u001b[0m\n\u001b[1;32m     30\u001b[0m \u001b[0;34m\u001b[0m\u001b[0m\n\u001b[1;32m     31\u001b[0m     \u001b[0;32mdef\u001b[0m \u001b[0m__next__\u001b[0m\u001b[0;34m(\u001b[0m\u001b[0mself\u001b[0m\u001b[0;34m)\u001b[0m\u001b[0;34m:\u001b[0m\u001b[0;34m\u001b[0m\u001b[0;34m\u001b[0m\u001b[0m\n\u001b[0;32m---> 32\u001b[0;31m         \u001b[0m_next\u001b[0m \u001b[0;34m=\u001b[0m \u001b[0mself\u001b[0m\u001b[0;34m.\u001b[0m\u001b[0mmove\u001b[0m\u001b[0;34m(\u001b[0m\u001b[0mself\u001b[0m\u001b[0;34m.\u001b[0m\u001b[0mcurr\u001b[0m\u001b[0;34m)\u001b[0m\u001b[0;34m\u001b[0m\u001b[0;34m\u001b[0m\u001b[0m\n\u001b[0m\u001b[1;32m     33\u001b[0m         \u001b[0;32mif\u001b[0m \u001b[0m_next\u001b[0m \u001b[0;34m==\u001b[0m \u001b[0mself\u001b[0m\u001b[0;34m.\u001b[0m\u001b[0mstart\u001b[0m\u001b[0;34m:\u001b[0m\u001b[0;34m\u001b[0m\u001b[0;34m\u001b[0m\u001b[0m\n\u001b[1;32m     34\u001b[0m             \u001b[0;32mraise\u001b[0m \u001b[0mStopIteration\u001b[0m\u001b[0;34m\u001b[0m\u001b[0;34m\u001b[0m\u001b[0m\n",
      "\u001b[0;31mKeyboardInterrupt\u001b[0m: "
     ]
    }
   ],
   "source": [
    "tower_height = 3\n",
    "tower_width = 12\n",
    "\n",
    "start = time()\n",
    "\n",
    "mat = construct_dlx_matrix(tower_height, tower_width, 'U')\n",
    "#write_dlx_matrix_to_txt('tower_two.txt', mat)\n",
    "solver = DancingLinks(mat)\n",
    "row_list_solutions = solver.solve()\n",
    "print('total solutions: ', len(row_list_solutions))\n",
    "\n",
    "stop = time()\n",
    "solution_times[tower_height] = stop - start\n",
    "print('time (minutes): ', solution_times[2] / 60)"
   ]
  },
  {
   "cell_type": "code",
   "execution_count": null,
   "metadata": {},
   "outputs": [],
   "source": []
  }
 ],
 "metadata": {
  "kernelspec": {
   "display_name": "Python 3",
   "language": "python",
   "name": "python3"
  },
  "language_info": {
   "codemirror_mode": {
    "name": "ipython",
    "version": 3
   },
   "file_extension": ".py",
   "mimetype": "text/x-python",
   "name": "python",
   "nbconvert_exporter": "python",
   "pygments_lexer": "ipython3",
   "version": "3.6.7"
  }
 },
 "nbformat": 4,
 "nbformat_minor": 2
}
