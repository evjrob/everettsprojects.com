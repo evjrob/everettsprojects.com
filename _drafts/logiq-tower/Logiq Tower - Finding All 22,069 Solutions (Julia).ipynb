{
 "cells": [
  {
   "cell_type": "markdown",
   "metadata": {},
   "source": [
    "This is the Logiq Tower puzzle. I received it as a Christmas gift at least three years ago, and have not yet found all 22,069 solutions. I have no idea what I've been doing with my life to prevent me from finding them all, but that gets fixed today. Of course finding all the solutions by hand is not practical, so I will rely on code to do it. The puzzle is an interesting take on the exact cover class of problems, where the space to cover has been wrapped in a cylinder around a central pillar. This makes the solutions modulo, in the sense that a piece sticking out of the board on the left or right will overflow into the other side. Think of the game asteroids, it's sort of like when your ship flies off the right hand side of the screen and appears on the left:"
   ]
  },
  {
   "cell_type": "markdown",
   "metadata": {},
   "source": [
    "![gif](asteroids.gif)"
   ]
  },
  {
   "cell_type": "markdown",
   "metadata": {},
   "source": [
    "There are fifteen different pieces that the puzzle makers have conveniently named for us:"
   ]
  },
  {
   "cell_type": "markdown",
   "metadata": {},
   "source": [
    "![jpeg](pieces.JPG)"
   ]
  },
  {
   "cell_type": "markdown",
   "metadata": {},
   "source": [
    "The puzzle is two layers thick, and twelve sectors wide. The height varies from two to four units tall. There are two different classes of pieces. The ones with numeric names exist in both layers, while the alphabetically named pieces exist only in the outer layer. We will need to unroll the problem into a  \n",
    "\n",
    "Using an implementation of Donald Knuth's Dancing Links algorithm in Julia: https://raw.githubusercontent.com/apribadi/dancing-links-julia/master/dlx.jl"
   ]
  },
  {
   "cell_type": "code",
   "execution_count": 1,
   "metadata": {},
   "outputs": [
    {
     "ename": "LoadError",
     "evalue": "UndefVarError: start not defined",
     "output_type": "error",
     "traceback": [
      "UndefVarError: start not defined",
      "",
      "Stacktrace:",
      " [1] getproperty(::Module, ::Symbol) at ./sysimg.jl:13",
      " [2] top-level scope at none:0",
      " [3] include at ./boot.jl:317 [inlined]",
      " [4] include_relative(::Module, ::String) at ./loading.jl:1041",
      " [5] include(::Module, ::String) at ./sysimg.jl:29",
      " [6] include(::String) at ./client.jl:388",
      " [7] top-level scope at In[1]:1"
     ]
    }
   ],
   "source": [
    "include(\"dlx.jl\")\n",
    "using DLX\n",
    "\n",
    "x = [\"hola\", \"chao\", \"niña\", \"bonita\"]\n",
    "\n",
    "y = [[\"hola\", \"chao\"],\n",
    "     [\"chao\", \"hola\", \"bonita\"],\n",
    "     [\"chao\", \"bonita\"],\n",
    "     [\"hola\", \"niña\"]]\n",
    "\n",
    "a = one_hot(x, y)\n",
    "get_cover(a)"
   ]
  },
  {
   "cell_type": "code",
   "execution_count": 3,
   "metadata": {},
   "outputs": [
    {
     "name": "stdout",
     "output_type": "stream",
     "text": [
      "Julia Version 1.0.1\n",
      "Commit 0d713926f8 (2018-09-29 19:05 UTC)\n",
      "Platform Info:\n",
      "  OS: Linux (x86_64-pc-linux-gnu)\n",
      "  CPU: Intel(R) Core(TM) M-5Y10c CPU @ 0.80GHz\n",
      "  WORD_SIZE: 64\n",
      "  LIBM: libopenlibm\n",
      "  LLVM: libLLVM-6.0.0 (ORCJIT, broadwell)\n"
     ]
    }
   ],
   "source": [
    "versioninfo()"
   ]
  },
  {
   "cell_type": "code",
   "execution_count": null,
   "metadata": {},
   "outputs": [],
   "source": []
  }
 ],
 "metadata": {
  "kernelspec": {
   "display_name": "Julia 1.0.1",
   "language": "julia",
   "name": "julia-1.0"
  },
  "language_info": {
   "file_extension": ".jl",
   "mimetype": "application/julia",
   "name": "julia",
   "version": "1.0.1"
  }
 },
 "nbformat": 4,
 "nbformat_minor": 2
}
