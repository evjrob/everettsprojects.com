{
 "cells": [
  {
   "cell_type": "code",
   "execution_count": 1,
   "metadata": {
    "collapsed": false
   },
   "outputs": [],
   "source": [
    "from sklearn.model_selection import train_test_split\n",
    "import pandas as pd"
   ]
  },
  {
   "cell_type": "code",
   "execution_count": 2,
   "metadata": {
    "collapsed": false
   },
   "outputs": [],
   "source": [
    "'''\n",
    "Split the provided training data to create a new training \n",
    "data set and a new validation data set. These will be used\n",
    "or hyper-parameter tuning.\n",
    "'''\n",
    "\n",
    "# For reproducibility\n",
    "seed = 27\n",
    "\n",
    "raw_data = pd.read_csv(\"../input/train.csv\")\n",
    "\n",
    "train, validate = train_test_split(raw_data, test_size=0.1, random_state = seed, stratify = raw_data['label'])"
   ]
  },
  {
   "cell_type": "code",
   "execution_count": 3,
   "metadata": {
    "collapsed": false
   },
   "outputs": [
    {
     "data": {
      "text/plain": [
       "'\\n# Shift the training data one pixel in each direction\\ntrain_up_one = move_mnist_digits(train, 0, 1)\\ntrain_up_two = move_mnist_digits(train, 0, 2)\\ntrain_down_one = move_mnist_digits(train, 0, -2)\\ntrain_down_two = move_mnist_digits(train, 0, -2)\\ntrain_left_one = move_mnist_digits(train, -2, 0)\\ntrain_left_two = move_mnist_digits(train, -2, 0)\\ntrain_right_one = move_mnist_digits(train, 2, 0)\\ntrain_right_two = move_mnist_digits(train, 2, 0)\\ntrain_rotate_cw = rotate_mnist_digits(train, -6)\\ntrain_rotate_cw2 = rotate_mnist_digits(train, -12)\\ntrain_rotate_ccw = rotate_mnist_digits(train, 6)\\ntrain_rotate_ccw2 = rotate_mnist_digits(train, 12)\\n\\nframes = [train, train_up_one, train_down_one, train_left_one,           train_right_one, train_rotate_cw, train_rotate_ccw,           train_up_two, train_down_two, train_left_two,           train_right_two, train_rotate_cw2, train_rotate_ccw2]\\n        \\n'"
      ]
     },
     "execution_count": 3,
     "metadata": {},
     "output_type": "execute_result"
    }
   ],
   "source": [
    "'''\n",
    "# Shift the training data one pixel in each direction\n",
    "train_up_one = move_mnist_digits(train, 0, 1)\n",
    "train_up_two = move_mnist_digits(train, 0, 2)\n",
    "train_down_one = move_mnist_digits(train, 0, -2)\n",
    "train_down_two = move_mnist_digits(train, 0, -2)\n",
    "train_left_one = move_mnist_digits(train, -2, 0)\n",
    "train_left_two = move_mnist_digits(train, -2, 0)\n",
    "train_right_one = move_mnist_digits(train, 2, 0)\n",
    "train_right_two = move_mnist_digits(train, 2, 0)\n",
    "train_rotate_cw = rotate_mnist_digits(train, -6)\n",
    "train_rotate_cw2 = rotate_mnist_digits(train, -12)\n",
    "train_rotate_ccw = rotate_mnist_digits(train, 6)\n",
    "train_rotate_ccw2 = rotate_mnist_digits(train, 12)\n",
    "\n",
    "frames = [train, train_up_one, train_down_one, train_left_one, \\\n",
    "          train_right_one, train_rotate_cw, train_rotate_ccw, \\\n",
    "          train_up_two, train_down_two, train_left_two, \\\n",
    "          train_right_two, train_rotate_cw2, train_rotate_ccw2]\n",
    "        \n",
    "'''"
   ]
  },
  {
   "cell_type": "code",
   "execution_count": 4,
   "metadata": {
    "collapsed": true
   },
   "outputs": [],
   "source": [
    "# Split into input (X) and output (Y) variables\n",
    "x_train = train.values[:,1:]\n",
    "y_train = train.values[:,0]\n",
    "\n",
    "x_validate = validate.values[:,1:]\n",
    "y_validate = validate.values[:,0]\n"
   ]
  },
  {
   "cell_type": "code",
   "execution_count": 5,
   "metadata": {
    "collapsed": false,
    "scrolled": true
   },
   "outputs": [
    {
     "name": "stderr",
     "output_type": "stream",
     "text": [
      "Using TensorFlow backend.\n",
      "/usr/lib/python3.6/importlib/_bootstrap.py:219: RuntimeWarning: compiletime version 3.5 of module 'tensorflow.python.framework.fast_tensor_util' does not match runtime version 3.6\n",
      "  return f(*args, **kwds)\n"
     ]
    },
    {
     "name": "stdout",
     "output_type": "stream",
     "text": [
      "x_train shape: (37800, 28, 28, 1)\n",
      "37800 train samples\n",
      "4200 validation samples\n",
      "Epoch 1/30\n",
      "296/295 [==============================] - 37s 124ms/step - loss: 0.6962 - acc: 0.7676 - val_loss: 0.0731 - val_acc: 0.9762\n",
      "Epoch 2/30\n",
      "296/295 [==============================] - 35s 117ms/step - loss: 0.1640 - acc: 0.9489 - val_loss: 0.0357 - val_acc: 0.9869\n",
      "Epoch 3/30\n",
      "296/295 [==============================] - 35s 118ms/step - loss: 0.1097 - acc: 0.9657 - val_loss: 0.0280 - val_acc: 0.9912\n",
      "Epoch 4/30\n",
      "296/295 [==============================] - 35s 118ms/step - loss: 0.0878 - acc: 0.9726 - val_loss: 0.0226 - val_acc: 0.9933\n",
      "Epoch 5/30\n",
      "296/295 [==============================] - 35s 119ms/step - loss: 0.0766 - acc: 0.9765 - val_loss: 0.0225 - val_acc: 0.9938\n",
      "Epoch 6/30\n",
      "296/295 [==============================] - 35s 119ms/step - loss: 0.0668 - acc: 0.9798 - val_loss: 0.0176 - val_acc: 0.9940\n",
      "Epoch 7/30\n",
      "296/295 [==============================] - 35s 119ms/step - loss: 0.0586 - acc: 0.9818 - val_loss: 0.0182 - val_acc: 0.9940\n",
      "Epoch 8/30\n",
      "296/295 [==============================] - 35s 118ms/step - loss: 0.0548 - acc: 0.9830 - val_loss: 0.0175 - val_acc: 0.9950\n",
      "Epoch 9/30\n",
      "296/295 [==============================] - 35s 119ms/step - loss: 0.0515 - acc: 0.9843 - val_loss: 0.0190 - val_acc: 0.9940\n",
      "Epoch 10/30\n",
      "296/295 [==============================] - 35s 119ms/step - loss: 0.0484 - acc: 0.9849 - val_loss: 0.0182 - val_acc: 0.9943\n",
      "Epoch 11/30\n",
      "296/295 [==============================] - 35s 119ms/step - loss: 0.0459 - acc: 0.9859 - val_loss: 0.0149 - val_acc: 0.9955\n",
      "Epoch 12/30\n",
      "296/295 [==============================] - 35s 119ms/step - loss: 0.0437 - acc: 0.9862 - val_loss: 0.0158 - val_acc: 0.9945\n",
      "Epoch 13/30\n",
      "296/295 [==============================] - 35s 119ms/step - loss: 0.0417 - acc: 0.9873 - val_loss: 0.0153 - val_acc: 0.9960\n",
      "Epoch 14/30\n",
      "296/295 [==============================] - 36s 120ms/step - loss: 0.0398 - acc: 0.9879 - val_loss: 0.0148 - val_acc: 0.9960\n",
      "Epoch 15/30\n",
      "296/295 [==============================] - 35s 119ms/step - loss: 0.0379 - acc: 0.9882 - val_loss: 0.0188 - val_acc: 0.9938\n",
      "Epoch 16/30\n",
      "296/295 [==============================] - 35s 120ms/step - loss: 0.0337 - acc: 0.9896 - val_loss: 0.0159 - val_acc: 0.9950\n",
      "Epoch 17/30\n",
      "296/295 [==============================] - 35s 120ms/step - loss: 0.0347 - acc: 0.9892 - val_loss: 0.0138 - val_acc: 0.9957\n",
      "Epoch 18/30\n",
      "296/295 [==============================] - 36s 121ms/step - loss: 0.0333 - acc: 0.9897 - val_loss: 0.0166 - val_acc: 0.9950\n",
      "Epoch 19/30\n",
      "296/295 [==============================] - 36s 120ms/step - loss: 0.0325 - acc: 0.9897 - val_loss: 0.0153 - val_acc: 0.9948\n",
      "Epoch 20/30\n",
      "296/295 [==============================] - 36s 120ms/step - loss: 0.0304 - acc: 0.9904 - val_loss: 0.0151 - val_acc: 0.9952\n",
      "Epoch 21/30\n",
      "296/295 [==============================] - 35s 119ms/step - loss: 0.0274 - acc: 0.9914 - val_loss: 0.0136 - val_acc: 0.9962\n",
      "Epoch 22/30\n",
      "296/295 [==============================] - 36s 120ms/step - loss: 0.0268 - acc: 0.9916 - val_loss: 0.0131 - val_acc: 0.9962\n",
      "Epoch 23/30\n",
      "296/295 [==============================] - 36s 120ms/step - loss: 0.0277 - acc: 0.9917 - val_loss: 0.0125 - val_acc: 0.9964\n",
      "Epoch 24/30\n",
      "296/295 [==============================] - 35s 119ms/step - loss: 0.0270 - acc: 0.9916 - val_loss: 0.0126 - val_acc: 0.9962\n",
      "Epoch 25/30\n",
      "296/295 [==============================] - 36s 121ms/step - loss: 0.0252 - acc: 0.9922 - val_loss: 0.0125 - val_acc: 0.9964\n",
      "Epoch 26/30\n",
      "296/295 [==============================] - 35s 120ms/step - loss: 0.0255 - acc: 0.9922 - val_loss: 0.0118 - val_acc: 0.9974\n",
      "Epoch 27/30\n",
      "296/295 [==============================] - 36s 120ms/step - loss: 0.0248 - acc: 0.9921 - val_loss: 0.0129 - val_acc: 0.9964\n",
      "Epoch 28/30\n",
      "296/295 [==============================] - 36s 121ms/step - loss: 0.0240 - acc: 0.9926 - val_loss: 0.0140 - val_acc: 0.9960\n",
      "Epoch 29/30\n",
      "296/295 [==============================] - 36s 121ms/step - loss: 0.0237 - acc: 0.9928 - val_loss: 0.0122 - val_acc: 0.9974\n",
      "Epoch 30/30\n",
      "296/295 [==============================] - 35s 120ms/step - loss: 0.0239 - acc: 0.9925 - val_loss: 0.0118 - val_acc: 0.9974\n",
      "Validation loss: 0.0117604638798\n",
      "Validation accuracy: 0.997380952381\n"
     ]
    }
   ],
   "source": [
    "'''Trains a convnet on the MNIST dataset.\n",
    "\n",
    "Gets to 99.65% test accuracy after 20 epochs\n",
    "'''\n",
    "\n",
    "from __future__ import print_function\n",
    "import keras\n",
    "from keras.models import Sequential\n",
    "from keras.layers import Dense, Dropout, Flatten\n",
    "from keras.layers import Conv2D, MaxPooling2D\n",
    "from keras.callbacks import ReduceLROnPlateau\n",
    "from keras import backend as K\n",
    "from keras.preprocessing.image import ImageDataGenerator\n",
    "\n",
    "batch_size = 512\n",
    "num_classes = 10\n",
    "epochs = 30\n",
    "\n",
    "# input image dimensions\n",
    "img_rows, img_cols = 28, 28\n",
    "\n",
    "if K.image_data_format() == 'channels_first':\n",
    "    x_train = x_train.reshape(x_train.shape[0], 1, img_rows, img_cols)\n",
    "    x_validate = x_validate.reshape(x_validate.shape[0], 1, img_rows, img_cols)\n",
    "    input_shape = (1, img_rows, img_cols)\n",
    "else:\n",
    "    x_train = x_train.reshape(x_train.shape[0], img_rows, img_cols, 1)\n",
    "    x_validate = x_validate.reshape(x_validate.shape[0], img_rows, img_cols, 1)\n",
    "    input_shape = (img_rows, img_cols, 1)\n",
    "\n",
    "x_train = x_train.astype('float32')\n",
    "x_validate = x_validate.astype('float32')\n",
    "x_train /= 255\n",
    "x_validate /= 255\n",
    "print('x_train shape:', x_train.shape)\n",
    "print(x_train.shape[0], 'train samples')\n",
    "print(x_validate.shape[0], 'validation samples')\n",
    "\n",
    "# convert class vectors to binary class matrices\n",
    "y_train = keras.utils.to_categorical(y_train, num_classes)\n",
    "y_validate = keras.utils.to_categorical(y_validate, num_classes)\n",
    "\n",
    "# Use the built in data generation features of Keras\n",
    "datagen = ImageDataGenerator(\n",
    "    width_shift_range = 0.075,\n",
    "    height_shift_range = 0.075,\n",
    "    rotation_range = 9\n",
    "    #zoom_range = 0.05\n",
    ")\n",
    "\n",
    "datagen.fit(x_train)\n",
    "\n",
    "# Build the model\n",
    "model = Sequential()\n",
    "model.add(Conv2D(32, kernel_size=(5, 5),\n",
    "                 activation='relu',\n",
    "                 input_shape=input_shape))\n",
    "model.add(Conv2D(32, kernel_size=(3, 3),\n",
    "                 activation='relu'))\n",
    "model.add(MaxPooling2D(pool_size=(2, 2)))\n",
    "model.add(Dropout(0.25))\n",
    "          \n",
    "model.add(Conv2D(64, (3, 3), activation='relu'))\n",
    "model.add(Conv2D(64, (3, 3), activation='relu'))\n",
    "model.add(MaxPooling2D(pool_size=(2, 2)))\n",
    "model.add(Dropout(0.25))\n",
    "          \n",
    "model.add(Flatten())\n",
    "model.add(Dense(1024, activation='relu'))\n",
    "model.add(Dropout(0.5))\n",
    "model.add(Dense(1024, activation='relu'))\n",
    "model.add(Dropout(0.5))\n",
    " \n",
    "model.add(Dense(num_classes, activation='softmax'))\n",
    "\n",
    "model.compile(loss=keras.losses.categorical_crossentropy,\n",
    "              optimizer=keras.optimizers.Adadelta(),\n",
    "              metrics=['accuracy'])\n",
    "\n",
    "reduce_lr = ReduceLROnPlateau(monitor='val_loss', factor = 0.5,\n",
    "                              patience = 2, min_lr=0.0001)\n",
    "\n",
    "model.fit_generator(datagen.flow(x_train, \n",
    "                                  y_train, \n",
    "                                  batch_size = batch_size), \n",
    "                    epochs = epochs,\n",
    "                    steps_per_epoch = x_train.shape[0]/128,\n",
    "                    verbose = 1,\n",
    "                    validation_data = (x_validate, y_validate),\n",
    "                    callbacks = [reduce_lr])\n",
    "'''\n",
    "model.fit(x_train, y_train,\n",
    "          batch_size = batch_size,\n",
    "          epochs = epochs,\n",
    "          verbose = 1,\n",
    "          validation_data = (x_validate, y_validate),\n",
    "          callbacks = [reduce_lr])\n",
    "'''\n",
    "\n",
    "score = model.evaluate(x_validate, y_validate, verbose = 0)\n",
    "print('Validation loss:', score[0])\n",
    "print('Validation accuracy:', score[1])"
   ]
  },
  {
   "cell_type": "code",
   "execution_count": 7,
   "metadata": {
    "collapsed": false
   },
   "outputs": [
    {
     "ename": "ImportError",
     "evalue": "`save_model` requires h5py.",
     "output_type": "error",
     "traceback": [
      "\u001b[0;31m---------------------------------------------------------------------------\u001b[0m",
      "\u001b[0;31mImportError\u001b[0m                               Traceback (most recent call last)",
      "\u001b[0;32m<ipython-input-7-fafaec219695>\u001b[0m in \u001b[0;36m<module>\u001b[0;34m()\u001b[0m\n\u001b[1;32m     17\u001b[0m \u001b[0;34m\u001b[0m\u001b[0m\n\u001b[1;32m     18\u001b[0m \u001b[0msubmission\u001b[0m\u001b[0;34m.\u001b[0m\u001b[0mto_csv\u001b[0m\u001b[0;34m(\u001b[0m\u001b[0;34m\"submissions/Jan-8-2018.csv\"\u001b[0m\u001b[0;34m,\u001b[0m \u001b[0mindex\u001b[0m \u001b[0;34m=\u001b[0m \u001b[0;32mFalse\u001b[0m\u001b[0;34m)\u001b[0m\u001b[0;34m\u001b[0m\u001b[0m\n\u001b[0;32m---> 19\u001b[0;31m \u001b[0mmodel\u001b[0m\u001b[0;34m.\u001b[0m\u001b[0msave\u001b[0m\u001b[0;34m(\u001b[0m\u001b[0;34m\"submissions/Jan-8-2018.hdf5\"\u001b[0m\u001b[0;34m)\u001b[0m\u001b[0;34m\u001b[0m\u001b[0m\n\u001b[0m",
      "\u001b[0;32m/usr/local/lib/python3.6/dist-packages/keras/engine/topology.py\u001b[0m in \u001b[0;36msave\u001b[0;34m(self, filepath, overwrite, include_optimizer)\u001b[0m\n\u001b[1;32m   2554\u001b[0m         \"\"\"\n\u001b[1;32m   2555\u001b[0m         \u001b[0;32mfrom\u001b[0m \u001b[0;34m.\u001b[0m\u001b[0;34m.\u001b[0m\u001b[0mmodels\u001b[0m \u001b[0;32mimport\u001b[0m \u001b[0msave_model\u001b[0m\u001b[0;34m\u001b[0m\u001b[0m\n\u001b[0;32m-> 2556\u001b[0;31m         \u001b[0msave_model\u001b[0m\u001b[0;34m(\u001b[0m\u001b[0mself\u001b[0m\u001b[0;34m,\u001b[0m \u001b[0mfilepath\u001b[0m\u001b[0;34m,\u001b[0m \u001b[0moverwrite\u001b[0m\u001b[0;34m,\u001b[0m \u001b[0minclude_optimizer\u001b[0m\u001b[0;34m)\u001b[0m\u001b[0;34m\u001b[0m\u001b[0m\n\u001b[0m\u001b[1;32m   2557\u001b[0m \u001b[0;34m\u001b[0m\u001b[0m\n\u001b[1;32m   2558\u001b[0m     \u001b[0;32mdef\u001b[0m \u001b[0msave_weights\u001b[0m\u001b[0;34m(\u001b[0m\u001b[0mself\u001b[0m\u001b[0;34m,\u001b[0m \u001b[0mfilepath\u001b[0m\u001b[0;34m,\u001b[0m \u001b[0moverwrite\u001b[0m\u001b[0;34m=\u001b[0m\u001b[0;32mTrue\u001b[0m\u001b[0;34m)\u001b[0m\u001b[0;34m:\u001b[0m\u001b[0;34m\u001b[0m\u001b[0m\n",
      "\u001b[0;32m/usr/local/lib/python3.6/dist-packages/keras/models.py\u001b[0m in \u001b[0;36msave_model\u001b[0;34m(model, filepath, overwrite, include_optimizer)\u001b[0m\n\u001b[1;32m     55\u001b[0m \u001b[0;34m\u001b[0m\u001b[0m\n\u001b[1;32m     56\u001b[0m     \u001b[0;32mif\u001b[0m \u001b[0mh5py\u001b[0m \u001b[0;32mis\u001b[0m \u001b[0;32mNone\u001b[0m\u001b[0;34m:\u001b[0m\u001b[0;34m\u001b[0m\u001b[0m\n\u001b[0;32m---> 57\u001b[0;31m         \u001b[0;32mraise\u001b[0m \u001b[0mImportError\u001b[0m\u001b[0;34m(\u001b[0m\u001b[0;34m'`save_model` requires h5py.'\u001b[0m\u001b[0;34m)\u001b[0m\u001b[0;34m\u001b[0m\u001b[0m\n\u001b[0m\u001b[1;32m     58\u001b[0m \u001b[0;34m\u001b[0m\u001b[0m\n\u001b[1;32m     59\u001b[0m     \u001b[0;32mdef\u001b[0m \u001b[0mget_json_type\u001b[0m\u001b[0;34m(\u001b[0m\u001b[0mobj\u001b[0m\u001b[0;34m)\u001b[0m\u001b[0;34m:\u001b[0m\u001b[0;34m\u001b[0m\u001b[0m\n",
      "\u001b[0;31mImportError\u001b[0m: `save_model` requires h5py."
     ]
    }
   ],
   "source": [
    "import numpy as np\n",
    "\n",
    "test = pd.read_csv(\"../input/test.csv\").values[:,:]\n",
    "\n",
    "if K.image_data_format() == 'channels_first':\n",
    "    test = test.reshape(test.shape[0], 1, img_rows, img_cols)\n",
    "else:\n",
    "    test = test.reshape(test.shape[0], img_rows, img_cols, 1)\n",
    "\n",
    "test = test.astype('float32')\n",
    "test /= 255\n",
    "\n",
    "pred = np.argmax(model.predict(test), axis = 1)\n",
    "submission = pd.DataFrame(data = pred, columns = ['Label'])\n",
    "submission['ImageId'] = submission.index + 1\n",
    "submission = submission[['ImageId', 'Label']]\n",
    "\n",
    "submission.to_csv(\"submissions/Jan-8-2018.csv\", index = False)\n",
    "model.save(\"submissions/Jan-8-2018.hdf5\")"
   ]
  },
  {
   "cell_type": "code",
   "execution_count": null,
   "metadata": {
    "collapsed": true
   },
   "outputs": [],
   "source": []
  }
 ],
 "metadata": {
  "kernelspec": {
   "display_name": "Python 3",
   "language": "python",
   "name": "python3"
  },
  "language_info": {
   "codemirror_mode": {
    "name": "ipython",
    "version": 3
   },
   "file_extension": ".py",
   "mimetype": "text/x-python",
   "name": "python",
   "nbconvert_exporter": "python",
   "pygments_lexer": "ipython3",
   "version": "3.6.3"
  }
 },
 "nbformat": 4,
 "nbformat_minor": 2
}
