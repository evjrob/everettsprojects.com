{
 "cells": [
  {
   "cell_type": "code",
   "execution_count": 1,
   "metadata": {
    "collapsed": true
   },
   "outputs": [],
   "source": [
    "from sklearn.model_selection import train_test_split\n",
    "import pandas as pd\n",
    "import numpy as np\n",
    "from matplotlib import pyplot as plt\n",
    "from scipy import ndimage"
   ]
  },
  {
   "cell_type": "code",
   "execution_count": 2,
   "metadata": {
    "collapsed": true
   },
   "outputs": [],
   "source": [
    "'''\n",
    "Split the provided training data to create a new training \n",
    "data set and a new validation data set. These will be used\n",
    "or hyper-parameter tuning.\n",
    "'''\n",
    "\n",
    "# For reproducibility\n",
    "seed = 27\n",
    "\n",
    "raw_data = pd.read_csv(\"../input/train.csv\")\n",
    "\n",
    "train, validate = train_test_split(raw_data, test_size=0.1, random_state = seed, stratify = raw_data['label'])"
   ]
  },
  {
   "cell_type": "code",
   "execution_count": 3,
   "metadata": {
    "collapsed": true
   },
   "outputs": [],
   "source": [
    "'''\n",
    "Expand the above training data to use simple transformations \n",
    "of one pixel left, right, up, and down. Also includes small rotations\n",
    "'''\n",
    "\n",
    "# Reshape a 1D vector of an mnist digit to 2D\n",
    "def reshape_digit_square(mnist_pixels):\n",
    "    reshaped_digit = mnist_pixels.reshape(28, 28)\n",
    "    return reshaped_digit\n",
    "\n",
    "\n",
    "# Reshape a 2D array of an mnist digit to 1D\n",
    "def reshape_digit_flat(mnist_pixels):\n",
    "    reshaped_digit = mnist_pixels.reshape(28*28)\n",
    "    return reshaped_digit\n",
    "\n",
    "\n",
    "# Shift the digit data by an arbitrary amount up or down and left or right\n",
    "def shift_digit(mnist_pixels, x_shift, y_shift):\n",
    "    mnist_pixels = reshape_digit_square(mnist_pixels)\n",
    "    \n",
    "    padding = ((max([-y_shift, 0]), max([y_shift, 0])),(max([x_shift,0]), max([-x_shift, 0])))\n",
    "    y1 = max([y_shift, 0])\n",
    "    y2 = max([mnist_pixels.shape[0], mnist_pixels.shape[0] + y_shift])\n",
    "    x1 = max([-x_shift, 0])\n",
    "    x2 = max([mnist_pixels.shape[1], mnist_pixels.shape[1] - x_shift])\n",
    "    \n",
    "    new_digit = np.pad(mnist_pixels,padding, mode='constant')[y1:y2, x1:x2]\n",
    "    new_digit = reshape_digit_flat(new_digit)\n",
    "    \n",
    "    return new_digit\n",
    "\n",
    "# Move each digit in the data set the same way\n",
    "def move_mnist_digits(mnist_data, x_shift, y_shift):\n",
    "    pixel_data = mnist_data.iloc[:, 1:].as_matrix()\n",
    "    new_pixels = np.apply_along_axis(shift_digit, 1, pixel_data, x_shift, y_shift)\n",
    "    new_data = mnist_data.iloc[:, 0]\n",
    "    new_data = new_data.values.reshape(new_data.shape[0], 1)\n",
    "    new_data = np.concatenate((new_data, new_pixels), axis = 1)\n",
    "    new_data = pd.DataFrame(new_data, columns = list(mnist_data))\n",
    "    return new_data\n",
    "\n",
    "\n",
    "# Rotate the data by an arbitrary amount\n",
    "def rotate_digit(mnist_pixels, angle):\n",
    "    mnist_pixels = reshape_digit_square(mnist_pixels)\n",
    "    new_digit = ndimage.interpolation.rotate(mnist_pixels, angle, reshape = False)\n",
    "    new_digit = reshape_digit_flat(new_digit)\n",
    "    return new_digit\n",
    "\n",
    "# Rotate each digit in the data set the same way\n",
    "def rotate_mnist_digits(mnist_data, angle):\n",
    "    pixel_data = mnist_data.iloc[:, 1:].as_matrix()\n",
    "    new_pixels = np.apply_along_axis(rotate_digit, 1, pixel_data, angle)\n",
    "    new_data = mnist_data.iloc[:, 0]\n",
    "    new_data = new_data.values.reshape(new_data.shape[0], 1)\n",
    "    new_data = np.concatenate((new_data, new_pixels), axis = 1)\n",
    "    new_data = pd.DataFrame(new_data, columns = list(mnist_data))\n",
    "    return new_data"
   ]
  },
  {
   "cell_type": "code",
   "execution_count": 4,
   "metadata": {
    "collapsed": true
   },
   "outputs": [],
   "source": [
    "# Shift the training data one pixel in each direction\n",
    "train_up_one = move_mnist_digits(train, 0, 1)\n",
    "train_up_two = move_mnist_digits(train, 0, 2)\n",
    "train_down_one = move_mnist_digits(train, 0, -2)\n",
    "train_down_two = move_mnist_digits(train, 0, -2)\n",
    "train_left_one = move_mnist_digits(train, -2, 0)\n",
    "train_left_two = move_mnist_digits(train, -2, 0)\n",
    "train_right_one = move_mnist_digits(train, 2, 0)\n",
    "train_right_two = move_mnist_digits(train, 2, 0)\n",
    "train_rotate_cw = rotate_mnist_digits(train, -6)\n",
    "train_rotate_cw2 = rotate_mnist_digits(train, -12)\n",
    "train_rotate_ccw = rotate_mnist_digits(train, 6)\n",
    "train_rotate_ccw2 = rotate_mnist_digits(train, 12)\n",
    "\n",
    "frames = [train, train_up_one, train_down_one, train_left_one, \\\n",
    "          train_right_one, train_rotate_cw, train_rotate_ccw, \\\n",
    "          train_up_two, train_down_two, train_left_two, \\\n",
    "          train_right_two, train_rotate_cw2, train_rotate_ccw2]"
   ]
  },
  {
   "cell_type": "code",
   "execution_count": 5,
   "metadata": {
    "collapsed": true
   },
   "outputs": [],
   "source": [
    "# Write the expanded training data to file\n",
    "train_expanded = pd.concat(frames)"
   ]
  },
  {
   "cell_type": "code",
   "execution_count": 6,
   "metadata": {
    "collapsed": true
   },
   "outputs": [],
   "source": [
    "# Split into input (X) and output (Y) variables\n",
    "x_train = train_expanded.values[:,1:]\n",
    "y_train = train_expanded.values[:,0]\n",
    "\n",
    "x_validate = validate.values[:,1:]\n",
    "y_validate = validate.values[:,0]\n"
   ]
  },
  {
   "cell_type": "code",
   "execution_count": 7,
   "metadata": {
    "collapsed": false,
    "scrolled": true
   },
   "outputs": [
    {
     "name": "stderr",
     "output_type": "stream",
     "text": [
      "Using TensorFlow backend.\n"
     ]
    },
    {
     "name": "stdout",
     "output_type": "stream",
     "text": [
      "x_train shape: (491400, 28, 28, 1)\n",
      "491400 train samples\n",
      "4200 validation samples\n",
      "Train on 491400 samples, validate on 4200 samples\n",
      "Epoch 1/20\n",
      "491400/491400 [==============================] - 63s - loss: 0.2576 - acc: 0.9168 - val_loss: 0.0231 - val_acc: 0.9929\n",
      "Epoch 2/20\n",
      "491400/491400 [==============================] - 62s - loss: 0.0614 - acc: 0.9812 - val_loss: 0.0165 - val_acc: 0.9955\n",
      "Epoch 3/20\n",
      "491400/491400 [==============================] - 63s - loss: 0.0429 - acc: 0.9868 - val_loss: 0.0147 - val_acc: 0.9957\n",
      "Epoch 4/20\n",
      "491400/491400 [==============================] - 63s - loss: 0.0342 - acc: 0.9893 - val_loss: 0.0136 - val_acc: 0.9962\n",
      "Epoch 5/20\n",
      "491400/491400 [==============================] - 63s - loss: 0.0284 - acc: 0.9913 - val_loss: 0.0180 - val_acc: 0.9943\n",
      "Epoch 6/20\n",
      "491400/491400 [==============================] - 63s - loss: 0.0243 - acc: 0.9925 - val_loss: 0.0127 - val_acc: 0.9962\n",
      "Epoch 7/20\n",
      "491400/491400 [==============================] - 63s - loss: 0.0215 - acc: 0.9934 - val_loss: 0.0163 - val_acc: 0.9952\n",
      "Epoch 8/20\n",
      "491400/491400 [==============================] - 63s - loss: 0.0195 - acc: 0.9938 - val_loss: 0.0140 - val_acc: 0.9962\n",
      "Epoch 9/20\n",
      "491400/491400 [==============================] - 63s - loss: 0.0172 - acc: 0.9946 - val_loss: 0.0117 - val_acc: 0.9962\n",
      "Epoch 10/20\n",
      "491400/491400 [==============================] - 63s - loss: 0.0159 - acc: 0.9950 - val_loss: 0.0125 - val_acc: 0.9950\n",
      "Epoch 11/20\n",
      "491400/491400 [==============================] - 63s - loss: 0.0145 - acc: 0.9954 - val_loss: 0.0103 - val_acc: 0.9971\n",
      "Epoch 12/20\n",
      "491400/491400 [==============================] - 63s - loss: 0.0132 - acc: 0.9958 - val_loss: 0.0126 - val_acc: 0.9964\n",
      "Epoch 13/20\n",
      "491400/491400 [==============================] - 63s - loss: 0.0124 - acc: 0.9961 - val_loss: 0.0130 - val_acc: 0.9960\n",
      "Epoch 14/20\n",
      "491400/491400 [==============================] - 63s - loss: 0.0114 - acc: 0.9965 - val_loss: 0.0122 - val_acc: 0.9957\n",
      "Epoch 15/20\n",
      "491400/491400 [==============================] - 63s - loss: 0.0097 - acc: 0.9969 - val_loss: 0.0115 - val_acc: 0.9971\n",
      "Epoch 16/20\n",
      "491400/491400 [==============================] - 63s - loss: 0.0091 - acc: 0.9972 - val_loss: 0.0097 - val_acc: 0.9976\n",
      "Epoch 17/20\n",
      "491400/491400 [==============================] - 63s - loss: 0.0089 - acc: 0.9971 - val_loss: 0.0102 - val_acc: 0.9971\n",
      "Epoch 18/20\n",
      "491400/491400 [==============================] - 63s - loss: 0.0081 - acc: 0.9975 - val_loss: 0.0114 - val_acc: 0.9969\n",
      "Epoch 19/20\n",
      "491400/491400 [==============================] - 63s - loss: 0.0081 - acc: 0.9974 - val_loss: 0.0101 - val_acc: 0.9971\n",
      "Epoch 20/20\n",
      "491400/491400 [==============================] - 63s - loss: 0.0074 - acc: 0.9976 - val_loss: 0.0105 - val_acc: 0.9971\n",
      "Validation loss: 0.0104711466755\n",
      "Validation accuracy: 0.997142857143\n"
     ]
    }
   ],
   "source": [
    "'''Trains a simple convnet on the MNIST dataset.\n",
    "\n",
    "Gets to 99.25% test accuracy after 12 epochs\n",
    "(there is still a lot of margin for parameter tuning).\n",
    "16 seconds per epoch on a GRID K520 GPU.\n",
    "'''\n",
    "\n",
    "from __future__ import print_function\n",
    "import keras\n",
    "from keras.models import Sequential\n",
    "from keras.layers import Dense, Dropout, Flatten\n",
    "from keras.layers import Conv2D, MaxPooling2D\n",
    "from keras.callbacks import ReduceLROnPlateau\n",
    "from keras import backend as K\n",
    "\n",
    "batch_size = 512\n",
    "num_classes = 10\n",
    "epochs = 20\n",
    "\n",
    "# input image dimensions\n",
    "img_rows, img_cols = 28, 28\n",
    "\n",
    "if K.image_data_format() == 'channels_first':\n",
    "    x_train = x_train.reshape(x_train.shape[0], 1, img_rows, img_cols)\n",
    "    x_validate = x_validate.reshape(x_validate.shape[0], 1, img_rows, img_cols)\n",
    "    input_shape = (1, img_rows, img_cols)\n",
    "else:\n",
    "    x_train = x_train.reshape(x_train.shape[0], img_rows, img_cols, 1)\n",
    "    x_validate = x_validate.reshape(x_validate.shape[0], img_rows, img_cols, 1)\n",
    "    input_shape = (img_rows, img_cols, 1)\n",
    "\n",
    "x_train = x_train.astype('float32')\n",
    "x_validate = x_validate.astype('float32')\n",
    "x_train /= 255\n",
    "x_validate /= 255\n",
    "print('x_train shape:', x_train.shape)\n",
    "print(x_train.shape[0], 'train samples')\n",
    "print(x_validate.shape[0], 'validation samples')\n",
    "\n",
    "# convert class vectors to binary class matrices\n",
    "y_train = keras.utils.to_categorical(y_train, num_classes)\n",
    "y_validate = keras.utils.to_categorical(y_validate, num_classes)\n",
    "\n",
    "\n",
    "model = Sequential()\n",
    "model.add(Conv2D(32, kernel_size=(5, 5),\n",
    "                 activation='relu',\n",
    "                 input_shape=input_shape))\n",
    "model.add(Conv2D(32, kernel_size=(3, 3),\n",
    "                 activation='relu'))\n",
    "model.add(MaxPooling2D(pool_size=(2, 2)))\n",
    "model.add(Dropout(0.25))\n",
    "          \n",
    "model.add(Conv2D(64, (3, 3), activation='relu'))\n",
    "model.add(Conv2D(64, (3, 3), activation='relu'))\n",
    "model.add(MaxPooling2D(pool_size=(2, 2)))\n",
    "model.add(Dropout(0.25))\n",
    "          \n",
    "model.add(Flatten())\n",
    "model.add(Dense(1024, activation='relu'))\n",
    "model.add(Dropout(0.5))\n",
    "model.add(Dense(1024, activation='relu'))\n",
    "model.add(Dropout(0.5))\n",
    " \n",
    "model.add(Dense(num_classes, activation='softmax'))\n",
    "\n",
    "model.compile(loss=keras.losses.categorical_crossentropy,\n",
    "              optimizer=keras.optimizers.Adadelta(),\n",
    "              metrics=['accuracy'])\n",
    "\n",
    "reduce_lr = ReduceLROnPlateau(monitor='val_loss', factor = 0.5,\n",
    "                              patience = 2, min_lr=0.0001)\n",
    "\n",
    "model.fit(x_train, y_train,\n",
    "          batch_size = batch_size,\n",
    "          epochs = epochs,\n",
    "          verbose = 1,\n",
    "          validation_data = (x_validate, y_validate),\n",
    "          callbacks = [reduce_lr])\n",
    "\n",
    "score = model.evaluate(x_validate, y_validate, verbose = 0)\n",
    "print('Validation loss:', score[0])\n",
    "print('Validation accuracy:', score[1])"
   ]
  },
  {
   "cell_type": "code",
   "execution_count": 8,
   "metadata": {
    "collapsed": true
   },
   "outputs": [],
   "source": [
    "test = pd.read_csv(\"../input/test.csv\").values[:,:]\n",
    "\n",
    "if K.image_data_format() == 'channels_first':\n",
    "    test = test.reshape(test.shape[0], 1, img_rows, img_cols)\n",
    "else:\n",
    "    test = test.reshape(test.shape[0], img_rows, img_cols, 1)\n",
    "\n",
    "test = test.astype('float32')\n",
    "test /= 255\n",
    "\n",
    "pred = np.argmax(model.predict(test), axis = 1)\n",
    "submission = pd.DataFrame(data = pred, columns = ['Label'])\n",
    "submission['ImageId'] = submission.index + 1\n",
    "submission = submission[['ImageId', 'Label']]\n",
    "\n",
    "#submission.to_csv(\"submissions/Jan-5-2018.csv\", index = False)"
   ]
  },
  {
   "cell_type": "code",
   "execution_count": null,
   "metadata": {
    "collapsed": true
   },
   "outputs": [],
   "source": []
  }
 ],
 "metadata": {
  "kernelspec": {
   "display_name": "Python 3",
   "language": "python",
   "name": "python3"
  },
  "language_info": {
   "codemirror_mode": {
    "name": "ipython",
    "version": 3
   },
   "file_extension": ".py",
   "mimetype": "text/x-python",
   "name": "python",
   "nbconvert_exporter": "python",
   "pygments_lexer": "ipython3",
   "version": "3.6.3"
  }
 },
 "nbformat": 4,
 "nbformat_minor": 2
}
