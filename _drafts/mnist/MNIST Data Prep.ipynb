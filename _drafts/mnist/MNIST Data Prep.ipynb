{
 "cells": [
  {
   "cell_type": "code",
   "execution_count": 1,
   "metadata": {
    "collapsed": true
   },
   "outputs": [],
   "source": [
    "from sklearn.model_selection import train_test_split\n",
    "import pandas as pd\n",
    "import numpy as np\n",
    "from matplotlib import pyplot as plt"
   ]
  },
  {
   "cell_type": "code",
   "execution_count": 2,
   "metadata": {
    "collapsed": false
   },
   "outputs": [],
   "source": [
    "'''\n",
    "Split the provided training data to create a new training \n",
    "data set and a new validation data set. These will be used\n",
    "or hyper-parameter tuning.\n",
    "'''\n",
    "\n",
    "# For reproducibility\n",
    "seed = 27\n",
    "\n",
    "raw_data = pd.read_csv(\"raw_data/train.csv\")\n",
    "\n",
    "train, validate = train_test_split(raw_data, test_size=0.2, random_state = seed, stratify = raw_data['label'])\n",
    "\n",
    "train.to_csv(\"modified_data/train.csv\")\n",
    "validate.to_csv(\"modified_data/validate.csv\")"
   ]
  },
  {
   "cell_type": "code",
   "execution_count": 3,
   "metadata": {
    "collapsed": false
   },
   "outputs": [
    {
     "data": {
      "image/png": "[encoded data removed]",
      "text/plain": [
       "<matplotlib.figure.Figure at 0x7f41939eaef0>"
      ]
     },
     "metadata": {},
     "output_type": "display_data"
    }
   ],
   "source": [
    "'''\n",
    "Expand the above training data to use simple transformations \n",
    "of one pixel left, right, up, and down. Hopefully this will\n",
    "also include small rotations of 1 - 3 degrees in each direction\n",
    "in the not too distant future.\n",
    "'''\n",
    "\n",
    "# Reshape a 1D vector of an mnist digit to 2D\n",
    "def reshape_digit_square(mnist_pixels):\n",
    "    reshaped_digit = mnist_pixels.reshape(28, 28)\n",
    "    return reshaped_digit\n",
    "\n",
    "\n",
    "# Reshape a 2D array of an mnist digit to 1D\n",
    "def reshape_digit_flat(mnist_pixels):\n",
    "    reshaped_digit = mnist_pixels.reshape(28*28)\n",
    "    return reshaped_digit\n",
    "\n",
    "\n",
    "# Shift the digit data by an arbitrary amount up or down and left or right\n",
    "def shift_digit(mnist_pixels, x_shift, y_shift):\n",
    "    mnist_pixels = reshape_digit_square(mnist_pixels)\n",
    "    \n",
    "    padding = ((max([-y_shift, 0]), max([y_shift, 0])),(max([x_shift,0]), max([-x_shift, 0])))\n",
    "    y1 = max([y_shift, 0])\n",
    "    y2 = max([mnist_pixels.shape[0], mnist_pixels.shape[0] + y_shift])\n",
    "    x1 = max([-x_shift, 0])\n",
    "    x2 = max([mnist_pixels.shape[1], mnist_pixels.shape[1] - x_shift])\n",
    "    \n",
    "    new_digit = np.pad(mnist_pixels,padding, mode='constant')[y1:y2, x1:x2]\n",
    "    new_digit = reshape_digit_flat(new_digit)\n",
    "    \n",
    "    return new_digit\n",
    "\n",
    "# Move each digit in the data set the same way\n",
    "def move_mnist_digits(mnist_data, x_shift, y_shift):\n",
    "    pixel_data = mnist_data.iloc[:, 1:].as_matrix()\n",
    "    new_pixels = np.apply_along_axis(shift_digit, 1, pixel_data, x_shift, y_shift)\n",
    "    new_data = mnist_data.iloc[:, 0]\n",
    "    new_data = new_data.values.reshape(new_data.shape[0], 1)\n",
    "    new_data = np.concatenate((new_data, new_pixels), axis = 1)\n",
    "    new_data = pd.DataFrame(new_data, columns = list(mnist_data))\n",
    "    return new_data\n",
    "\n",
    "\n",
    "# Rotate the data by an arbitrary amount\n",
    "def rotate_mnist(mnist_data, angle):\n",
    "    return\n",
    "\n",
    "# Skew the data by an arbitrary amount\n",
    "def skew_mnist(mnist_data, angle):\n",
    "    return"
   ]
  },
  {
   "cell_type": "code",
   "execution_count": 6,
   "metadata": {
    "collapsed": false
   },
   "outputs": [],
   "source": [
    "# Shift the training data one pixel in each direction\n",
    "train_up_one = move_mnist_digits(train, 0, 1)\n",
    "train_down_one = move_mnist_digits(train, 0, -1)\n",
    "train_left_one = move_mnist_digits(train, -1, 0)\n",
    "train_right_one = move_mnist_digits(train, 1, 0)\n",
    "frames = [train_up_one, train_down_one, train_left_one, train_right_one]"
   ]
  },
  {
   "cell_type": "code",
   "execution_count": 7,
   "metadata": {
    "collapsed": false
   },
   "outputs": [],
   "source": [
    "# Write the expanded training data to file\n",
    "train_expanded = pd.concat(frames)\n",
    "train_expanded.to_csv(\"modified_data/train_expanded.csv\")"
   ]
  }
 ],
 "metadata": {
  "kernelspec": {
   "display_name": "Python 3",
   "language": "python",
   "name": "python3"
  },
  "language_info": {
   "codemirror_mode": {
    "name": "ipython",
    "version": 3
   },
   "file_extension": ".py",
   "mimetype": "text/x-python",
   "name": "python",
   "nbconvert_exporter": "python",
   "pygments_lexer": "ipython3",
   "version": "3.6.3"
  }
 },
 "nbformat": 4,
 "nbformat_minor": 2
}
