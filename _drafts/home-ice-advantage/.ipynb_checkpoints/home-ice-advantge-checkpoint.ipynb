{
 "cells": [
  {
   "cell_type": "markdown",
   "metadata": {},
   "source": [
    "---\n",
    "title: \"Is Home Ice Advantage in the NHL Real?\"\n",
    "author: \"Everett Robinson\"\n",
    "date: \"February 15, 2018\"\n",
    "output: html_document\n",
    "layout: post\n",
    "---"
   ]
  },
  {
   "cell_type": "markdown",
   "metadata": {},
   "source": [
    "Many people have attempted to answer the question of whether or not home ice advantage exists. A [2013 paper](http://people.stat.sfu.ca/~tim/papers/hca.pdf) by Tim Swartz and Adriano Arce came to the conclusion that home ice advantage in the NHL is real, accounting for about 5% of goals in 2012. Furthermore, they observed that when total goals per game are accoutned for, there is no appreciable change in the home ice advantage over time. Lastly, they performed a one way ANOVA and a pairwise Tukey's HSD test on 16 NHL teams that have played in 30 seasons to determine if there is a significant difference between teams' home ice advantages. The result from their analysis was that there is not sufficient evidence to conclude that home ice advantage varies between teams.\n",
    "\n",
    "Later in 2017, a [fivethirtyeight blog post](https://fivethirtyeight.com/features/a-home-playoff-game-is-a-big-advantage-unless-you-play-hockey/) also tried to tackle this problem coming to the conclusion that home ice in the regular season amounts to a win percentage of 55.1%, 5.1% better than even odds. In the playoffs this advantage declines slightly to a boost in win percentage that is only 4.8% better on home ice than at a theoretical neutral rink.\n",
    "\n",
    "The above two results appear fairly consistent with each other, and one might be satisfied that home ice advantage is a real phenomenon. This is probably a safe bet, but I'm all for reproducible research so I'm going to try my hand at answering this question myself and corroborating the previus findings.\n",
    "\n",
    "There are two questions that I want to attempt to answer:\n",
    "\n",
    "1. Is there evidence for home ice being advantageous in general? \n",
    "2. Is there evidence that this advantage varies from team to team?\n",
    "\n",
    "I would also like to quantify the extent of home ice advantage in the above analysis, mainly in terms of the expected goal differential it causes. To do all of this I am going to a few different strategies. The first will be a frequentist statistical approach using a paired sample t-test on the home and away teams goals if the assumptions for this test are met. If the assumptions of normality or no outliers are not met, then I will use the  Wilcoxon signed-rank test.\n",
    "\n",
    "Next, I will investigate the first problem again using a Bayesian approach. To accomplish this, I will use a model based on John Kruschke's [Bayesian estimation supercedes the t-test](http://www.indiana.edu/~kruschke/BEST/BEST.pdf). Since I have decided to use python for this analysis, I will not be able to use Kruschke's own R package. I will instead implement a PyMC3 version of his test using [this blog post](http://blog.henryhhammond.com/bayesian-t-test/) and the book [Bayesian Methods or Hackers](http://nbviewer.jupyter.org/github/CamDavidsonPilon/Probabilistic-Programming-and-Bayesian-Methods-for-Hackers/blob/master/Chapter1_Introduction/Ch1_Introduction_PyMC3.ipynb) as a guide.\n",
    "\n",
    "To answer the second question, I will implement a one way ANOVA on the collected data to test for sigificant differences in home ice advantage by team."
   ]
  },
  {
   "cell_type": "code",
   "execution_count": 1,
   "metadata": {
    "collapsed": true
   },
   "outputs": [],
   "source": [
    "import requests\n",
    "import json"
   ]
  },
  {
   "cell_type": "code",
   "execution_count": 2,
   "metadata": {
    "collapsed": true
   },
   "outputs": [],
   "source": [
    "response = requests.get(\"https://statsapi.web.nhl.com/api/v1/schedule?startDate=2017-08-01&endDate=2018-02-13\")\n",
    "schedule_json = response.json()"
   ]
  },
  {
   "cell_type": "code",
   "execution_count": 4,
   "metadata": {},
   "outputs": [],
   "source": [
    "# A function to extract the relevant data from the schedule\n",
    "def extract_game_data(schedule):\n",
    "    \"\"\"Given full JSON records for games from the NHL API,\n",
    "    returns a simplified list of just the data we need.\n",
    "    \"\"\"\n",
    "    games = []\n",
    "    \n",
    "    #for event in json_github_events:\n",
    "    #    event_data = event['actor']\n",
    "    #    actor = event_data['login']\n",
    "    #    value = event_data['url']\n",
    "    #\n",
    "    #    actor_urls_dict[actor] = value\n",
    "    \n",
    "    \n",
    "    games = []\n",
    "    \n",
    "    return games"
   ]
  },
  {
   "cell_type": "code",
   "execution_count": null,
   "metadata": {
    "collapsed": true
   },
   "outputs": [],
   "source": []
  }
 ],
 "metadata": {
  "kernelspec": {
   "display_name": "Python 3",
   "language": "python",
   "name": "python3"
  },
  "language_info": {
   "codemirror_mode": {
    "name": "ipython",
    "version": 3
   },
   "file_extension": ".py",
   "mimetype": "text/x-python",
   "name": "python",
   "nbconvert_exporter": "python",
   "pygments_lexer": "ipython3",
   "version": "3.6.3"
  }
 },
 "nbformat": 4,
 "nbformat_minor": 2
}
