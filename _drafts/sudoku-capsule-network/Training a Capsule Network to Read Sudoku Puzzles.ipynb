{
 "cells": [
  {
   "cell_type": "code",
   "execution_count": 3,
   "metadata": {},
   "outputs": [
    {
     "data": {
      "image/png": "[encoded data removed]",
      "text/plain": [
       "<matplotlib.figure.Figure at 0x7f83c872c5f8>"
      ]
     },
     "metadata": {},
     "output_type": "display_data"
    }
   ],
   "source": [
    "import numpy as np\n",
    "from matplotlib import pyplot as plt\n",
    "\n",
    "thick_line_width = 3\n",
    "thin_line_width = 1\n",
    "cell_width = 28\n",
    "\n",
    "thick_lines = [i * thick_line_width + \n",
    "               2 * i * thin_line_width + \n",
    "               3 * i * cell_width\n",
    "               for i in range(4)\n",
    "              ]\n",
    "\n",
    "thin_lines =  [((i // 2) + 1) * thick_line_width + \n",
    "               i * thin_line_width + \n",
    "               (i + 1 + i // 2) * cell_width\n",
    "               for i in range(6)\n",
    "              ]\n",
    "\n",
    "sudoku_grid = np.ones((270,270, 3))\n",
    "\n",
    "for line in thick_lines:\n",
    "    sudoku_grid[line:line + thick_line_width, :, :] = 0.\n",
    "    sudoku_grid[:, line:line + thick_line_width, :] = 0.\n",
    "\n",
    "for line in thin_lines:\n",
    "    sudoku_grid[line:line + thin_line_width, :, :] = 0.\n",
    "    sudoku_grid[:, line:line + thin_line_width, :] = 0.\n",
    "    \n",
    "plt.imshow(sudoku_grid, cmap = 'gray')\n",
    "plt.show()"
   ]
  },
  {
   "cell_type": "code",
   "execution_count": null,
   "metadata": {},
   "outputs": [],
   "source": [
    "def generate_mock_sudoku():\n",
    "    "
   ]
  },
  {
   "cell_type": "code",
   "execution_count": null,
   "metadata": {},
   "outputs": [],
   "source": []
  }
 ],
 "metadata": {
  "kernelspec": {
   "display_name": "Python 3",
   "language": "python",
   "name": "python3"
  },
  "language_info": {
   "codemirror_mode": {
    "name": "ipython",
    "version": 3
   },
   "file_extension": ".py",
   "mimetype": "text/x-python",
   "name": "python",
   "nbconvert_exporter": "python",
   "pygments_lexer": "ipython3",
   "version": "3.6.3"
  }
 },
 "nbformat": 4,
 "nbformat_minor": 2
}
