{
 "cells": [
  {
   "cell_type": "code",
   "execution_count": 1,
   "metadata": {},
   "outputs": [
    {
     "data": {
      "text/plain": [
       "1234"
      ]
     },
     "execution_count": 1,
     "metadata": {},
     "output_type": "execute_result"
    }
   ],
   "source": [
    "using Random\n",
    "using DataFrames\n",
    "using Distributions\n",
    "using Plots\n",
    "\n",
    "seed = 1234"
   ]
  },
  {
   "cell_type": "code",
   "execution_count": 2,
   "metadata": {},
   "outputs": [],
   "source": [
    "Random.seed!(seed)\n",
    "\n",
    "gpd = 8\n",
    "n_days = 400\n",
    "n_teams = 32\n",
    "\n",
    "true_intercept = zeros(n_days)\n",
    "true_home_adv = zeros(n_days)\n",
    "true_offence = zeros(n_days, n_teams)\n",
    "true_defence = zeros(n_days, n_teams)\n",
    "\n",
    "# Initialize the true values\n",
    "true_intercept[1] = 1.12\n",
    "true_home_adv[1] = 0.25\n",
    "o_init = randn(n_teams)*0.15\n",
    "o_init = o_init .- mean(o_init)\n",
    "true_offence[1, :] = o_init\n",
    "d_init = randn(n_teams)*0.10\n",
    "d_init = d_init .- mean(d_init)\n",
    "true_defence[1, :] = randn(n_teams)*0.10\n",
    "Δ_σ_ih = 0.0005\n",
    "Δ_σ_od = 0.004\n",
    ";"
   ]
  },
  {
   "cell_type": "code",
   "execution_count": 3,
   "metadata": {},
   "outputs": [],
   "source": [
    "Random.seed!(seed)\n",
    "\n",
    "for t = 2:n_days\n",
    "    true_intercept[t] = true_intercept[t-1] + (Δ_σ_ih * randn())\n",
    "    true_home_adv[t] = true_home_adv[t-1] + (Δ_σ_ih * randn())\n",
    "    new_true_offence = true_offence[t-1, :] .+ (Δ_σ_od * randn(n_teams))\n",
    "    true_offence[t, :] = new_true_offence .- mean(new_true_offence)\n",
    "    new_true_defence = true_defence[t-1, :] .+ (Δ_σ_od * randn(n_teams))\n",
    "    true_defence[t, :] = new_true_defence .- mean(new_true_defence)\n",
    "end"
   ]
  },
  {
   "cell_type": "code",
   "execution_count": 4,
   "metadata": {},
   "outputs": [],
   "source": [
    "Random.seed!(seed)\n",
    "\n",
    "game_permutations = [randperm(n_teams) for i = 1:n_days]\n",
    "games_full = DataFrame(\n",
    "    day = Int64[], \n",
    "    home_id = Int64[], \n",
    "    home_score = Int64[], \n",
    "    away_id = Int64[], \n",
    "    away_score = Int64[],\n",
    "    home_win = Bool[]\n",
    ")\n",
    "\n",
    "for (t, g) in enumerate(game_permutations)\n",
    "    for _ = 1:gpd\n",
    "        for i = 1:2:n_teams\n",
    "            home_id = g[i]\n",
    "            away_id = g[i+1]\n",
    "            home_λ = exp(true_intercept[t] + true_home_adv[t] + true_offence[t, home_id] - true_defence[t, away_id])\n",
    "            home_score = rand(Poisson(home_λ))\n",
    "            away_λ = exp(true_intercept[t] + true_offence[t, away_id] - true_defence[t, home_id])\n",
    "            away_score = rand(Poisson(away_λ))\n",
    "            home_p = home_λ/(home_λ + away_λ)\n",
    "            if home_score > away_score games_full\n",
    "                home_win = true\n",
    "            elseif home_score == away_score\n",
    "                home_win = rand(Bernoulli(home_p))\n",
    "            else\n",
    "                home_win = false\n",
    "            end\n",
    "            push!(games_full, [t, home_id, home_score, away_id, away_score, home_win])\n",
    "        end\n",
    "    end\n",
    "end"
   ]
  },
  {
   "cell_type": "code",
   "execution_count": 5,
   "metadata": {},
   "outputs": [
    {
     "name": "stderr",
     "output_type": "stream",
     "text": [
      "┌ Warning: `setindex!(df::DataFrame, v::AbstractVector, col_ind::ColumnIndex)` is deprecated, use `begin\n",
      "│     df[!, col_ind] = v\n",
      "│     df\n",
      "│ end` instead.\n",
      "│   caller = top-level scope at In[5]:8\n",
      "└ @ Core ./In[5]:8\n",
      "┌ Warning: `setindex!(df::DataFrame, v::AbstractVector, col_ind::ColumnIndex)` is deprecated, use `begin\n",
      "│     df[!, col_ind] = v\n",
      "│     df\n",
      "│ end` instead.\n",
      "│   caller = top-level scope at In[5]:9\n",
      "└ @ Core ./In[5]:9\n"
     ]
    }
   ],
   "source": [
    "latent_variables = DataFrame(\n",
    "    day = 1:n_days,\n",
    "    h = true_home_adv,\n",
    "    i = true_intercept\n",
    ")\n",
    "\n",
    "for i = 1:n_teams\n",
    "    latent_variables[\"o$i\"] = true_offence[:,i]\n",
    "    latent_variables[\"d$i\"] = true_defence[:,i]\n",
    "end"
   ]
  },
  {
   "cell_type": "code",
   "execution_count": 6,
   "metadata": {},
   "outputs": [
    {
     "data": {
      "text/html": [
       "<table class=\"data-frame\"><thead><tr><th></th><th>day</th><th>h</th><th>i</th><th>o1</th><th>d1</th><th>o2</th><th>d2</th><th>o3</th></tr><tr><th></th><th>Int64</th><th>Float64</th><th>Float64</th><th>Float64</th><th>Float64</th><th>Float64</th><th>Float64</th><th>Float64</th></tr></thead><tbody><p>5 rows × 15 columns (omitted printing of 7 columns)</p><tr><th>1</th><td>1</td><td>0.25</td><td>1.12</td><td>0.0889899</td><td>0.0128064</td><td>-0.176374</td><td>0.185278</td><td>-0.115284</td></tr><tr><th>2</th><td>2</td><td>0.249549</td><td>1.12043</td><td>0.0857186</td><td>-0.00913713</td><td>-0.181279</td><td>0.159257</td><td>-0.11312</td></tr><tr><th>3</th><td>3</td><td>0.249604</td><td>1.12002</td><td>0.0854775</td><td>-0.00313757</td><td>-0.179036</td><td>0.156408</td><td>-0.112068</td></tr><tr><th>4</th><td>4</td><td>0.249303</td><td>1.11986</td><td>0.0799276</td><td>0.00251235</td><td>-0.175478</td><td>0.156417</td><td>-0.111289</td></tr><tr><th>5</th><td>5</td><td>0.249145</td><td>1.11957</td><td>0.0766632</td><td>-0.000407825</td><td>-0.173755</td><td>0.156237</td><td>-0.108445</td></tr></tbody></table>"
      ],
      "text/latex": [
       "\\begin{tabular}{r|ccccccccc}\n",
       "\t& day & h & i & o1 & d1 & o2 & d2 & o3 & \\\\\n",
       "\t\\hline\n",
       "\t& Int64 & Float64 & Float64 & Float64 & Float64 & Float64 & Float64 & Float64 & \\\\\n",
       "\t\\hline\n",
       "\t1 & 1 & 0.25 & 1.12 & 0.0889899 & 0.0128064 & -0.176374 & 0.185278 & -0.115284 & $\\dots$ \\\\\n",
       "\t2 & 2 & 0.249549 & 1.12043 & 0.0857186 & -0.00913713 & -0.181279 & 0.159257 & -0.11312 & $\\dots$ \\\\\n",
       "\t3 & 3 & 0.249604 & 1.12002 & 0.0854775 & -0.00313757 & -0.179036 & 0.156408 & -0.112068 & $\\dots$ \\\\\n",
       "\t4 & 4 & 0.249303 & 1.11986 & 0.0799276 & 0.00251235 & -0.175478 & 0.156417 & -0.111289 & $\\dots$ \\\\\n",
       "\t5 & 5 & 0.249145 & 1.11957 & 0.0766632 & -0.000407825 & -0.173755 & 0.156237 & -0.108445 & $\\dots$ \\\\\n",
       "\\end{tabular}\n"
      ],
      "text/plain": [
       "5×15 DataFrame. Omitted printing of 9 columns\n",
       "│ Row │ day   │ h        │ i       │ o1        │ d1           │ o2        │\n",
       "│     │ \u001b[90mInt64\u001b[39m │ \u001b[90mFloat64\u001b[39m  │ \u001b[90mFloat64\u001b[39m │ \u001b[90mFloat64\u001b[39m   │ \u001b[90mFloat64\u001b[39m      │ \u001b[90mFloat64\u001b[39m   │\n",
       "├─────┼───────┼──────────┼─────────┼───────────┼──────────────┼───────────┤\n",
       "│ 1   │ 1     │ 0.25     │ 1.12    │ 0.0889899 │ 0.0128064    │ -0.176374 │\n",
       "│ 2   │ 2     │ 0.249549 │ 1.12043 │ 0.0857186 │ -0.00913713  │ -0.181279 │\n",
       "│ 3   │ 3     │ 0.249604 │ 1.12002 │ 0.0854775 │ -0.00313757  │ -0.179036 │\n",
       "│ 4   │ 4     │ 0.249303 │ 1.11986 │ 0.0799276 │ 0.00251235   │ -0.175478 │\n",
       "│ 5   │ 5     │ 0.249145 │ 1.11957 │ 0.0766632 │ -0.000407825 │ -0.173755 │"
      ]
     },
     "execution_count": 6,
     "metadata": {},
     "output_type": "execute_result"
    }
   ],
   "source": [
    "first(latent_variables, 5)"
   ]
  },
  {
   "cell_type": "code",
   "execution_count": 7,
   "metadata": {},
   "outputs": [
    {
     "data": {
      "text/plain": [
       "\"ideal_games.csv\""
      ]
     },
     "execution_count": 7,
     "metadata": {},
     "output_type": "execute_result"
    }
   ],
   "source": [
    "using CSV\n",
    "CSV.write(\"ideal_games.csv\", games_full)"
   ]
  },
  {
   "cell_type": "code",
   "execution_count": 8,
   "metadata": {},
   "outputs": [
    {
     "data": {
      "text/plain": [
       "\"latent_variables.csv\""
      ]
     },
     "execution_count": 8,
     "metadata": {},
     "output_type": "execute_result"
    }
   ],
   "source": [
    "CSV.write(\"latent_variables.csv\", latent_variables)"
   ]
  },
  {
   "cell_type": "code",
   "execution_count": 9,
   "metadata": {},
   "outputs": [
    {
     "data": {
      "text/plain": [
       "latent_var_plot (generic function with 1 method)"
      ]
     },
     "execution_count": 9,
     "metadata": {},
     "output_type": "execute_result"
    }
   ],
   "source": [
    "function latent_var_plot(var_name)\n",
    "    ldays = latent_variables[:,:day]\n",
    "    ly = latent_variables[:,var_name]\n",
    "    plot(ldays, ly)\n",
    "end"
   ]
  },
  {
   "cell_type": "code",
   "execution_count": 10,
   "metadata": {},
   "outputs": [
    {
     "ename": "InterruptException",
     "evalue": "InterruptException:",
     "output_type": "error",
     "traceback": [
      "InterruptException:",
      "",
      "Stacktrace:",
      " [1] GridLayout at /home/everett/.julia/packages/Plots/mXrnb/src/layouts.jl:271 [inlined]",
      " [2] layout_args(::Int64) at /home/everett/.julia/packages/Plots/mXrnb/src/layouts.jl:479",
      " [3] layout_args(::RecipesPipeline.DefaultsDict) at /home/everett/.julia/packages/Plots/mXrnb/src/layouts.jl:466",
      " [4] build_layout(::RecipesPipeline.DefaultsDict) at /home/everett/.julia/packages/Plots/mXrnb/src/layouts.jl:524",
      " [5] _plot_setup(::Plots.Plot{Plots.GRBackend}, ::Dict{Symbol,Any}, ::Array{Dict{Symbol,Any},1}) at /home/everett/.julia/packages/Plots/mXrnb/src/pipeline.jl:188",
      " [6] plot_setup! at /home/everett/.julia/packages/Plots/mXrnb/src/pipeline.jl:156 [inlined]",
      " [7] recipe_pipeline!(::Plots.Plot{Plots.GRBackend}, ::Dict{Symbol,Any}, ::Tuple{Array{Int64,1},Array{Float64,1}}) at /home/everett/.julia/packages/RecipesPipeline/5RD7m/src/RecipesPipeline.jl:85",
      " [8] _plot!(::Plots.Plot{Plots.GRBackend}, ::Dict{Symbol,Any}, ::Tuple{Array{Int64,1},Array{Float64,1}}) at /home/everett/.julia/packages/Plots/mXrnb/src/plot.jl:167",
      " [9] plot(::Array{Int64,1}, ::Vararg{Any,N} where N; kw::Base.Iterators.Pairs{Union{},Union{},Tuple{},NamedTuple{(),Tuple{}}}) at /home/everett/.julia/packages/Plots/mXrnb/src/plot.jl:57",
      " [10] plot(::Array{Int64,1}, ::Array{Float64,1}) at /home/everett/.julia/packages/Plots/mXrnb/src/plot.jl:51",
      " [11] latent_var_plot(::Symbol) at ./In[9]:4",
      " [12] top-level scope at In[10]:1"
     ]
    }
   ],
   "source": [
    "latent_var_plot(:h)"
   ]
  },
  {
   "cell_type": "code",
   "execution_count": null,
   "metadata": {},
   "outputs": [],
   "source": []
  },
  {
   "cell_type": "code",
   "execution_count": null,
   "metadata": {},
   "outputs": [],
   "source": []
  },
  {
   "cell_type": "code",
   "execution_count": null,
   "metadata": {},
   "outputs": [],
   "source": []
  }
 ],
 "metadata": {
  "kernelspec": {
   "display_name": "Julia 1.4.1",
   "language": "julia",
   "name": "julia-1.4"
  },
  "language_info": {
   "file_extension": ".jl",
   "mimetype": "application/julia",
   "name": "julia",
   "version": "1.4.2"
  }
 },
 "nbformat": 4,
 "nbformat_minor": 4
}
