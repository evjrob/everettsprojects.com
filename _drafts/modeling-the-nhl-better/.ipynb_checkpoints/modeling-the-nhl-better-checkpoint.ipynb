{
 "cells": [
  {
   "cell_type": "markdown",
   "metadata": {},
   "source": [
    "### Why?\n",
    "\n",
    "https://www.youtube.com/watch?v=0g3pL4Y9MII\n",
    "\n",
    "Im my previous post on modeling the NHL, I adapted a bayesian network to the task of estmating team offensive and defensive stregnths and predicting outcomes of future games. This model modeled the scores during regulation time as a poisson distribution dependent on the team paramters.The probability of winning in overtime or shoot out meanwhile was estimated as an independent distribution based on the outcomes of all previous games between the two teams.\n",
    "\n",
    "\n"
   ]
  }
 ],
 "metadata": {
  "kernelspec": {
   "display_name": "Python 3",
   "language": "python",
   "name": "python3"
  },
  "language_info": {
   "codemirror_mode": {
    "name": "ipython",
    "version": 3
   },
   "file_extension": ".py",
   "mimetype": "text/x-python",
   "name": "python",
   "nbconvert_exporter": "python",
   "pygments_lexer": "ipython3",
   "version": "3.6.7"
  }
 },
 "nbformat": 4,
 "nbformat_minor": 2
}
