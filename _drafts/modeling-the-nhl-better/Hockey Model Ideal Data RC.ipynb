{
 "cells": [
  {
   "cell_type": "code",
   "execution_count": null,
   "metadata": {},
   "outputs": [],
   "source": [
    "import numpy as np\n",
    "import pandas as pd\n",
    "import pymc3 as pm\n",
    "import theano.tensor as tt\n",
    "import theano\n",
    "from scipy.stats import norm, invgamma\n",
    "from tqdm.notebook import tqdm\n",
    "\n",
    "import seaborn as sns\n",
    "import matplotlib.pyplot as plt\n",
    "\n",
    "import pickle\n",
    "import logging\n",
    "logger = logging.getLogger(\"pymc3\")\n",
    "logger.setLevel(logging.INFO)\n",
    "logger = logging.getLogger(\"theano\")\n",
    "logger.setLevel(logging.ERROR)\n",
    "\n",
    "np.random.seed(12345)"
   ]
  },
  {
   "cell_type": "markdown",
   "metadata": {},
   "source": [
    "### Generate Ideal Data"
   ]
  },
  {
   "cell_type": "code",
   "execution_count": null,
   "metadata": {},
   "outputs": [],
   "source": [
    "n_days = 400\n",
    "n_teams = 32\n",
    "gpd = 8"
   ]
  },
  {
   "cell_type": "code",
   "execution_count": null,
   "metadata": {},
   "outputs": [],
   "source": [
    "lv_df = pd.read_csv('results/lv_df.csv')\n",
    "games = pd.read_csv('results/games.csv')"
   ]
  },
  {
   "cell_type": "markdown",
   "metadata": {},
   "source": [
    "### Model 1: Daily Updates, No Deltas"
   ]
  },
  {
   "cell_type": "code",
   "execution_count": null,
   "metadata": {},
   "outputs": [],
   "source": [
    "def get_m1_posteriors(trace):\n",
    "    posteriors = {}\n",
    "    h_μ, h_σ = norm.fit(trace['h'])\n",
    "    posteriors['h'] = [h_μ, h_σ]\n",
    "    i_μ, i_σ = norm.fit(trace['i'])\n",
    "    posteriors['i'] = [i_μ, i_σ]\n",
    "    o_μ = []\n",
    "    o_σ = []\n",
    "    d_μ = []\n",
    "    d_σ = []\n",
    "    for i in range(n_teams):\n",
    "        oᵢ_μ, oᵢ_σ = norm.fit(trace['o'][:,i])\n",
    "        o_μ.append(oᵢ_μ)\n",
    "        o_σ.append(oᵢ_σ)\n",
    "        dᵢ_μ, dᵢ_σ = norm.fit(trace['d'][:,i])\n",
    "        d_μ.append(dᵢ_μ)\n",
    "        d_σ.append(dᵢ_σ)\n",
    "    posteriors['o'] = [np.array(o_μ), np.array(o_σ)]\n",
    "    posteriors['d'] = [np.array(d_μ), np.array(d_σ)]\n",
    "    \n",
    "    # Unified o and d variances\n",
    "    #o_σ_α, _, o_σ_β = invgamma.fit(trace['o_σ'])\n",
    "    #posteriors['o_σ'] = [o_σ_α, o_σ_β]\n",
    "    #d_σ_α, _, d_σ_β = invgamma.fit(trace['d_σ'])\n",
    "    #posteriors['d_σ'] = [d_σ_α, d_σ_β]\n",
    "    return posteriors\n",
    "\n",
    "def fatten_priors(prev_posteriors, init_priors, ratio):\n",
    "    priors = prev_posteriors.copy()\n",
    "    priors['h'][1] = np.minimum(priors['h'][1] * ratio, init_priors['h'][1] * ratio)\n",
    "    priors['i'][1] = np.minimum(priors['i'][1] * ratio, init_priors['i'][1] * ratio)\n",
    "    priors['o'][1] = np.minimum(priors['o'][1] * ratio, init_priors['o'][1] * ratio)\n",
    "    priors['d'][1] = np.minimum(priors['d'][1] * ratio, init_priors['d'][1] * ratio)\n",
    "    #priors['o_σ'][1] = priors['o_σ'][1] * ratio\n",
    "    #priors['d_σ'][1] = priors['d_σ'][1] * ratio\n",
    "    return priors\n",
    "\n",
    "def m1_iteration(obs_data, priors):\n",
    "    idₕ = obs_data['idₕ'].to_numpy()\n",
    "    sₕ_obs = obs_data['sₕ'].to_numpy()\n",
    "    idₐ = obs_data['idₐ'].to_numpy()\n",
    "    sₐ_obs = obs_data['sₐ'].to_numpy()\n",
    "    hw_obs = obs_data['hw'].to_numpy()\n",
    "    \n",
    "    with pm.Model() as model:\n",
    "        # Global model parameters\n",
    "        h = pm.Normal('h', mu=priors['h'][0], sigma=priors['h'][1])\n",
    "        i = pm.Normal('i', mu=priors['i'][0], sigma=priors['i'][1])\n",
    "\n",
    "        # Team-specific poisson model parameters\n",
    "        o_star = pm.Normal('o_star', mu=priors['o'][0], sigma=priors['o'][1], shape=n_teams)\n",
    "        d_star = pm.Normal('d_star', mu=priors['d'][0], sigma=priors['d'][1], shape=n_teams)\n",
    "        o = pm.Deterministic('o', o_star - tt.mean(o_star))\n",
    "        d = pm.Deterministic('d', d_star - tt.mean(d_star))\n",
    "        λₕ = tt.exp(i + h + o[idₕ] - d[idₐ])\n",
    "        λₐ = tt.exp(i + o[idₐ] - d[idₕ])\n",
    "\n",
    "        # OT/SO home win bernoulli model parameter\n",
    "        # P(T < Y), where T ~ a, Y ~ b: a/(a + b)\n",
    "        pₕ = λₕ/(λₕ + λₐ)\n",
    "        \n",
    "        # Likelihood of observed data\n",
    "        sₕ = pm.Poisson('sₕ', mu=λₕ, observed=sₕ_obs)\n",
    "        sₐ = pm.Poisson('sₐ', mu=λₐ, observed=sₐ_obs)\n",
    "        hw = pm.Bernoulli('hw', p=pₕ, observed=hw_obs)\n",
    "\n",
    "        trace = pm.sample(500, tune=500, cores=2, progressbar=True)\n",
    "        \n",
    "        posteriors = get_m1_posteriors(trace)\n",
    "        return posteriors"
   ]
  },
  {
   "cell_type": "code",
   "execution_count": null,
   "metadata": {},
   "outputs": [],
   "source": [
    "start_day = 170"
   ]
  },
  {
   "cell_type": "code",
   "execution_count": null,
   "metadata": {},
   "outputs": [],
   "source": [
    "starting_priors = pickle.load(open('results/starting_priors.pkl', 'rb'))"
   ]
  },
  {
   "cell_type": "code",
   "execution_count": null,
   "metadata": {
    "scrolled": true
   },
   "outputs": [],
   "source": [
    "window_sizes = [1] #[30, 60, 90]\n",
    "fattening_factors = [1.5] #, 1.001, 1.01]\n",
    "\n",
    "for ws in window_sizes:\n",
    "    for f in fattening_factors:\n",
    "        print('ws:{} and f:{}'.format(ws, f))\n",
    "        priors = starting_priors.copy()\n",
    "        iv1_rows = []\n",
    "        for t in tqdm(range(start_day, n_days+1)):\n",
    "            obs_data = games[((games['day'] <= t) & (games['day'] > (t - ws)))]\n",
    "            posteriors = m1_iteration(obs_data, priors);\n",
    "            iv_row = posteriors['h'] + posteriors['i'] + list(posteriors['o'][0]) + list(posteriors['o'][1]) + \\\n",
    "                     list(posteriors['d'][0]) + list(posteriors['d'][1])\n",
    "            iv1_rows.append(iv_row)\n",
    "            priors = fatten_priors(posteriors, starting_priors, f)\n",
    "        \n",
    "        col_names = ['h_μ', 'h_σ', 'i_μ', 'i_σ'] + ['o{}_μ'.format(i) for i in range(n_teams)] + \\\n",
    "                    ['o{}_σ'.format(i) for i in range(n_teams)] + ['d{}_μ'.format(i) for i in range(n_teams)] + \\\n",
    "                    ['d{}_σ'.format(i) for i in range(n_teams)]\n",
    "        iv1_df = pd.DataFrame(iv1_rows, columns=col_names)\n",
    "        iv1_df['day'] = list(range(start_day, start_day+len(iv1_rows)))\n",
    "        iv1_df.to_csv('results/m1_{}d_f{}_iv_df.csv'.format(ws, f))"
   ]
  },
  {
   "cell_type": "code",
   "execution_count": null,
   "metadata": {},
   "outputs": [],
   "source": [
    "col_names = ['h_μ', 'h_σ', 'i_μ', 'i_σ'] + ['o{}_μ'.format(i) for i in range(n_teams)] + \\\n",
    "            ['o{}_σ'.format(i) for i in range(n_teams)] + ['d{}_μ'.format(i) for i in range(n_teams)] + \\\n",
    "            ['d{}_σ'.format(i) for i in range(n_teams)]"
   ]
  },
  {
   "cell_type": "code",
   "execution_count": null,
   "metadata": {},
   "outputs": [],
   "source": [
    "def plot_parameter_estimate(param):\n",
    "    plt.figure(figsize=(10, 6))\n",
    "    plt.title('Estimates for: ' + param)\n",
    "    plt.plot(lv_df['day'], lv_df[param], color='blue')\n",
    "    plt.plot(iv1_df['day'], iv1_df[param+'_μ'], color='red')\n",
    "    upper1sd = iv1_df[param+'_μ'] + iv1_df[param+'_σ']\n",
    "    lower1sd = iv1_df[param+'_μ'] - iv1_df[param+'_σ']\n",
    "    upper2sd = iv1_df[param+'_μ'] + 2 * iv1_df[param+'_σ']\n",
    "    lower2sd = iv1_df[param+'_μ'] - 2 * iv1_df[param+'_σ']\n",
    "    plt.fill_between(iv1_df['day'], upper2sd, lower2sd, color='red', alpha=0.2)\n",
    "    plt.fill_between(iv1_df['day'], upper1sd, lower1sd, color='red', alpha=0.2)\n",
    "    plt.show()"
   ]
  },
  {
   "cell_type": "code",
   "execution_count": null,
   "metadata": {},
   "outputs": [],
   "source": [
    "def plot_multi_parameter_estimate(param_list, y_lim=(-0.6, 0.6), grid_lines=0.10):\n",
    "    imgsize = 4\n",
    "    figsize = (15,15)\n",
    "    rows = int(np.ceil(np.sqrt(len(param_list))))\n",
    "    fig, axs = plt.subplots(rows, rows, figsize=figsize)\n",
    "    ax = axs.flatten()\n",
    "    for i in range(len(param_list)):\n",
    "        param = param_list[i]\n",
    "        ax[i].set_title('Estimates for: ' + param)\n",
    "        ax[i].plot(lv_df['day'], lv_df[param], color='blue')\n",
    "        ax[i].plot(iv1_df['day'], iv1_df[param+'_μ'], color='red')\n",
    "        upper1sd = iv1_df[param+'_μ'] + iv1_df[param+'_σ']\n",
    "        lower1sd = iv1_df[param+'_μ'] - iv1_df[param+'_σ']\n",
    "        upper2sd = iv1_df[param+'_μ'] + 2 * iv1_df[param+'_σ']\n",
    "        lower2sd = iv1_df[param+'_μ'] - 2 * iv1_df[param+'_σ']\n",
    "        ax[i].fill_between(iv1_df['day'], upper2sd, lower2sd, color='red', alpha=0.2)\n",
    "        ax[i].fill_between(iv1_df['day'], upper1sd, lower1sd, color='red', alpha=0.2)\n",
    "        for y in np.arange(y_lim[0] + grid_lines, y_lim[1], grid_lines):\n",
    "            ax[i].hlines(y, 1, n_days, colors='k', linestyles='dotted', alpha=0.4)\n",
    "        ax[i].set_ylim(y_lim[0], y_lim[1])\n",
    "        \n",
    "    fig.tight_layout()\n",
    "    plt.show()"
   ]
  },
  {
   "cell_type": "code",
   "execution_count": null,
   "metadata": {
    "scrolled": false
   },
   "outputs": [],
   "source": [
    "plot_parameter_estimate('i')"
   ]
  },
  {
   "cell_type": "code",
   "execution_count": null,
   "metadata": {
    "scrolled": false
   },
   "outputs": [],
   "source": [
    "plot_parameter_estimate('h')"
   ]
  },
  {
   "cell_type": "code",
   "execution_count": null,
   "metadata": {},
   "outputs": [],
   "source": [
    "plot_multi_parameter_estimate(['o{}'.format(i) for i in range(32)])"
   ]
  },
  {
   "cell_type": "code",
   "execution_count": null,
   "metadata": {},
   "outputs": [],
   "source": [
    "plot_multi_parameter_estimate(['d{}'.format(i) for i in range(32)])"
   ]
  },
  {
   "cell_type": "code",
   "execution_count": null,
   "metadata": {},
   "outputs": [],
   "source": [
    "plot_parameter_estimate('o4')"
   ]
  },
  {
   "cell_type": "code",
   "execution_count": null,
   "metadata": {},
   "outputs": [],
   "source": [
    "plot_parameter_estimate('o19')"
   ]
  },
  {
   "cell_type": "code",
   "execution_count": null,
   "metadata": {},
   "outputs": [],
   "source": [
    "plot_parameter_estimate('d10')"
   ]
  },
  {
   "cell_type": "code",
   "execution_count": null,
   "metadata": {},
   "outputs": [],
   "source": [
    "plot_parameter_estimate('d2')"
   ]
  },
  {
   "cell_type": "code",
   "execution_count": null,
   "metadata": {},
   "outputs": [],
   "source": []
  },
  {
   "cell_type": "code",
   "execution_count": null,
   "metadata": {},
   "outputs": [],
   "source": []
  }
 ],
 "metadata": {
  "kernelspec": {
   "display_name": "Python 3",
   "language": "python",
   "name": "python3"
  },
  "language_info": {
   "codemirror_mode": {
    "name": "ipython",
    "version": 3
   },
   "file_extension": ".py",
   "mimetype": "text/x-python",
   "name": "python",
   "nbconvert_exporter": "python",
   "pygments_lexer": "ipython3",
   "version": "3.8.3"
  }
 },
 "nbformat": 4,
 "nbformat_minor": 4
}
