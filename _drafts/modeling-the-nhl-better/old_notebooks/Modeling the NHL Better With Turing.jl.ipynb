{
 "cells": [
  {
   "cell_type": "code",
   "execution_count": 23,
   "metadata": {
    "tags": []
   },
   "outputs": [
    {
     "data": {
      "text/plain": [
       "1234"
      ]
     },
     "execution_count": 23,
     "metadata": {},
     "output_type": "execute_result"
    }
   ],
   "source": [
    "using CSV\n",
    "using Random\n",
    "using Turing\n",
    "using DataFrames\n",
    "using Distributions\n",
    "using Plots\n",
    "using StatsPlots\n",
    "using MCMCChains\n",
    "using StatsFuns\n",
    "using ReverseDiff\n",
    "using Memoization\n",
    "using SpecialFunctions\n",
    "\n",
    "seed = 1234"
   ]
  },
  {
   "cell_type": "code",
   "execution_count": 2,
   "metadata": {},
   "outputs": [],
   "source": [
    "path = \"/home/everett/Development/everettsprojects.com/_drafts/modeling-the-nhl-better/\"\n",
    "games_full = CSV.File(path*\"ideal_games.csv\") |> DataFrame!\n",
    "latent_variables = CSV.File(path*\"latent_variables.csv\") |> DataFrame!\n",
    "n_teams = maximum([maximum(games_full[:,:home_id]), maximum(games_full[:,:away_id])])\n",
    ";"
   ]
  },
  {
   "cell_type": "code",
   "execution_count": 3,
   "metadata": {},
   "outputs": [
    {
     "data": {
      "text/plain": [
       "6"
      ]
     },
     "execution_count": 3,
     "metadata": {},
     "output_type": "execute_result"
    }
   ],
   "source": [
    "n_teams"
   ]
  },
  {
   "cell_type": "markdown",
   "metadata": {},
   "source": [
    "### Model"
   ]
  },
  {
   "cell_type": "code",
   "execution_count": 4,
   "metadata": {},
   "outputs": [
    {
     "data": {
      "text/plain": [
       "true"
      ]
     },
     "execution_count": 4,
     "metadata": {},
     "output_type": "execute_result"
    }
   ],
   "source": [
    "Turing.setadbackend(:reversediff)\n",
    "Turing.setrdcache(true)"
   ]
  },
  {
   "cell_type": "code",
   "execution_count": 5,
   "metadata": {},
   "outputs": [],
   "source": [
    "# https://github.com/StatisticalRethinkingJulia/MCMCBenchmarks.jl/pull/39\n",
    "struct LogPoisson{T<:Real} <: Distributions.DiscreteUnivariateDistribution\n",
    "    logλ::T\n",
    "end\n",
    "\n",
    "function Distributions.logpdf(lp::LogPoisson, k::Int)\n",
    "    return k * lp.logλ - exp(lp.logλ) - (logabsgamma(k + 1))[1]\n",
    "end\n",
    "\n",
    "# https://github.com/JuliaStats/Distributions.jl/issues/1070\n",
    "function Distributions.fit_mle(::Type{<:InverseGamma}, x::AbstractArray{Float64})\n",
    "    fg = fit(Gamma, x.^(-1))\n",
    "    return InverseGamma(fg.α, 1/fg.θ)\n",
    "end"
   ]
  },
  {
   "cell_type": "code",
   "execution_count": 6,
   "metadata": {},
   "outputs": [],
   "source": [
    "# Define an equivalent to my PyMC3 model\n",
    "@model function nhl_inference(idₕ, idₐ, sₕ, sₐ, hw, p)\n",
    "    h ~ Normal(p[:h][1], p[:h][2])\n",
    "    i ~ Normal(p[:i][1], p[:i][2])\n",
    "    o ~ arraydist(Normal.(p[:o][1], p[:o][2]))\n",
    "    d ~ arraydist(Normal.(p[:d][1], p[:d][2]))\n",
    "    o₀ = o .- mean(mean.(o))\n",
    "    d₀ = d .- mean(mean.(d))\n",
    "    log_λₕ = i .+ h .+ o₀[idₕ] .- d₀[idₐ]\n",
    "    log_λₐ = i .+ o₀[idₐ] .- d₀[idₕ]\n",
    "    sₕ .~ LogPoisson.(log_λₕ)\n",
    "    sₐ .~ LogPoisson.(log_λₐ)\n",
    "    ℓ = logistic.(log_λₕ .- log_λₐ)\n",
    "    hw .~ BernoulliLogit.(ℓ)\n",
    "end\n",
    ";"
   ]
  },
  {
   "cell_type": "code",
   "execution_count": 7,
   "metadata": {},
   "outputs": [],
   "source": [
    "# Define an equivalent to my PyMC3 model\n",
    "#@model function nhl_inference(idₕ, idₐ, sₕ, sₐ, hw, p)\n",
    "#    h ~ Normal(p[:h][1], p[:h][2])\n",
    "#    i ~ Normal(p[:i][1], p[:i][2])\n",
    "#    o ~ arraydist(Normal.(p[:o][1], p[:o][2]))\n",
    "#    d ~ arraydist(Normal.(p[:d][1], p[:d][2]))\n",
    "#    o₀ = o .- mean(mean.(o))\n",
    "#    d₀ = d .- mean(mean.(d))\n",
    "#    log_λₕ = i .+ h .+ o₀[idₕ] .- d₀[idₐ]\n",
    "#    log_λₐ = i .+ o₀[idₐ] .- d₀[idₕ]\n",
    "#    sₕ .~ LogPoisson.(log_λₕ)\n",
    "#    sₐ .~ LogPoisson.(log_λₐ)\n",
    "#    ℓ = logistic.(log_λₕ .- log_λₐ)\n",
    "#    hw .~ BernoulliLogit.(ℓ)\n",
    "#end\n",
    "#;"
   ]
  },
  {
   "cell_type": "code",
   "execution_count": 8,
   "metadata": {},
   "outputs": [
    {
     "data": {
      "text/plain": [
       "get_posterior_μ (generic function with 1 method)"
      ]
     },
     "execution_count": 8,
     "metadata": {},
     "output_type": "execute_result"
    }
   ],
   "source": [
    "function get_posteriors(chain, n_teams)\n",
    "    chdf = DataFrame(chain)\n",
    "    p = Dict()\n",
    "    h_mle = fit_mle(Normal, chdf[:,\"h\"])\n",
    "    p[:h] = (h_mle.μ, h_mle.σ)\n",
    "    i_mle = fit_mle(Normal, chdf[:,\"i\"])\n",
    "    p[:i] = (i_mle.μ, i_mle.σ)\n",
    "    p[:o] = ([], [])\n",
    "    p[:d] = ([], [])\n",
    "    for t = 1:n_teams\n",
    "        o_mle = fit_mle(Normal, chdf[:,\"o[$(t)]\"])\n",
    "        push!(p[:o][1], o_mle.μ)\n",
    "        push!(p[:o][2], o_mle.σ)\n",
    "        d_mle = fit_mle(Normal, chdf[:,\"d[$(t)]\"])\n",
    "        push!(p[:d][1], d_mle.μ)\n",
    "        push!(p[:d][2], d_mle.σ)\n",
    "    end\n",
    "    return p\n",
    "end\n",
    "\n",
    "function get_posterior_μ(posteriors)\n",
    "    p = [posteriors[:h][1], posteriors[:i][1]]\n",
    "    p = vcat(p, posteriors[:o][1])\n",
    "    p = vcat(p, posteriors[:d][1])\n",
    "    return p\n",
    "end\n",
    "\n",
    "function fatten_priors(priors)\n",
    "    p = [posteriors[:h][1], posteriors[:i][1]]\n",
    "    p = vcat(p, posteriors[:o][1])\n",
    "    p = vcat(p, posteriors[:d][1])\n",
    "    return p\n",
    "end"
   ]
  },
  {
   "cell_type": "code",
   "execution_count": 9,
   "metadata": {},
   "outputs": [
    {
     "data": {
      "text/plain": [
       "6-element Array{Float64,1}:\n",
       "  0.012806443451512646\n",
       "  0.1852782957725545\n",
       " -0.08277634318169205\n",
       "  0.011009612632217553\n",
       " -0.02511757400198831\n",
       "  0.03697140350317454"
      ]
     },
     "execution_count": 9,
     "metadata": {},
     "output_type": "execute_result"
    }
   ],
   "source": [
    "o_init = [latent_variables[1, \"o$(t)\"] for t in 1:n_teams]\n",
    "d_init = [latent_variables[1, \"d$(t)\"] for t in 1:n_teams]"
   ]
  },
  {
   "cell_type": "code",
   "execution_count": 10,
   "metadata": {
    "scrolled": true,
    "tags": []
   },
   "outputs": [
    {
     "name": "stderr",
     "output_type": "stream",
     "text": [
      "┌ Warning: `setindex!(df::DataFrame, v::AbstractVector, col_ind::ColumnIndex)` is deprecated, use `begin\n",
      "│     df[!, col_ind] = v\n",
      "│     df\n",
      "│ end` instead.\n",
      "│   caller = top-level scope at In[10]:18\n",
      "└ @ Core ./In[10]:18\n",
      "┌ Warning: `setindex!(df::DataFrame, v::AbstractVector, col_ind::ColumnIndex)` is deprecated, use `begin\n",
      "│     df[!, col_ind] = v\n",
      "│     df\n",
      "│ end` instead.\n",
      "│   caller = top-level scope at In[10]:19\n",
      "└ @ Core ./In[10]:19\n"
     ]
    },
    {
     "name": "stdout",
     "output_type": "stream",
     "text": [
      "1\n"
     ]
    },
    {
     "name": "stderr",
     "output_type": "stream",
     "text": [
      "┌ Info: Found initial step size\n",
      "│   ϵ = 0.0001953125\n",
      "└ @ Turing.Inference /home/everett/.julia/packages/Turing/GMBTf/src/inference/hmc.jl:629\n",
      "\u001b[32mSampling: 100%|█████████████████████████████████████████| Time: 0:00:38\u001b[39m\n"
     ]
    },
    {
     "name": "stdout",
     "output_type": "stream",
     "text": [
      "2\n"
     ]
    },
    {
     "name": "stderr",
     "output_type": "stream",
     "text": [
      "┌ Info: Found initial step size\n",
      "│   ϵ = 0.000390625\n",
      "└ @ Turing.Inference /home/everett/.julia/packages/Turing/GMBTf/src/inference/hmc.jl:629\n",
      "\u001b[32mSampling: 100%|█████████████████████████████████████████| Time: 0:00:26\u001b[39m\n"
     ]
    },
    {
     "name": "stdout",
     "output_type": "stream",
     "text": [
      "3\n"
     ]
    },
    {
     "name": "stderr",
     "output_type": "stream",
     "text": [
      "┌ Info: Found initial step size\n",
      "│   ϵ = 0.0005859375000000001\n",
      "└ @ Turing.Inference /home/everett/.julia/packages/Turing/GMBTf/src/inference/hmc.jl:629\n",
      "\u001b[32mSampling: 100%|█████████████████████████████████████████| Time: 0:00:26\u001b[39m\n"
     ]
    },
    {
     "name": "stdout",
     "output_type": "stream",
     "text": [
      "4\n"
     ]
    },
    {
     "name": "stderr",
     "output_type": "stream",
     "text": [
      "┌ Info: Found initial step size\n",
      "│   ϵ = 0.0007690429687500001\n",
      "└ @ Turing.Inference /home/everett/.julia/packages/Turing/GMBTf/src/inference/hmc.jl:629\n",
      "\u001b[32mSampling: 100%|█████████████████████████████████████████| Time: 0:00:23\u001b[39m\n"
     ]
    },
    {
     "name": "stdout",
     "output_type": "stream",
     "text": [
      "5\n"
     ]
    },
    {
     "name": "stderr",
     "output_type": "stream",
     "text": [
      "┌ Info: Found initial step size\n",
      "│   ϵ = 0.00078125\n",
      "└ @ Turing.Inference /home/everett/.julia/packages/Turing/GMBTf/src/inference/hmc.jl:629\n",
      "\u001b[32mSampling: 100%|█████████████████████████████████████████| Time: 0:00:30\u001b[39m\n"
     ]
    },
    {
     "name": "stdout",
     "output_type": "stream",
     "text": [
      "6\n"
     ]
    },
    {
     "name": "stderr",
     "output_type": "stream",
     "text": [
      "┌ Info: Found initial step size\n",
      "│   ϵ = 0.00078125\n",
      "└ @ Turing.Inference /home/everett/.julia/packages/Turing/GMBTf/src/inference/hmc.jl:629\n",
      "\u001b[32mSampling: 100%|█████████████████████████████████████████| Time: 0:00:13\u001b[39m\n"
     ]
    },
    {
     "name": "stdout",
     "output_type": "stream",
     "text": [
      "7\n"
     ]
    },
    {
     "name": "stderr",
     "output_type": "stream",
     "text": [
      "┌ Info: Found initial step size\n",
      "│   ϵ = 0.000732421875\n",
      "└ @ Turing.Inference /home/everett/.julia/packages/Turing/GMBTf/src/inference/hmc.jl:629\n",
      "\u001b[32mSampling: 100%|█████████████████████████████████████████| Time: 0:00:28\u001b[39m\n"
     ]
    },
    {
     "name": "stdout",
     "output_type": "stream",
     "text": [
      "8\n"
     ]
    },
    {
     "name": "stderr",
     "output_type": "stream",
     "text": [
      "┌ Info: Found initial step size\n",
      "│   ϵ = 0.000390625\n",
      "└ @ Turing.Inference /home/everett/.julia/packages/Turing/GMBTf/src/inference/hmc.jl:629\n",
      "\u001b[32mSampling: 100%|█████████████████████████████████████████| Time: 0:00:05\u001b[39m\n"
     ]
    },
    {
     "name": "stdout",
     "output_type": "stream",
     "text": [
      "9\n"
     ]
    },
    {
     "name": "stderr",
     "output_type": "stream",
     "text": [
      "┌ Info: Found initial step size\n",
      "│   ϵ = 0.0009765625\n",
      "└ @ Turing.Inference /home/everett/.julia/packages/Turing/GMBTf/src/inference/hmc.jl:629\n",
      "\u001b[32mSampling: 100%|█████████████████████████████████████████| Time: 0:00:14\u001b[39m\n"
     ]
    },
    {
     "name": "stdout",
     "output_type": "stream",
     "text": [
      "10\n"
     ]
    },
    {
     "name": "stderr",
     "output_type": "stream",
     "text": [
      "┌ Info: Found initial step size\n",
      "│   ϵ = 0.000390625\n",
      "└ @ Turing.Inference /home/everett/.julia/packages/Turing/GMBTf/src/inference/hmc.jl:629\n",
      "\u001b[32mSampling: 100%|█████████████████████████████████████████| Time: 0:00:36\u001b[39m\n"
     ]
    },
    {
     "name": "stdout",
     "output_type": "stream",
     "text": [
      "11\n"
     ]
    },
    {
     "name": "stderr",
     "output_type": "stream",
     "text": [
      "┌ Info: Found initial step size\n",
      "│   ϵ = 0.00078125\n",
      "└ @ Turing.Inference /home/everett/.julia/packages/Turing/GMBTf/src/inference/hmc.jl:629\n",
      "\u001b[32mSampling: 100%|█████████████████████████████████████████| Time: 0:00:15\u001b[39m\n"
     ]
    },
    {
     "name": "stdout",
     "output_type": "stream",
     "text": [
      "12\n"
     ]
    },
    {
     "name": "stderr",
     "output_type": "stream",
     "text": [
      "┌ Info: Found initial step size\n",
      "│   ϵ = 0.0001953125\n",
      "└ @ Turing.Inference /home/everett/.julia/packages/Turing/GMBTf/src/inference/hmc.jl:629\n",
      "\u001b[32mSampling: 100%|█████████████████████████████████████████| Time: 0:00:21\u001b[39m\n"
     ]
    },
    {
     "name": "stdout",
     "output_type": "stream",
     "text": [
      "13\n"
     ]
    },
    {
     "name": "stderr",
     "output_type": "stream",
     "text": [
      "┌ Info: Found initial step size\n",
      "│   ϵ = 0.00078125\n",
      "└ @ Turing.Inference /home/everett/.julia/packages/Turing/GMBTf/src/inference/hmc.jl:629\n",
      "\u001b[32mSampling: 100%|█████████████████████████████████████████| Time: 0:00:32\u001b[39m\n"
     ]
    },
    {
     "name": "stdout",
     "output_type": "stream",
     "text": [
      "14\n"
     ]
    },
    {
     "name": "stderr",
     "output_type": "stream",
     "text": [
      "┌ Info: Found initial step size\n",
      "│   ϵ = 0.00078125\n",
      "└ @ Turing.Inference /home/everett/.julia/packages/Turing/GMBTf/src/inference/hmc.jl:629\n",
      "\u001b[32mSampling: 100%|█████████████████████████████████████████| Time: 0:00:13\u001b[39m\n"
     ]
    },
    {
     "name": "stdout",
     "output_type": "stream",
     "text": [
      "15\n"
     ]
    },
    {
     "name": "stderr",
     "output_type": "stream",
     "text": [
      "┌ Info: Found initial step size\n",
      "│   ϵ = 0.0005859375000000001\n",
      "└ @ Turing.Inference /home/everett/.julia/packages/Turing/GMBTf/src/inference/hmc.jl:629\n",
      "\u001b[32mSampling: 100%|█████████████████████████████████████████| Time: 0:00:20\u001b[39m\n"
     ]
    },
    {
     "name": "stdout",
     "output_type": "stream",
     "text": [
      "16\n"
     ]
    },
    {
     "name": "stderr",
     "output_type": "stream",
     "text": [
      "┌ Info: Found initial step size\n",
      "│   ϵ = 0.000390625\n",
      "└ @ Turing.Inference /home/everett/.julia/packages/Turing/GMBTf/src/inference/hmc.jl:629\n",
      "\u001b[32mSampling: 100%|█████████████████████████████████████████| Time: 0:00:39\u001b[39m\n"
     ]
    },
    {
     "name": "stdout",
     "output_type": "stream",
     "text": [
      "17\n"
     ]
    },
    {
     "name": "stderr",
     "output_type": "stream",
     "text": [
      "┌ Info: Found initial step size\n",
      "│   ϵ = 0.0015625\n",
      "└ @ Turing.Inference /home/everett/.julia/packages/Turing/GMBTf/src/inference/hmc.jl:629\n",
      "\u001b[32mSampling: 100%|█████████████████████████████████████████| Time: 0:00:27\u001b[39m\n"
     ]
    },
    {
     "name": "stdout",
     "output_type": "stream",
     "text": [
      "18\n"
     ]
    },
    {
     "name": "stderr",
     "output_type": "stream",
     "text": [
      "┌ Info: Found initial step size\n",
      "│   ϵ = 0.00078125\n",
      "└ @ Turing.Inference /home/everett/.julia/packages/Turing/GMBTf/src/inference/hmc.jl:629\n",
      "\u001b[32mSampling: 100%|█████████████████████████████████████████| Time: 0:00:25\u001b[39m\n"
     ]
    },
    {
     "name": "stdout",
     "output_type": "stream",
     "text": [
      "19\n"
     ]
    },
    {
     "name": "stderr",
     "output_type": "stream",
     "text": [
      "┌ Info: Found initial step size\n",
      "│   ϵ = 0.000390625\n",
      "└ @ Turing.Inference /home/everett/.julia/packages/Turing/GMBTf/src/inference/hmc.jl:629\n",
      "\u001b[32mSampling: 100%|█████████████████████████████████████████| Time: 0:00:26\u001b[39m\n"
     ]
    },
    {
     "name": "stdout",
     "output_type": "stream",
     "text": [
      "20\n"
     ]
    },
    {
     "name": "stderr",
     "output_type": "stream",
     "text": [
      "┌ Info: Found initial step size\n",
      "│   ϵ = 0.000390625\n",
      "└ @ Turing.Inference /home/everett/.julia/packages/Turing/GMBTf/src/inference/hmc.jl:629\n",
      "\u001b[32mSampling: 100%|█████████████████████████████████████████| Time: 0:00:15\u001b[39m\n"
     ]
    },
    {
     "name": "stdout",
     "output_type": "stream",
     "text": [
      "21\n"
     ]
    },
    {
     "name": "stderr",
     "output_type": "stream",
     "text": [
      "┌ Info: Found initial step size\n",
      "│   ϵ = 0.00037841796875\n",
      "└ @ Turing.Inference /home/everett/.julia/packages/Turing/GMBTf/src/inference/hmc.jl:629\n",
      "\u001b[32mSampling: 100%|█████████████████████████████████████████| Time: 0:00:34\u001b[39m\n"
     ]
    },
    {
     "name": "stdout",
     "output_type": "stream",
     "text": [
      "22\n"
     ]
    },
    {
     "name": "stderr",
     "output_type": "stream",
     "text": [
      "┌ Info: Found initial step size\n",
      "│   ϵ = 0.00078125\n",
      "└ @ Turing.Inference /home/everett/.julia/packages/Turing/GMBTf/src/inference/hmc.jl:629\n",
      "\u001b[32mSampling: 100%|█████████████████████████████████████████| Time: 0:00:27\u001b[39m\n"
     ]
    },
    {
     "name": "stdout",
     "output_type": "stream",
     "text": [
      "23\n"
     ]
    },
    {
     "name": "stderr",
     "output_type": "stream",
     "text": [
      "┌ Info: Found initial step size\n",
      "│   ϵ = 0.000390625\n",
      "└ @ Turing.Inference /home/everett/.julia/packages/Turing/GMBTf/src/inference/hmc.jl:629\n",
      "\u001b[32mSampling: 100%|█████████████████████████████████████████| Time: 0:00:25\u001b[39m\n"
     ]
    },
    {
     "name": "stdout",
     "output_type": "stream",
     "text": [
      "24\n"
     ]
    },
    {
     "name": "stderr",
     "output_type": "stream",
     "text": [
      "┌ Info: Found initial step size\n",
      "│   ϵ = 0.000390625\n",
      "└ @ Turing.Inference /home/everett/.julia/packages/Turing/GMBTf/src/inference/hmc.jl:629\n",
      "\u001b[32mSampling: 100%|█████████████████████████████████████████| Time: 0:00:12\u001b[39m\n"
     ]
    },
    {
     "name": "stdout",
     "output_type": "stream",
     "text": [
      "25\n"
     ]
    },
    {
     "name": "stderr",
     "output_type": "stream",
     "text": [
      "┌ Info: Found initial step size\n",
      "│   ϵ = 0.000390625\n",
      "└ @ Turing.Inference /home/everett/.julia/packages/Turing/GMBTf/src/inference/hmc.jl:629\n",
      "\u001b[32mSampling: 100%|█████████████████████████████████████████| Time: 0:00:39\u001b[39m\n"
     ]
    },
    {
     "name": "stdout",
     "output_type": "stream",
     "text": [
      "26\n"
     ]
    },
    {
     "name": "stderr",
     "output_type": "stream",
     "text": [
      "┌ Info: Found initial step size\n",
      "│   ϵ = 0.000390625\n",
      "└ @ Turing.Inference /home/everett/.julia/packages/Turing/GMBTf/src/inference/hmc.jl:629\n",
      "\u001b[32mSampling: 100%|█████████████████████████████████████████| Time: 0:00:05\u001b[39m\n"
     ]
    },
    {
     "name": "stdout",
     "output_type": "stream",
     "text": [
      "27\n"
     ]
    },
    {
     "name": "stderr",
     "output_type": "stream",
     "text": [
      "┌ Info: Found initial step size\n",
      "│   ϵ = 0.00078125\n",
      "└ @ Turing.Inference /home/everett/.julia/packages/Turing/GMBTf/src/inference/hmc.jl:629\n",
      "\u001b[32mSampling: 100%|█████████████████████████████████████████| Time: 0:00:38\u001b[39m\n"
     ]
    },
    {
     "name": "stdout",
     "output_type": "stream",
     "text": [
      "28\n"
     ]
    },
    {
     "name": "stderr",
     "output_type": "stream",
     "text": [
      "┌ Info: Found initial step size\n",
      "│   ϵ = 0.000390625\n",
      "└ @ Turing.Inference /home/everett/.julia/packages/Turing/GMBTf/src/inference/hmc.jl:629\n",
      "\u001b[32mSampling: 100%|█████████████████████████████████████████| Time: 0:00:21\u001b[39m\n"
     ]
    },
    {
     "name": "stdout",
     "output_type": "stream",
     "text": [
      "29\n"
     ]
    },
    {
     "name": "stderr",
     "output_type": "stream",
     "text": [
      "┌ Info: Found initial step size\n",
      "│   ϵ = 0.0007568359375\n",
      "└ @ Turing.Inference /home/everett/.julia/packages/Turing/GMBTf/src/inference/hmc.jl:629\n",
      "\u001b[32mSampling: 100%|█████████████████████████████████████████| Time: 0:00:41\u001b[39m\n"
     ]
    },
    {
     "name": "stdout",
     "output_type": "stream",
     "text": [
      "30\n"
     ]
    },
    {
     "name": "stderr",
     "output_type": "stream",
     "text": [
      "┌ Info: Found initial step size\n",
      "│   ϵ = 0.000390625\n",
      "└ @ Turing.Inference /home/everett/.julia/packages/Turing/GMBTf/src/inference/hmc.jl:629\n",
      "\u001b[32mSampling: 100%|█████████████████████████████████████████| Time: 0:00:21\u001b[39m\n"
     ]
    },
    {
     "name": "stdout",
     "output_type": "stream",
     "text": [
      "31\n"
     ]
    },
    {
     "name": "stderr",
     "output_type": "stream",
     "text": [
      "┌ Info: Found initial step size\n",
      "│   ϵ = 0.000390625\n",
      "└ @ Turing.Inference /home/everett/.julia/packages/Turing/GMBTf/src/inference/hmc.jl:629\n",
      "\u001b[32mSampling: 100%|█████████████████████████████████████████| Time: 0:00:17\u001b[39m\n"
     ]
    },
    {
     "name": "stdout",
     "output_type": "stream",
     "text": [
      "32\n"
     ]
    },
    {
     "name": "stderr",
     "output_type": "stream",
     "text": [
      "┌ Info: Found initial step size\n",
      "│   ϵ = 0.000390625\n",
      "└ @ Turing.Inference /home/everett/.julia/packages/Turing/GMBTf/src/inference/hmc.jl:629\n",
      "\u001b[32mSampling: 100%|█████████████████████████████████████████| Time: 0:00:31\u001b[39m\n"
     ]
    },
    {
     "name": "stdout",
     "output_type": "stream",
     "text": [
      "33\n"
     ]
    },
    {
     "name": "stderr",
     "output_type": "stream",
     "text": [
      "┌ Info: Found initial step size\n",
      "│   ϵ = 0.000390625\n",
      "└ @ Turing.Inference /home/everett/.julia/packages/Turing/GMBTf/src/inference/hmc.jl:629\n",
      "\u001b[32mSampling: 100%|█████████████████████████████████████████| Time: 0:00:15\u001b[39m\n"
     ]
    },
    {
     "name": "stdout",
     "output_type": "stream",
     "text": [
      "34\n"
     ]
    },
    {
     "name": "stderr",
     "output_type": "stream",
     "text": [
      "┌ Info: Found initial step size\n",
      "│   ϵ = 0.00034179687500000003\n",
      "└ @ Turing.Inference /home/everett/.julia/packages/Turing/GMBTf/src/inference/hmc.jl:629\n",
      "\u001b[32mSampling: 100%|█████████████████████████████████████████| Time: 0:00:12\u001b[39m\n"
     ]
    },
    {
     "name": "stdout",
     "output_type": "stream",
     "text": [
      "35\n"
     ]
    },
    {
     "name": "stderr",
     "output_type": "stream",
     "text": [
      "┌ Info: Found initial step size\n",
      "│   ϵ = 0.000390625\n",
      "└ @ Turing.Inference /home/everett/.julia/packages/Turing/GMBTf/src/inference/hmc.jl:629\n",
      "┌ Warning: The current proposal will be rejected due to numerical error(s).\n",
      "│   isfinite.((θ, r, ℓπ, ℓκ)) = (true, false, false, false)\n",
      "└ @ AdvancedHMC /home/everett/.julia/packages/AdvancedHMC/P9wqk/src/hamiltonian.jl:47\n",
      "\u001b[32mSampling: 100%|█████████████████████████████████████████| Time: 0:00:03\u001b[39m\n"
     ]
    },
    {
     "name": "stdout",
     "output_type": "stream",
     "text": [
      "36\n"
     ]
    },
    {
     "name": "stderr",
     "output_type": "stream",
     "text": [
      "┌ Info: Found initial step size\n",
      "│   ϵ = 0.00625\n",
      "└ @ Turing.Inference /home/everett/.julia/packages/Turing/GMBTf/src/inference/hmc.jl:629\n",
      "\u001b[32mSampling: 100%|█████████████████████████████████████████| Time: 0:00:36\u001b[39m\n"
     ]
    },
    {
     "name": "stdout",
     "output_type": "stream",
     "text": [
      "37\n"
     ]
    },
    {
     "name": "stderr",
     "output_type": "stream",
     "text": [
      "┌ Info: Found initial step size\n",
      "│   ϵ = 0.000390625\n",
      "└ @ Turing.Inference /home/everett/.julia/packages/Turing/GMBTf/src/inference/hmc.jl:629\n",
      "\u001b[32mSampling: 100%|█████████████████████████████████████████| Time: 0:00:09\u001b[39m\n"
     ]
    },
    {
     "name": "stdout",
     "output_type": "stream",
     "text": [
      "38\n"
     ]
    },
    {
     "name": "stderr",
     "output_type": "stream",
     "text": [
      "┌ Info: Found initial step size\n",
      "│   ϵ = 0.00078125\n",
      "└ @ Turing.Inference /home/everett/.julia/packages/Turing/GMBTf/src/inference/hmc.jl:629\n",
      "\u001b[32mSampling: 100%|█████████████████████████████████████████| Time: 0:00:23\u001b[39m\n"
     ]
    },
    {
     "name": "stdout",
     "output_type": "stream",
     "text": [
      "39\n"
     ]
    },
    {
     "name": "stderr",
     "output_type": "stream",
     "text": [
      "┌ Info: Found initial step size\n",
      "│   ϵ = 0.00078125\n",
      "└ @ Turing.Inference /home/everett/.julia/packages/Turing/GMBTf/src/inference/hmc.jl:629\n",
      "\u001b[32mSampling: 100%|█████████████████████████████████████████| Time: 0:00:33\u001b[39m\n"
     ]
    },
    {
     "name": "stdout",
     "output_type": "stream",
     "text": [
      "40\n"
     ]
    },
    {
     "name": "stderr",
     "output_type": "stream",
     "text": [
      "┌ Info: Found initial step size\n",
      "│   ϵ = 0.000390625\n",
      "└ @ Turing.Inference /home/everett/.julia/packages/Turing/GMBTf/src/inference/hmc.jl:629\n",
      "\u001b[32mSampling: 100%|█████████████████████████████████████████| Time: 0:00:32\u001b[39m\n"
     ]
    },
    {
     "name": "stdout",
     "output_type": "stream",
     "text": [
      "41\n"
     ]
    },
    {
     "name": "stderr",
     "output_type": "stream",
     "text": [
      "┌ Info: Found initial step size\n",
      "│   ϵ = 0.0005859375000000001\n",
      "└ @ Turing.Inference /home/everett/.julia/packages/Turing/GMBTf/src/inference/hmc.jl:629\n",
      "\u001b[32mSampling: 100%|█████████████████████████████████████████| Time: 0:00:16\u001b[39m\n"
     ]
    },
    {
     "name": "stdout",
     "output_type": "stream",
     "text": [
      "42\n"
     ]
    },
    {
     "name": "stderr",
     "output_type": "stream",
     "text": [
      "┌ Info: Found initial step size\n",
      "│   ϵ = 0.000390625\n",
      "└ @ Turing.Inference /home/everett/.julia/packages/Turing/GMBTf/src/inference/hmc.jl:629\n",
      "\u001b[32mSampling: 100%|█████████████████████████████████████████| Time: 0:00:41\u001b[39m\n"
     ]
    },
    {
     "name": "stdout",
     "output_type": "stream",
     "text": [
      "43\n"
     ]
    },
    {
     "name": "stderr",
     "output_type": "stream",
     "text": [
      "┌ Info: Found initial step size\n",
      "│   ϵ = 0.000390625\n",
      "└ @ Turing.Inference /home/everett/.julia/packages/Turing/GMBTf/src/inference/hmc.jl:629\n",
      "\u001b[32mSampling: 100%|█████████████████████████████████████████| Time: 0:00:37\u001b[39m\n"
     ]
    },
    {
     "name": "stdout",
     "output_type": "stream",
     "text": [
      "44\n"
     ]
    },
    {
     "name": "stderr",
     "output_type": "stream",
     "text": [
      "┌ Info: Found initial step size\n",
      "│   ϵ = 0.000390625\n",
      "└ @ Turing.Inference /home/everett/.julia/packages/Turing/GMBTf/src/inference/hmc.jl:629\n",
      "\u001b[32mSampling: 100%|█████████████████████████████████████████| Time: 0:00:29\u001b[39m\n"
     ]
    },
    {
     "name": "stdout",
     "output_type": "stream",
     "text": [
      "45\n"
     ]
    },
    {
     "name": "stderr",
     "output_type": "stream",
     "text": [
      "┌ Info: Found initial step size\n",
      "│   ϵ = 0.000390625\n",
      "└ @ Turing.Inference /home/everett/.julia/packages/Turing/GMBTf/src/inference/hmc.jl:629\n",
      "\u001b[32mSampling: 100%|█████████████████████████████████████████| Time: 0:00:32\u001b[39m\n"
     ]
    },
    {
     "name": "stdout",
     "output_type": "stream",
     "text": [
      "46\n"
     ]
    },
    {
     "name": "stderr",
     "output_type": "stream",
     "text": [
      "┌ Info: Found initial step size\n",
      "│   ϵ = 0.000732421875\n",
      "└ @ Turing.Inference /home/everett/.julia/packages/Turing/GMBTf/src/inference/hmc.jl:629\n",
      "\u001b[32mSampling: 100%|█████████████████████████████████████████| Time: 0:00:12\u001b[39m\n"
     ]
    },
    {
     "name": "stdout",
     "output_type": "stream",
     "text": [
      "47\n"
     ]
    },
    {
     "name": "stderr",
     "output_type": "stream",
     "text": [
      "┌ Info: Found initial step size\n",
      "│   ϵ = 0.0003662109375\n",
      "└ @ Turing.Inference /home/everett/.julia/packages/Turing/GMBTf/src/inference/hmc.jl:629\n",
      "\u001b[32mSampling: 100%|█████████████████████████████████████████| Time: 0:00:41\u001b[39m\n"
     ]
    },
    {
     "name": "stdout",
     "output_type": "stream",
     "text": [
      "48\n"
     ]
    },
    {
     "name": "stderr",
     "output_type": "stream",
     "text": [
      "┌ Info: Found initial step size\n",
      "│   ϵ = 0.000390625\n",
      "└ @ Turing.Inference /home/everett/.julia/packages/Turing/GMBTf/src/inference/hmc.jl:629\n",
      "┌ Warning: The current proposal will be rejected due to numerical error(s).\n",
      "│   isfinite.((θ, r, ℓπ, ℓκ)) = (true, false, false, false)\n",
      "└ @ AdvancedHMC /home/everett/.julia/packages/AdvancedHMC/P9wqk/src/hamiltonian.jl:47\n",
      "┌ Warning: The current proposal will be rejected due to numerical error(s).\n",
      "│   isfinite.((θ, r, ℓπ, ℓκ)) = (true, false, false, false)\n",
      "└ @ AdvancedHMC /home/everett/.julia/packages/AdvancedHMC/P9wqk/src/hamiltonian.jl:47\n",
      "\u001b[32mSampling: 100%|█████████████████████████████████████████| Time: 0:00:04\u001b[39m\n"
     ]
    },
    {
     "name": "stdout",
     "output_type": "stream",
     "text": [
      "49\n"
     ]
    },
    {
     "name": "stderr",
     "output_type": "stream",
     "text": [
      "┌ Info: Found initial step size\n",
      "│   ϵ = 0.003125\n",
      "└ @ Turing.Inference /home/everett/.julia/packages/Turing/GMBTf/src/inference/hmc.jl:629\n",
      "\u001b[32mSampling: 100%|█████████████████████████████████████████| Time: 0:00:26\u001b[39m\n"
     ]
    },
    {
     "name": "stdout",
     "output_type": "stream",
     "text": [
      "50\n"
     ]
    },
    {
     "name": "stderr",
     "output_type": "stream",
     "text": [
      "┌ Info: Found initial step size\n",
      "│   ϵ = 0.0007751464843750001\n",
      "└ @ Turing.Inference /home/everett/.julia/packages/Turing/GMBTf/src/inference/hmc.jl:629\n",
      "\u001b[32mSampling: 100%|█████████████████████████████████████████| Time: 0:00:15\u001b[39m\n"
     ]
    },
    {
     "name": "stdout",
     "output_type": "stream",
     "text": [
      "51\n"
     ]
    },
    {
     "name": "stderr",
     "output_type": "stream",
     "text": [
      "┌ Info: Found initial step size\n",
      "│   ϵ = 0.00078125\n",
      "└ @ Turing.Inference /home/everett/.julia/packages/Turing/GMBTf/src/inference/hmc.jl:629\n",
      "\u001b[32mSampling: 100%|█████████████████████████████████████████| Time: 0:00:45\u001b[39m\n"
     ]
    },
    {
     "name": "stdout",
     "output_type": "stream",
     "text": [
      "52\n"
     ]
    },
    {
     "name": "stderr",
     "output_type": "stream",
     "text": [
      "┌ Info: Found initial step size\n",
      "│   ϵ = 0.000390625\n",
      "└ @ Turing.Inference /home/everett/.julia/packages/Turing/GMBTf/src/inference/hmc.jl:629\n",
      "\u001b[32mSampling: 100%|█████████████████████████████████████████| Time: 0:00:23\u001b[39m\n"
     ]
    },
    {
     "name": "stdout",
     "output_type": "stream",
     "text": [
      "53\n"
     ]
    },
    {
     "name": "stderr",
     "output_type": "stream",
     "text": [
      "┌ Info: Found initial step size\n",
      "│   ϵ = 0.00078125\n",
      "└ @ Turing.Inference /home/everett/.julia/packages/Turing/GMBTf/src/inference/hmc.jl:629\n",
      "\u001b[32mSampling: 100%|█████████████████████████████████████████| Time: 0:00:41\u001b[39m\n"
     ]
    },
    {
     "name": "stdout",
     "output_type": "stream",
     "text": [
      "54\n"
     ]
    },
    {
     "name": "stderr",
     "output_type": "stream",
     "text": [
      "┌ Info: Found initial step size\n",
      "│   ϵ = 0.000390625\n",
      "└ @ Turing.Inference /home/everett/.julia/packages/Turing/GMBTf/src/inference/hmc.jl:629\n",
      "\u001b[32mSampling: 100%|█████████████████████████████████████████| Time: 0:00:07\u001b[39m\n"
     ]
    },
    {
     "name": "stdout",
     "output_type": "stream",
     "text": [
      "55\n"
     ]
    },
    {
     "name": "stderr",
     "output_type": "stream",
     "text": [
      "┌ Warning: The current proposal will be rejected due to numerical error(s).\n",
      "│   isfinite.((θ, r, ℓπ, ℓκ)) = (true, false, false, false)\n",
      "└ @ AdvancedHMC /home/everett/.julia/packages/AdvancedHMC/P9wqk/src/hamiltonian.jl:47\n",
      "┌ Warning: The current proposal will be rejected due to numerical error(s).\n",
      "│   isfinite.((θ, r, ℓπ, ℓκ)) = (true, false, false, false)\n",
      "└ @ AdvancedHMC /home/everett/.julia/packages/AdvancedHMC/P9wqk/src/hamiltonian.jl:47\n",
      "┌ Warning: The current proposal will be rejected due to numerical error(s).\n",
      "│   isfinite.((θ, r, ℓπ, ℓκ)) = (true, false, false, false)\n",
      "└ @ AdvancedHMC /home/everett/.julia/packages/AdvancedHMC/P9wqk/src/hamiltonian.jl:47\n",
      "┌ Warning: The current proposal will be rejected due to numerical error(s).\n",
      "│   isfinite.((θ, r, ℓπ, ℓκ)) = (true, false, false, false)\n",
      "└ @ AdvancedHMC /home/everett/.julia/packages/AdvancedHMC/P9wqk/src/hamiltonian.jl:47\n",
      "┌ Info: Found initial step size\n",
      "│   ϵ = 0.00078125\n",
      "└ @ Turing.Inference /home/everett/.julia/packages/Turing/GMBTf/src/inference/hmc.jl:629\n",
      "\u001b[32mSampling: 100%|█████████████████████████████████████████| Time: 0:00:27\u001b[39m\n"
     ]
    },
    {
     "name": "stdout",
     "output_type": "stream",
     "text": [
      "56\n"
     ]
    },
    {
     "name": "stderr",
     "output_type": "stream",
     "text": [
      "┌ Info: Found initial step size\n",
      "│   ϵ = 0.0006835937500000001\n",
      "└ @ Turing.Inference /home/everett/.julia/packages/Turing/GMBTf/src/inference/hmc.jl:629\n",
      "\u001b[32mSampling: 100%|█████████████████████████████████████████| Time: 0:00:17\u001b[39m\n"
     ]
    },
    {
     "name": "stdout",
     "output_type": "stream",
     "text": [
      "57\n"
     ]
    },
    {
     "name": "stderr",
     "output_type": "stream",
     "text": [
      "┌ Info: Found initial step size\n",
      "│   ϵ = 0.00078125\n",
      "└ @ Turing.Inference /home/everett/.julia/packages/Turing/GMBTf/src/inference/hmc.jl:629\n",
      "\u001b[32mSampling: 100%|█████████████████████████████████████████| Time: 0:00:14\u001b[39m\n"
     ]
    },
    {
     "name": "stdout",
     "output_type": "stream",
     "text": [
      "58\n"
     ]
    },
    {
     "name": "stderr",
     "output_type": "stream",
     "text": [
      "┌ Warning: The current proposal will be rejected due to numerical error(s).\n",
      "│   isfinite.((θ, r, ℓπ, ℓκ)) = (true, false, false, false)\n",
      "└ @ AdvancedHMC /home/everett/.julia/packages/AdvancedHMC/P9wqk/src/hamiltonian.jl:47\n",
      "┌ Warning: The current proposal will be rejected due to numerical error(s).\n",
      "│   isfinite.((θ, r, ℓπ, ℓκ)) = (true, false, false, false)\n",
      "└ @ AdvancedHMC /home/everett/.julia/packages/AdvancedHMC/P9wqk/src/hamiltonian.jl:47\n",
      "┌ Warning: The current proposal will be rejected due to numerical error(s).\n",
      "│   isfinite.((θ, r, ℓπ, ℓκ)) = (true, false, false, false)\n",
      "└ @ AdvancedHMC /home/everett/.julia/packages/AdvancedHMC/P9wqk/src/hamiltonian.jl:47\n",
      "┌ Warning: The current proposal will be rejected due to numerical error(s).\n",
      "│   isfinite.((θ, r, ℓπ, ℓκ)) = (true, false, false, false)\n",
      "└ @ AdvancedHMC /home/everett/.julia/packages/AdvancedHMC/P9wqk/src/hamiltonian.jl:47\n",
      "┌ Warning: The current proposal will be rejected due to numerical error(s).\n",
      "│   isfinite.((θ, r, ℓπ, ℓκ)) = (true, false, false, false)\n",
      "└ @ AdvancedHMC /home/everett/.julia/packages/AdvancedHMC/P9wqk/src/hamiltonian.jl:47\n",
      "┌ Info: Found initial step size\n",
      "│   ϵ = 0.000390625\n",
      "└ @ Turing.Inference /home/everett/.julia/packages/Turing/GMBTf/src/inference/hmc.jl:629\n",
      "\u001b[32mSampling: 100%|█████████████████████████████████████████| Time: 0:00:37\u001b[39m\n"
     ]
    },
    {
     "name": "stdout",
     "output_type": "stream",
     "text": [
      "59\n"
     ]
    },
    {
     "name": "stderr",
     "output_type": "stream",
     "text": [
      "┌ Info: Found initial step size\n",
      "│   ϵ = 0.0007690429687500001\n",
      "└ @ Turing.Inference /home/everett/.julia/packages/Turing/GMBTf/src/inference/hmc.jl:629\n",
      "\u001b[32mSampling: 100%|█████████████████████████████████████████| Time: 0:00:31\u001b[39m\n"
     ]
    },
    {
     "name": "stdout",
     "output_type": "stream",
     "text": [
      "60\n"
     ]
    },
    {
     "name": "stderr",
     "output_type": "stream",
     "text": [
      "┌ Info: Found initial step size\n",
      "│   ϵ = 0.00078125\n",
      "└ @ Turing.Inference /home/everett/.julia/packages/Turing/GMBTf/src/inference/hmc.jl:629\n",
      "\u001b[32mSampling: 100%|█████████████████████████████████████████| Time: 0:00:36\u001b[39m\n"
     ]
    },
    {
     "name": "stdout",
     "output_type": "stream",
     "text": [
      "61\n"
     ]
    },
    {
     "name": "stderr",
     "output_type": "stream",
     "text": [
      "┌ Info: Found initial step size\n",
      "│   ϵ = 0.000390625\n",
      "└ @ Turing.Inference /home/everett/.julia/packages/Turing/GMBTf/src/inference/hmc.jl:629\n",
      "\u001b[32mSampling: 100%|█████████████████████████████████████████| Time: 0:00:40\u001b[39m\n"
     ]
    },
    {
     "name": "stdout",
     "output_type": "stream",
     "text": [
      "62\n"
     ]
    },
    {
     "name": "stderr",
     "output_type": "stream",
     "text": [
      "┌ Info: Found initial step size\n",
      "│   ϵ = 0.000390625\n",
      "└ @ Turing.Inference /home/everett/.julia/packages/Turing/GMBTf/src/inference/hmc.jl:629\n",
      "\u001b[32mSampling: 100%|█████████████████████████████████████████| Time: 0:00:17\u001b[39m\n"
     ]
    },
    {
     "name": "stdout",
     "output_type": "stream",
     "text": [
      "63\n"
     ]
    },
    {
     "name": "stderr",
     "output_type": "stream",
     "text": [
      "┌ Info: Found initial step size\n",
      "│   ϵ = 0.00078125\n",
      "└ @ Turing.Inference /home/everett/.julia/packages/Turing/GMBTf/src/inference/hmc.jl:629\n",
      "\u001b[32mSampling: 100%|█████████████████████████████████████████| Time: 0:00:03\u001b[39m\n"
     ]
    },
    {
     "name": "stdout",
     "output_type": "stream",
     "text": [
      "64\n"
     ]
    },
    {
     "name": "stderr",
     "output_type": "stream",
     "text": [
      "┌ Info: Found initial step size\n",
      "│   ϵ = 0.00625\n",
      "└ @ Turing.Inference /home/everett/.julia/packages/Turing/GMBTf/src/inference/hmc.jl:629\n",
      "┌ Warning: The current proposal will be rejected due to numerical error(s).\n",
      "│   isfinite.((θ, r, ℓπ, ℓκ)) = (true, false, false, false)\n",
      "└ @ AdvancedHMC /home/everett/.julia/packages/AdvancedHMC/P9wqk/src/hamiltonian.jl:47\n",
      "┌ Warning: The current proposal will be rejected due to numerical error(s).\n",
      "│   isfinite.((θ, r, ℓπ, ℓκ)) = (true, false, false, false)\n",
      "└ @ AdvancedHMC /home/everett/.julia/packages/AdvancedHMC/P9wqk/src/hamiltonian.jl:47\n",
      "\u001b[32mSampling: 100%|█████████████████████████████████████████| Time: 0:00:08\u001b[39m\n"
     ]
    },
    {
     "name": "stdout",
     "output_type": "stream",
     "text": [
      "65\n"
     ]
    },
    {
     "name": "stderr",
     "output_type": "stream",
     "text": [
      "┌ Info: Found initial step size\n",
      "│   ϵ = 0.000390625\n",
      "└ @ Turing.Inference /home/everett/.julia/packages/Turing/GMBTf/src/inference/hmc.jl:629\n",
      "\u001b[32mSampling: 100%|█████████████████████████████████████████| Time: 0:00:37\u001b[39m\n"
     ]
    },
    {
     "name": "stdout",
     "output_type": "stream",
     "text": [
      "66\n"
     ]
    },
    {
     "name": "stderr",
     "output_type": "stream",
     "text": [
      "┌ Info: Found initial step size\n",
      "│   ϵ = 0.00078125\n",
      "└ @ Turing.Inference /home/everett/.julia/packages/Turing/GMBTf/src/inference/hmc.jl:629\n",
      "\u001b[32mSampling: 100%|█████████████████████████████████████████| Time: 0:00:50\u001b[39m\n"
     ]
    },
    {
     "name": "stdout",
     "output_type": "stream",
     "text": [
      "67\n"
     ]
    },
    {
     "name": "stderr",
     "output_type": "stream",
     "text": [
      "┌ Warning: The current proposal will be rejected due to numerical error(s).\n",
      "│   isfinite.((θ, r, ℓπ, ℓκ)) = (true, false, false, false)\n",
      "└ @ AdvancedHMC /home/everett/.julia/packages/AdvancedHMC/P9wqk/src/hamiltonian.jl:47\n",
      "┌ Warning: The current proposal will be rejected due to numerical error(s).\n",
      "│   isfinite.((θ, r, ℓπ, ℓκ)) = (true, false, false, false)\n",
      "└ @ AdvancedHMC /home/everett/.julia/packages/AdvancedHMC/P9wqk/src/hamiltonian.jl:47\n",
      "┌ Warning: The current proposal will be rejected due to numerical error(s).\n",
      "│   isfinite.((θ, r, ℓπ, ℓκ)) = (true, false, false, false)\n",
      "└ @ AdvancedHMC /home/everett/.julia/packages/AdvancedHMC/P9wqk/src/hamiltonian.jl:47\n",
      "┌ Warning: The current proposal will be rejected due to numerical error(s).\n",
      "│   isfinite.((θ, r, ℓπ, ℓκ)) = (true, false, false, false)\n",
      "└ @ AdvancedHMC /home/everett/.julia/packages/AdvancedHMC/P9wqk/src/hamiltonian.jl:47\n",
      "┌ Warning: The current proposal will be rejected due to numerical error(s).\n",
      "│   isfinite.((θ, r, ℓπ, ℓκ)) = (true, false, false, false)\n",
      "└ @ AdvancedHMC /home/everett/.julia/packages/AdvancedHMC/P9wqk/src/hamiltonian.jl:47\n",
      "┌ Warning: The current proposal will be rejected due to numerical error(s).\n",
      "│   isfinite.((θ, r, ℓπ, ℓκ)) = (true, false, false, false)\n",
      "└ @ AdvancedHMC /home/everett/.julia/packages/AdvancedHMC/P9wqk/src/hamiltonian.jl:47\n",
      "┌ Warning: The current proposal will be rejected due to numerical error(s).\n",
      "│   isfinite.((θ, r, ℓπ, ℓκ)) = (true, false, false, false)\n",
      "└ @ AdvancedHMC /home/everett/.julia/packages/AdvancedHMC/P9wqk/src/hamiltonian.jl:47\n",
      "┌ Warning: The current proposal will be rejected due to numerical error(s).\n",
      "│   isfinite.((θ, r, ℓπ, ℓκ)) = (true, false, false, false)\n",
      "└ @ AdvancedHMC /home/everett/.julia/packages/AdvancedHMC/P9wqk/src/hamiltonian.jl:47\n",
      "┌ Info: Found initial step size\n",
      "│   ϵ = 4.8828125e-5\n",
      "└ @ Turing.Inference /home/everett/.julia/packages/Turing/GMBTf/src/inference/hmc.jl:629\n",
      "\u001b[32mSampling: 100%|█████████████████████████████████████████| Time: 0:00:36\u001b[39m\n"
     ]
    },
    {
     "name": "stdout",
     "output_type": "stream",
     "text": [
      "68\n"
     ]
    },
    {
     "name": "stderr",
     "output_type": "stream",
     "text": [
      "┌ Info: Found initial step size\n",
      "│   ϵ = 0.000390625\n",
      "└ @ Turing.Inference /home/everett/.julia/packages/Turing/GMBTf/src/inference/hmc.jl:629\n",
      "\u001b[32mSampling: 100%|█████████████████████████████████████████| Time: 0:00:14\u001b[39m\n"
     ]
    },
    {
     "name": "stdout",
     "output_type": "stream",
     "text": [
      "69\n"
     ]
    },
    {
     "name": "stderr",
     "output_type": "stream",
     "text": [
      "┌ Info: Found initial step size\n",
      "│   ϵ = 0.000390625\n",
      "└ @ Turing.Inference /home/everett/.julia/packages/Turing/GMBTf/src/inference/hmc.jl:629\n",
      "\u001b[32mSampling: 100%|█████████████████████████████████████████| Time: 0:00:42\u001b[39m\n"
     ]
    },
    {
     "name": "stdout",
     "output_type": "stream",
     "text": [
      "70\n"
     ]
    },
    {
     "name": "stderr",
     "output_type": "stream",
     "text": [
      "┌ Info: Found initial step size\n",
      "│   ϵ = 0.00078125\n",
      "└ @ Turing.Inference /home/everett/.julia/packages/Turing/GMBTf/src/inference/hmc.jl:629\n",
      "\u001b[32mSampling: 100%|█████████████████████████████████████████| Time: 0:00:12\u001b[39m\n"
     ]
    },
    {
     "name": "stdout",
     "output_type": "stream",
     "text": [
      "71\n"
     ]
    },
    {
     "name": "stderr",
     "output_type": "stream",
     "text": [
      "┌ Info: Found initial step size\n",
      "│   ϵ = 0.00078125\n",
      "└ @ Turing.Inference /home/everett/.julia/packages/Turing/GMBTf/src/inference/hmc.jl:629\n",
      "\u001b[32mSampling: 100%|█████████████████████████████████████████| Time: 0:00:06\u001b[39m\n"
     ]
    },
    {
     "name": "stdout",
     "output_type": "stream",
     "text": [
      "72\n"
     ]
    },
    {
     "name": "stderr",
     "output_type": "stream",
     "text": [
      "┌ Info: Found initial step size\n",
      "│   ϵ = 0.0015625\n",
      "└ @ Turing.Inference /home/everett/.julia/packages/Turing/GMBTf/src/inference/hmc.jl:629\n",
      "\u001b[32mSampling: 100%|█████████████████████████████████████████| Time: 0:00:40\u001b[39m\n"
     ]
    },
    {
     "name": "stdout",
     "output_type": "stream",
     "text": [
      "73\n"
     ]
    },
    {
     "name": "stderr",
     "output_type": "stream",
     "text": [
      "┌ Info: Found initial step size\n",
      "│   ϵ = 0.000390625\n",
      "└ @ Turing.Inference /home/everett/.julia/packages/Turing/GMBTf/src/inference/hmc.jl:629\n",
      "\u001b[32mSampling: 100%|█████████████████████████████████████████| Time: 0:00:24\u001b[39m\n"
     ]
    },
    {
     "name": "stdout",
     "output_type": "stream",
     "text": [
      "74\n"
     ]
    },
    {
     "name": "stderr",
     "output_type": "stream",
     "text": [
      "┌ Info: Found initial step size\n",
      "│   ϵ = 0.00078125\n",
      "└ @ Turing.Inference /home/everett/.julia/packages/Turing/GMBTf/src/inference/hmc.jl:629\n",
      "\u001b[32mSampling: 100%|█████████████████████████████████████████| Time: 0:00:27\u001b[39m\n"
     ]
    },
    {
     "name": "stdout",
     "output_type": "stream",
     "text": [
      "75\n"
     ]
    },
    {
     "name": "stderr",
     "output_type": "stream",
     "text": [
      "┌ Info: Found initial step size\n",
      "│   ϵ = 0.000390625\n",
      "└ @ Turing.Inference /home/everett/.julia/packages/Turing/GMBTf/src/inference/hmc.jl:629\n",
      "\u001b[32mSampling: 100%|█████████████████████████████████████████| Time: 0:00:27\u001b[39m\n"
     ]
    },
    {
     "name": "stdout",
     "output_type": "stream",
     "text": [
      "76\n"
     ]
    },
    {
     "name": "stderr",
     "output_type": "stream",
     "text": [
      "┌ Info: Found initial step size\n",
      "│   ϵ = 0.000390625\n",
      "└ @ Turing.Inference /home/everett/.julia/packages/Turing/GMBTf/src/inference/hmc.jl:629\n",
      "┌ Warning: The current proposal will be rejected due to numerical error(s).\n",
      "│   isfinite.((θ, r, ℓπ, ℓκ)) = (true, false, false, false)\n",
      "└ @ AdvancedHMC /home/everett/.julia/packages/AdvancedHMC/P9wqk/src/hamiltonian.jl:47\n",
      "┌ Warning: The current proposal will be rejected due to numerical error(s).\n",
      "│   isfinite.((θ, r, ℓπ, ℓκ)) = (true, false, false, false)\n",
      "└ @ AdvancedHMC /home/everett/.julia/packages/AdvancedHMC/P9wqk/src/hamiltonian.jl:47\n",
      "┌ Warning: The current proposal will be rejected due to numerical error(s).\n",
      "│   isfinite.((θ, r, ℓπ, ℓκ)) = (true, false, false, false)\n",
      "└ @ AdvancedHMC /home/everett/.julia/packages/AdvancedHMC/P9wqk/src/hamiltonian.jl:47\n",
      "┌ Warning: The current proposal will be rejected due to numerical error(s).\n",
      "│   isfinite.((θ, r, ℓπ, ℓκ)) = (true, false, false, false)\n",
      "└ @ AdvancedHMC /home/everett/.julia/packages/AdvancedHMC/P9wqk/src/hamiltonian.jl:47\n",
      "\u001b[32mSampling: 100%|█████████████████████████████████████████| Time: 0:00:02\u001b[39m\n"
     ]
    },
    {
     "name": "stdout",
     "output_type": "stream",
     "text": [
      "77\n"
     ]
    },
    {
     "name": "stderr",
     "output_type": "stream",
     "text": [
      "┌ Info: Found initial step size\n",
      "│   ϵ = 0.003125\n",
      "└ @ Turing.Inference /home/everett/.julia/packages/Turing/GMBTf/src/inference/hmc.jl:629\n",
      "\u001b[32mSampling: 100%|█████████████████████████████████████████| Time: 0:00:43\u001b[39m\n"
     ]
    },
    {
     "name": "stdout",
     "output_type": "stream",
     "text": [
      "78\n"
     ]
    },
    {
     "name": "stderr",
     "output_type": "stream",
     "text": [
      "┌ Info: Found initial step size\n",
      "│   ϵ = 0.00078125\n",
      "└ @ Turing.Inference /home/everett/.julia/packages/Turing/GMBTf/src/inference/hmc.jl:629\n",
      "┌ Warning: The current proposal will be rejected due to numerical error(s).\n",
      "│   isfinite.((θ, r, ℓπ, ℓκ)) = (true, false, false, false)\n",
      "└ @ AdvancedHMC /home/everett/.julia/packages/AdvancedHMC/P9wqk/src/hamiltonian.jl:47\n",
      "┌ Warning: The current proposal will be rejected due to numerical error(s).\n",
      "│   isfinite.((θ, r, ℓπ, ℓκ)) = (true, false, false, false)\n",
      "└ @ AdvancedHMC /home/everett/.julia/packages/AdvancedHMC/P9wqk/src/hamiltonian.jl:47\n",
      "\u001b[32mSampling: 100%|█████████████████████████████████████████| Time: 0:00:15\u001b[39m\n"
     ]
    },
    {
     "name": "stdout",
     "output_type": "stream",
     "text": [
      "79\n"
     ]
    },
    {
     "name": "stderr",
     "output_type": "stream",
     "text": [
      "┌ Info: Found initial step size\n",
      "│   ϵ = 0.000390625\n",
      "└ @ Turing.Inference /home/everett/.julia/packages/Turing/GMBTf/src/inference/hmc.jl:629\n",
      "\u001b[32mSampling: 100%|█████████████████████████████████████████| Time: 0:00:21\u001b[39m\n"
     ]
    },
    {
     "name": "stdout",
     "output_type": "stream",
     "text": [
      "80\n"
     ]
    },
    {
     "name": "stderr",
     "output_type": "stream",
     "text": [
      "┌ Info: Found initial step size\n",
      "│   ϵ = 0.00078125\n",
      "└ @ Turing.Inference /home/everett/.julia/packages/Turing/GMBTf/src/inference/hmc.jl:629\n",
      "\u001b[32mSampling: 100%|█████████████████████████████████████████| Time: 0:00:12\u001b[39m\n"
     ]
    },
    {
     "name": "stdout",
     "output_type": "stream",
     "text": [
      "81\n"
     ]
    },
    {
     "name": "stderr",
     "output_type": "stream",
     "text": [
      "┌ Info: Found initial step size\n",
      "│   ϵ = 0.00078125\n",
      "└ @ Turing.Inference /home/everett/.julia/packages/Turing/GMBTf/src/inference/hmc.jl:629\n",
      "\u001b[32mSampling: 100%|█████████████████████████████████████████| Time: 0:00:24\u001b[39m\n"
     ]
    },
    {
     "name": "stdout",
     "output_type": "stream",
     "text": [
      "82\n"
     ]
    },
    {
     "name": "stderr",
     "output_type": "stream",
     "text": [
      "┌ Info: Found initial step size\n",
      "│   ϵ = 0.00078125\n",
      "└ @ Turing.Inference /home/everett/.julia/packages/Turing/GMBTf/src/inference/hmc.jl:629\n",
      "\u001b[32mSampling: 100%|█████████████████████████████████████████| Time: 0:00:35\u001b[39m\n"
     ]
    },
    {
     "name": "stdout",
     "output_type": "stream",
     "text": [
      "83\n"
     ]
    },
    {
     "name": "stderr",
     "output_type": "stream",
     "text": [
      "┌ Info: Found initial step size\n",
      "│   ϵ = 0.000390625\n",
      "└ @ Turing.Inference /home/everett/.julia/packages/Turing/GMBTf/src/inference/hmc.jl:629\n",
      "\u001b[32mSampling: 100%|█████████████████████████████████████████| Time: 0:00:17\u001b[39m\n"
     ]
    },
    {
     "name": "stdout",
     "output_type": "stream",
     "text": [
      "84\n"
     ]
    },
    {
     "name": "stderr",
     "output_type": "stream",
     "text": [
      "┌ Info: Found initial step size\n",
      "│   ϵ = 0.000390625\n",
      "└ @ Turing.Inference /home/everett/.julia/packages/Turing/GMBTf/src/inference/hmc.jl:629\n",
      "\u001b[32mSampling: 100%|█████████████████████████████████████████| Time: 0:00:50\u001b[39m\n"
     ]
    },
    {
     "name": "stdout",
     "output_type": "stream",
     "text": [
      "85\n"
     ]
    },
    {
     "name": "stderr",
     "output_type": "stream",
     "text": [
      "┌ Info: Found initial step size\n",
      "│   ϵ = 0.00078125\n",
      "└ @ Turing.Inference /home/everett/.julia/packages/Turing/GMBTf/src/inference/hmc.jl:629\n",
      "\u001b[32mSampling: 100%|█████████████████████████████████████████| Time: 0:00:33\u001b[39m\n"
     ]
    },
    {
     "name": "stdout",
     "output_type": "stream",
     "text": [
      "86\n"
     ]
    },
    {
     "name": "stderr",
     "output_type": "stream",
     "text": [
      "┌ Info: Found initial step size\n",
      "│   ϵ = 0.00078125\n",
      "└ @ Turing.Inference /home/everett/.julia/packages/Turing/GMBTf/src/inference/hmc.jl:629\n",
      "\u001b[32mSampling: 100%|█████████████████████████████████████████| Time: 0:00:30\u001b[39m\n"
     ]
    },
    {
     "name": "stdout",
     "output_type": "stream",
     "text": [
      "87\n"
     ]
    },
    {
     "name": "stderr",
     "output_type": "stream",
     "text": [
      "┌ Info: Found initial step size\n",
      "│   ϵ = 0.000390625\n",
      "└ @ Turing.Inference /home/everett/.julia/packages/Turing/GMBTf/src/inference/hmc.jl:629\n",
      "\u001b[32mSampling: 100%|█████████████████████████████████████████| Time: 0:00:22\u001b[39m\n"
     ]
    },
    {
     "name": "stdout",
     "output_type": "stream",
     "text": [
      "88\n"
     ]
    },
    {
     "name": "stderr",
     "output_type": "stream",
     "text": [
      "┌ Info: Found initial step size\n",
      "│   ϵ = 0.00078125\n",
      "└ @ Turing.Inference /home/everett/.julia/packages/Turing/GMBTf/src/inference/hmc.jl:629\n",
      "\u001b[32mSampling: 100%|█████████████████████████████████████████| Time: 0:00:17\u001b[39m\n"
     ]
    },
    {
     "name": "stdout",
     "output_type": "stream",
     "text": [
      "89\n"
     ]
    },
    {
     "name": "stderr",
     "output_type": "stream",
     "text": [
      "┌ Info: Found initial step size\n",
      "│   ϵ = 0.00078125\n",
      "└ @ Turing.Inference /home/everett/.julia/packages/Turing/GMBTf/src/inference/hmc.jl:629\n",
      "\u001b[32mSampling: 100%|█████████████████████████████████████████| Time: 0:00:25\u001b[39m\n"
     ]
    },
    {
     "name": "stdout",
     "output_type": "stream",
     "text": [
      "90\n"
     ]
    },
    {
     "name": "stderr",
     "output_type": "stream",
     "text": [
      "┌ Info: Found initial step size\n",
      "│   ϵ = 0.00078125\n",
      "└ @ Turing.Inference /home/everett/.julia/packages/Turing/GMBTf/src/inference/hmc.jl:629\n",
      "\u001b[32mSampling: 100%|█████████████████████████████████████████| Time: 0:00:44\u001b[39m\n"
     ]
    },
    {
     "name": "stdout",
     "output_type": "stream",
     "text": [
      "91\n"
     ]
    },
    {
     "name": "stderr",
     "output_type": "stream",
     "text": [
      "┌ Info: Found initial step size\n",
      "│   ϵ = 0.0001953125\n",
      "└ @ Turing.Inference /home/everett/.julia/packages/Turing/GMBTf/src/inference/hmc.jl:629\n",
      "\u001b[32mSampling: 100%|█████████████████████████████████████████| Time: 0:00:14\u001b[39m\n"
     ]
    },
    {
     "name": "stdout",
     "output_type": "stream",
     "text": [
      "92\n"
     ]
    },
    {
     "name": "stderr",
     "output_type": "stream",
     "text": [
      "┌ Info: Found initial step size\n",
      "│   ϵ = 0.000390625\n",
      "└ @ Turing.Inference /home/everett/.julia/packages/Turing/GMBTf/src/inference/hmc.jl:629\n",
      "\u001b[32mSampling: 100%|█████████████████████████████████████████| Time: 0:00:14\u001b[39m\n"
     ]
    },
    {
     "name": "stdout",
     "output_type": "stream",
     "text": [
      "93\n"
     ]
    },
    {
     "name": "stderr",
     "output_type": "stream",
     "text": [
      "┌ Info: Found initial step size\n",
      "│   ϵ = 0.000390625\n",
      "└ @ Turing.Inference /home/everett/.julia/packages/Turing/GMBTf/src/inference/hmc.jl:629\n",
      "\u001b[32mSampling: 100%|█████████████████████████████████████████| Time: 0:00:26\u001b[39m\n"
     ]
    },
    {
     "name": "stdout",
     "output_type": "stream",
     "text": [
      "94\n"
     ]
    },
    {
     "name": "stderr",
     "output_type": "stream",
     "text": [
      "┌ Info: Found initial step size\n",
      "│   ϵ = 0.000390625\n",
      "└ @ Turing.Inference /home/everett/.julia/packages/Turing/GMBTf/src/inference/hmc.jl:629\n",
      "\u001b[32mSampling: 100%|█████████████████████████████████████████| Time: 0:00:37\u001b[39m\n"
     ]
    },
    {
     "name": "stdout",
     "output_type": "stream",
     "text": [
      "95\n"
     ]
    },
    {
     "name": "stderr",
     "output_type": "stream",
     "text": [
      "┌ Info: Found initial step size\n",
      "│   ϵ = 0.00078125\n",
      "└ @ Turing.Inference /home/everett/.julia/packages/Turing/GMBTf/src/inference/hmc.jl:629\n",
      "\u001b[32mSampling: 100%|█████████████████████████████████████████| Time: 0:00:10\u001b[39m\n"
     ]
    },
    {
     "name": "stdout",
     "output_type": "stream",
     "text": [
      "96\n"
     ]
    },
    {
     "name": "stderr",
     "output_type": "stream",
     "text": [
      "┌ Info: Found initial step size\n",
      "│   ϵ = 0.0007751464843750001\n",
      "└ @ Turing.Inference /home/everett/.julia/packages/Turing/GMBTf/src/inference/hmc.jl:629\n",
      "\u001b[32mSampling: 100%|█████████████████████████████████████████| Time: 0:00:30\u001b[39m\n"
     ]
    },
    {
     "name": "stdout",
     "output_type": "stream",
     "text": [
      "97\n"
     ]
    },
    {
     "name": "stderr",
     "output_type": "stream",
     "text": [
      "┌ Info: Found initial step size\n",
      "│   ϵ = 0.00078125\n",
      "└ @ Turing.Inference /home/everett/.julia/packages/Turing/GMBTf/src/inference/hmc.jl:629\n",
      "\u001b[32mSampling: 100%|█████████████████████████████████████████| Time: 0:00:13\u001b[39m\n"
     ]
    },
    {
     "name": "stdout",
     "output_type": "stream",
     "text": [
      "98\n"
     ]
    },
    {
     "name": "stderr",
     "output_type": "stream",
     "text": [
      "┌ Info: Found initial step size\n",
      "│   ϵ = 0.000390625\n",
      "└ @ Turing.Inference /home/everett/.julia/packages/Turing/GMBTf/src/inference/hmc.jl:629\n",
      "\u001b[32mSampling: 100%|█████████████████████████████████████████| Time: 0:00:16\u001b[39m\n"
     ]
    },
    {
     "name": "stdout",
     "output_type": "stream",
     "text": [
      "99\n"
     ]
    },
    {
     "name": "stderr",
     "output_type": "stream",
     "text": [
      "┌ Info: Found initial step size\n",
      "│   ϵ = 0.0007568359375\n",
      "└ @ Turing.Inference /home/everett/.julia/packages/Turing/GMBTf/src/inference/hmc.jl:629\n",
      "\u001b[32mSampling: 100%|█████████████████████████████████████████| Time: 0:00:10\u001b[39m\n"
     ]
    },
    {
     "name": "stdout",
     "output_type": "stream",
     "text": [
      "100\n"
     ]
    },
    {
     "name": "stderr",
     "output_type": "stream",
     "text": [
      "┌ Info: Found initial step size\n",
      "│   ϵ = 0.00078125\n",
      "└ @ Turing.Inference /home/everett/.julia/packages/Turing/GMBTf/src/inference/hmc.jl:629\n",
      "\u001b[32mSampling: 100%|█████████████████████████████████████████| Time: 0:00:37\u001b[39m\n"
     ]
    },
    {
     "name": "stdout",
     "output_type": "stream",
     "text": [
      "101\n"
     ]
    },
    {
     "name": "stderr",
     "output_type": "stream",
     "text": [
      "┌ Info: Found initial step size\n",
      "│   ϵ = 0.0015625\n",
      "└ @ Turing.Inference /home/everett/.julia/packages/Turing/GMBTf/src/inference/hmc.jl:629\n",
      "\u001b[32mSampling: 100%|█████████████████████████████████████████| Time: 0:00:34\u001b[39m\n"
     ]
    },
    {
     "name": "stdout",
     "output_type": "stream",
     "text": [
      "102\n"
     ]
    },
    {
     "name": "stderr",
     "output_type": "stream",
     "text": [
      "┌ Info: Found initial step size\n",
      "│   ϵ = 0.000390625\n",
      "└ @ Turing.Inference /home/everett/.julia/packages/Turing/GMBTf/src/inference/hmc.jl:629\n",
      "\u001b[32mSampling: 100%|█████████████████████████████████████████| Time: 0:00:09\u001b[39m\n"
     ]
    },
    {
     "name": "stdout",
     "output_type": "stream",
     "text": [
      "103\n"
     ]
    },
    {
     "name": "stderr",
     "output_type": "stream",
     "text": [
      "┌ Info: Found initial step size\n",
      "│   ϵ = 0.00078125\n",
      "└ @ Turing.Inference /home/everett/.julia/packages/Turing/GMBTf/src/inference/hmc.jl:629\n",
      "\u001b[32mSampling: 100%|█████████████████████████████████████████| Time: 0:00:08\u001b[39m\n"
     ]
    },
    {
     "name": "stdout",
     "output_type": "stream",
     "text": [
      "104\n"
     ]
    },
    {
     "name": "stderr",
     "output_type": "stream",
     "text": [
      "┌ Info: Found initial step size\n",
      "│   ϵ = 0.000390625\n",
      "└ @ Turing.Inference /home/everett/.julia/packages/Turing/GMBTf/src/inference/hmc.jl:629\n",
      "\u001b[32mSampling: 100%|█████████████████████████████████████████| Time: 0:00:21\u001b[39m\n"
     ]
    },
    {
     "name": "stdout",
     "output_type": "stream",
     "text": [
      "105\n"
     ]
    },
    {
     "name": "stderr",
     "output_type": "stream",
     "text": [
      "┌ Info: Found initial step size\n",
      "│   ϵ = 0.000390625\n",
      "└ @ Turing.Inference /home/everett/.julia/packages/Turing/GMBTf/src/inference/hmc.jl:629\n",
      "\u001b[32mSampling: 100%|█████████████████████████████████████████| Time: 0:00:09\u001b[39m\n"
     ]
    },
    {
     "name": "stdout",
     "output_type": "stream",
     "text": [
      "106\n"
     ]
    },
    {
     "name": "stderr",
     "output_type": "stream",
     "text": [
      "┌ Info: Found initial step size\n",
      "│   ϵ = 0.0005859375000000001\n",
      "└ @ Turing.Inference /home/everett/.julia/packages/Turing/GMBTf/src/inference/hmc.jl:629\n",
      "\u001b[32mSampling: 100%|█████████████████████████████████████████| Time: 0:00:42\u001b[39m\n"
     ]
    },
    {
     "name": "stdout",
     "output_type": "stream",
     "text": [
      "107\n"
     ]
    },
    {
     "name": "stderr",
     "output_type": "stream",
     "text": [
      "┌ Info: Found initial step size\n",
      "│   ϵ = 0.00078125\n",
      "└ @ Turing.Inference /home/everett/.julia/packages/Turing/GMBTf/src/inference/hmc.jl:629\n",
      "\u001b[32mSampling: 100%|█████████████████████████████████████████| Time: 0:00:20\u001b[39m\n"
     ]
    },
    {
     "name": "stdout",
     "output_type": "stream",
     "text": [
      "108\n"
     ]
    },
    {
     "name": "stderr",
     "output_type": "stream",
     "text": [
      "┌ Info: Found initial step size\n",
      "│   ϵ = 0.000390625\n",
      "└ @ Turing.Inference /home/everett/.julia/packages/Turing/GMBTf/src/inference/hmc.jl:629\n",
      "\u001b[32mSampling: 100%|█████████████████████████████████████████| Time: 0:00:37\u001b[39m\n"
     ]
    },
    {
     "name": "stdout",
     "output_type": "stream",
     "text": [
      "109\n"
     ]
    },
    {
     "name": "stderr",
     "output_type": "stream",
     "text": [
      "┌ Info: Found initial step size\n",
      "│   ϵ = 0.000390625\n",
      "└ @ Turing.Inference /home/everett/.julia/packages/Turing/GMBTf/src/inference/hmc.jl:629\n",
      "\u001b[32mSampling: 100%|█████████████████████████████████████████| Time: 0:00:08\u001b[39m\n"
     ]
    },
    {
     "name": "stdout",
     "output_type": "stream",
     "text": [
      "110\n"
     ]
    },
    {
     "name": "stderr",
     "output_type": "stream",
     "text": [
      "┌ Info: Found initial step size\n",
      "│   ϵ = 0.00078125\n",
      "└ @ Turing.Inference /home/everett/.julia/packages/Turing/GMBTf/src/inference/hmc.jl:629\n",
      "\u001b[32mSampling: 100%|█████████████████████████████████████████| Time: 0:00:32\u001b[39m\n"
     ]
    },
    {
     "name": "stdout",
     "output_type": "stream",
     "text": [
      "111\n"
     ]
    },
    {
     "name": "stderr",
     "output_type": "stream",
     "text": [
      "┌ Info: Found initial step size\n",
      "│   ϵ = 0.00078125\n",
      "└ @ Turing.Inference /home/everett/.julia/packages/Turing/GMBTf/src/inference/hmc.jl:629\n",
      "\u001b[32mSampling: 100%|█████████████████████████████████████████| Time: 0:00:24\u001b[39m\n"
     ]
    },
    {
     "name": "stdout",
     "output_type": "stream",
     "text": [
      "112\n"
     ]
    },
    {
     "name": "stderr",
     "output_type": "stream",
     "text": [
      "┌ Info: Found initial step size\n",
      "│   ϵ = 0.000390625\n",
      "└ @ Turing.Inference /home/everett/.julia/packages/Turing/GMBTf/src/inference/hmc.jl:629\n",
      "\u001b[32mSampling: 100%|█████████████████████████████████████████| Time: 0:00:12\u001b[39m\n"
     ]
    },
    {
     "name": "stdout",
     "output_type": "stream",
     "text": [
      "113\n"
     ]
    },
    {
     "name": "stderr",
     "output_type": "stream",
     "text": [
      "┌ Info: Found initial step size\n",
      "│   ϵ = 0.000390625\n",
      "└ @ Turing.Inference /home/everett/.julia/packages/Turing/GMBTf/src/inference/hmc.jl:629\n",
      "\u001b[32mSampling: 100%|█████████████████████████████████████████| Time: 0:00:35\u001b[39m\n"
     ]
    },
    {
     "name": "stdout",
     "output_type": "stream",
     "text": [
      "114\n"
     ]
    },
    {
     "name": "stderr",
     "output_type": "stream",
     "text": [
      "┌ Info: Found initial step size\n",
      "│   ϵ = 0.000390625\n",
      "└ @ Turing.Inference /home/everett/.julia/packages/Turing/GMBTf/src/inference/hmc.jl:629\n",
      "\u001b[32mSampling: 100%|█████████████████████████████████████████| Time: 0:00:40\u001b[39m\n"
     ]
    },
    {
     "name": "stdout",
     "output_type": "stream",
     "text": [
      "115\n"
     ]
    },
    {
     "name": "stderr",
     "output_type": "stream",
     "text": [
      "┌ Info: Found initial step size\n",
      "│   ϵ = 0.000390625\n",
      "└ @ Turing.Inference /home/everett/.julia/packages/Turing/GMBTf/src/inference/hmc.jl:629\n",
      "\u001b[32mSampling: 100%|█████████████████████████████████████████| Time: 0:00:29\u001b[39m\n"
     ]
    },
    {
     "name": "stdout",
     "output_type": "stream",
     "text": [
      "116\n"
     ]
    },
    {
     "name": "stderr",
     "output_type": "stream",
     "text": [
      "┌ Info: Found initial step size\n",
      "│   ϵ = 0.000390625\n",
      "└ @ Turing.Inference /home/everett/.julia/packages/Turing/GMBTf/src/inference/hmc.jl:629\n",
      "\u001b[32mSampling: 100%|█████████████████████████████████████████| Time: 0:00:13\u001b[39m\n"
     ]
    },
    {
     "name": "stdout",
     "output_type": "stream",
     "text": [
      "117\n"
     ]
    },
    {
     "name": "stderr",
     "output_type": "stream",
     "text": [
      "┌ Info: Found initial step size\n",
      "│   ϵ = 0.000390625\n",
      "└ @ Turing.Inference /home/everett/.julia/packages/Turing/GMBTf/src/inference/hmc.jl:629\n",
      "\u001b[32mSampling: 100%|█████████████████████████████████████████| Time: 0:00:18\u001b[39m\n"
     ]
    },
    {
     "name": "stdout",
     "output_type": "stream",
     "text": [
      "118\n"
     ]
    },
    {
     "name": "stderr",
     "output_type": "stream",
     "text": [
      "┌ Info: Found initial step size\n",
      "│   ϵ = 0.00078125\n",
      "└ @ Turing.Inference /home/everett/.julia/packages/Turing/GMBTf/src/inference/hmc.jl:629\n",
      "\u001b[32mSampling: 100%|█████████████████████████████████████████| Time: 0:00:46\u001b[39m\n"
     ]
    },
    {
     "name": "stdout",
     "output_type": "stream",
     "text": [
      "119\n"
     ]
    },
    {
     "name": "stderr",
     "output_type": "stream",
     "text": [
      "┌ Info: Found initial step size\n",
      "│   ϵ = 0.000390625\n",
      "└ @ Turing.Inference /home/everett/.julia/packages/Turing/GMBTf/src/inference/hmc.jl:629\n",
      "\u001b[32mSampling: 100%|█████████████████████████████████████████| Time: 0:00:08\u001b[39m\n"
     ]
    },
    {
     "name": "stdout",
     "output_type": "stream",
     "text": [
      "120\n"
     ]
    },
    {
     "name": "stderr",
     "output_type": "stream",
     "text": [
      "┌ Info: Found initial step size\n",
      "│   ϵ = 0.00078125\n",
      "└ @ Turing.Inference /home/everett/.julia/packages/Turing/GMBTf/src/inference/hmc.jl:629\n",
      "\u001b[32mSampling: 100%|█████████████████████████████████████████| Time: 0:00:14\u001b[39m\n"
     ]
    },
    {
     "name": "stdout",
     "output_type": "stream",
     "text": [
      "121\n"
     ]
    },
    {
     "name": "stderr",
     "output_type": "stream",
     "text": [
      "┌ Info: Found initial step size\n",
      "│   ϵ = 0.000390625\n",
      "└ @ Turing.Inference /home/everett/.julia/packages/Turing/GMBTf/src/inference/hmc.jl:629\n",
      "\u001b[32mSampling: 100%|█████████████████████████████████████████| Time: 0:00:07\u001b[39m\n"
     ]
    },
    {
     "name": "stdout",
     "output_type": "stream",
     "text": [
      "122\n"
     ]
    },
    {
     "name": "stderr",
     "output_type": "stream",
     "text": [
      "┌ Info: Found initial step size\n",
      "│   ϵ = 0.00078125\n",
      "└ @ Turing.Inference /home/everett/.julia/packages/Turing/GMBTf/src/inference/hmc.jl:629\n",
      "\u001b[32mSampling: 100%|█████████████████████████████████████████| Time: 0:00:17\u001b[39m\n"
     ]
    },
    {
     "name": "stdout",
     "output_type": "stream",
     "text": [
      "123\n"
     ]
    },
    {
     "name": "stderr",
     "output_type": "stream",
     "text": [
      "┌ Info: Found initial step size\n",
      "│   ϵ = 0.000390625\n",
      "└ @ Turing.Inference /home/everett/.julia/packages/Turing/GMBTf/src/inference/hmc.jl:629\n",
      "\u001b[32mSampling: 100%|█████████████████████████████████████████| Time: 0:00:38\u001b[39m\n"
     ]
    },
    {
     "name": "stdout",
     "output_type": "stream",
     "text": [
      "124\n"
     ]
    },
    {
     "name": "stderr",
     "output_type": "stream",
     "text": [
      "┌ Info: Found initial step size\n",
      "│   ϵ = 0.000390625\n",
      "└ @ Turing.Inference /home/everett/.julia/packages/Turing/GMBTf/src/inference/hmc.jl:629\n",
      "\u001b[32mSampling: 100%|█████████████████████████████████████████| Time: 0:00:13\u001b[39m\n"
     ]
    },
    {
     "name": "stdout",
     "output_type": "stream",
     "text": [
      "125\n"
     ]
    },
    {
     "name": "stderr",
     "output_type": "stream",
     "text": [
      "┌ Info: Found initial step size\n",
      "│   ϵ = 0.0006835937500000001\n",
      "└ @ Turing.Inference /home/everett/.julia/packages/Turing/GMBTf/src/inference/hmc.jl:629\n",
      "\u001b[32mSampling: 100%|█████████████████████████████████████████| Time: 0:00:51\u001b[39m\n"
     ]
    },
    {
     "name": "stdout",
     "output_type": "stream",
     "text": [
      "126\n"
     ]
    },
    {
     "name": "stderr",
     "output_type": "stream",
     "text": [
      "┌ Info: Found initial step size\n",
      "│   ϵ = 0.000390625\n",
      "└ @ Turing.Inference /home/everett/.julia/packages/Turing/GMBTf/src/inference/hmc.jl:629\n",
      "\u001b[32mSampling: 100%|█████████████████████████████████████████| Time: 0:00:18\u001b[39m\n"
     ]
    },
    {
     "name": "stdout",
     "output_type": "stream",
     "text": [
      "127\n"
     ]
    },
    {
     "name": "stderr",
     "output_type": "stream",
     "text": [
      "┌ Info: Found initial step size\n",
      "│   ϵ = 0.000390625\n",
      "└ @ Turing.Inference /home/everett/.julia/packages/Turing/GMBTf/src/inference/hmc.jl:629\n",
      "\u001b[32mSampling: 100%|█████████████████████████████████████████| Time: 0:00:13\u001b[39m\n"
     ]
    },
    {
     "name": "stdout",
     "output_type": "stream",
     "text": [
      "128\n"
     ]
    },
    {
     "name": "stderr",
     "output_type": "stream",
     "text": [
      "┌ Info: Found initial step size\n",
      "│   ϵ = 0.00078125\n",
      "└ @ Turing.Inference /home/everett/.julia/packages/Turing/GMBTf/src/inference/hmc.jl:629\n",
      "\u001b[32mSampling: 100%|█████████████████████████████████████████| Time: 0:00:21\u001b[39m\n"
     ]
    },
    {
     "name": "stdout",
     "output_type": "stream",
     "text": [
      "129\n"
     ]
    },
    {
     "name": "stderr",
     "output_type": "stream",
     "text": [
      "┌ Info: Found initial step size\n",
      "│   ϵ = 0.000390625\n",
      "└ @ Turing.Inference /home/everett/.julia/packages/Turing/GMBTf/src/inference/hmc.jl:629\n",
      "\u001b[32mSampling: 100%|█████████████████████████████████████████| Time: 0:00:29\u001b[39m\n"
     ]
    },
    {
     "name": "stdout",
     "output_type": "stream",
     "text": [
      "130\n"
     ]
    },
    {
     "name": "stderr",
     "output_type": "stream",
     "text": [
      "┌ Info: Found initial step size\n",
      "│   ϵ = 0.00078125\n",
      "└ @ Turing.Inference /home/everett/.julia/packages/Turing/GMBTf/src/inference/hmc.jl:629\n",
      "\u001b[32mSampling: 100%|█████████████████████████████████████████| Time: 0:00:08\u001b[39m\n"
     ]
    },
    {
     "name": "stdout",
     "output_type": "stream",
     "text": [
      "131\n"
     ]
    },
    {
     "name": "stderr",
     "output_type": "stream",
     "text": [
      "┌ Info: Found initial step size\n",
      "│   ϵ = 0.000390625\n",
      "└ @ Turing.Inference /home/everett/.julia/packages/Turing/GMBTf/src/inference/hmc.jl:629\n",
      "\u001b[32mSampling: 100%|█████████████████████████████████████████| Time: 0:00:36\u001b[39m\n"
     ]
    },
    {
     "name": "stdout",
     "output_type": "stream",
     "text": [
      "132\n"
     ]
    },
    {
     "name": "stderr",
     "output_type": "stream",
     "text": [
      "┌ Info: Found initial step size\n",
      "│   ϵ = 0.000390625\n",
      "└ @ Turing.Inference /home/everett/.julia/packages/Turing/GMBTf/src/inference/hmc.jl:629\n",
      "┌ Warning: The current proposal will be rejected due to numerical error(s).\n",
      "│   isfinite.((θ, r, ℓπ, ℓκ)) = (true, false, false, false)\n",
      "└ @ AdvancedHMC /home/everett/.julia/packages/AdvancedHMC/P9wqk/src/hamiltonian.jl:47\n",
      "\u001b[32mSampling: 100%|█████████████████████████████████████████| Time: 0:00:07\u001b[39m\n"
     ]
    },
    {
     "ename": "DomainError",
     "evalue": "DomainError with -2.2161801981834353e14:\nlog will only return a complex result if called with a complex argument. Try log(Complex(x)).",
     "output_type": "error",
     "traceback": [
      "DomainError with -2.2161801981834353e14:\nlog will only return a complex result if called with a complex argument. Try log(Complex(x)).",
      "",
      "Stacktrace:",
      " [1] gamma_mle_update(::Float64, ::Float64, ::Float64) at /home/everett/.julia/packages/Distributions/RAeyY/src/univariate/continuous/gamma.jl:153",
      " [2] fit_mle(::Type{Gamma}, ::Distributions.GammaStats; alpha0::Float64, maxiter::Int64, tol::Float64) at /home/everett/.julia/packages/Distributions/RAeyY/src/univariate/continuous/gamma.jl:171",
      " [3] fit_mle at /home/everett/.julia/packages/Distributions/RAeyY/src/univariate/continuous/gamma.jl:160 [inlined]",
      " [4] fit_mle at /home/everett/.julia/packages/Distributions/RAeyY/src/genericfit.jl:27 [inlined]",
      " [5] fit at /home/everett/.julia/packages/Distributions/RAeyY/src/genericfit.jl:33 [inlined]",
      " [6] fit_mle(::Type{InverseGamma}, ::Array{Float64,1}) at ./In[5]:12",
      " [7] get_posteriors(::Chains{Float64,Missing,NamedTuple{(:internals, :parameters),Tuple{Array{String,1},Array{String,1}}},NamedTuple{(),Tuple{}}}, ::Int64) at ./In[8]:4",
      " [8] top-level scope at In[10]:55"
     ]
    }
   ],
   "source": [
    "start_day = 170\n",
    "ws = 60\n",
    "s = 1\n",
    "end_day = 400\n",
    "\n",
    "n_days = end_day - start_day\n",
    "\n",
    "inferred_variables = DataFrame(\n",
    "    day = [],\n",
    "    h = [],\n",
    "    i = []\n",
    ")\n",
    "\n",
    "for i = 1:n_teams\n",
    "    inferred_variables[\"o$i\"] = []\n",
    "    inferred_variables[\"d$i\"] = []\n",
    "end\n",
    "\n",
    "priors = Dict(\n",
    "    :Δσₕ => (5.0, 0.001),\n",
    "    :Δσᵢ => (5.0, 0.001),\n",
    "    :Δσₜₑₐₘ => (5.0, 0.002),\n",
    "    :h => (0.25, 0.005),\n",
    "    :i => (1.12, 0.005),\n",
    "    :o => (o_init, ones(n_teams)*0.005),\n",
    "    :d => (d_init, ones(n_teams)*0.005)\n",
    ")\n",
    "\n",
    "\n",
    "for t = 1:s:(end_day - start_day + 1)\n",
    "    day = t + start_day - 1\n",
    "\n",
    "    if t == 1\n",
    "        games = filter(row -> (row[:day] <= day), games_full)\n",
    "        println(minimum(games[:,:day]))\n",
    "    else\n",
    "        games = filter(row -> ((row[:day] <= day) .& (row[:day] > (day - ws))), games_full)\n",
    "        println(minimum(games[:,:day]))\n",
    "    end\n",
    "    \n",
    "     idₕ = Vector{Int64}(games[:,:home_id])\n",
    "    idₐ = Vector{Int64}(games[:,:away_id])\n",
    "    sₕ = Vector{Int64}(games[:,:home_score])\n",
    "    sₐ = Vector{Int64}(games[:,:away_score])\n",
    "    hw = Vector{Int64}(games[:,:home_win])\n",
    "    m = nhl_inference(idₕ, idₐ, sₕ, sₐ, hw, priors)\n",
    "    #est = optimize(m, MAP())\n",
    "    #priors_μ = est.values.array\n",
    "    #print(priors_μ)\n",
    "    #chain = sample(m, HMCDA(200, 0.65, 0.3), 500, init_theta = priors_μ)\n",
    "    chain = sample(m, NUTS(100, 0.65), 200)#, init_theta = priors_μ)\n",
    "    priors = posteriors = get_posteriors(chain, n_teams)\n",
    "\n",
    "    inferred = []\n",
    "    push!(inferred, day)\n",
    "    push!(inferred, InverseGamma(posteriors[:Δσₕ][1], posteriors[:Δσₕ][2]))         # Δ\\sigmaₕ\n",
    "    push!(inferred, InverseGamma(posteriors[:Δσᵢ][1], posteriors[:Δσᵢ][2]))         # Δ\\sigmaᵢ\n",
    "    push!(inferred, InverseGamma(posteriors[:Δσₜₑₐₘ][1], posteriors[:Δσₜₑₐₘ][2]))   # Δ\\sigmaₜₑₐₘ\n",
    "    push!(inferred, Normal(posteriors[:h][1], posteriors[:h][2]))                   # h\n",
    "    push!(inferred, Normal(posteriors[:i][1], posteriors[:i][2]))                   # i\n",
    "    for j = 1:n_teams\n",
    "        push!(inferred, Normal(posteriors[:o][1][j], posteriors[:o][2][j]))         # oⱼ\n",
    "        push!(inferred, Normal(posteriors[:d][1][j], posteriors[:d][2][j]))         # dⱼ\n",
    "    end\n",
    "    push!(inferred_variables, inferred)\n",
    "end"
   ]
  },
  {
   "cell_type": "code",
   "execution_count": 11,
   "metadata": {},
   "outputs": [
    {
     "data": {
      "text/plain": [
       "nhl_inference_plot (generic function with 1 method)"
      ]
     },
     "execution_count": 11,
     "metadata": {},
     "output_type": "execute_result"
    }
   ],
   "source": [
    "function nhl_inference_plot(lvars, ivars, vname)\n",
    "    ldays = lvars[:,:day]\n",
    "    ly = lvars[:,vname]\n",
    "    idays = ivars[:,:day]\n",
    "    iy = ivars[:,vname]\n",
    "    iyμ = [y.μ for y in iy]\n",
    "    iyσ = [y.σ for y in iy]\n",
    "    plot(ldays, ly)\n",
    "    plot!(idays, iyμ, ribbon=iyσ)\n",
    "end"
   ]
  },
  {
   "cell_type": "code",
   "execution_count": 12,
   "metadata": {},
   "outputs": [
    {
     "data": {
      "image/svg+xml": [
       "<?xml version=\"1.0\" encoding=\"utf-8\"?>\n",
       "<svg xmlns=\"http://www.w3.org/2000/svg\" xmlns:xlink=\"http://www.w3.org/1999/xlink\" width=\"600\" height=\"400\" viewBox=\"0 0 2400 1600\">\n",
       "<defs>\n",
       "  <clipPath id=\"clip400\">\n",
       "    <rect x=\"0\" y=\"0\" width=\"2400\" height=\"1600\"/>\n",
       "  </clipPath>\n",
       "</defs>\n",
       "<path clip-path=\"url(#clip400)\" d=\"\n",
       "M0 1600 L2400 1600 L2400 0 L0 0  Z\n",
       "  \" fill=\"#ffffff\" fill-rule=\"evenodd\" fill-opacity=\"1\"/>\n",
       "<defs>\n",
       "  <clipPath id=\"clip401\">\n",
       "    <rect x=\"480\" y=\"0\" width=\"1681\" height=\"1600\"/>\n",
       "  </clipPath>\n",
       "</defs>\n",
       "<path clip-path=\"url(#clip400)\" d=\"\n",
       "M174.214 1486.45 L2352.76 1486.45 L2352.76 47.2441 L174.214 47.2441  Z\n",
       "  \" fill=\"#ffffff\" fill-rule=\"evenodd\" fill-opacity=\"1\"/>\n",
       "<defs>\n",
       "  <clipPath id=\"clip402\">\n",
       "    <rect x=\"174\" y=\"47\" width=\"2180\" height=\"1440\"/>\n",
       "  </clipPath>\n",
       "</defs>\n",
       "<polyline clip-path=\"url(#clip402)\" style=\"stroke:#000000; stroke-width:2; stroke-opacity:0.1; fill:none\" points=\"\n",
       "  233.813,1486.45 233.813,47.2441 \n",
       "  \"/>\n",
       "<polyline clip-path=\"url(#clip402)\" style=\"stroke:#000000; stroke-width:2; stroke-opacity:0.1; fill:none\" points=\"\n",
       "  748.135,1486.45 748.135,47.2441 \n",
       "  \"/>\n",
       "<polyline clip-path=\"url(#clip402)\" style=\"stroke:#000000; stroke-width:2; stroke-opacity:0.1; fill:none\" points=\"\n",
       "  1262.46,1486.45 1262.46,47.2441 \n",
       "  \"/>\n",
       "<polyline clip-path=\"url(#clip402)\" style=\"stroke:#000000; stroke-width:2; stroke-opacity:0.1; fill:none\" points=\"\n",
       "  1776.78,1486.45 1776.78,47.2441 \n",
       "  \"/>\n",
       "<polyline clip-path=\"url(#clip402)\" style=\"stroke:#000000; stroke-width:2; stroke-opacity:0.1; fill:none\" points=\"\n",
       "  2291.1,1486.45 2291.1,47.2441 \n",
       "  \"/>\n",
       "<polyline clip-path=\"url(#clip402)\" style=\"stroke:#000000; stroke-width:2; stroke-opacity:0.1; fill:none\" points=\"\n",
       "  174.214,1296.11 2352.76,1296.11 \n",
       "  \"/>\n",
       "<polyline clip-path=\"url(#clip402)\" style=\"stroke:#000000; stroke-width:2; stroke-opacity:0.1; fill:none\" points=\"\n",
       "  174.214,1092.46 2352.76,1092.46 \n",
       "  \"/>\n",
       "<polyline clip-path=\"url(#clip402)\" style=\"stroke:#000000; stroke-width:2; stroke-opacity:0.1; fill:none\" points=\"\n",
       "  174.214,888.808 2352.76,888.808 \n",
       "  \"/>\n",
       "<polyline clip-path=\"url(#clip402)\" style=\"stroke:#000000; stroke-width:2; stroke-opacity:0.1; fill:none\" points=\"\n",
       "  174.214,685.156 2352.76,685.156 \n",
       "  \"/>\n",
       "<polyline clip-path=\"url(#clip402)\" style=\"stroke:#000000; stroke-width:2; stroke-opacity:0.1; fill:none\" points=\"\n",
       "  174.214,481.504 2352.76,481.504 \n",
       "  \"/>\n",
       "<polyline clip-path=\"url(#clip402)\" style=\"stroke:#000000; stroke-width:2; stroke-opacity:0.1; fill:none\" points=\"\n",
       "  174.214,277.852 2352.76,277.852 \n",
       "  \"/>\n",
       "<polyline clip-path=\"url(#clip402)\" style=\"stroke:#000000; stroke-width:2; stroke-opacity:0.1; fill:none\" points=\"\n",
       "  174.214,74.1995 2352.76,74.1995 \n",
       "  \"/>\n",
       "<polyline clip-path=\"url(#clip400)\" style=\"stroke:#000000; stroke-width:4; stroke-opacity:1; fill:none\" points=\"\n",
       "  174.214,1486.45 2352.76,1486.45 \n",
       "  \"/>\n",
       "<polyline clip-path=\"url(#clip400)\" style=\"stroke:#000000; stroke-width:4; stroke-opacity:1; fill:none\" points=\"\n",
       "  174.214,1486.45 174.214,47.2441 \n",
       "  \"/>\n",
       "<polyline clip-path=\"url(#clip400)\" style=\"stroke:#000000; stroke-width:4; stroke-opacity:1; fill:none\" points=\"\n",
       "  233.813,1486.45 233.813,1469.18 \n",
       "  \"/>\n",
       "<polyline clip-path=\"url(#clip400)\" style=\"stroke:#000000; stroke-width:4; stroke-opacity:1; fill:none\" points=\"\n",
       "  748.135,1486.45 748.135,1469.18 \n",
       "  \"/>\n",
       "<polyline clip-path=\"url(#clip400)\" style=\"stroke:#000000; stroke-width:4; stroke-opacity:1; fill:none\" points=\"\n",
       "  1262.46,1486.45 1262.46,1469.18 \n",
       "  \"/>\n",
       "<polyline clip-path=\"url(#clip400)\" style=\"stroke:#000000; stroke-width:4; stroke-opacity:1; fill:none\" points=\"\n",
       "  1776.78,1486.45 1776.78,1469.18 \n",
       "  \"/>\n",
       "<polyline clip-path=\"url(#clip400)\" style=\"stroke:#000000; stroke-width:4; stroke-opacity:1; fill:none\" points=\"\n",
       "  2291.1,1486.45 2291.1,1469.18 \n",
       "  \"/>\n",
       "<polyline clip-path=\"url(#clip400)\" style=\"stroke:#000000; stroke-width:4; stroke-opacity:1; fill:none\" points=\"\n",
       "  174.214,1296.11 200.356,1296.11 \n",
       "  \"/>\n",
       "<polyline clip-path=\"url(#clip400)\" style=\"stroke:#000000; stroke-width:4; stroke-opacity:1; fill:none\" points=\"\n",
       "  174.214,1092.46 200.356,1092.46 \n",
       "  \"/>\n",
       "<polyline clip-path=\"url(#clip400)\" style=\"stroke:#000000; stroke-width:4; stroke-opacity:1; fill:none\" points=\"\n",
       "  174.214,888.808 200.356,888.808 \n",
       "  \"/>\n",
       "<polyline clip-path=\"url(#clip400)\" style=\"stroke:#000000; stroke-width:4; stroke-opacity:1; fill:none\" points=\"\n",
       "  174.214,685.156 200.356,685.156 \n",
       "  \"/>\n",
       "<polyline clip-path=\"url(#clip400)\" style=\"stroke:#000000; stroke-width:4; stroke-opacity:1; fill:none\" points=\"\n",
       "  174.214,481.504 200.356,481.504 \n",
       "  \"/>\n",
       "<polyline clip-path=\"url(#clip400)\" style=\"stroke:#000000; stroke-width:4; stroke-opacity:1; fill:none\" points=\"\n",
       "  174.214,277.852 200.356,277.852 \n",
       "  \"/>\n",
       "<polyline clip-path=\"url(#clip400)\" style=\"stroke:#000000; stroke-width:4; stroke-opacity:1; fill:none\" points=\"\n",
       "  174.214,74.1995 200.356,74.1995 \n",
       "  \"/>\n",
       "<path clip-path=\"url(#clip400)\" d=\"M 0 0 M233.813 1508.44 Q230.202 1508.44 228.374 1512 Q226.568 1515.55 226.568 1522.67 Q226.568 1529.78 228.374 1533.35 Q230.202 1536.89 233.813 1536.89 Q237.448 1536.89 239.253 1533.35 Q241.082 1529.78 241.082 1522.67 Q241.082 1515.55 239.253 1512 Q237.448 1508.44 233.813 1508.44 M233.813 1504.73 Q239.624 1504.73 242.679 1509.34 Q245.758 1513.92 245.758 1522.67 Q245.758 1531.4 242.679 1536.01 Q239.624 1540.59 233.813 1540.59 Q228.003 1540.59 224.925 1536.01 Q221.869 1531.4 221.869 1522.67 Q221.869 1513.92 224.925 1509.34 Q228.003 1504.73 233.813 1504.73 Z\" fill=\"#000000\" fill-rule=\"evenodd\" fill-opacity=\"1\" /><path clip-path=\"url(#clip400)\" d=\"M 0 0 M716.272 1535.98 L732.591 1535.98 L732.591 1539.92 L710.647 1539.92 L710.647 1535.98 Q713.309 1533.23 717.892 1528.6 Q722.498 1523.95 723.679 1522.61 Q725.924 1520.08 726.804 1518.35 Q727.707 1516.59 727.707 1514.9 Q727.707 1512.14 725.762 1510.41 Q723.841 1508.67 720.739 1508.67 Q718.54 1508.67 716.086 1509.43 Q713.656 1510.2 710.878 1511.75 L710.878 1507.03 Q713.702 1505.89 716.156 1505.31 Q718.61 1504.73 720.647 1504.73 Q726.017 1504.73 729.211 1507.42 Q732.406 1510.11 732.406 1514.6 Q732.406 1516.73 731.596 1518.65 Q730.809 1520.54 728.702 1523.14 Q728.123 1523.81 725.022 1527.03 Q721.92 1530.22 716.272 1535.98 Z\" fill=\"#000000\" fill-rule=\"evenodd\" fill-opacity=\"1\" /><path clip-path=\"url(#clip400)\" d=\"M 0 0 M737.707 1505.36 L756.063 1505.36 L756.063 1509.3 L741.989 1509.3 L741.989 1517.77 Q743.008 1517.42 744.026 1517.26 Q745.045 1517.07 746.063 1517.07 Q751.85 1517.07 755.23 1520.24 Q758.609 1523.42 758.609 1528.83 Q758.609 1534.41 755.137 1537.51 Q751.665 1540.59 745.346 1540.59 Q743.17 1540.59 740.901 1540.22 Q738.656 1539.85 736.248 1539.11 L736.248 1534.41 Q738.332 1535.54 740.554 1536.1 Q742.776 1536.66 745.253 1536.66 Q749.258 1536.66 751.595 1534.55 Q753.933 1532.44 753.933 1528.83 Q753.933 1525.22 751.595 1523.11 Q749.258 1521.01 745.253 1521.01 Q743.378 1521.01 741.503 1521.42 Q739.651 1521.84 737.707 1522.72 L737.707 1505.36 Z\" fill=\"#000000\" fill-rule=\"evenodd\" fill-opacity=\"1\" /><path clip-path=\"url(#clip400)\" d=\"M 0 0 M773.679 1508.44 Q770.068 1508.44 768.239 1512 Q766.433 1515.55 766.433 1522.67 Q766.433 1529.78 768.239 1533.35 Q770.068 1536.89 773.679 1536.89 Q777.313 1536.89 779.118 1533.35 Q780.947 1529.78 780.947 1522.67 Q780.947 1515.55 779.118 1512 Q777.313 1508.44 773.679 1508.44 M773.679 1504.73 Q779.489 1504.73 782.544 1509.34 Q785.623 1513.92 785.623 1522.67 Q785.623 1531.4 782.544 1536.01 Q779.489 1540.59 773.679 1540.59 Q767.869 1540.59 764.79 1536.01 Q761.734 1531.4 761.734 1522.67 Q761.734 1513.92 764.79 1509.34 Q767.869 1504.73 773.679 1504.73 Z\" fill=\"#000000\" fill-rule=\"evenodd\" fill-opacity=\"1\" /><path clip-path=\"url(#clip400)\" d=\"M 0 0 M1225.72 1505.36 L1244.08 1505.36 L1244.08 1509.3 L1230 1509.3 L1230 1517.77 Q1231.02 1517.42 1232.04 1517.26 Q1233.06 1517.07 1234.08 1517.07 Q1239.86 1517.07 1243.24 1520.24 Q1246.62 1523.42 1246.62 1528.83 Q1246.62 1534.41 1243.15 1537.51 Q1239.68 1540.59 1233.36 1540.59 Q1231.18 1540.59 1228.91 1540.22 Q1226.67 1539.85 1224.26 1539.11 L1224.26 1534.41 Q1226.35 1535.54 1228.57 1536.1 Q1230.79 1536.66 1233.27 1536.66 Q1237.27 1536.66 1239.61 1534.55 Q1241.95 1532.44 1241.95 1528.83 Q1241.95 1525.22 1239.61 1523.11 Q1237.27 1521.01 1233.27 1521.01 Q1231.39 1521.01 1229.52 1521.42 Q1227.66 1521.84 1225.72 1522.72 L1225.72 1505.36 Z\" fill=\"#000000\" fill-rule=\"evenodd\" fill-opacity=\"1\" /><path clip-path=\"url(#clip400)\" d=\"M 0 0 M1261.69 1508.44 Q1258.08 1508.44 1256.25 1512 Q1254.45 1515.55 1254.45 1522.67 Q1254.45 1529.78 1256.25 1533.35 Q1258.08 1536.89 1261.69 1536.89 Q1265.33 1536.89 1267.13 1533.35 Q1268.96 1529.78 1268.96 1522.67 Q1268.96 1515.55 1267.13 1512 Q1265.33 1508.44 1261.69 1508.44 M1261.69 1504.73 Q1267.5 1504.73 1270.56 1509.34 Q1273.64 1513.92 1273.64 1522.67 Q1273.64 1531.4 1270.56 1536.01 Q1267.5 1540.59 1261.69 1540.59 Q1255.88 1540.59 1252.8 1536.01 Q1249.75 1531.4 1249.75 1522.67 Q1249.75 1513.92 1252.8 1509.34 Q1255.88 1504.73 1261.69 1504.73 Z\" fill=\"#000000\" fill-rule=\"evenodd\" fill-opacity=\"1\" /><path clip-path=\"url(#clip400)\" d=\"M 0 0 M1288.71 1508.44 Q1285.1 1508.44 1283.27 1512 Q1281.46 1515.55 1281.46 1522.67 Q1281.46 1529.78 1283.27 1533.35 Q1285.1 1536.89 1288.71 1536.89 Q1292.34 1536.89 1294.15 1533.35 Q1295.97 1529.78 1295.97 1522.67 Q1295.97 1515.55 1294.15 1512 Q1292.34 1508.44 1288.71 1508.44 M1288.71 1504.73 Q1294.52 1504.73 1297.57 1509.34 Q1300.65 1513.92 1300.65 1522.67 Q1300.65 1531.4 1297.57 1536.01 Q1294.52 1540.59 1288.71 1540.59 Q1282.9 1540.59 1279.82 1536.01 Q1276.76 1531.4 1276.76 1522.67 Q1276.76 1513.92 1279.82 1509.34 Q1282.9 1504.73 1288.71 1504.73 Z\" fill=\"#000000\" fill-rule=\"evenodd\" fill-opacity=\"1\" /><path clip-path=\"url(#clip400)\" d=\"M 0 0 M1739.15 1505.36 L1761.37 1505.36 L1761.37 1507.35 L1748.83 1539.92 L1743.94 1539.92 L1755.75 1509.3 L1739.15 1509.3 L1739.15 1505.36 Z\" fill=\"#000000\" fill-rule=\"evenodd\" fill-opacity=\"1\" /><path clip-path=\"url(#clip400)\" d=\"M 0 0 M1766.49 1505.36 L1784.84 1505.36 L1784.84 1509.3 L1770.77 1509.3 L1770.77 1517.77 Q1771.79 1517.42 1772.81 1517.26 Q1773.83 1517.07 1774.84 1517.07 Q1780.63 1517.07 1784.01 1520.24 Q1787.39 1523.42 1787.39 1528.83 Q1787.39 1534.41 1783.92 1537.51 Q1780.45 1540.59 1774.13 1540.59 Q1771.95 1540.59 1769.68 1540.22 Q1767.44 1539.85 1765.03 1539.11 L1765.03 1534.41 Q1767.11 1535.54 1769.34 1536.1 Q1771.56 1536.66 1774.03 1536.66 Q1778.04 1536.66 1780.38 1534.55 Q1782.72 1532.44 1782.72 1528.83 Q1782.72 1525.22 1780.38 1523.11 Q1778.04 1521.01 1774.03 1521.01 Q1772.16 1521.01 1770.28 1521.42 Q1768.43 1521.84 1766.49 1522.72 L1766.49 1505.36 Z\" fill=\"#000000\" fill-rule=\"evenodd\" fill-opacity=\"1\" /><path clip-path=\"url(#clip400)\" d=\"M 0 0 M1802.46 1508.44 Q1798.85 1508.44 1797.02 1512 Q1795.22 1515.55 1795.22 1522.67 Q1795.22 1529.78 1797.02 1533.35 Q1798.85 1536.89 1802.46 1536.89 Q1806.09 1536.89 1807.9 1533.35 Q1809.73 1529.78 1809.73 1522.67 Q1809.73 1515.55 1807.9 1512 Q1806.09 1508.44 1802.46 1508.44 M1802.46 1504.73 Q1808.27 1504.73 1811.33 1509.34 Q1814.4 1513.92 1814.4 1522.67 Q1814.4 1531.4 1811.33 1536.01 Q1808.27 1540.59 1802.46 1540.59 Q1796.65 1540.59 1793.57 1536.01 Q1790.52 1531.4 1790.52 1522.67 Q1790.52 1513.92 1793.57 1509.34 Q1796.65 1504.73 1802.46 1504.73 Z\" fill=\"#000000\" fill-rule=\"evenodd\" fill-opacity=\"1\" /><path clip-path=\"url(#clip400)\" d=\"M 0 0 M2240.96 1535.98 L2248.6 1535.98 L2248.6 1509.62 L2240.29 1511.29 L2240.29 1507.03 L2248.55 1505.36 L2253.23 1505.36 L2253.23 1535.98 L2260.87 1535.98 L2260.87 1539.92 L2240.96 1539.92 L2240.96 1535.98 Z\" fill=\"#000000\" fill-rule=\"evenodd\" fill-opacity=\"1\" /><path clip-path=\"url(#clip400)\" d=\"M 0 0 M2275.94 1508.44 Q2272.33 1508.44 2270.5 1512 Q2268.69 1515.55 2268.69 1522.67 Q2268.69 1529.78 2270.5 1533.35 Q2272.33 1536.89 2275.94 1536.89 Q2279.57 1536.89 2281.38 1533.35 Q2283.21 1529.78 2283.21 1522.67 Q2283.21 1515.55 2281.38 1512 Q2279.57 1508.44 2275.94 1508.44 M2275.94 1504.73 Q2281.75 1504.73 2284.8 1509.34 Q2287.88 1513.92 2287.88 1522.67 Q2287.88 1531.4 2284.8 1536.01 Q2281.75 1540.59 2275.94 1540.59 Q2270.13 1540.59 2267.05 1536.01 Q2263.99 1531.4 2263.99 1522.67 Q2263.99 1513.92 2267.05 1509.34 Q2270.13 1504.73 2275.94 1504.73 Z\" fill=\"#000000\" fill-rule=\"evenodd\" fill-opacity=\"1\" /><path clip-path=\"url(#clip400)\" d=\"M 0 0 M2302.95 1508.44 Q2299.34 1508.44 2297.51 1512 Q2295.71 1515.55 2295.71 1522.67 Q2295.71 1529.78 2297.51 1533.35 Q2299.34 1536.89 2302.95 1536.89 Q2306.59 1536.89 2308.39 1533.35 Q2310.22 1529.78 2310.22 1522.67 Q2310.22 1515.55 2308.39 1512 Q2306.59 1508.44 2302.95 1508.44 M2302.95 1504.73 Q2308.76 1504.73 2311.82 1509.34 Q2314.9 1513.92 2314.9 1522.67 Q2314.9 1531.4 2311.82 1536.01 Q2308.76 1540.59 2302.95 1540.59 Q2297.14 1540.59 2294.06 1536.01 Q2291.01 1531.4 2291.01 1522.67 Q2291.01 1513.92 2294.06 1509.34 Q2297.14 1504.73 2302.95 1504.73 Z\" fill=\"#000000\" fill-rule=\"evenodd\" fill-opacity=\"1\" /><path clip-path=\"url(#clip400)\" d=\"M 0 0 M2329.96 1508.44 Q2326.35 1508.44 2324.52 1512 Q2322.72 1515.55 2322.72 1522.67 Q2322.72 1529.78 2324.52 1533.35 Q2326.35 1536.89 2329.96 1536.89 Q2333.6 1536.89 2335.4 1533.35 Q2337.23 1529.78 2337.23 1522.67 Q2337.23 1515.55 2335.4 1512 Q2333.6 1508.44 2329.96 1508.44 M2329.96 1504.73 Q2335.77 1504.73 2338.83 1509.34 Q2341.91 1513.92 2341.91 1522.67 Q2341.91 1531.4 2338.83 1536.01 Q2335.77 1540.59 2329.96 1540.59 Q2324.15 1540.59 2321.08 1536.01 Q2318.02 1531.4 2318.02 1522.67 Q2318.02 1513.92 2321.08 1509.34 Q2324.15 1504.73 2329.96 1504.73 Z\" fill=\"#000000\" fill-rule=\"evenodd\" fill-opacity=\"1\" /><path clip-path=\"url(#clip400)\" d=\"M 0 0 M75.3995 1281.91 Q71.7884 1281.91 69.9597 1285.48 Q68.1541 1289.02 68.1541 1296.15 Q68.1541 1303.25 69.9597 1306.82 Q71.7884 1310.36 75.3995 1310.36 Q79.0337 1310.36 80.8393 1306.82 Q82.6679 1303.25 82.6679 1296.15 Q82.6679 1289.02 80.8393 1285.48 Q79.0337 1281.91 75.3995 1281.91 M75.3995 1278.21 Q81.2096 1278.21 84.2652 1282.81 Q87.3438 1287.4 87.3438 1296.15 Q87.3438 1304.87 84.2652 1309.48 Q81.2096 1314.06 75.3995 1314.06 Q69.5893 1314.06 66.5106 1309.48 Q63.4551 1304.87 63.4551 1296.15 Q63.4551 1287.4 66.5106 1282.81 Q69.5893 1278.21 75.3995 1278.21 Z\" fill=\"#000000\" fill-rule=\"evenodd\" fill-opacity=\"1\" /><path clip-path=\"url(#clip400)\" d=\"M 0 0 M92.4133 1307.51 L97.2975 1307.51 L97.2975 1313.39 L92.4133 1313.39 L92.4133 1307.51 Z\" fill=\"#000000\" fill-rule=\"evenodd\" fill-opacity=\"1\" /><path clip-path=\"url(#clip400)\" d=\"M 0 0 M106.395 1309.46 L122.714 1309.46 L122.714 1313.39 L100.77 1313.39 L100.77 1309.46 Q103.432 1306.7 108.015 1302.07 Q112.621 1297.42 113.802 1296.08 Q116.047 1293.55 116.927 1291.82 Q117.83 1290.06 117.83 1288.37 Q117.83 1285.61 115.885 1283.88 Q113.964 1282.14 110.862 1282.14 Q108.663 1282.14 106.209 1282.91 Q103.779 1283.67 101.001 1285.22 L101.001 1280.5 Q103.825 1279.36 106.279 1278.79 Q108.733 1278.21 110.77 1278.21 Q116.14 1278.21 119.334 1280.89 Q122.529 1283.58 122.529 1288.07 Q122.529 1290.2 121.719 1292.12 Q120.932 1294.02 118.825 1296.61 Q118.246 1297.28 115.145 1300.5 Q112.043 1303.69 106.395 1309.46 Z\" fill=\"#000000\" fill-rule=\"evenodd\" fill-opacity=\"1\" /><path clip-path=\"url(#clip400)\" d=\"M 0 0 M140.631 1282.91 L128.825 1301.35 L140.631 1301.35 L140.631 1282.91 M139.404 1278.83 L145.283 1278.83 L145.283 1301.35 L150.214 1301.35 L150.214 1305.24 L145.283 1305.24 L145.283 1313.39 L140.631 1313.39 L140.631 1305.24 L125.029 1305.24 L125.029 1300.73 L139.404 1278.83 Z\" fill=\"#000000\" fill-rule=\"evenodd\" fill-opacity=\"1\" /><path clip-path=\"url(#clip400)\" d=\"M 0 0 M76.8809 1078.26 Q73.2698 1078.26 71.4412 1081.82 Q69.6356 1085.36 69.6356 1092.49 Q69.6356 1099.6 71.4412 1103.17 Q73.2698 1106.71 76.8809 1106.71 Q80.5152 1106.71 82.3207 1103.17 Q84.1494 1099.6 84.1494 1092.49 Q84.1494 1085.36 82.3207 1081.82 Q80.5152 1078.26 76.8809 1078.26 M76.8809 1074.55 Q82.6911 1074.55 85.7466 1079.16 Q88.8253 1083.74 88.8253 1092.49 Q88.8253 1101.22 85.7466 1105.83 Q82.6911 1110.41 76.8809 1110.41 Q71.0708 1110.41 67.9921 1105.83 Q64.9366 1101.22 64.9366 1092.49 Q64.9366 1083.74 67.9921 1079.16 Q71.0708 1074.55 76.8809 1074.55 Z\" fill=\"#000000\" fill-rule=\"evenodd\" fill-opacity=\"1\" /><path clip-path=\"url(#clip400)\" d=\"M 0 0 M93.8947 1103.86 L98.779 1103.86 L98.779 1109.74 L93.8947 1109.74 L93.8947 1103.86 Z\" fill=\"#000000\" fill-rule=\"evenodd\" fill-opacity=\"1\" /><path clip-path=\"url(#clip400)\" d=\"M 0 0 M107.876 1105.8 L124.196 1105.8 L124.196 1109.74 L102.251 1109.74 L102.251 1105.8 Q104.913 1103.05 109.497 1098.42 Q114.103 1093.77 115.284 1092.43 Q117.529 1089.9 118.408 1088.17 Q119.311 1086.41 119.311 1084.72 Q119.311 1081.96 117.367 1080.23 Q115.446 1078.49 112.344 1078.49 Q110.145 1078.49 107.691 1079.25 Q105.26 1080.02 102.483 1081.57 L102.483 1076.85 Q105.307 1075.71 107.76 1075.13 Q110.214 1074.55 112.251 1074.55 Q117.621 1074.55 120.816 1077.24 Q124.01 1079.93 124.01 1084.42 Q124.01 1086.55 123.2 1088.47 Q122.413 1090.36 120.307 1092.96 Q119.728 1093.63 116.626 1096.85 Q113.524 1100.04 107.876 1105.8 Z\" fill=\"#000000\" fill-rule=\"evenodd\" fill-opacity=\"1\" /><path clip-path=\"url(#clip400)\" d=\"M 0 0 M129.311 1075.18 L147.668 1075.18 L147.668 1079.11 L133.594 1079.11 L133.594 1087.59 Q134.612 1087.24 135.631 1087.08 Q136.649 1086.89 137.668 1086.89 Q143.455 1086.89 146.834 1090.06 Q150.214 1093.24 150.214 1098.65 Q150.214 1104.23 146.742 1107.33 Q143.269 1110.41 136.95 1110.41 Q134.774 1110.41 132.506 1110.04 Q130.26 1109.67 127.853 1108.93 L127.853 1104.23 Q129.936 1105.36 132.158 1105.92 Q134.381 1106.48 136.857 1106.48 Q140.862 1106.48 143.2 1104.37 Q145.538 1102.26 145.538 1098.65 Q145.538 1095.04 143.2 1092.93 Q140.862 1090.83 136.857 1090.83 Q134.982 1090.83 133.107 1091.24 Q131.256 1091.66 129.311 1092.54 L129.311 1075.18 Z\" fill=\"#000000\" fill-rule=\"evenodd\" fill-opacity=\"1\" /><path clip-path=\"url(#clip400)\" d=\"M 0 0 M75.7235 874.606 Q72.1124 874.606 70.2838 878.171 Q68.4782 881.713 68.4782 888.842 Q68.4782 895.949 70.2838 899.514 Q72.1124 903.055 75.7235 903.055 Q79.3578 903.055 81.1633 899.514 Q82.992 895.949 82.992 888.842 Q82.992 881.713 81.1633 878.171 Q79.3578 874.606 75.7235 874.606 M75.7235 870.903 Q81.5337 870.903 84.5892 875.509 Q87.6679 880.093 87.6679 888.842 Q87.6679 897.569 84.5892 902.176 Q81.5337 906.759 75.7235 906.759 Q69.9134 906.759 66.8347 902.176 Q63.7792 897.569 63.7792 888.842 Q63.7792 880.093 66.8347 875.509 Q69.9134 870.903 75.7235 870.903 Z\" fill=\"#000000\" fill-rule=\"evenodd\" fill-opacity=\"1\" /><path clip-path=\"url(#clip400)\" d=\"M 0 0 M92.7373 900.208 L97.6216 900.208 L97.6216 906.088 L92.7373 906.088 L92.7373 900.208 Z\" fill=\"#000000\" fill-rule=\"evenodd\" fill-opacity=\"1\" /><path clip-path=\"url(#clip400)\" d=\"M 0 0 M106.719 902.153 L123.038 902.153 L123.038 906.088 L101.094 906.088 L101.094 902.153 Q103.756 899.398 108.339 894.768 Q112.946 890.116 114.126 888.773 Q116.371 886.25 117.251 884.514 Q118.154 882.755 118.154 881.065 Q118.154 878.31 116.209 876.574 Q114.288 874.838 111.186 874.838 Q108.987 874.838 106.534 875.602 Q104.103 876.366 101.325 877.917 L101.325 873.194 Q104.149 872.06 106.603 871.481 Q109.057 870.903 111.094 870.903 Q116.464 870.903 119.658 873.588 Q122.853 876.273 122.853 880.764 Q122.853 882.893 122.043 884.815 Q121.256 886.713 119.149 889.305 Q118.571 889.977 115.469 893.194 Q112.367 896.389 106.719 902.153 Z\" fill=\"#000000\" fill-rule=\"evenodd\" fill-opacity=\"1\" /><path clip-path=\"url(#clip400)\" d=\"M 0 0 M138.686 886.944 Q135.538 886.944 133.686 889.097 Q131.857 891.25 131.857 895 Q131.857 898.727 133.686 900.903 Q135.538 903.055 138.686 903.055 Q141.834 903.055 143.663 900.903 Q145.515 898.727 145.515 895 Q145.515 891.25 143.663 889.097 Q141.834 886.944 138.686 886.944 M147.969 872.292 L147.969 876.551 Q146.209 875.718 144.404 875.278 Q142.621 874.838 140.862 874.838 Q136.232 874.838 133.779 877.963 Q131.348 881.088 131.001 887.407 Q132.367 885.393 134.427 884.329 Q136.487 883.241 138.964 883.241 Q144.172 883.241 147.181 886.412 Q150.214 889.56 150.214 895 Q150.214 900.324 147.066 903.541 Q143.918 906.759 138.686 906.759 Q132.691 906.759 129.52 902.176 Q126.348 897.569 126.348 888.842 Q126.348 880.648 130.237 875.787 Q134.126 870.903 140.677 870.903 Q142.436 870.903 144.219 871.25 Q146.024 871.597 147.969 872.292 Z\" fill=\"#000000\" fill-rule=\"evenodd\" fill-opacity=\"1\" /><path clip-path=\"url(#clip400)\" d=\"M 0 0 M76.7883 670.954 Q73.1773 670.954 71.3486 674.519 Q69.543 678.061 69.543 685.19 Q69.543 692.297 71.3486 695.862 Q73.1773 699.403 76.7883 699.403 Q80.4226 699.403 82.2281 695.862 Q84.0568 692.297 84.0568 685.19 Q84.0568 678.061 82.2281 674.519 Q80.4226 670.954 76.7883 670.954 M76.7883 667.251 Q82.5985 667.251 85.654 671.857 Q88.7327 676.44 88.7327 685.19 Q88.7327 693.917 85.654 698.524 Q82.5985 703.107 76.7883 703.107 Q70.9782 703.107 67.8995 698.524 Q64.844 693.917 64.844 685.19 Q64.844 676.44 67.8995 671.857 Q70.9782 667.251 76.7883 667.251 Z\" fill=\"#000000\" fill-rule=\"evenodd\" fill-opacity=\"1\" /><path clip-path=\"url(#clip400)\" d=\"M 0 0 M93.8021 696.556 L98.6864 696.556 L98.6864 702.436 L93.8021 702.436 L93.8021 696.556 Z\" fill=\"#000000\" fill-rule=\"evenodd\" fill-opacity=\"1\" /><path clip-path=\"url(#clip400)\" d=\"M 0 0 M107.784 698.501 L124.103 698.501 L124.103 702.436 L102.159 702.436 L102.159 698.501 Q104.821 695.746 109.404 691.116 Q114.01 686.464 115.191 685.121 Q117.436 682.598 118.316 680.862 Q119.219 679.102 119.219 677.413 Q119.219 674.658 117.274 672.922 Q115.353 671.186 112.251 671.186 Q110.052 671.186 107.598 671.95 Q105.168 672.714 102.39 674.265 L102.39 669.542 Q105.214 668.408 107.668 667.829 Q110.122 667.251 112.159 667.251 Q117.529 667.251 120.723 669.936 Q123.918 672.621 123.918 677.112 Q123.918 679.241 123.108 681.163 Q122.321 683.061 120.214 685.653 Q119.635 686.325 116.534 689.542 Q113.432 692.737 107.784 698.501 Z\" fill=\"#000000\" fill-rule=\"evenodd\" fill-opacity=\"1\" /><path clip-path=\"url(#clip400)\" d=\"M 0 0 M127.992 667.876 L150.214 667.876 L150.214 669.866 L137.668 702.436 L132.783 702.436 L144.589 671.811 L127.992 671.811 L127.992 667.876 Z\" fill=\"#000000\" fill-rule=\"evenodd\" fill-opacity=\"1\" /><path clip-path=\"url(#clip400)\" d=\"M 0 0 M75.9782 467.302 Q72.3671 467.302 70.5384 470.867 Q68.7328 474.409 68.7328 481.538 Q68.7328 488.645 70.5384 492.21 Q72.3671 495.751 75.9782 495.751 Q79.6124 495.751 81.418 492.21 Q83.2466 488.645 83.2466 481.538 Q83.2466 474.409 81.418 470.867 Q79.6124 467.302 75.9782 467.302 M75.9782 463.599 Q81.7883 463.599 84.8439 468.205 Q87.9225 472.788 87.9225 481.538 Q87.9225 490.265 84.8439 494.872 Q81.7883 499.455 75.9782 499.455 Q70.168 499.455 67.0893 494.872 Q64.0338 490.265 64.0338 481.538 Q64.0338 472.788 67.0893 468.205 Q70.168 463.599 75.9782 463.599 Z\" fill=\"#000000\" fill-rule=\"evenodd\" fill-opacity=\"1\" /><path clip-path=\"url(#clip400)\" d=\"M 0 0 M92.992 492.904 L97.8762 492.904 L97.8762 498.784 L92.992 498.784 L92.992 492.904 Z\" fill=\"#000000\" fill-rule=\"evenodd\" fill-opacity=\"1\" /><path clip-path=\"url(#clip400)\" d=\"M 0 0 M106.973 494.848 L123.293 494.848 L123.293 498.784 L101.348 498.784 L101.348 494.848 Q104.01 492.094 108.594 487.464 Q113.2 482.812 114.381 481.469 Q116.626 478.946 117.506 477.21 Q118.408 475.45 118.408 473.761 Q118.408 471.006 116.464 469.27 Q114.543 467.534 111.441 467.534 Q109.242 467.534 106.788 468.298 Q104.358 469.062 101.58 470.613 L101.58 465.89 Q104.404 464.756 106.858 464.177 Q109.311 463.599 111.348 463.599 Q116.719 463.599 119.913 466.284 Q123.108 468.969 123.108 473.46 Q123.108 475.589 122.297 477.511 Q121.51 479.409 119.404 482.001 Q118.825 482.673 115.723 485.89 Q112.621 489.085 106.973 494.848 Z\" fill=\"#000000\" fill-rule=\"evenodd\" fill-opacity=\"1\" /><path clip-path=\"url(#clip400)\" d=\"M 0 0 M138.362 482.372 Q135.029 482.372 133.107 484.154 Q131.209 485.936 131.209 489.061 Q131.209 492.186 133.107 493.969 Q135.029 495.751 138.362 495.751 Q141.695 495.751 143.617 493.969 Q145.538 492.163 145.538 489.061 Q145.538 485.936 143.617 484.154 Q141.719 482.372 138.362 482.372 M133.686 480.381 Q130.677 479.64 128.987 477.58 Q127.32 475.52 127.32 472.557 Q127.32 468.413 130.26 466.006 Q133.223 463.599 138.362 463.599 Q143.524 463.599 146.464 466.006 Q149.404 468.413 149.404 472.557 Q149.404 475.52 147.714 477.58 Q146.047 479.64 143.061 480.381 Q146.441 481.168 148.316 483.46 Q150.214 485.751 150.214 489.061 Q150.214 494.085 147.135 496.77 Q144.08 499.455 138.362 499.455 Q132.645 499.455 129.566 496.77 Q126.51 494.085 126.51 489.061 Q126.51 485.751 128.408 483.46 Q130.307 481.168 133.686 480.381 M131.973 472.997 Q131.973 475.682 133.64 477.187 Q135.33 478.691 138.362 478.691 Q141.371 478.691 143.061 477.187 Q144.774 475.682 144.774 472.997 Q144.774 470.312 143.061 468.807 Q141.371 467.302 138.362 467.302 Q135.33 467.302 133.64 468.807 Q131.973 470.312 131.973 472.997 Z\" fill=\"#000000\" fill-rule=\"evenodd\" fill-opacity=\"1\" /><path clip-path=\"url(#clip400)\" d=\"M 0 0 M76.0708 263.65 Q72.4597 263.65 70.631 267.215 Q68.8254 270.757 68.8254 277.886 Q68.8254 284.993 70.631 288.558 Q72.4597 292.099 76.0708 292.099 Q79.705 292.099 81.5105 288.558 Q83.3392 284.993 83.3392 277.886 Q83.3392 270.757 81.5105 267.215 Q79.705 263.65 76.0708 263.65 M76.0708 259.947 Q81.8809 259.947 84.9365 264.553 Q88.0151 269.136 88.0151 277.886 Q88.0151 286.613 84.9365 291.22 Q81.8809 295.803 76.0708 295.803 Q70.2606 295.803 67.1819 291.22 Q64.1264 286.613 64.1264 277.886 Q64.1264 269.136 67.1819 264.553 Q70.2606 259.947 76.0708 259.947 Z\" fill=\"#000000\" fill-rule=\"evenodd\" fill-opacity=\"1\" /><path clip-path=\"url(#clip400)\" d=\"M 0 0 M93.0846 289.252 L97.9688 289.252 L97.9688 295.132 L93.0846 295.132 L93.0846 289.252 Z\" fill=\"#000000\" fill-rule=\"evenodd\" fill-opacity=\"1\" /><path clip-path=\"url(#clip400)\" d=\"M 0 0 M107.066 291.196 L123.385 291.196 L123.385 295.132 L101.441 295.132 L101.441 291.196 Q104.103 288.442 108.686 283.812 Q113.293 279.159 114.473 277.817 Q116.719 275.294 117.598 273.558 Q118.501 271.798 118.501 270.109 Q118.501 267.354 116.557 265.618 Q114.635 263.882 111.534 263.882 Q109.334 263.882 106.881 264.646 Q104.45 265.41 101.672 266.96 L101.672 262.238 Q104.497 261.104 106.95 260.525 Q109.404 259.947 111.441 259.947 Q116.811 259.947 120.006 262.632 Q123.2 265.317 123.2 269.808 Q123.2 271.937 122.39 273.859 Q121.603 275.757 119.496 278.349 Q118.918 279.021 115.816 282.238 Q112.714 285.433 107.066 291.196 Z\" fill=\"#000000\" fill-rule=\"evenodd\" fill-opacity=\"1\" /><path clip-path=\"url(#clip400)\" d=\"M 0 0 M128.594 294.414 L128.594 290.155 Q130.353 290.988 132.158 291.428 Q133.964 291.868 135.7 291.868 Q140.33 291.868 142.76 288.766 Q145.214 285.641 145.561 279.298 Q144.219 281.289 142.158 282.354 Q140.098 283.419 137.598 283.419 Q132.413 283.419 129.381 280.294 Q126.371 277.146 126.371 271.706 Q126.371 266.382 129.52 263.164 Q132.668 259.947 137.899 259.947 Q143.894 259.947 147.043 264.553 Q150.214 269.136 150.214 277.886 Q150.214 286.058 146.325 290.942 Q142.459 295.803 135.908 295.803 Q134.149 295.803 132.344 295.456 Q130.538 295.108 128.594 294.414 M137.899 279.761 Q141.047 279.761 142.876 277.609 Q144.728 275.456 144.728 271.706 Q144.728 267.979 142.876 265.826 Q141.047 263.65 137.899 263.65 Q134.751 263.65 132.899 265.826 Q131.07 267.979 131.07 271.706 Q131.07 275.456 132.899 277.609 Q134.751 279.761 137.899 279.761 Z\" fill=\"#000000\" fill-rule=\"evenodd\" fill-opacity=\"1\" /><path clip-path=\"url(#clip400)\" d=\"M 0 0 M74.9365 59.9982 Q71.3254 59.9982 69.4967 63.563 Q67.6912 67.1047 67.6912 74.2343 Q67.6912 81.3407 69.4967 84.9055 Q71.3254 88.4472 74.9365 88.4472 Q78.5707 88.4472 80.3763 84.9055 Q82.205 81.3407 82.205 74.2343 Q82.205 67.1047 80.3763 63.563 Q78.5707 59.9982 74.9365 59.9982 M74.9365 56.2946 Q80.7467 56.2946 83.8022 60.901 Q86.8809 65.4843 86.8809 74.2343 Q86.8809 82.9611 83.8022 87.5675 Q80.7467 92.1508 74.9365 92.1508 Q69.1264 92.1508 66.0477 87.5675 Q62.9921 82.9611 62.9921 74.2343 Q62.9921 65.4843 66.0477 60.901 Q69.1264 56.2946 74.9365 56.2946 Z\" fill=\"#000000\" fill-rule=\"evenodd\" fill-opacity=\"1\" /><path clip-path=\"url(#clip400)\" d=\"M 0 0 M91.9503 85.6 L96.8345 85.6 L96.8345 91.4795 L91.9503 91.4795 L91.9503 85.6 Z\" fill=\"#000000\" fill-rule=\"evenodd\" fill-opacity=\"1\" /><path clip-path=\"url(#clip400)\" d=\"M 0 0 M116.071 72.8454 Q119.427 73.563 121.302 75.8315 Q123.2 78.1 123.2 81.4333 Q123.2 86.549 119.682 89.3499 Q116.163 92.1508 109.682 92.1508 Q107.506 92.1508 105.191 91.711 Q102.899 91.2944 100.446 90.4379 L100.446 85.924 Q102.39 87.0583 104.705 87.637 Q107.02 88.2157 109.543 88.2157 Q113.941 88.2157 116.233 86.4796 Q118.547 84.7435 118.547 81.4333 Q118.547 78.3778 116.395 76.6648 Q114.265 74.9287 110.446 74.9287 L106.418 74.9287 L106.418 71.0861 L110.631 71.0861 Q114.08 71.0861 115.909 69.7204 Q117.737 68.3315 117.737 65.7389 Q117.737 63.0769 115.839 61.6649 Q113.964 60.2297 110.446 60.2297 Q108.524 60.2297 106.325 60.6464 Q104.126 61.063 101.487 61.9427 L101.487 57.776 Q104.149 57.0353 106.464 56.6649 Q108.802 56.2946 110.862 56.2946 Q116.186 56.2946 119.288 58.7251 Q122.39 61.1325 122.39 65.2528 Q122.39 68.1232 120.746 70.1139 Q119.103 72.0815 116.071 72.8454 Z\" fill=\"#000000\" fill-rule=\"evenodd\" fill-opacity=\"1\" /><path clip-path=\"url(#clip400)\" d=\"M 0 0 M138.27 59.9982 Q134.658 59.9982 132.83 63.563 Q131.024 67.1047 131.024 74.2343 Q131.024 81.3407 132.83 84.9055 Q134.658 88.4472 138.27 88.4472 Q141.904 88.4472 143.709 84.9055 Q145.538 81.3407 145.538 74.2343 Q145.538 67.1047 143.709 63.563 Q141.904 59.9982 138.27 59.9982 M138.27 56.2946 Q144.08 56.2946 147.135 60.901 Q150.214 65.4843 150.214 74.2343 Q150.214 82.9611 147.135 87.5675 Q144.08 92.1508 138.27 92.1508 Q132.459 92.1508 129.381 87.5675 Q126.325 82.9611 126.325 74.2343 Q126.325 65.4843 129.381 60.901 Q132.459 56.2946 138.27 56.2946 Z\" fill=\"#000000\" fill-rule=\"evenodd\" fill-opacity=\"1\" /><polyline clip-path=\"url(#clip402)\" style=\"stroke:#009af9; stroke-width:4; stroke-opacity:1; fill:none\" points=\"\n",
       "  235.871,1092.46 237.928,1110.82 239.985,1108.58 242.043,1120.86 244.1,1127.28 246.157,1133.55 248.214,1091.53 250.272,1087.5 252.329,1098.11 254.386,1116.17 \n",
       "  256.444,1099.59 258.501,1142.53 260.558,1125.02 262.615,1089.51 264.673,1041.01 266.73,1021.03 268.787,1025.07 270.845,1020.25 272.902,1048.84 274.959,1034.83 \n",
       "  277.016,994.644 279.074,987.295 281.131,969.259 283.188,1018.48 285.246,1017.14 287.303,1028.86 289.36,1017.18 291.417,1025.64 293.475,1026.54 295.532,991.065 \n",
       "  297.589,996.121 299.647,987.011 301.704,996.544 303.761,996.386 305.818,972.386 307.876,933.104 309.933,952.903 311.99,984.431 314.048,996.393 316.105,958.39 \n",
       "  318.162,965.925 320.219,967.313 322.277,980.148 324.334,994.43 326.391,1025.82 328.449,1024.56 330.506,1014.81 332.563,991.997 334.62,982.164 336.678,998.379 \n",
       "  338.735,991.562 340.792,975.753 342.85,1012.24 344.907,1033.13 346.964,1036.57 349.021,1040.61 351.079,1033.68 353.136,984.046 355.193,939.509 357.251,928.968 \n",
       "  359.308,894.043 361.365,941.212 363.422,952.427 365.48,971.68 367.537,971.645 369.594,932.264 371.652,927.313 373.709,893.442 375.766,900.654 377.823,884.159 \n",
       "  379.881,892.752 381.938,878.09 383.995,869.062 386.053,841.964 388.11,859.384 390.167,845.162 392.224,845.415 394.282,832.149 396.339,846.574 398.396,817.3 \n",
       "  400.454,814.582 402.511,831.606 404.568,865.03 406.625,880.118 408.683,869.595 410.74,846.338 412.797,866.426 414.855,850.051 416.912,854.281 418.969,885.814 \n",
       "  421.026,887.102 423.084,894.199 425.141,888.454 427.198,931.764 429.256,970.568 431.313,974.798 433.37,981.874 435.427,944.37 437.485,943.541 439.542,951.487 \n",
       "  441.599,953.907 443.657,976.634 445.714,971.573 447.771,979.011 449.828,988.222 451.886,997.282 453.943,984.16 456,977.024 458.058,974.96 460.115,1008.8 \n",
       "  462.172,1030.11 464.229,1027.63 466.287,1038.9 468.344,1061.51 470.401,1042.36 472.459,1035.27 474.516,1046.82 476.573,1000.92 478.63,948.318 480.688,939.946 \n",
       "  482.745,933.276 484.802,902.838 486.86,902.255 488.917,901.361 490.974,916.947 493.031,948.652 495.089,943.253 497.146,974.362 499.203,979.423 501.261,990.314 \n",
       "  503.318,1005 505.375,992.06 507.432,1009.64 509.49,1014.2 511.547,992.011 513.604,944.892 515.662,980.8 517.719,988.215 519.776,970.341 521.833,969.377 \n",
       "  523.891,960.612 525.948,956.029 528.005,955.264 530.063,946.228 532.12,951.849 534.177,985.538 536.234,968.498 538.292,953.499 540.349,960.048 542.406,970.718 \n",
       "  544.464,976.674 546.521,949.662 548.578,928.671 550.635,920.311 552.693,923.771 554.75,960.475 556.807,965.127 558.865,935.189 560.922,972.945 562.979,985.926 \n",
       "  565.036,940.063 567.094,913.381 569.151,913.163 571.208,942.857 573.266,926.867 575.323,940.535 577.38,937.983 579.437,981.309 581.495,947.833 583.552,912.738 \n",
       "  585.609,906.783 587.667,863.934 589.724,815.896 591.781,765.47 593.838,723.193 595.896,707.715 597.953,700.399 600.01,688.844 602.068,695.957 604.125,686.426 \n",
       "  606.182,698.167 608.239,723.986 610.297,771.27 612.354,757.483 614.411,756.553 616.469,777.129 618.526,762.486 620.583,770.309 622.64,768.21 624.698,807.205 \n",
       "  626.755,790.251 628.812,778.236 630.87,725.149 632.927,708.989 634.984,709.659 637.041,698.322 639.099,662.053 641.156,644.726 643.213,645.092 645.271,639.557 \n",
       "  647.328,639.667 649.385,642.532 651.442,642.973 653.5,644.263 655.557,635.997 657.614,682.801 659.672,708.565 661.729,715.529 663.786,732.467 665.843,743.963 \n",
       "  667.901,739.457 669.958,776.912 672.015,754.092 674.073,767.567 676.13,764.013 678.187,786.394 680.244,773.509 682.302,757.024 684.359,760.513 686.416,817.71 \n",
       "  688.474,806.343 690.531,779.455 692.588,790.154 694.645,785.609 696.703,802.798 698.76,775.097 700.817,771.504 702.875,781.416 704.932,776.321 706.989,781.222 \n",
       "  709.046,767.65 711.104,760.626 713.161,783.384 715.218,761.681 717.276,794.575 719.333,767.899 721.39,779.278 723.447,785.363 725.505,771.63 727.562,768.406 \n",
       "  729.619,772.757 731.677,743.287 733.734,709.325 735.791,734.56 737.848,720.052 739.906,729.401 741.963,735.276 744.02,771.18 746.078,802.486 748.135,804.854 \n",
       "  750.192,828.958 752.249,782.561 754.307,799.518 756.364,801.784 758.421,794.673 760.479,810.874 762.536,809.138 764.593,771.809 766.65,786.1 768.708,755.167 \n",
       "  770.765,755.987 772.822,707.013 774.88,670.899 776.937,671.971 778.994,705.602 781.051,701.119 783.109,725.046 785.166,703.727 787.223,721.056 789.281,719.189 \n",
       "  791.338,702.837 793.395,713.153 795.452,715.936 797.51,694.635 799.567,684.31 801.624,666.215 803.682,675.999 805.739,648.232 807.796,660.652 809.853,642.564 \n",
       "  811.911,664.812 813.968,643.282 816.025,643.459 818.083,655.495 820.14,673.438 822.197,686.188 824.254,662.851 826.312,620.325 828.369,608.914 830.426,584.829 \n",
       "  832.484,587.314 834.541,569.903 836.598,566.663 838.655,563.291 840.713,574.263 842.77,573.825 844.827,525.963 846.885,532.494 848.942,539.916 850.999,575.567 \n",
       "  853.056,584.795 855.114,570.465 857.171,593.219 859.228,588.897 861.286,574.276 863.343,547.321 865.4,574.912 867.457,611.617 869.515,617.829 871.572,600.524 \n",
       "  873.629,618.069 875.687,613.96 877.744,605.257 879.801,574.778 881.858,600.621 883.916,594.724 885.973,592.41 888.03,633.849 890.088,641.577 892.145,625.152 \n",
       "  894.202,646.136 896.259,644.246 898.317,661.851 900.374,622.259 902.431,611.863 904.489,565.376 906.546,533.117 908.603,548.783 910.66,545.954 912.718,547.693 \n",
       "  914.775,541.096 916.832,517.576 918.89,500.328 920.947,463.104 923.004,468.754 925.061,501.045 927.119,517.75 929.176,504.769 931.233,483.851 933.291,535.268 \n",
       "  935.348,504.546 937.405,453.454 939.462,460.829 941.52,457.52 943.577,439.61 945.634,418.747 947.692,420.915 949.749,407.6 951.806,402.331 953.863,393.986 \n",
       "  955.921,408.118 957.978,367.436 960.035,361.275 962.093,320.261 964.15,320.306 966.207,316.235 968.264,344.331 970.322,364.89 972.379,366.575 974.436,400.732 \n",
       "  976.494,396.124 978.551,386.75 980.608,398.196 982.665,356.144 984.723,295.271 986.78,348.042 988.837,340.124 990.895,311.893 992.952,306.433 995.009,325.36 \n",
       "  997.066,343.878 999.124,313.786 1001.18,308.548 1003.24,283.359 1005.3,291.185 1007.35,290.318 1009.41,321.596 1011.47,310.1 1013.52,339.296 1015.58,361.445 \n",
       "  1017.64,365.668 1019.7,384.457 1021.75,354.219 1023.81,364.817 1025.87,388.382 1027.93,397.686 1029.98,389.501 1032.04,392.065 1034.1,365.989 1036.15,374.471 \n",
       "  1038.21,367.597 1040.27,372.462 1042.33,370.951 1044.38,333.516 1046.44,312.847 1048.5,305.782 1050.56,305.264 1052.61,272.972 1054.67,293.118 1056.73,339.398 \n",
       "  1058.78,352.393 1060.84,346.779 1062.9,343.407 1064.96,374.883 1067.01,360.18 1069.07,375.99 1071.13,359.518 1073.19,358.081 1075.24,377.556 1077.3,364.566 \n",
       "  1079.36,322.232 1081.42,303.785 1083.47,279.976 1085.53,294.92 1087.59,277.115 1089.64,285.112 1091.7,279.14 1093.76,275.014 1095.82,289.259 1097.87,293.922 \n",
       "  1099.93,296.651 1101.99,294.311 1104.05,291.69 1106.1,288.496 1108.16,324.756 1110.22,355.077 1112.27,364.259 1114.33,375.942 1116.39,361.769 1118.45,349.715 \n",
       "  1120.5,335.306 1122.56,375.404 1124.62,395.322 1126.68,425.883 1128.73,411.818 1130.79,426.395 1132.85,453.947 1134.9,458.392 1136.96,467.272 1139.02,489.244 \n",
       "  1141.08,479.899 1143.13,473.103 1145.19,425.987 1147.25,423.898 1149.31,429.433 1151.36,411.344 1153.42,425.42 1155.48,431.84 1157.53,458.498 1159.59,440.799 \n",
       "  1161.65,417.325 1163.71,417.692 1165.76,375.45 1167.82,369.564 1169.88,371.949 1171.94,332.72 1173.99,370.053 1176.05,382.377 1178.11,402.755 1180.16,383.56 \n",
       "  1182.22,371.851 1184.28,368.611 1186.34,353.019 1188.39,334.724 1190.45,317.009 1192.51,327.044 1194.57,339.396 1196.62,343.926 1198.68,339.843 1200.74,307.432 \n",
       "  1202.79,313.922 1204.85,310.116 1206.91,320.62 1208.97,322.799 1211.02,360.147 1213.08,384.401 1215.14,408.877 1217.2,408.898 1219.25,389.779 1221.31,391.62 \n",
       "  1223.37,402.45 1225.43,426.08 1227.48,424.716 1229.54,412.589 1231.6,407.259 1233.65,419.342 1235.71,427.33 1237.77,434.148 1239.83,422.928 1241.88,392.066 \n",
       "  1243.94,383.868 1246,367.155 1248.06,342.645 1250.11,359.511 1252.17,338.488 1254.23,352.99 1256.28,326.325 1258.34,336.788 1260.4,365.117 1262.46,361.282 \n",
       "  1264.51,362.314 1266.57,368.043 1268.63,358.121 1270.69,379.63 1272.74,389.434 1274.8,411.687 1276.86,410.595 1278.91,414.742 1280.97,386.779 1283.03,388.219 \n",
       "  1285.09,392.226 1287.14,374.858 1289.2,423.088 1291.26,405.125 1293.32,435.71 1295.37,430.533 1297.43,437.635 1299.49,437.053 1301.54,413.852 1303.6,409.353 \n",
       "  1305.66,409.543 1307.72,377.576 1309.77,405.847 1311.83,392.38 1313.89,351.805 1315.95,359.34 1318,330.455 1320.06,300.615 1322.12,304.258 1324.17,311.143 \n",
       "  1326.23,300.704 1328.29,328.605 1330.35,343.831 1332.4,344.774 1334.46,413.522 1336.52,412.691 1338.58,397.136 1340.63,384.936 1342.69,404.418 1344.75,372.429 \n",
       "  1346.8,337.864 1348.86,339.893 1350.92,331.135 1352.98,337.103 1355.03,333.299 1357.09,368.51 1359.15,357.336 1361.21,389.985 1363.26,393.509 1365.32,353.359 \n",
       "  1367.38,368.297 1369.44,356.079 1371.49,399.32 1373.55,403.831 1375.61,403.64 1377.66,403.167 1379.72,429.584 1381.78,417.459 1383.84,429.324 1385.89,441.12 \n",
       "  1387.95,469.519 1390.01,455.482 1392.07,438.908 1394.12,431.14 1396.18,437.221 1398.24,444.281 1400.29,464.619 1402.35,479.017 1404.41,489.766 1406.47,521.031 \n",
       "  1408.52,509.065 1410.58,535.667 1412.64,532.765 1414.7,536.562 1416.75,542.321 1418.81,563.582 1420.87,558.949 1422.92,543.591 1424.98,537.493 1427.04,517.889 \n",
       "  1429.1,520.316 1431.15,515.784 1433.21,514.931 1435.27,508.417 1437.33,514.668 1439.38,529.403 1441.44,563.653 1443.5,604.141 1445.55,652.377 1447.61,597.998 \n",
       "  1449.67,623.847 1451.73,619.572 1453.78,584.923 1455.84,585.88 1457.9,583.358 1459.96,616.143 1462.01,638.91 1464.07,617.226 1466.13,645.686 1468.18,665.779 \n",
       "  1470.24,707.376 1472.3,697.732 1474.36,714.378 1476.41,722.151 1478.47,720.224 1480.53,737.135 1482.59,726.505 1484.64,750.154 1486.7,749.492 1488.76,738.537 \n",
       "  1490.81,722.123 1492.87,727.162 1494.93,730.634 1496.99,730.202 1499.04,723.712 1501.1,731.144 1503.16,768.071 1505.22,759.275 1507.27,743.563 1509.33,736.809 \n",
       "  1511.39,723.738 1513.45,731.217 1515.5,720.334 1517.56,712.864 1519.62,701.303 1521.67,722.025 1523.73,703.485 1525.79,673.837 1527.85,676.515 1529.9,670.375 \n",
       "  1531.96,677.994 1534.02,671.704 1536.08,649.383 1538.13,644.728 1540.19,604.171 1542.25,622.557 1544.3,621.32 1546.36,617.184 1548.42,600.823 1550.48,636.706 \n",
       "  1552.53,611.812 1554.59,605.719 1556.65,619.976 1558.71,631.866 1560.76,624.039 1562.82,635.924 1564.88,598.633 1566.93,562.766 1568.99,578.454 1571.05,542.167 \n",
       "  1573.11,538.554 1575.16,546.416 1577.22,520.02 1579.28,523.531 1581.34,513.565 1583.39,526.914 1585.45,537.386 1587.51,514.608 1589.56,536.749 1591.62,551.579 \n",
       "  1593.68,528.439 1595.74,498.092 1597.79,513.646 1599.85,525.213 1601.91,492.036 1603.97,492.833 1606.02,470.479 1608.08,485.748 1610.14,481.625 1612.19,521.741 \n",
       "  1614.25,527.461 1616.31,522.774 1618.37,533.052 1620.42,531.91 1622.48,564.506 1624.54,569.009 1626.6,590.595 1628.65,565.98 1630.71,544.453 1632.77,517.122 \n",
       "  1634.82,537.848 1636.88,541.525 1638.94,529.452 1641,528.669 1643.05,527.602 1645.11,502.444 1647.17,512.707 1649.23,462.331 1651.28,471.511 1653.34,451.51 \n",
       "  1655.4,423.11 1657.46,407.281 1659.51,430.544 1661.57,448.157 1663.63,431.104 1665.68,406.931 1667.74,420.959 1669.8,420.463 1671.86,433.788 1673.91,444.016 \n",
       "  1675.97,449.421 1678.03,486.745 1680.09,476.347 1682.14,451.258 1684.2,452.279 1686.26,452.54 1688.31,448.812 1690.37,432.786 1692.43,436.21 1694.49,451.041 \n",
       "  1696.54,464.897 1698.6,463.954 1700.66,444.704 1702.72,397.002 1704.77,413.854 1706.83,390.367 1708.89,413.857 1710.94,393.933 1713,397.968 1715.06,429.166 \n",
       "  1717.12,393.64 1719.17,378.558 1721.23,367.893 1723.29,389.505 1725.35,424.574 1727.4,398.877 1729.46,426.556 1731.52,417.853 1733.57,395.098 1735.63,415.96 \n",
       "  1737.69,454.953 1739.75,477.527 1741.8,489.289 1743.86,513.684 1745.92,481.109 1747.98,495.85 1750.03,482.59 1752.09,504.699 1754.15,494.699 1756.2,505.88 \n",
       "  1758.26,530.626 1760.32,529.767 1762.38,526.767 1764.43,559.41 1766.49,552.528 1768.55,565.783 1770.61,562.865 1772.66,566.2 1774.72,578.154 1776.78,581.577 \n",
       "  1778.83,565.879 1780.89,548.241 1782.95,552.101 1785.01,565.852 1787.06,571.296 1789.12,550.57 1791.18,551.429 1793.24,536.033 1795.29,546.87 1797.35,532.627 \n",
       "  1799.41,510.337 1801.47,514.382 1803.52,495.283 1805.58,521.343 1807.64,511.818 1809.69,513.851 1811.75,521.232 1813.81,531.529 1815.87,532.892 1817.92,582.045 \n",
       "  1819.98,611.305 1822.04,597.36 1824.1,621.848 1826.15,591.97 1828.21,602.99 1830.27,610.045 1832.32,589.992 1834.38,579.273 1836.44,587.996 1838.5,606.385 \n",
       "  1840.55,611.322 1842.61,579.731 1844.67,591.827 1846.73,602.107 1848.78,592.368 1850.84,605.56 1852.9,581.763 1854.95,573.237 1857.01,618.8 1859.07,589.263 \n",
       "  1861.13,624.793 1863.18,605.546 1865.24,588.204 1867.3,599.743 1869.36,593.267 1871.41,602.55 1873.47,613.477 1875.53,612.991 1877.58,618.409 1879.64,639.137 \n",
       "  1881.7,650.349 1883.76,629.918 1885.81,641.999 1887.87,646.761 1889.93,658.765 1891.99,643.767 1894.04,631.719 1896.1,632.435 1898.16,593.206 1900.21,581.939 \n",
       "  1902.27,556.146 1904.33,552.381 1906.39,561.496 1908.44,550.877 1910.5,541.834 1912.56,558.868 1914.62,567.853 1916.67,545.972 1918.73,546.289 1920.79,528.908 \n",
       "  1922.84,526.446 1924.9,517.253 1926.96,524.145 1929.02,506.278 1931.07,486.728 1933.13,490.306 1935.19,509.77 1937.25,535.54 1939.3,521.546 1941.36,492.339 \n",
       "  1943.42,517.533 1945.48,491.561 1947.53,470.326 1949.59,441.818 1951.65,461.501 1953.7,441.15 1955.76,417.257 1957.82,417.917 1959.88,390.809 1961.93,374.241 \n",
       "  1963.99,334.305 1966.05,343.323 1968.11,324.388 1970.16,310.602 1972.22,264.704 1974.28,246.386 1976.33,247.378 1978.39,208.279 1980.45,186.481 1982.51,173.799 \n",
       "  1984.56,185.075 1986.62,193.998 1988.68,210.498 1990.74,201.821 1992.79,245.088 1994.85,229.609 1996.91,224.691 1998.96,210.411 2001.02,193.849 2003.08,199.336 \n",
       "  2005.14,193.002 2007.19,179.108 2009.25,202.281 2011.31,189.007 2013.37,151.311 2015.42,139.293 2017.48,147.021 2019.54,162.848 2021.59,157.259 2023.65,143.067 \n",
       "  2025.71,115.852 2027.77,163.904 2029.82,160.218 2031.88,145.586 2033.94,172.096 2036,179.03 2038.05,166.903 2040.11,189.888 2042.17,203.168 2044.22,214.077 \n",
       "  2046.28,181.289 2048.34,186.915 2050.4,188.027 2052.45,188.205 2054.51,200.992 2056.57,210.791 2058.63,222.001 2060.68,230.583 2062.74,255.272 2064.8,197.004 \n",
       "  2066.85,187.381 2068.91,208.706 2070.97,198.827 2073.03,201.037 2075.08,199.97 2077.14,219.014 2079.2,210.712 2081.26,217.142 2083.31,229.484 2085.37,238.667 \n",
       "  2087.43,203.332 2089.49,209.929 2091.54,217.59 2093.6,177.048 2095.66,163.054 2097.71,199.933 2099.77,190.904 2101.83,183.462 2103.89,155.931 2105.94,108.557 \n",
       "  2108,88.956 2110.06,92.5251 2112.12,91.0349 2114.17,87.9763 2116.23,109.596 2118.29,126.572 2120.34,126.214 2122.4,149.371 2124.46,142.625 2126.52,133.385 \n",
       "  2128.57,119.027 2130.63,101.238 2132.69,95.4638 2134.75,102.483 2136.8,119.74 2138.86,139.017 2140.92,126.156 2142.97,127.432 2145.03,136.665 2147.09,133.428 \n",
       "  2149.15,112.203 2151.2,133.588 2153.26,138.391 2155.32,119.574 2157.38,129.12 2159.43,115.558 2161.49,129.706 2163.55,153.466 2165.6,179.388 2167.66,179.418 \n",
       "  2169.72,150.119 2171.78,172.505 2173.83,189.279 2175.89,190.724 2177.95,162.816 2180.01,182.448 2182.06,167.521 2184.12,193.043 2186.18,217.288 2188.23,221.196 \n",
       "  2190.29,204.872 2192.35,195.271 2194.41,196.532 2196.46,200.912 2198.52,189.653 2200.58,199.278 2202.64,217.752 2204.69,199.828 2206.75,189.74 2208.81,188.13 \n",
       "  2210.86,201.839 2212.92,195.653 2214.98,157.833 2217.04,147.417 2219.09,150.425 2221.15,172.967 2223.21,188.376 2225.27,216.144 2227.32,179.564 2229.38,179.686 \n",
       "  2231.44,199.784 2233.5,197.968 2235.55,189.268 2237.61,164.832 2239.67,188.348 2241.72,216.371 2243.78,219.943 2245.84,236.646 2247.9,281.371 2249.95,278.207 \n",
       "  2252.01,265.999 2254.07,253.071 2256.13,226.801 2258.18,225.378 2260.24,242.932 2262.3,253.212 2264.35,249.763 2266.41,269.428 2268.47,234.655 2270.53,237.474 \n",
       "  2272.58,240.259 2274.64,230.324 2276.7,238.031 2278.76,233.865 2280.81,276.603 2282.87,262.507 2284.93,245 2286.98,263.502 2289.04,276.602 2291.1,272.327 \n",
       "  \n",
       "  \"/>\n",
       "<path clip-path=\"url(#clip402)\" d=\"\n",
       "M254.386 1227.13 L256.444 1254.54 L258.501 1231.91 L260.558 1276.68 L262.615 1270.92 L264.673 1260.5 L266.73 1247.2 L268.787 1080.24 L270.845 1191.06 L272.902 1230.23 \n",
       "  L274.959 1274.72 L277.016 1240.32 L279.074 1227.42 L281.131 1348.84 L283.188 1232.18 L285.246 1241.74 L287.303 1256.07 L289.36 1179.8 L291.417 1238.29 L293.475 1097.08 \n",
       "  L295.532 1233.4 L297.589 1247.97 L299.647 1254.32 L301.704 1226.99 L303.761 1262.42 L305.818 972.569 L307.876 1251.89 L309.933 1248.08 L311.99 1247.73 L314.048 1230.18 \n",
       "  L316.105 1235.53 L318.162 1253.4 L320.219 1163.46 L322.277 1121.31 L324.334 1198.84 L326.391 1267.84 L328.449 1139.55 L330.506 1220.97 L332.563 1239.12 L334.62 1248.62 \n",
       "  L336.678 1246.18 L338.735 1247.75 L340.792 1244.4 L342.85 1228.23 L344.907 1307.78 L346.964 1079.48 L349.021 1252.15 L351.079 1229.95 L353.136 1252.85 L355.193 1233.6 \n",
       "  L357.251 1267.25 L359.308 1266.64 L361.365 1240.13 L363.422 1231.85 L365.48 1252.58 L367.537 1201.2 L369.594 1445.72 L371.652 1265.01 L373.709 1242.19 L375.766 1249.74 \n",
       "  L377.823 1268.14 L379.881 1234.3 L381.938 1223.47 L383.995 1116.37 L386.053 1251.48 L388.11 1229.31 L390.167 1258.13 L392.224 1232.09 L394.282 1240.52 L396.339 1171.96 \n",
       "  L398.396 1259.8 L400.454 1253.52 L402.511 1261.08 L404.568 1254.79 L406.625 1267.21 L408.683 1254.25 L410.74 1233.9 L412.797 1312.64 L414.855 1107.6 L416.912 1173.79 \n",
       "  L418.969 1235.44 L421.026 1236.25 L423.084 1258.81 L425.141 1246.34 L427.198 1241.64 L429.256 1234.11 L431.313 1237.49 L433.37 1246.28 L435.427 1261.34 L437.485 1262.16 \n",
       "  L439.542 1302.65 L441.599 1241 L443.657 1257.37 L445.714 1257.46 L447.771 1185.71 L449.828 1287.67 L451.886 1072.54 L453.943 1241.63 L456 1225.12 L458.058 1253.74 \n",
       "  L460.115 1237.23 L462.172 1162.81 L464.229 1251.78 L466.287 1206.99 L468.344 1191.92 L470.401 1246.18 L472.459 1245.12 L474.516 1263.65 L476.573 1091.94 L478.63 1263.83 \n",
       "  L480.688 1234.9 L482.745 1168.96 L484.802 1241.75 L486.86 1242.63 L488.917 1252.21 L490.974 1190.8 L493.031 1265.07 L495.089 1271.63 L497.146 1035.58 L499.203 1097.83 \n",
       "  L501.261 1246.33 L503.318 1263.67 L505.375 1234.49 L507.432 1228.33 L509.49 1254.62 L511.547 1248.81 L513.604 1222.91 L515.662 1241.08 L517.719 1266.28 L519.776 1327.67 \n",
       "  L521.833 1238.53 L521.833 1048.53 L519.776 1223.82 L517.719 1050.88 L515.662 1018.97 L513.604 964.378 L511.547 1056.75 L509.49 1062.55 L507.432 996.977 L505.375 1036.84 \n",
       "  L503.318 1050.93 L501.261 1016.81 L499.203 1022.95 L497.146 1004.42 L495.089 1050.18 L493.031 1041.5 L490.974 1099.72 L488.917 1028.99 L486.86 1056.62 L484.802 1043.23 \n",
       "  L482.745 1092.99 L480.688 1061.93 L478.63 1018.17 L476.573 983.434 L474.516 1036.14 L472.459 1034.31 L470.401 1070.31 L468.344 1147.31 L466.287 1051.39 L464.229 1175.44 \n",
       "  L462.172 1076.21 L460.115 1048.11 L458.058 1078.19 L456 1163.22 L453.943 1038.11 L451.886 1032.84 L449.828 1009.24 L447.771 1117.96 L445.714 1044.14 L443.657 1033.73 \n",
       "  L441.599 1060.67 L439.542 1182.17 L437.485 1041.64 L435.427 1024.5 L433.37 1085.05 L431.313 1038.12 L429.256 1052.58 L427.198 1041.78 L425.141 1035.12 L423.084 1008.82 \n",
       "  L421.026 1026.35 L418.969 1058.58 L416.912 1108.09 L414.855 907.811 L412.797 1245.6 L410.74 1044.78 L408.683 1096.9 L406.625 1033.37 L404.568 1030.63 L402.511 1006.59 \n",
       "  L400.454 1056.04 L398.396 1188.31 L396.339 1090.71 L394.282 1030.06 L392.224 1075.3 L390.167 1041.83 L388.11 1014.51 L386.053 1059.41 L383.995 1057.22 L381.938 1033.38 \n",
       "  L379.881 1073.55 L377.823 1030.08 L375.766 1052.55 L373.709 1041.21 L371.652 1043.93 L369.594 1374.67 L367.537 1096.95 L365.48 1035.94 L363.422 1229.11 L361.365 1041.89 \n",
       "  L359.308 1023.62 L357.251 1013.88 L355.193 1063.5 L353.136 1017.1 L351.079 1046.26 L349.021 1047.14 L346.964 1036.74 L344.907 1048.28 L342.85 1058.73 L340.792 1024.64 \n",
       "  L338.735 1060.5 L336.678 1040.15 L334.62 1038.08 L332.563 1018.42 L330.506 1045.62 L328.449 1060.27 L326.391 1062.43 L324.334 1007.3 L322.277 1028.31 L320.219 1078.3 \n",
       "  L318.162 1012.78 L316.105 1054.61 L314.048 1017.39 L311.99 1036.73 L309.933 1042.7 L307.876 1053.85 L305.818 910.266 L303.761 1018.17 L301.704 1126.79 L299.647 1043.62 \n",
       "  L297.589 1028.48 L295.532 1048.5 L293.475 1037.6 L291.417 1036.74 L289.36 1085.15 L287.303 1045.72 L285.246 1055.89 L283.188 1048.28 L281.131 1121.8 L279.074 1034.08 \n",
       "  L277.016 1033.47 L274.959 1112.24 L272.902 1049 L270.845 1106.87 L268.787 992.789 L266.73 1070.24 L264.673 1022.84 L262.615 991.613 L260.558 1032.71 L258.501 1035.29 \n",
       "  L256.444 1029.46 L254.386 1016.63  Z\n",
       "  \" fill=\"#e26f46\" fill-rule=\"evenodd\" fill-opacity=\"0.5\"/>\n",
       "<polyline clip-path=\"url(#clip402)\" style=\"stroke:#e26f46; stroke-width:4; stroke-opacity:1; fill:none\" points=\"\n",
       "  254.386,1121.88 256.444,1142 258.501,1133.6 260.558,1154.7 262.615,1131.27 264.673,1141.67 266.73,1158.72 268.787,1036.52 270.845,1148.97 272.902,1139.62 \n",
       "  274.959,1193.48 277.016,1136.89 279.074,1130.75 281.131,1235.32 283.188,1140.23 285.246,1148.82 287.303,1150.9 289.36,1132.47 291.417,1137.51 293.475,1067.34 \n",
       "  295.532,1140.95 297.589,1138.23 299.647,1148.97 301.704,1176.89 303.761,1140.29 305.818,941.418 307.876,1152.87 309.933,1145.39 311.99,1142.23 314.048,1123.78 \n",
       "  316.105,1145.07 318.162,1133.09 320.219,1120.88 322.277,1074.81 324.334,1103.07 326.391,1165.13 328.449,1099.91 330.506,1133.29 332.563,1128.77 334.62,1143.35 \n",
       "  336.678,1143.17 338.735,1154.12 340.792,1134.52 342.85,1143.48 344.907,1178.03 346.964,1058.11 349.021,1149.65 351.079,1138.11 353.136,1134.98 355.193,1148.55 \n",
       "  357.251,1140.56 359.308,1145.13 361.365,1141.01 363.422,1230.48 365.48,1144.26 367.537,1149.08 369.594,1410.19 371.652,1154.47 373.709,1141.7 375.766,1151.15 \n",
       "  377.823,1149.11 379.881,1153.93 381.938,1128.43 383.995,1086.8 386.053,1155.44 388.11,1121.91 390.167,1149.98 392.224,1153.7 394.282,1135.29 396.339,1131.34 \n",
       "  398.396,1224.06 400.454,1154.78 402.511,1133.84 404.568,1142.71 406.625,1150.29 408.683,1175.57 410.74,1139.34 412.797,1279.12 414.855,1007.71 416.912,1140.94 \n",
       "  418.969,1147.01 421.026,1131.3 423.084,1133.81 425.141,1140.73 427.198,1141.71 429.256,1143.35 431.313,1137.81 433.37,1165.67 435.427,1142.92 437.485,1151.9 \n",
       "  439.542,1242.41 441.599,1150.84 443.657,1145.55 445.714,1150.8 447.771,1151.83 449.828,1148.46 451.886,1052.69 453.943,1139.87 456,1194.17 458.058,1165.97 \n",
       "  460.115,1142.67 462.172,1119.51 464.229,1213.61 466.287,1129.19 468.344,1169.61 470.401,1158.25 472.459,1139.71 474.516,1149.9 476.573,1037.69 478.63,1141 \n",
       "  480.688,1148.42 482.745,1130.97 484.802,1142.49 486.86,1149.62 488.917,1140.6 490.974,1145.26 493.031,1153.29 495.089,1160.9 497.146,1020 499.203,1060.39 \n",
       "  501.261,1131.57 503.318,1157.3 505.375,1135.67 507.432,1112.66 509.49,1158.58 511.547,1152.78 513.604,1093.64 515.662,1130.03 517.719,1158.58 519.776,1275.75 \n",
       "  521.833,1143.53 \n",
       "  \"/>\n",
       "<path clip-path=\"url(#clip400)\" d=\"\n",
       "M1989.74 312.204 L2280.76 312.204 L2280.76 130.764 L1989.74 130.764  Z\n",
       "  \" fill=\"#ffffff\" fill-rule=\"evenodd\" fill-opacity=\"1\"/>\n",
       "<polyline clip-path=\"url(#clip400)\" style=\"stroke:#000000; stroke-width:4; stroke-opacity:1; fill:none\" points=\"\n",
       "  1989.74,312.204 2280.76,312.204 2280.76,130.764 1989.74,130.764 1989.74,312.204 \n",
       "  \"/>\n",
       "<polyline clip-path=\"url(#clip400)\" style=\"stroke:#009af9; stroke-width:4; stroke-opacity:1; fill:none\" points=\"\n",
       "  2013.74,191.244 2157.74,191.244 \n",
       "  \"/>\n",
       "<path clip-path=\"url(#clip400)\" d=\"M 0 0 M2195.58 210.931 Q2193.77 215.561 2192.06 216.973 Q2190.35 218.385 2187.48 218.385 L2184.08 218.385 L2184.08 214.82 L2186.58 214.82 Q2188.33 214.82 2189.31 213.987 Q2190.28 213.154 2191.46 210.052 L2192.22 208.107 L2181.74 182.598 L2186.25 182.598 L2194.35 202.876 L2202.46 182.598 L2206.97 182.598 L2195.58 210.931 Z\" fill=\"#000000\" fill-rule=\"evenodd\" fill-opacity=\"1\" /><path clip-path=\"url(#clip400)\" d=\"M 0 0 M2212.85 204.589 L2220.49 204.589 L2220.49 178.223 L2212.18 179.89 L2212.18 175.631 L2220.44 173.964 L2225.12 173.964 L2225.12 204.589 L2232.76 204.589 L2232.76 208.524 L2212.85 208.524 L2212.85 204.589 Z\" fill=\"#000000\" fill-rule=\"evenodd\" fill-opacity=\"1\" /><polyline clip-path=\"url(#clip400)\" style=\"stroke:#e26f46; stroke-width:4; stroke-opacity:1; fill:none\" points=\"\n",
       "  2013.74,251.724 2157.74,251.724 \n",
       "  \"/>\n",
       "<path clip-path=\"url(#clip400)\" d=\"M 0 0 M2195.58 271.411 Q2193.77 276.041 2192.06 277.453 Q2190.35 278.865 2187.48 278.865 L2184.08 278.865 L2184.08 275.3 L2186.58 275.3 Q2188.33 275.3 2189.31 274.467 Q2190.28 273.634 2191.46 270.532 L2192.22 268.587 L2181.74 243.078 L2186.25 243.078 L2194.35 263.356 L2202.46 243.078 L2206.97 243.078 L2195.58 271.411 Z\" fill=\"#000000\" fill-rule=\"evenodd\" fill-opacity=\"1\" /><path clip-path=\"url(#clip400)\" d=\"M 0 0 M2216.07 265.069 L2232.39 265.069 L2232.39 269.004 L2210.44 269.004 L2210.44 265.069 Q2213.1 262.314 2217.69 257.685 Q2222.29 253.032 2223.47 251.689 Q2225.72 249.166 2226.6 247.43 Q2227.5 245.671 2227.5 243.981 Q2227.5 241.226 2225.56 239.49 Q2223.64 237.754 2220.53 237.754 Q2218.33 237.754 2215.88 238.518 Q2213.45 239.282 2210.67 240.833 L2210.67 236.111 Q2213.5 234.976 2215.95 234.398 Q2218.4 233.819 2220.44 233.819 Q2225.81 233.819 2229.01 236.504 Q2232.2 239.189 2232.2 243.68 Q2232.2 245.81 2231.39 247.731 Q2230.6 249.629 2228.5 252.222 Q2227.92 252.893 2224.82 256.111 Q2221.71 259.305 2216.07 265.069 Z\" fill=\"#000000\" fill-rule=\"evenodd\" fill-opacity=\"1\" /></svg>\n"
      ]
     },
     "execution_count": 12,
     "metadata": {},
     "output_type": "execute_result"
    }
   ],
   "source": [
    "nhl_inference_plot(latent_variables[1:1000, :], inferred_variables, :h)"
   ]
  },
  {
   "cell_type": "code",
   "execution_count": 13,
   "metadata": {},
   "outputs": [
    {
     "data": {
      "image/svg+xml": [
       "<?xml version=\"1.0\" encoding=\"utf-8\"?>\n",
       "<svg xmlns=\"http://www.w3.org/2000/svg\" xmlns:xlink=\"http://www.w3.org/1999/xlink\" width=\"600\" height=\"400\" viewBox=\"0 0 2400 1600\">\n",
       "<defs>\n",
       "  <clipPath id=\"clip440\">\n",
       "    <rect x=\"0\" y=\"0\" width=\"2400\" height=\"1600\"/>\n",
       "  </clipPath>\n",
       "</defs>\n",
       "<path clip-path=\"url(#clip440)\" d=\"\n",
       "M0 1600 L2400 1600 L2400 0 L0 0  Z\n",
       "  \" fill=\"#ffffff\" fill-rule=\"evenodd\" fill-opacity=\"1\"/>\n",
       "<defs>\n",
       "  <clipPath id=\"clip441\">\n",
       "    <rect x=\"480\" y=\"0\" width=\"1681\" height=\"1600\"/>\n",
       "  </clipPath>\n",
       "</defs>\n",
       "<path clip-path=\"url(#clip440)\" d=\"\n",
       "M196.691 1486.45 L2352.76 1486.45 L2352.76 47.2441 L196.691 47.2441  Z\n",
       "  \" fill=\"#ffffff\" fill-rule=\"evenodd\" fill-opacity=\"1\"/>\n",
       "<defs>\n",
       "  <clipPath id=\"clip442\">\n",
       "    <rect x=\"196\" y=\"47\" width=\"2157\" height=\"1440\"/>\n",
       "  </clipPath>\n",
       "</defs>\n",
       "<polyline clip-path=\"url(#clip442)\" style=\"stroke:#000000; stroke-width:2; stroke-opacity:0.1; fill:none\" points=\"\n",
       "  255.675,1486.45 255.675,47.2441 \n",
       "  \"/>\n",
       "<polyline clip-path=\"url(#clip442)\" style=\"stroke:#000000; stroke-width:2; stroke-opacity:0.1; fill:none\" points=\"\n",
       "  764.69,1486.45 764.69,47.2441 \n",
       "  \"/>\n",
       "<polyline clip-path=\"url(#clip442)\" style=\"stroke:#000000; stroke-width:2; stroke-opacity:0.1; fill:none\" points=\"\n",
       "  1273.71,1486.45 1273.71,47.2441 \n",
       "  \"/>\n",
       "<polyline clip-path=\"url(#clip442)\" style=\"stroke:#000000; stroke-width:2; stroke-opacity:0.1; fill:none\" points=\"\n",
       "  1782.72,1486.45 1782.72,47.2441 \n",
       "  \"/>\n",
       "<polyline clip-path=\"url(#clip442)\" style=\"stroke:#000000; stroke-width:2; stroke-opacity:0.1; fill:none\" points=\"\n",
       "  2291.74,1486.45 2291.74,47.2441 \n",
       "  \"/>\n",
       "<polyline clip-path=\"url(#clip442)\" style=\"stroke:#000000; stroke-width:2; stroke-opacity:0.1; fill:none\" points=\"\n",
       "  196.691,1323.56 2352.76,1323.56 \n",
       "  \"/>\n",
       "<polyline clip-path=\"url(#clip442)\" style=\"stroke:#000000; stroke-width:2; stroke-opacity:0.1; fill:none\" points=\"\n",
       "  196.691,1130.06 2352.76,1130.06 \n",
       "  \"/>\n",
       "<polyline clip-path=\"url(#clip442)\" style=\"stroke:#000000; stroke-width:2; stroke-opacity:0.1; fill:none\" points=\"\n",
       "  196.691,936.567 2352.76,936.567 \n",
       "  \"/>\n",
       "<polyline clip-path=\"url(#clip442)\" style=\"stroke:#000000; stroke-width:2; stroke-opacity:0.1; fill:none\" points=\"\n",
       "  196.691,743.072 2352.76,743.072 \n",
       "  \"/>\n",
       "<polyline clip-path=\"url(#clip442)\" style=\"stroke:#000000; stroke-width:2; stroke-opacity:0.1; fill:none\" points=\"\n",
       "  196.691,549.577 2352.76,549.577 \n",
       "  \"/>\n",
       "<polyline clip-path=\"url(#clip442)\" style=\"stroke:#000000; stroke-width:2; stroke-opacity:0.1; fill:none\" points=\"\n",
       "  196.691,356.082 2352.76,356.082 \n",
       "  \"/>\n",
       "<polyline clip-path=\"url(#clip442)\" style=\"stroke:#000000; stroke-width:2; stroke-opacity:0.1; fill:none\" points=\"\n",
       "  196.691,162.586 2352.76,162.586 \n",
       "  \"/>\n",
       "<polyline clip-path=\"url(#clip440)\" style=\"stroke:#000000; stroke-width:4; stroke-opacity:1; fill:none\" points=\"\n",
       "  196.691,1486.45 2352.76,1486.45 \n",
       "  \"/>\n",
       "<polyline clip-path=\"url(#clip440)\" style=\"stroke:#000000; stroke-width:4; stroke-opacity:1; fill:none\" points=\"\n",
       "  196.691,1486.45 196.691,47.2441 \n",
       "  \"/>\n",
       "<polyline clip-path=\"url(#clip440)\" style=\"stroke:#000000; stroke-width:4; stroke-opacity:1; fill:none\" points=\"\n",
       "  255.675,1486.45 255.675,1469.18 \n",
       "  \"/>\n",
       "<polyline clip-path=\"url(#clip440)\" style=\"stroke:#000000; stroke-width:4; stroke-opacity:1; fill:none\" points=\"\n",
       "  764.69,1486.45 764.69,1469.18 \n",
       "  \"/>\n",
       "<polyline clip-path=\"url(#clip440)\" style=\"stroke:#000000; stroke-width:4; stroke-opacity:1; fill:none\" points=\"\n",
       "  1273.71,1486.45 1273.71,1469.18 \n",
       "  \"/>\n",
       "<polyline clip-path=\"url(#clip440)\" style=\"stroke:#000000; stroke-width:4; stroke-opacity:1; fill:none\" points=\"\n",
       "  1782.72,1486.45 1782.72,1469.18 \n",
       "  \"/>\n",
       "<polyline clip-path=\"url(#clip440)\" style=\"stroke:#000000; stroke-width:4; stroke-opacity:1; fill:none\" points=\"\n",
       "  2291.74,1486.45 2291.74,1469.18 \n",
       "  \"/>\n",
       "<polyline clip-path=\"url(#clip440)\" style=\"stroke:#000000; stroke-width:4; stroke-opacity:1; fill:none\" points=\"\n",
       "  196.691,1323.56 222.563,1323.56 \n",
       "  \"/>\n",
       "<polyline clip-path=\"url(#clip440)\" style=\"stroke:#000000; stroke-width:4; stroke-opacity:1; fill:none\" points=\"\n",
       "  196.691,1130.06 222.563,1130.06 \n",
       "  \"/>\n",
       "<polyline clip-path=\"url(#clip440)\" style=\"stroke:#000000; stroke-width:4; stroke-opacity:1; fill:none\" points=\"\n",
       "  196.691,936.567 222.563,936.567 \n",
       "  \"/>\n",
       "<polyline clip-path=\"url(#clip440)\" style=\"stroke:#000000; stroke-width:4; stroke-opacity:1; fill:none\" points=\"\n",
       "  196.691,743.072 222.563,743.072 \n",
       "  \"/>\n",
       "<polyline clip-path=\"url(#clip440)\" style=\"stroke:#000000; stroke-width:4; stroke-opacity:1; fill:none\" points=\"\n",
       "  196.691,549.577 222.563,549.577 \n",
       "  \"/>\n",
       "<polyline clip-path=\"url(#clip440)\" style=\"stroke:#000000; stroke-width:4; stroke-opacity:1; fill:none\" points=\"\n",
       "  196.691,356.082 222.563,356.082 \n",
       "  \"/>\n",
       "<polyline clip-path=\"url(#clip440)\" style=\"stroke:#000000; stroke-width:4; stroke-opacity:1; fill:none\" points=\"\n",
       "  196.691,162.586 222.563,162.586 \n",
       "  \"/>\n",
       "<path clip-path=\"url(#clip440)\" d=\"M 0 0 M255.675 1508.44 Q252.064 1508.44 250.235 1512 Q248.43 1515.55 248.43 1522.67 Q248.43 1529.78 250.235 1533.35 Q252.064 1536.89 255.675 1536.89 Q259.31 1536.89 261.115 1533.35 Q262.944 1529.78 262.944 1522.67 Q262.944 1515.55 261.115 1512 Q259.31 1508.44 255.675 1508.44 M255.675 1504.73 Q261.485 1504.73 264.541 1509.34 Q267.62 1513.92 267.62 1522.67 Q267.62 1531.4 264.541 1536.01 Q261.485 1540.59 255.675 1540.59 Q249.865 1540.59 246.786 1536.01 Q243.731 1531.4 243.731 1522.67 Q243.731 1513.92 246.786 1509.34 Q249.865 1504.73 255.675 1504.73 Z\" fill=\"#000000\" fill-rule=\"evenodd\" fill-opacity=\"1\" /><path clip-path=\"url(#clip440)\" d=\"M 0 0 M732.827 1535.98 L749.146 1535.98 L749.146 1539.92 L727.202 1539.92 L727.202 1535.98 Q729.864 1533.23 734.447 1528.6 Q739.054 1523.95 740.234 1522.61 Q742.48 1520.08 743.359 1518.35 Q744.262 1516.59 744.262 1514.9 Q744.262 1512.14 742.318 1510.41 Q740.396 1508.67 737.295 1508.67 Q735.095 1508.67 732.642 1509.43 Q730.211 1510.2 727.434 1511.75 L727.434 1507.03 Q730.258 1505.89 732.711 1505.31 Q735.165 1504.73 737.202 1504.73 Q742.572 1504.73 745.767 1507.42 Q748.961 1510.11 748.961 1514.6 Q748.961 1516.73 748.151 1518.65 Q747.364 1520.54 745.257 1523.14 Q744.679 1523.81 741.577 1527.03 Q738.475 1530.22 732.827 1535.98 Z\" fill=\"#000000\" fill-rule=\"evenodd\" fill-opacity=\"1\" /><path clip-path=\"url(#clip440)\" d=\"M 0 0 M754.262 1505.36 L772.618 1505.36 L772.618 1509.3 L758.544 1509.3 L758.544 1517.77 Q759.563 1517.42 760.581 1517.26 Q761.6 1517.07 762.619 1517.07 Q768.406 1517.07 771.785 1520.24 Q775.165 1523.42 775.165 1528.83 Q775.165 1534.41 771.693 1537.51 Q768.22 1540.59 761.901 1540.59 Q759.725 1540.59 757.456 1540.22 Q755.211 1539.85 752.804 1539.11 L752.804 1534.41 Q754.887 1535.54 757.109 1536.1 Q759.331 1536.66 761.808 1536.66 Q765.813 1536.66 768.151 1534.55 Q770.489 1532.44 770.489 1528.83 Q770.489 1525.22 768.151 1523.11 Q765.813 1521.01 761.808 1521.01 Q759.933 1521.01 758.058 1521.42 Q756.206 1521.84 754.262 1522.72 L754.262 1505.36 Z\" fill=\"#000000\" fill-rule=\"evenodd\" fill-opacity=\"1\" /><path clip-path=\"url(#clip440)\" d=\"M 0 0 M790.234 1508.44 Q786.623 1508.44 784.794 1512 Q782.989 1515.55 782.989 1522.67 Q782.989 1529.78 784.794 1533.35 Q786.623 1536.89 790.234 1536.89 Q793.868 1536.89 795.674 1533.35 Q797.503 1529.78 797.503 1522.67 Q797.503 1515.55 795.674 1512 Q793.868 1508.44 790.234 1508.44 M790.234 1504.73 Q796.044 1504.73 799.1 1509.34 Q802.178 1513.92 802.178 1522.67 Q802.178 1531.4 799.1 1536.01 Q796.044 1540.59 790.234 1540.59 Q784.424 1540.59 781.345 1536.01 Q778.29 1531.4 778.29 1522.67 Q778.29 1513.92 781.345 1509.34 Q784.424 1504.73 790.234 1504.73 Z\" fill=\"#000000\" fill-rule=\"evenodd\" fill-opacity=\"1\" /><path clip-path=\"url(#clip440)\" d=\"M 0 0 M1236.97 1505.36 L1255.33 1505.36 L1255.33 1509.3 L1241.25 1509.3 L1241.25 1517.77 Q1242.27 1517.42 1243.29 1517.26 Q1244.31 1517.07 1245.33 1517.07 Q1251.11 1517.07 1254.49 1520.24 Q1257.87 1523.42 1257.87 1528.83 Q1257.87 1534.41 1254.4 1537.51 Q1250.93 1540.59 1244.61 1540.59 Q1242.43 1540.59 1240.16 1540.22 Q1237.92 1539.85 1235.51 1539.11 L1235.51 1534.41 Q1237.59 1535.54 1239.82 1536.1 Q1242.04 1536.66 1244.52 1536.66 Q1248.52 1536.66 1250.86 1534.55 Q1253.2 1532.44 1253.2 1528.83 Q1253.2 1525.22 1250.86 1523.11 Q1248.52 1521.01 1244.52 1521.01 Q1242.64 1521.01 1240.77 1521.42 Q1238.91 1521.84 1236.97 1522.72 L1236.97 1505.36 Z\" fill=\"#000000\" fill-rule=\"evenodd\" fill-opacity=\"1\" /><path clip-path=\"url(#clip440)\" d=\"M 0 0 M1272.94 1508.44 Q1269.33 1508.44 1267.5 1512 Q1265.7 1515.55 1265.7 1522.67 Q1265.7 1529.78 1267.5 1533.35 Q1269.33 1536.89 1272.94 1536.89 Q1276.58 1536.89 1278.38 1533.35 Q1280.21 1529.78 1280.21 1522.67 Q1280.21 1515.55 1278.38 1512 Q1276.58 1508.44 1272.94 1508.44 M1272.94 1504.73 Q1278.75 1504.73 1281.81 1509.34 Q1284.89 1513.92 1284.89 1522.67 Q1284.89 1531.4 1281.81 1536.01 Q1278.75 1540.59 1272.94 1540.59 Q1267.13 1540.59 1264.05 1536.01 Q1261 1531.4 1261 1522.67 Q1261 1513.92 1264.05 1509.34 Q1267.13 1504.73 1272.94 1504.73 Z\" fill=\"#000000\" fill-rule=\"evenodd\" fill-opacity=\"1\" /><path clip-path=\"url(#clip440)\" d=\"M 0 0 M1299.96 1508.44 Q1296.34 1508.44 1294.52 1512 Q1292.71 1515.55 1292.71 1522.67 Q1292.71 1529.78 1294.52 1533.35 Q1296.34 1536.89 1299.96 1536.89 Q1303.59 1536.89 1305.39 1533.35 Q1307.22 1529.78 1307.22 1522.67 Q1307.22 1515.55 1305.39 1512 Q1303.59 1508.44 1299.96 1508.44 M1299.96 1504.73 Q1305.77 1504.73 1308.82 1509.34 Q1311.9 1513.92 1311.9 1522.67 Q1311.9 1531.4 1308.82 1536.01 Q1305.77 1540.59 1299.96 1540.59 Q1294.14 1540.59 1291.07 1536.01 Q1288.01 1531.4 1288.01 1522.67 Q1288.01 1513.92 1291.07 1509.34 Q1294.14 1504.73 1299.96 1504.73 Z\" fill=\"#000000\" fill-rule=\"evenodd\" fill-opacity=\"1\" /><path clip-path=\"url(#clip440)\" d=\"M 0 0 M1745.09 1505.36 L1767.32 1505.36 L1767.32 1507.35 L1754.77 1539.92 L1749.88 1539.92 L1761.69 1509.3 L1745.09 1509.3 L1745.09 1505.36 Z\" fill=\"#000000\" fill-rule=\"evenodd\" fill-opacity=\"1\" /><path clip-path=\"url(#clip440)\" d=\"M 0 0 M1772.43 1505.36 L1790.79 1505.36 L1790.79 1509.3 L1776.71 1509.3 L1776.71 1517.77 Q1777.73 1517.42 1778.75 1517.26 Q1779.77 1517.07 1780.79 1517.07 Q1786.57 1517.07 1789.95 1520.24 Q1793.33 1523.42 1793.33 1528.83 Q1793.33 1534.41 1789.86 1537.51 Q1786.39 1540.59 1780.07 1540.59 Q1777.89 1540.59 1775.63 1540.22 Q1773.38 1539.85 1770.97 1539.11 L1770.97 1534.41 Q1773.06 1535.54 1775.28 1536.1 Q1777.5 1536.66 1779.98 1536.66 Q1783.98 1536.66 1786.32 1534.55 Q1788.66 1532.44 1788.66 1528.83 Q1788.66 1525.22 1786.32 1523.11 Q1783.98 1521.01 1779.98 1521.01 Q1778.1 1521.01 1776.23 1521.42 Q1774.38 1521.84 1772.43 1522.72 L1772.43 1505.36 Z\" fill=\"#000000\" fill-rule=\"evenodd\" fill-opacity=\"1\" /><path clip-path=\"url(#clip440)\" d=\"M 0 0 M1808.4 1508.44 Q1804.79 1508.44 1802.96 1512 Q1801.16 1515.55 1801.16 1522.67 Q1801.16 1529.78 1802.96 1533.35 Q1804.79 1536.89 1808.4 1536.89 Q1812.04 1536.89 1813.84 1533.35 Q1815.67 1529.78 1815.67 1522.67 Q1815.67 1515.55 1813.84 1512 Q1812.04 1508.44 1808.4 1508.44 M1808.4 1504.73 Q1814.21 1504.73 1817.27 1509.34 Q1820.35 1513.92 1820.35 1522.67 Q1820.35 1531.4 1817.27 1536.01 Q1814.21 1540.59 1808.4 1540.59 Q1802.59 1540.59 1799.51 1536.01 Q1796.46 1531.4 1796.46 1522.67 Q1796.46 1513.92 1799.51 1509.34 Q1802.59 1504.73 1808.4 1504.73 Z\" fill=\"#000000\" fill-rule=\"evenodd\" fill-opacity=\"1\" /><path clip-path=\"url(#clip440)\" d=\"M 0 0 M2241.6 1535.98 L2249.24 1535.98 L2249.24 1509.62 L2240.93 1511.29 L2240.93 1507.03 L2249.19 1505.36 L2253.87 1505.36 L2253.87 1535.98 L2261.5 1535.98 L2261.5 1539.92 L2241.6 1539.92 L2241.6 1535.98 Z\" fill=\"#000000\" fill-rule=\"evenodd\" fill-opacity=\"1\" /><path clip-path=\"url(#clip440)\" d=\"M 0 0 M2276.57 1508.44 Q2272.96 1508.44 2271.13 1512 Q2269.33 1515.55 2269.33 1522.67 Q2269.33 1529.78 2271.13 1533.35 Q2272.96 1536.89 2276.57 1536.89 Q2280.21 1536.89 2282.01 1533.35 Q2283.84 1529.78 2283.84 1522.67 Q2283.84 1515.55 2282.01 1512 Q2280.21 1508.44 2276.57 1508.44 M2276.57 1504.73 Q2282.38 1504.73 2285.44 1509.34 Q2288.52 1513.92 2288.52 1522.67 Q2288.52 1531.4 2285.44 1536.01 Q2282.38 1540.59 2276.57 1540.59 Q2270.76 1540.59 2267.68 1536.01 Q2264.63 1531.4 2264.63 1522.67 Q2264.63 1513.92 2267.68 1509.34 Q2270.76 1504.73 2276.57 1504.73 Z\" fill=\"#000000\" fill-rule=\"evenodd\" fill-opacity=\"1\" /><path clip-path=\"url(#clip440)\" d=\"M 0 0 M2303.59 1508.44 Q2299.98 1508.44 2298.15 1512 Q2296.34 1515.55 2296.34 1522.67 Q2296.34 1529.78 2298.15 1533.35 Q2299.98 1536.89 2303.59 1536.89 Q2307.22 1536.89 2309.03 1533.35 Q2310.86 1529.78 2310.86 1522.67 Q2310.86 1515.55 2309.03 1512 Q2307.22 1508.44 2303.59 1508.44 M2303.59 1504.73 Q2309.4 1504.73 2312.45 1509.34 Q2315.53 1513.92 2315.53 1522.67 Q2315.53 1531.4 2312.45 1536.01 Q2309.4 1540.59 2303.59 1540.59 Q2297.78 1540.59 2294.7 1536.01 Q2291.64 1531.4 2291.64 1522.67 Q2291.64 1513.92 2294.7 1509.34 Q2297.78 1504.73 2303.59 1504.73 Z\" fill=\"#000000\" fill-rule=\"evenodd\" fill-opacity=\"1\" /><path clip-path=\"url(#clip440)\" d=\"M 0 0 M2330.6 1508.44 Q2326.99 1508.44 2325.16 1512 Q2323.36 1515.55 2323.36 1522.67 Q2323.36 1529.78 2325.16 1533.35 Q2326.99 1536.89 2330.6 1536.89 Q2334.23 1536.89 2336.04 1533.35 Q2337.87 1529.78 2337.87 1522.67 Q2337.87 1515.55 2336.04 1512 Q2334.23 1508.44 2330.6 1508.44 M2330.6 1504.73 Q2336.41 1504.73 2339.47 1509.34 Q2342.55 1513.92 2342.55 1522.67 Q2342.55 1531.4 2339.47 1536.01 Q2336.41 1540.59 2330.6 1540.59 Q2324.79 1540.59 2321.71 1536.01 Q2318.66 1531.4 2318.66 1522.67 Q2318.66 1513.92 2321.71 1509.34 Q2324.79 1504.73 2330.6 1504.73 Z\" fill=\"#000000\" fill-rule=\"evenodd\" fill-opacity=\"1\" /><path clip-path=\"url(#clip440)\" d=\"M 0 0 M64.0106 1336.9 L71.6495 1336.9 L71.6495 1310.54 L63.3393 1312.2 L63.3393 1307.94 L71.6032 1306.28 L76.2791 1306.28 L76.2791 1336.9 L83.9179 1336.9 L83.9179 1340.84 L64.0106 1340.84 L64.0106 1336.9 Z\" fill=\"#000000\" fill-rule=\"evenodd\" fill-opacity=\"1\" /><path clip-path=\"url(#clip440)\" d=\"M 0 0 M88.9874 1334.96 L93.8716 1334.96 L93.8716 1340.84 L88.9874 1340.84 L88.9874 1334.96 Z\" fill=\"#000000\" fill-rule=\"evenodd\" fill-opacity=\"1\" /><path clip-path=\"url(#clip440)\" d=\"M 0 0 M99.7512 1336.9 L107.39 1336.9 L107.39 1310.54 L99.0799 1312.2 L99.0799 1307.94 L107.344 1306.28 L112.02 1306.28 L112.02 1336.9 L119.658 1336.9 L119.658 1340.84 L99.7512 1340.84 L99.7512 1336.9 Z\" fill=\"#000000\" fill-rule=\"evenodd\" fill-opacity=\"1\" /><path clip-path=\"url(#clip440)\" d=\"M 0 0 M134.728 1309.36 Q131.117 1309.36 129.288 1312.92 Q127.483 1316.46 127.483 1323.59 Q127.483 1330.7 129.288 1334.26 Q131.117 1337.81 134.728 1337.81 Q138.362 1337.81 140.168 1334.26 Q141.996 1330.7 141.996 1323.59 Q141.996 1316.46 140.168 1312.92 Q138.362 1309.36 134.728 1309.36 M134.728 1305.65 Q140.538 1305.65 143.594 1310.26 Q146.672 1314.84 146.672 1323.59 Q146.672 1332.32 143.594 1336.93 Q140.538 1341.51 134.728 1341.51 Q128.918 1341.51 125.839 1336.93 Q122.783 1332.32 122.783 1323.59 Q122.783 1314.84 125.839 1310.26 Q128.918 1305.65 134.728 1305.65 Z\" fill=\"#000000\" fill-rule=\"evenodd\" fill-opacity=\"1\" /><path clip-path=\"url(#clip440)\" d=\"M 0 0 M151.788 1306.28 L170.144 1306.28 L170.144 1310.21 L156.07 1310.21 L156.07 1318.69 Q157.089 1318.34 158.107 1318.18 Q159.126 1317.99 160.144 1317.99 Q165.931 1317.99 169.311 1321.16 Q172.691 1324.33 172.691 1329.75 Q172.691 1335.33 169.218 1338.43 Q165.746 1341.51 159.427 1341.51 Q157.251 1341.51 154.982 1341.14 Q152.737 1340.77 150.33 1340.03 L150.33 1335.33 Q152.413 1336.46 154.635 1337.02 Q156.857 1337.57 159.334 1337.57 Q163.339 1337.57 165.677 1335.47 Q168.015 1333.36 168.015 1329.75 Q168.015 1326.14 165.677 1324.03 Q163.339 1321.93 159.334 1321.93 Q157.459 1321.93 155.584 1322.34 Q153.732 1322.76 151.788 1323.64 L151.788 1306.28 Z\" fill=\"#000000\" fill-rule=\"evenodd\" fill-opacity=\"1\" /><path clip-path=\"url(#clip440)\" d=\"M 0 0 M64.2421 1143.41 L71.881 1143.41 L71.881 1117.04 L63.5708 1118.71 L63.5708 1114.45 L71.8347 1112.78 L76.5106 1112.78 L76.5106 1143.41 L84.1494 1143.41 L84.1494 1147.34 L64.2421 1147.34 L64.2421 1143.41 Z\" fill=\"#000000\" fill-rule=\"evenodd\" fill-opacity=\"1\" /><path clip-path=\"url(#clip440)\" d=\"M 0 0 M89.2188 1141.46 L94.1031 1141.46 L94.1031 1147.34 L89.2188 1147.34 L89.2188 1141.46 Z\" fill=\"#000000\" fill-rule=\"evenodd\" fill-opacity=\"1\" /><path clip-path=\"url(#clip440)\" d=\"M 0 0 M99.9827 1143.41 L107.622 1143.41 L107.622 1117.04 L99.3114 1118.71 L99.3114 1114.45 L107.575 1112.78 L112.251 1112.78 L112.251 1143.41 L119.89 1143.41 L119.89 1147.34 L99.9827 1147.34 L99.9827 1143.41 Z\" fill=\"#000000\" fill-rule=\"evenodd\" fill-opacity=\"1\" /><path clip-path=\"url(#clip440)\" d=\"M 0 0 M125.77 1143.41 L133.408 1143.41 L133.408 1117.04 L125.098 1118.71 L125.098 1114.45 L133.362 1112.78 L138.038 1112.78 L138.038 1143.41 L145.677 1143.41 L145.677 1147.34 L125.77 1147.34 L125.77 1143.41 Z\" fill=\"#000000\" fill-rule=\"evenodd\" fill-opacity=\"1\" /><path clip-path=\"url(#clip440)\" d=\"M 0 0 M160.746 1115.86 Q157.135 1115.86 155.306 1119.43 Q153.501 1122.97 153.501 1130.1 Q153.501 1137.2 155.306 1140.77 Q157.135 1144.31 160.746 1144.31 Q164.38 1144.31 166.186 1140.77 Q168.015 1137.2 168.015 1130.1 Q168.015 1122.97 166.186 1119.43 Q164.38 1115.86 160.746 1115.86 M160.746 1112.16 Q166.556 1112.16 169.612 1116.76 Q172.691 1121.35 172.691 1130.1 Q172.691 1138.82 169.612 1143.43 Q166.556 1148.01 160.746 1148.01 Q154.936 1148.01 151.857 1143.43 Q148.802 1138.82 148.802 1130.1 Q148.802 1121.35 151.857 1116.76 Q154.936 1112.16 160.746 1112.16 Z\" fill=\"#000000\" fill-rule=\"evenodd\" fill-opacity=\"1\" /><path clip-path=\"url(#clip440)\" d=\"M 0 0 M65.2375 949.912 L72.8763 949.912 L72.8763 923.547 L64.5662 925.213 L64.5662 920.954 L72.83 919.287 L77.5059 919.287 L77.5059 949.912 L85.1448 949.912 L85.1448 953.847 L65.2375 953.847 L65.2375 949.912 Z\" fill=\"#000000\" fill-rule=\"evenodd\" fill-opacity=\"1\" /><path clip-path=\"url(#clip440)\" d=\"M 0 0 M90.2142 947.968 L95.0984 947.968 L95.0984 953.847 L90.2142 953.847 L90.2142 947.968 Z\" fill=\"#000000\" fill-rule=\"evenodd\" fill-opacity=\"1\" /><path clip-path=\"url(#clip440)\" d=\"M 0 0 M100.978 949.912 L108.617 949.912 L108.617 923.547 L100.307 925.213 L100.307 920.954 L108.571 919.287 L113.246 919.287 L113.246 949.912 L120.885 949.912 L120.885 953.847 L100.978 953.847 L100.978 949.912 Z\" fill=\"#000000\" fill-rule=\"evenodd\" fill-opacity=\"1\" /><path clip-path=\"url(#clip440)\" d=\"M 0 0 M126.765 949.912 L134.404 949.912 L134.404 923.547 L126.094 925.213 L126.094 920.954 L134.357 919.287 L139.033 919.287 L139.033 949.912 L146.672 949.912 L146.672 953.847 L126.765 953.847 L126.765 949.912 Z\" fill=\"#000000\" fill-rule=\"evenodd\" fill-opacity=\"1\" /><path clip-path=\"url(#clip440)\" d=\"M 0 0 M151.788 919.287 L170.144 919.287 L170.144 923.223 L156.07 923.223 L156.07 931.695 Q157.089 931.348 158.107 931.186 Q159.126 931 160.144 931 Q165.931 931 169.311 934.172 Q172.691 937.343 172.691 942.76 Q172.691 948.338 169.218 951.44 Q165.746 954.519 159.427 954.519 Q157.251 954.519 154.982 954.148 Q152.737 953.778 150.33 953.037 L150.33 948.338 Q152.413 949.472 154.635 950.028 Q156.857 950.584 159.334 950.584 Q163.339 950.584 165.677 948.477 Q168.015 946.371 168.015 942.76 Q168.015 939.148 165.677 937.042 Q163.339 934.935 159.334 934.935 Q157.459 934.935 155.584 935.352 Q153.732 935.769 151.788 936.648 L151.788 919.287 Z\" fill=\"#000000\" fill-rule=\"evenodd\" fill-opacity=\"1\" /><path clip-path=\"url(#clip440)\" d=\"M 0 0 M64.6125 756.417 L72.2513 756.417 L72.2513 730.051 L63.9412 731.718 L63.9412 727.459 L72.205 725.792 L76.8809 725.792 L76.8809 756.417 L84.5198 756.417 L84.5198 760.352 L64.6125 760.352 L64.6125 756.417 Z\" fill=\"#000000\" fill-rule=\"evenodd\" fill-opacity=\"1\" /><path clip-path=\"url(#clip440)\" d=\"M 0 0 M89.5892 754.473 L94.4734 754.473 L94.4734 760.352 L89.5892 760.352 L89.5892 754.473 Z\" fill=\"#000000\" fill-rule=\"evenodd\" fill-opacity=\"1\" /><path clip-path=\"url(#clip440)\" d=\"M 0 0 M100.353 756.417 L107.992 756.417 L107.992 730.051 L99.6817 731.718 L99.6817 727.459 L107.946 725.792 L112.621 725.792 L112.621 756.417 L120.26 756.417 L120.26 760.352 L100.353 760.352 L100.353 756.417 Z\" fill=\"#000000\" fill-rule=\"evenodd\" fill-opacity=\"1\" /><path clip-path=\"url(#clip440)\" d=\"M 0 0 M129.358 756.417 L145.677 756.417 L145.677 760.352 L123.733 760.352 L123.733 756.417 Q126.395 753.662 130.978 749.033 Q135.584 744.38 136.765 743.037 Q139.01 740.514 139.89 738.778 Q140.793 737.019 140.793 735.329 Q140.793 732.574 138.848 730.838 Q136.927 729.102 133.825 729.102 Q131.626 729.102 129.172 729.866 Q126.742 730.63 123.964 732.181 L123.964 727.459 Q126.788 726.325 129.242 725.746 Q131.695 725.167 133.732 725.167 Q139.103 725.167 142.297 727.852 Q145.492 730.537 145.492 735.028 Q145.492 737.158 144.682 739.079 Q143.894 740.977 141.788 743.57 Q141.209 744.241 138.107 747.459 Q135.006 750.653 129.358 756.417 Z\" fill=\"#000000\" fill-rule=\"evenodd\" fill-opacity=\"1\" /><path clip-path=\"url(#clip440)\" d=\"M 0 0 M160.746 728.871 Q157.135 728.871 155.306 732.436 Q153.501 735.977 153.501 743.107 Q153.501 750.213 155.306 753.778 Q157.135 757.32 160.746 757.32 Q164.38 757.32 166.186 753.778 Q168.015 750.213 168.015 743.107 Q168.015 735.977 166.186 732.436 Q164.38 728.871 160.746 728.871 M160.746 725.167 Q166.556 725.167 169.612 729.774 Q172.691 734.357 172.691 743.107 Q172.691 751.834 169.612 756.44 Q166.556 761.023 160.746 761.023 Q154.936 761.023 151.857 756.44 Q148.802 751.834 148.802 743.107 Q148.802 734.357 151.857 729.774 Q154.936 725.167 160.746 725.167 Z\" fill=\"#000000\" fill-rule=\"evenodd\" fill-opacity=\"1\" /><path clip-path=\"url(#clip440)\" d=\"M 0 0 M65.6079 562.922 L73.2467 562.922 L73.2467 536.556 L64.9366 538.223 L64.9366 533.963 L73.2004 532.297 L77.8763 532.297 L77.8763 562.922 L85.5152 562.922 L85.5152 566.857 L65.6079 566.857 L65.6079 562.922 Z\" fill=\"#000000\" fill-rule=\"evenodd\" fill-opacity=\"1\" /><path clip-path=\"url(#clip440)\" d=\"M 0 0 M90.5846 560.977 L95.4688 560.977 L95.4688 566.857 L90.5846 566.857 L90.5846 560.977 Z\" fill=\"#000000\" fill-rule=\"evenodd\" fill-opacity=\"1\" /><path clip-path=\"url(#clip440)\" d=\"M 0 0 M101.348 562.922 L108.987 562.922 L108.987 536.556 L100.677 538.223 L100.677 533.963 L108.941 532.297 L113.617 532.297 L113.617 562.922 L121.256 562.922 L121.256 566.857 L101.348 566.857 L101.348 562.922 Z\" fill=\"#000000\" fill-rule=\"evenodd\" fill-opacity=\"1\" /><path clip-path=\"url(#clip440)\" d=\"M 0 0 M130.353 562.922 L146.672 562.922 L146.672 566.857 L124.728 566.857 L124.728 562.922 Q127.39 560.167 131.973 555.537 Q136.58 550.885 137.76 549.542 Q140.006 547.019 140.885 545.283 Q141.788 543.524 141.788 541.834 Q141.788 539.079 139.844 537.343 Q137.922 535.607 134.82 535.607 Q132.621 535.607 130.168 536.371 Q127.737 537.135 124.959 538.686 L124.959 533.963 Q127.783 532.829 130.237 532.251 Q132.691 531.672 134.728 531.672 Q140.098 531.672 143.293 534.357 Q146.487 537.042 146.487 541.533 Q146.487 543.663 145.677 545.584 Q144.89 547.482 142.783 550.075 Q142.205 550.746 139.103 553.963 Q136.001 557.158 130.353 562.922 Z\" fill=\"#000000\" fill-rule=\"evenodd\" fill-opacity=\"1\" /><path clip-path=\"url(#clip440)\" d=\"M 0 0 M151.788 532.297 L170.144 532.297 L170.144 536.232 L156.07 536.232 L156.07 544.704 Q157.089 544.357 158.107 544.195 Q159.126 544.01 160.144 544.01 Q165.931 544.01 169.311 547.181 Q172.691 550.352 172.691 555.769 Q172.691 561.348 169.218 564.449 Q165.746 567.528 159.427 567.528 Q157.251 567.528 154.982 567.158 Q152.737 566.787 150.33 566.047 L150.33 561.348 Q152.413 562.482 154.635 563.037 Q156.857 563.593 159.334 563.593 Q163.339 563.593 165.677 561.486 Q168.015 559.38 168.015 555.769 Q168.015 552.158 165.677 550.051 Q163.339 547.945 159.334 547.945 Q157.459 547.945 155.584 548.362 Q153.732 548.778 151.788 549.658 L151.788 532.297 Z\" fill=\"#000000\" fill-rule=\"evenodd\" fill-opacity=\"1\" /><path clip-path=\"url(#clip440)\" d=\"M 0 0 M63.6634 369.426 L71.3023 369.426 L71.3023 343.061 L62.9921 344.727 L62.9921 340.468 L71.256 338.802 L75.9319 338.802 L75.9319 369.426 L83.5707 369.426 L83.5707 373.362 L63.6634 373.362 L63.6634 369.426 Z\" fill=\"#000000\" fill-rule=\"evenodd\" fill-opacity=\"1\" /><path clip-path=\"url(#clip440)\" d=\"M 0 0 M88.6401 367.482 L93.5244 367.482 L93.5244 373.362 L88.6401 373.362 L88.6401 367.482 Z\" fill=\"#000000\" fill-rule=\"evenodd\" fill-opacity=\"1\" /><path clip-path=\"url(#clip440)\" d=\"M 0 0 M99.404 369.426 L107.043 369.426 L107.043 343.061 L98.7327 344.727 L98.7327 340.468 L106.997 338.802 L111.672 338.802 L111.672 369.426 L119.311 369.426 L119.311 373.362 L99.404 373.362 L99.404 369.426 Z\" fill=\"#000000\" fill-rule=\"evenodd\" fill-opacity=\"1\" /><path clip-path=\"url(#clip440)\" d=\"M 0 0 M138.547 354.727 Q141.904 355.445 143.779 357.713 Q145.677 359.982 145.677 363.315 Q145.677 368.431 142.158 371.232 Q138.64 374.033 132.158 374.033 Q129.983 374.033 127.668 373.593 Q125.376 373.176 122.922 372.32 L122.922 367.806 Q124.867 368.94 127.182 369.519 Q129.496 370.098 132.02 370.098 Q136.418 370.098 138.709 368.362 Q141.024 366.625 141.024 363.315 Q141.024 360.26 138.871 358.547 Q136.742 356.811 132.922 356.811 L128.895 356.811 L128.895 352.968 L133.107 352.968 Q136.557 352.968 138.385 351.602 Q140.214 350.214 140.214 347.621 Q140.214 344.959 138.316 343.547 Q136.441 342.112 132.922 342.112 Q131.001 342.112 128.802 342.528 Q126.603 342.945 123.964 343.825 L123.964 339.658 Q126.626 338.917 128.941 338.547 Q131.279 338.177 133.339 338.177 Q138.663 338.177 141.765 340.607 Q144.867 343.014 144.867 347.135 Q144.867 350.005 143.223 351.996 Q141.58 353.964 138.547 354.727 Z\" fill=\"#000000\" fill-rule=\"evenodd\" fill-opacity=\"1\" /><path clip-path=\"url(#clip440)\" d=\"M 0 0 M160.746 341.88 Q157.135 341.88 155.306 345.445 Q153.501 348.987 153.501 356.116 Q153.501 363.223 155.306 366.788 Q157.135 370.329 160.746 370.329 Q164.38 370.329 166.186 366.788 Q168.015 363.223 168.015 356.116 Q168.015 348.987 166.186 345.445 Q164.38 341.88 160.746 341.88 M160.746 338.177 Q166.556 338.177 169.612 342.783 Q172.691 347.366 172.691 356.116 Q172.691 364.843 169.612 369.45 Q166.556 374.033 160.746 374.033 Q154.936 374.033 151.857 369.45 Q148.802 364.843 148.802 356.116 Q148.802 347.366 151.857 342.783 Q154.936 338.177 160.746 338.177 Z\" fill=\"#000000\" fill-rule=\"evenodd\" fill-opacity=\"1\" /><path clip-path=\"url(#clip440)\" d=\"M 0 0 M64.6588 175.931 L72.2976 175.931 L72.2976 149.566 L63.9875 151.232 L63.9875 146.973 L72.2513 145.306 L76.9272 145.306 L76.9272 175.931 L84.5661 175.931 L84.5661 179.866 L64.6588 179.866 L64.6588 175.931 Z\" fill=\"#000000\" fill-rule=\"evenodd\" fill-opacity=\"1\" /><path clip-path=\"url(#clip440)\" d=\"M 0 0 M89.6355 173.987 L94.5197 173.987 L94.5197 179.866 L89.6355 179.866 L89.6355 173.987 Z\" fill=\"#000000\" fill-rule=\"evenodd\" fill-opacity=\"1\" /><path clip-path=\"url(#clip440)\" d=\"M 0 0 M100.399 175.931 L108.038 175.931 L108.038 149.566 L99.728 151.232 L99.728 146.973 L107.992 145.306 L112.668 145.306 L112.668 175.931 L120.307 175.931 L120.307 179.866 L100.399 179.866 L100.399 175.931 Z\" fill=\"#000000\" fill-rule=\"evenodd\" fill-opacity=\"1\" /><path clip-path=\"url(#clip440)\" d=\"M 0 0 M139.543 161.232 Q142.899 161.95 144.774 164.218 Q146.672 166.487 146.672 169.82 Q146.672 174.936 143.154 177.737 Q139.635 180.538 133.154 180.538 Q130.978 180.538 128.663 180.098 Q126.371 179.681 123.918 178.825 L123.918 174.311 Q125.862 175.445 128.177 176.024 Q130.492 176.602 133.015 176.602 Q137.413 176.602 139.705 174.866 Q142.019 173.13 142.019 169.82 Q142.019 166.764 139.867 165.052 Q137.737 163.315 133.918 163.315 L129.89 163.315 L129.89 159.473 L134.103 159.473 Q137.552 159.473 139.381 158.107 Q141.209 156.718 141.209 154.126 Q141.209 151.464 139.311 150.052 Q137.436 148.616 133.918 148.616 Q131.996 148.616 129.797 149.033 Q127.598 149.45 124.959 150.329 L124.959 146.163 Q127.621 145.422 129.936 145.052 Q132.274 144.681 134.334 144.681 Q139.658 144.681 142.76 147.112 Q145.862 149.519 145.862 153.64 Q145.862 156.51 144.219 158.501 Q142.575 160.468 139.543 161.232 Z\" fill=\"#000000\" fill-rule=\"evenodd\" fill-opacity=\"1\" /><path clip-path=\"url(#clip440)\" d=\"M 0 0 M151.788 145.306 L170.144 145.306 L170.144 149.241 L156.07 149.241 L156.07 157.714 Q157.089 157.366 158.107 157.204 Q159.126 157.019 160.144 157.019 Q165.931 157.019 169.311 160.19 Q172.691 163.362 172.691 168.778 Q172.691 174.357 169.218 177.459 Q165.746 180.538 159.427 180.538 Q157.251 180.538 154.982 180.167 Q152.737 179.797 150.33 179.056 L150.33 174.357 Q152.413 175.491 154.635 176.047 Q156.857 176.602 159.334 176.602 Q163.339 176.602 165.677 174.496 Q168.015 172.389 168.015 168.778 Q168.015 165.167 165.677 163.061 Q163.339 160.954 159.334 160.954 Q157.459 160.954 155.584 161.371 Q153.732 161.788 151.788 162.667 L151.788 145.306 Z\" fill=\"#000000\" fill-rule=\"evenodd\" fill-opacity=\"1\" /><polyline clip-path=\"url(#clip442)\" style=\"stroke:#009af9; stroke-width:4; stroke-opacity:1; fill:none\" points=\"\n",
       "  257.711,743.072 259.747,709.507 261.783,741.54 263.82,753.543 265.856,776.008 267.892,682.454 269.928,675.388 271.964,706.61 274,770.975 276.036,742.269 \n",
       "  278.072,779.118 280.108,794.953 282.144,801.567 284.18,832.919 286.216,766.915 288.252,814.259 290.288,805.511 292.324,831.695 294.36,885.724 296.396,912.206 \n",
       "  298.433,897.134 300.469,924.767 302.505,893.355 304.541,882.604 306.577,915.204 308.613,867.142 310.649,829.615 312.685,868.394 314.721,904.257 316.757,901.056 \n",
       "  318.793,927.32 320.829,899.449 322.865,870.884 324.901,817.766 326.937,840.746 328.973,871.212 331.009,860.235 333.046,841.874 335.082,772.499 337.118,816.356 \n",
       "  339.154,829.833 341.19,819.989 343.226,876.828 345.262,843.93 347.298,803.115 349.334,824.727 351.37,776.437 353.406,735.859 355.442,757.556 357.478,684.875 \n",
       "  359.514,650.586 361.55,652.717 363.586,632.538 365.623,652.034 367.659,697.003 369.695,717.144 371.731,647.298 373.767,664.422 375.803,633.31 377.839,673.76 \n",
       "  379.875,662.103 381.911,665.737 383.947,636.919 385.983,640.234 388.019,655.596 390.055,686.712 392.091,696.08 394.127,693.755 396.163,649.763 398.199,570.271 \n",
       "  400.236,539.654 402.272,557.856 404.308,585.057 406.344,653.269 408.38,623.478 410.416,581.554 412.452,549.329 414.488,615.336 416.524,625.534 418.56,627.815 \n",
       "  420.596,639.906 422.632,606.416 424.668,570.416 426.704,646.942 428.74,580.367 430.776,555.658 432.812,485.276 434.849,472.695 436.885,468.918 438.921,458.297 \n",
       "  440.957,444.164 442.993,451.388 445.029,433.359 447.065,421.189 449.101,374.955 451.137,369.288 453.173,430.042 455.209,461.837 457.245,478.773 459.281,417.936 \n",
       "  461.317,512.525 463.353,517.02 465.389,500.893 467.426,445.142 469.462,474.67 471.498,435.69 473.534,440.411 475.57,440.615 477.606,394.026 479.642,421.869 \n",
       "  481.678,373.885 483.714,416.162 485.75,400.089 487.786,374.852 489.822,353.872 491.858,362.149 493.894,397.501 495.93,357.786 497.966,363.291 500.002,415.718 \n",
       "  502.039,423.51 504.075,448.598 506.111,453.547 508.147,486.385 510.183,498.429 512.219,507.975 514.255,545.122 516.291,594.22 518.327,641.746 520.363,588.764 \n",
       "  522.399,597.407 524.435,656.349 526.471,636.461 528.507,595.056 530.543,550.708 532.579,561.271 534.615,544.796 536.652,529.256 538.688,539.296 540.724,512.519 \n",
       "  542.76,471.793 544.796,493.68 546.832,483.495 548.868,482.767 550.904,475.976 552.94,461.438 554.976,367.809 557.012,369.248 559.048,352.993 561.084,402.294 \n",
       "  563.12,418.69 565.156,464.849 567.192,432.583 569.228,485.955 571.265,477.925 573.301,569.534 575.337,648.264 577.373,662.521 579.409,596.267 581.445,602.709 \n",
       "  583.481,617.865 585.517,664.148 587.553,624.692 589.589,661.156 591.625,658.529 593.661,669.915 595.697,759.699 597.733,778.712 599.769,785.763 601.805,806.929 \n",
       "  603.842,844.897 605.878,867.65 607.914,796.005 609.95,822.231 611.986,820.367 614.022,810.759 616.058,817.63 618.094,833.344 620.13,854.851 622.166,861.668 \n",
       "  624.202,870.951 626.238,817.946 628.274,809.566 630.31,815.897 632.346,778.694 634.382,768.535 636.418,772.071 638.455,784.129 640.491,806.177 642.527,750.292 \n",
       "  644.563,803.229 646.599,812.182 648.635,776.301 650.671,801.464 652.707,774.16 654.743,779.191 656.779,724.739 658.815,744.498 660.851,783.821 662.887,770.639 \n",
       "  664.923,765.177 666.959,788.733 668.995,797.224 671.031,846.788 673.068,842.317 675.104,868.771 677.14,817.566 679.176,822.539 681.212,787.808 683.248,833.601 \n",
       "  685.284,765.472 687.32,830.659 689.356,743.917 691.392,772.462 693.428,791.386 695.464,794.536 697.5,816.098 699.536,795.676 701.572,781.542 703.608,789.883 \n",
       "  705.645,808.574 707.681,827.264 709.717,887.989 711.753,946.563 713.789,990.323 715.825,1006.57 717.861,1051.36 719.897,1113.02 721.933,1141.97 723.969,1124.4 \n",
       "  726.005,1128.61 728.041,1158.65 730.077,1143.46 732.113,1096.26 734.149,1019.31 736.185,1036.45 738.221,1017.99 740.258,1060.77 742.294,1042.66 744.33,1031.85 \n",
       "  746.366,999.551 748.402,1002.25 750.438,1098.15 752.474,1068.62 754.51,1106.86 756.546,1021.11 758.582,972.71 760.618,963.249 762.654,928.207 764.69,971.278 \n",
       "  766.726,966.872 768.762,1014.7 770.798,1017.6 772.834,999.34 774.871,1016.43 776.907,942.918 778.943,925.307 780.979,928.154 783.015,939.574 785.051,1027.14 \n",
       "  787.087,980.861 789.123,974.845 791.159,1010.05 793.195,1055.24 795.231,1073.51 797.267,1044.36 799.303,1086.14 801.339,1141.96 803.375,1126.63 805.411,1189.81 \n",
       "  807.448,1123.82 809.484,1096.34 811.52,1102.67 813.556,1136.56 815.592,1111 817.628,1057.43 819.664,1023.96 821.7,992.556 823.736,976.222 825.772,1031.89 \n",
       "  827.808,1047.64 829.844,1118.06 831.88,1163.44 833.916,1173.32 835.952,1101.95 837.988,1124.01 840.024,1175.75 842.061,1196.31 844.097,1157.33 846.133,1165.14 \n",
       "  848.169,1102.32 850.205,1109.86 852.241,1146.73 854.277,1152.47 856.313,1135.91 858.349,1213.18 860.385,1214.79 862.421,1227.57 864.457,1221.53 866.493,1254.68 \n",
       "  868.529,1294.19 870.565,1298.52 872.601,1281.94 874.637,1298.83 876.674,1307.26 878.71,1362.67 880.746,1353.39 882.782,1349.56 884.818,1332.42 886.854,1278.14 \n",
       "  888.89,1318.66 890.926,1289.29 892.962,1265.58 894.998,1238.9 897.034,1262.65 899.07,1240.83 901.106,1234.87 903.142,1209.59 905.178,1235.57 907.214,1246.95 \n",
       "  909.251,1190.74 911.287,1199.44 913.323,1164.82 915.359,1113.68 917.395,1126.22 919.431,1167.18 921.467,1145.09 923.503,1116.14 925.539,1179.79 927.575,1127.67 \n",
       "  929.611,1121.79 931.647,1100.68 933.683,1111.19 935.719,1135.05 937.755,1098.69 939.791,1049.52 941.827,1049.75 943.864,1052.37 945.9,1091.61 947.936,1083.01 \n",
       "  949.972,1077.86 952.008,1044.12 954.044,1053.04 956.08,1121.91 958.116,1146.83 960.152,1130.64 962.188,1146.44 964.224,1196.6 966.26,1229.1 968.296,1289.12 \n",
       "  970.332,1232.3 972.368,1287.02 974.404,1253.58 976.44,1262.71 978.477,1208.76 980.513,1283.79 982.549,1243.39 984.585,1287.26 986.621,1291.96 988.657,1285.72 \n",
       "  990.693,1280.09 992.729,1270.48 994.765,1287.1 996.801,1342.24 998.837,1377.64 1000.87,1419.49 1002.91,1388.22 1004.95,1363.14 1006.98,1319.48 1009.02,1289.13 \n",
       "  1011.05,1256.39 1013.09,1132.93 1015.13,1211.89 1017.16,1209.7 1019.2,1178.25 1021.23,1200.29 1023.27,1175.8 1025.31,1220.05 1027.34,1210.21 1029.38,1152.47 \n",
       "  1031.41,1115.19 1033.45,1122.44 1035.49,1122.69 1037.52,1141.77 1039.56,1120.98 1041.59,1066.58 1043.63,1107.7 1045.67,1157.97 1047.7,1186.92 1049.74,1144.08 \n",
       "  1051.77,1115.13 1053.81,1100.51 1055.85,1075.92 1057.88,1045.32 1059.92,1012.3 1061.95,1100.63 1063.99,1075.3 1066.03,1107.23 1068.06,1098.3 1070.1,1057.66 \n",
       "  1072.14,1087.94 1074.17,1077.48 1076.21,1110.97 1078.24,1082.15 1080.28,1117.05 1082.32,1114.5 1084.35,1092.76 1086.39,1060.39 1088.42,1039.35 1090.46,1025.44 \n",
       "  1092.5,1036.71 1094.53,1071.37 1096.57,1098.24 1098.6,1034.94 1100.64,979.98 1102.68,1002.95 1104.71,984.857 1106.75,1008.88 1108.78,1028.8 1110.82,1031.75 \n",
       "  1112.86,1092 1114.89,1108.12 1116.93,1095.09 1118.96,1177.29 1121,1165.73 1123.04,1141.13 1125.07,1109.58 1127.11,1084.27 1129.14,1042.51 1131.18,1023.39 \n",
       "  1133.22,1026.09 1135.25,992.805 1137.29,983.256 1139.33,1041.27 1141.36,967.052 1143.4,909.862 1145.43,880.27 1147.47,860.968 1149.51,861.924 1151.54,895.845 \n",
       "  1153.58,861.041 1155.61,790.18 1157.65,792.929 1159.69,882.026 1161.72,910.471 1163.76,904.613 1165.79,901.178 1167.83,922.225 1169.87,989.079 1171.9,976.899 \n",
       "  1173.94,914.016 1175.97,934.461 1178.01,993.668 1180.05,1038.86 1182.08,992.744 1184.12,979.182 1186.15,950.297 1188.19,938.926 1190.23,964.2 1192.26,983.46 \n",
       "  1194.3,992.336 1196.33,1028.29 1198.37,1060.66 1200.41,981.323 1202.44,1019.72 1204.48,999.24 1206.52,958.357 1208.55,976.875 1210.59,897.284 1212.62,898.908 \n",
       "  1214.66,932.563 1216.7,890.468 1218.73,902.382 1220.77,913.972 1222.8,909.85 1224.84,920.052 1226.88,910.551 1228.91,987.628 1230.95,995.989 1232.98,1011.8 \n",
       "  1235.02,996.923 1237.06,994.114 1239.09,1043.75 1241.13,1099.17 1243.16,1037.65 1245.2,1029.44 1247.24,1081.02 1249.27,1033.53 1251.31,1041.24 1253.34,1028.95 \n",
       "  1255.38,1052.62 1257.42,1006.93 1259.45,986.42 1261.49,980.341 1263.52,1032.04 1265.56,978.516 1267.6,996.702 1269.63,1031.5 1271.67,1012.55 1273.71,985.08 \n",
       "  1275.74,988.286 1277.78,974.778 1279.81,929.852 1281.85,893.529 1283.89,893.594 1285.92,941.358 1287.96,974.777 1289.99,977.092 1292.03,1036.7 1294.07,1072.11 \n",
       "  1296.1,1082.75 1298.14,1072.23 1300.17,1040.97 1302.21,1086.11 1304.25,1083.75 1306.28,1050.39 1308.32,1105.14 1310.35,1101.22 1312.39,1127.58 1314.43,1193.28 \n",
       "  1316.46,1141.62 1318.5,1155.27 1320.53,1137.61 1322.57,1212.61 1324.61,1237.22 1326.64,1206.2 1328.68,1216.76 1330.71,1225.16 1332.75,1287.63 1334.79,1319.23 \n",
       "  1336.82,1334.43 1338.86,1302.32 1340.9,1350.89 1342.93,1409.29 1344.97,1399.56 1347,1347.38 1349.04,1391.43 1351.08,1394.55 1353.11,1445.72 1355.15,1417.75 \n",
       "  1357.18,1418.34 1359.22,1431.25 1361.26,1380.78 1363.29,1371.92 1365.33,1344.22 1367.36,1351.89 1369.4,1350.55 1371.44,1348.15 1373.47,1341.39 1375.51,1370.47 \n",
       "  1377.54,1376.18 1379.58,1339.47 1381.62,1309.87 1383.65,1315.16 1385.69,1304.17 1387.72,1305.17 1389.76,1333.88 1391.8,1327.79 1393.83,1376.16 1395.87,1333.69 \n",
       "  1397.9,1274.13 1399.94,1265.86 1401.98,1279.63 1404.01,1265.02 1406.05,1219.4 1408.09,1296.11 1410.12,1365.53 1412.16,1433.74 1414.19,1387.7 1416.23,1342.3 \n",
       "  1418.27,1372.22 1420.3,1422.04 1422.34,1394.93 1424.37,1442.52 1426.41,1412 1428.45,1410.1 1430.48,1354.34 1432.52,1366.76 1434.55,1315.77 1436.59,1331.48 \n",
       "  1438.63,1405.44 1440.66,1366.26 1442.7,1355.38 1444.73,1368.04 1446.77,1379.8 1448.81,1400.21 1450.84,1367.01 1452.88,1404.8 1454.91,1342.18 1456.95,1369.8 \n",
       "  1458.99,1332.3 1461.02,1289.35 1463.06,1354.42 1465.09,1363.68 1467.13,1359.11 1469.17,1385.85 1471.2,1323.36 1473.24,1282.15 1475.28,1299.33 1477.31,1369.44 \n",
       "  1479.35,1377.54 1481.38,1376.51 1483.42,1369.51 1485.46,1326 1487.49,1408.56 1489.53,1403.71 1491.56,1325.33 1493.6,1271.83 1495.64,1175.52 1497.67,1122.04 \n",
       "  1499.71,1098.88 1501.74,1115.01 1503.78,1079.43 1505.82,1057.19 1507.85,1017.39 1509.89,1056.61 1511.92,1045.08 1513.96,1067.19 1516,1004.1 1518.03,1028.71 \n",
       "  1520.07,1045.33 1522.1,1009.95 1524.14,972.58 1526.18,948.847 1528.21,1012.72 1530.25,1034.06 1532.28,1016.18 1534.32,1069.64 1536.36,1019.11 1538.39,1023.93 \n",
       "  1540.43,919.025 1542.47,932.344 1544.5,939.872 1546.54,874.629 1548.57,823.306 1550.61,815.144 1552.65,833.807 1554.68,904.788 1556.72,869.738 1558.75,913.304 \n",
       "  1560.79,877.646 1562.83,885.715 1564.86,868.009 1566.9,827.161 1568.93,847.931 1570.97,862.768 1573.01,875.215 1575.04,859.294 1577.08,843.433 1579.11,807.023 \n",
       "  1581.15,877.648 1583.19,890.545 1585.22,874.227 1587.26,850.935 1589.29,888.672 1591.33,871.779 1593.37,951.175 1595.4,932.694 1597.44,959.658 1599.47,953.765 \n",
       "  1601.51,951.988 1603.55,997.985 1605.58,998.629 1607.62,1044.46 1609.66,1017.89 1611.69,950.388 1613.73,943.591 1615.76,915.079 1617.8,914.777 1619.84,924.549 \n",
       "  1621.87,963.138 1623.91,1019.62 1625.94,1028.81 1627.98,952.257 1630.02,971.661 1632.05,1011.71 1634.09,977.203 1636.12,970.435 1638.16,865.379 1640.2,852.422 \n",
       "  1642.23,833.566 1644.27,830.469 1646.3,916.659 1648.34,961.988 1650.38,947.898 1652.41,925.921 1654.45,964.868 1656.48,913.834 1658.52,887.441 1660.56,879.517 \n",
       "  1662.59,921.342 1664.63,934.626 1666.66,913.679 1668.7,887.077 1670.74,975.373 1672.77,989.476 1674.81,994.791 1676.85,1036.92 1678.88,1027.95 1680.92,995.47 \n",
       "  1682.95,994.533 1684.99,1034.27 1687.03,1016.73 1689.06,1038.09 1691.1,937.674 1693.13,929.76 1695.17,950.596 1697.21,1001.98 1699.24,969.258 1701.28,960.055 \n",
       "  1703.31,953.279 1705.35,942.998 1707.39,968.137 1709.42,946.241 1711.46,897.423 1713.49,860.416 1715.53,910.335 1717.57,874.893 1719.6,848.091 1721.64,858.968 \n",
       "  1723.67,821.328 1725.71,870.82 1727.75,831.519 1729.78,783.634 1731.82,790.698 1733.85,748.475 1735.89,748.405 1737.93,688.347 1739.96,680.64 1742,699.573 \n",
       "  1744.04,721.543 1746.07,741.048 1748.11,724.947 1750.14,699.754 1752.18,657.303 1754.22,684.463 1756.25,693.635 1758.29,767.485 1760.32,780.896 1762.36,802.939 \n",
       "  1764.4,742.141 1766.43,768.68 1768.47,728.512 1770.5,741.191 1772.54,729.471 1774.58,752.517 1776.61,727.324 1778.65,712.139 1780.68,690.485 1782.72,718.631 \n",
       "  1784.76,746.54 1786.79,744.072 1788.83,712.767 1790.86,673.859 1792.9,643.189 1794.94,605.972 1796.97,597.996 1799.01,574.244 1801.04,573.201 1803.08,600.211 \n",
       "  1805.12,564.984 1807.15,589.105 1809.19,627.846 1811.23,642.346 1813.26,609.641 1815.3,579.495 1817.33,576.331 1819.37,594.708 1821.41,548.808 1823.44,625.365 \n",
       "  1825.48,613.234 1827.51,681.993 1829.55,676.852 1831.59,619.32 1833.62,616.078 1835.66,624.566 1837.69,641.698 1839.73,598.014 1841.77,663.886 1843.8,682.884 \n",
       "  1845.84,637.88 1847.87,633.897 1849.91,649.781 1851.95,687.203 1853.98,654.878 1856.02,668.06 1858.05,647.138 1860.09,623.118 1862.13,630.834 1864.16,616.441 \n",
       "  1866.2,664.22 1868.23,603.535 1870.27,526.22 1872.31,529.278 1874.34,457.337 1876.38,459.917 1878.42,462.846 1880.45,398.931 1882.49,329.316 1884.52,400.133 \n",
       "  1886.56,380.748 1888.6,432.792 1890.63,441.586 1892.67,496.826 1894.7,537.323 1896.74,527.572 1898.78,481.236 1900.81,462.842 1902.85,448.608 1904.88,507.763 \n",
       "  1906.92,632.291 1908.96,596.12 1910.99,632.777 1913.03,593.303 1915.06,602.806 1917.1,567.373 1919.14,574.345 1921.17,616.245 1923.21,663.678 1925.24,670.381 \n",
       "  1927.28,672.499 1929.32,719.177 1931.35,774.717 1933.39,768.445 1935.42,724.242 1937.46,665.059 1939.5,620.768 1941.53,605.817 1943.57,582.017 1945.61,592.915 \n",
       "  1947.64,615.341 1949.68,583.884 1951.71,595.344 1953.75,593.835 1955.79,586.283 1957.82,536.405 1959.86,533.291 1961.89,474.776 1963.93,574.602 1965.97,558.04 \n",
       "  1968,570.085 1970.04,603.88 1972.07,621.763 1974.11,626.02 1976.15,584.405 1978.18,578.42 1980.22,588.083 1982.25,597.808 1984.29,619.968 1986.33,655.23 \n",
       "  1988.36,701.426 1990.4,784.618 1992.43,759.372 1994.47,776.579 1996.51,860.813 1998.54,852.057 2000.58,846.42 2002.61,870.699 2004.65,882.355 2006.69,873.744 \n",
       "  2008.72,890.848 2010.76,935.177 2012.79,906.358 2014.83,933.241 2016.87,903.991 2018.9,931.133 2020.94,926.671 2022.98,890.521 2025.01,886.065 2027.05,890.407 \n",
       "  2029.08,898.769 2031.12,879.191 2033.16,854.28 2035.19,799.076 2037.23,787.116 2039.26,763.977 2041.3,773.115 2043.34,730.925 2045.37,742.76 2047.41,700.224 \n",
       "  2049.44,697.558 2051.48,709.206 2053.52,702.277 2055.55,667.33 2057.59,704.833 2059.62,688.26 2061.66,670.906 2063.7,685.373 2065.73,659.08 2067.77,669.441 \n",
       "  2069.8,617.715 2071.84,628.229 2073.88,645.076 2075.91,643.981 2077.95,629.708 2079.98,588.843 2082.02,619.452 2084.06,628.609 2086.09,633.257 2088.13,596.59 \n",
       "  2090.17,528.646 2092.2,578.396 2094.24,598.148 2096.27,633.159 2098.31,641.99 2100.35,681.768 2102.38,664.359 2104.42,672.958 2106.45,604.72 2108.49,608.762 \n",
       "  2110.53,668.436 2112.56,656.516 2114.6,734.008 2116.63,652.681 2118.67,601.753 2120.71,516.6 2122.74,526.035 2124.78,510.012 2126.81,470.346 2128.85,508.383 \n",
       "  2130.89,425.779 2132.92,443.98 2134.96,430.493 2136.99,378.645 2139.03,408.367 2141.07,385.821 2143.1,355.601 2145.14,378.656 2147.17,432.123 2149.21,435.054 \n",
       "  2151.25,398.671 2153.28,425.715 2155.32,449.451 2157.36,458.089 2159.39,451.687 2161.43,444.263 2163.46,471.596 2165.5,534.223 2167.54,480.24 2169.57,479.82 \n",
       "  2171.61,443.026 2173.64,447.415 2175.68,443.392 2177.72,418.089 2179.75,382.976 2181.79,374.782 2183.82,349.774 2185.86,316.824 2187.9,292.409 2189.93,306.702 \n",
       "  2191.97,324.631 2194,271.764 2196.04,238.603 2198.08,273.869 2200.11,160.712 2202.15,204.674 2204.18,160.286 2206.22,176.305 2208.26,188.295 2210.29,175.686 \n",
       "  2212.33,194.964 2214.36,173.565 2216.4,210.177 2218.44,292.223 2220.47,262.454 2222.51,278.645 2224.55,321.564 2226.58,237.187 2228.62,259.075 2230.65,272.079 \n",
       "  2232.69,269.229 2234.73,251.307 2236.76,258.139 2238.8,295.836 2240.83,370.176 2242.87,327.058 2244.91,263.326 2246.94,311.188 2248.98,278.699 2251.01,241.876 \n",
       "  2253.05,243.302 2255.09,232.944 2257.12,168.169 2259.16,148.046 2261.19,163.043 2263.23,122.282 2265.27,117.733 2267.3,131.749 2269.34,105.779 2271.37,132.298 \n",
       "  2273.41,150.541 2275.45,133.018 2277.48,87.9763 2279.52,130.262 2281.55,139.161 2283.59,131.895 2285.63,168.179 2287.66,194.137 2289.7,255.628 2291.74,224.523 \n",
       "  \n",
       "  \"/>\n",
       "<path clip-path=\"url(#clip442)\" d=\"\n",
       "M276.036 1016.48 L278.072 1068.47 L280.108 1037.38 L282.144 1092.34 L284.18 1107.48 L286.216 1029.94 L288.252 1076.09 L290.288 1044.97 L292.324 747.469 L294.36 1035.56 \n",
       "  L296.396 693.092 L298.433 1046.37 L300.469 1033.93 L302.505 1011.54 L304.541 1062.88 L306.577 1031.95 L308.613 1108.49 L310.649 1083.05 L312.685 1071.72 L314.721 1204.41 \n",
       "  L316.757 1064.5 L318.793 1059.39 L320.829 1072.22 L322.865 976.774 L324.901 1053.6 L326.937 923.013 L328.973 1093.22 L331.009 1033.48 L333.046 1063.28 L335.082 1107.62 \n",
       "  L337.118 1080.46 L339.154 1089.26 L341.19 1000.36 L343.226 952.507 L345.262 973.902 L347.298 1036.75 L349.334 947.64 L351.37 1120.88 L353.406 1082.04 L355.442 1061.62 \n",
       "  L357.478 1053.45 L359.514 1117.73 L361.55 1067.52 L363.586 1156.97 L365.623 1082.67 L367.659 842.854 L369.695 1046.21 L371.731 1037.02 L373.767 1066.92 L375.803 1066.04 \n",
       "  L377.839 1072.53 L379.875 1096 L381.911 1051.68 L383.947 1179.99 L385.983 1097.74 L388.019 587.606 L390.055 1062.39 L392.091 1001.24 L394.127 1077.82 L396.163 1024.4 \n",
       "  L398.199 1061.72 L400.236 1037.65 L402.272 1034.97 L404.308 844.906 L406.344 1096.82 L408.38 1080.55 L410.416 1085.17 L412.452 1048.27 L414.488 1048.13 L416.524 1021.49 \n",
       "  L418.56 1065.51 L420.596 1065.58 L422.632 1118.84 L424.668 1110.44 L426.704 1075.46 L428.74 1158.8 L430.776 1046.69 L432.812 1055.49 L434.849 658.265 L436.885 976.948 \n",
       "  L438.921 1078.34 L440.957 1080.72 L442.993 1071.42 L445.029 1055.92 L447.065 1046.32 L449.101 1067.49 L451.137 1059.78 L453.173 1050.85 L455.209 1080.66 L457.245 1103.34 \n",
       "  L459.281 905.75 L461.317 1116.99 L463.353 1043.17 L465.389 1134.74 L467.426 1167.57 L469.462 1036.23 L471.498 680.471 L473.534 1112.73 L475.57 854.56 L477.606 1122.9 \n",
       "  L479.642 1057.57 L481.678 946.953 L483.714 847.349 L485.75 1137.4 L487.786 888.227 L489.822 1066.33 L491.858 1061.68 L493.894 1070.1 L495.93 1043.02 L497.966 1087.88 \n",
       "  L500.002 1079.28 L502.039 879.504 L504.075 1118.77 L506.111 1115.3 L508.147 1074.03 L510.183 777.19 L512.219 1081.27 L514.255 1060.15 L516.291 1088.85 L518.327 891.086 \n",
       "  L520.363 926.357 L522.399 1052.49 L524.435 1041.03 L526.471 1006.34 L528.507 1064.55 L530.543 1054.29 L532.579 1011.17 L534.615 1108.84 L536.652 1067.46 L538.688 1089.38 \n",
       "  L540.724 1008.25 L540.724 698.301 L538.688 901.038 L536.652 712.394 L534.615 730.834 L532.579 723.676 L530.543 716.967 L528.507 653.835 L526.471 713.274 L524.435 695.942 \n",
       "  L522.399 691.514 L520.363 559.338 L518.327 469.094 L516.291 865.987 L514.255 708.504 L512.219 726.37 L510.183 540.682 L508.147 692.739 L506.111 721.984 L504.075 690 \n",
       "  L502.039 767.87 L500.002 712.959 L497.966 733.875 L495.93 910.676 L493.894 704.868 L491.858 701.725 L489.822 718 L487.786 785.335 L485.75 758.695 L483.714 778.435 \n",
       "  L481.678 812.688 L479.642 712.464 L477.606 703.631 L475.57 667.951 L473.534 690.813 L471.498 585.234 L469.462 686.42 L467.426 881.001 L465.389 612.938 L463.353 695.259 \n",
       "  L461.317 672.821 L459.281 748.072 L457.245 730.313 L455.209 718.726 L453.173 661.415 L451.137 690.505 L449.101 729.496 L447.065 649.989 L445.029 735.15 L442.993 729.601 \n",
       "  L440.957 724.437 L438.921 681.264 L436.885 888.152 L434.849 351.607 L432.812 937.637 L430.776 734.009 L428.74 809.778 L426.704 730.396 L424.668 668.449 L422.632 688.52 \n",
       "  L420.596 675.252 L418.56 935.152 L416.524 819.084 L414.488 668.072 L412.452 689.985 L410.416 659.847 L408.38 748.372 L406.344 690.204 L404.308 781.963 L402.272 613.043 \n",
       "  L400.236 737.449 L398.199 776.213 L396.163 722.722 L394.127 719.908 L392.091 699.553 L390.055 952.26 L388.019 447.316 L385.983 661.525 L383.947 938.055 L381.911 734.88 \n",
       "  L379.875 625.404 L377.839 705.089 L375.803 684.882 L373.767 712.454 L371.731 637.43 L369.695 674.656 L367.659 798.25 L365.623 639.618 L363.586 711.992 L361.55 693.718 \n",
       "  L359.514 727.261 L357.478 744.055 L355.442 695.987 L353.406 668.597 L351.37 667.365 L349.334 663.65 L347.298 702.802 L345.262 644.248 L343.226 808.828 L341.19 837.923 \n",
       "  L339.154 702.183 L337.118 736.036 L335.082 673.987 L333.046 734.655 L331.009 655.091 L328.973 672.912 L326.937 835.92 L324.901 699.577 L322.865 746.865 L320.829 707.546 \n",
       "  L318.793 746.45 L316.757 691.798 L314.721 1048.72 L312.685 733.493 L310.649 810.334 L308.613 717.857 L306.577 735.181 L304.541 729.269 L302.505 846.373 L300.469 737.921 \n",
       "  L298.433 748.276 L296.396 469.011 L294.36 679.63 L292.324 624.359 L290.288 840.813 L288.252 683.288 L286.216 717.786 L284.18 665.651 L282.144 638.771 L280.108 724.101 \n",
       "  L278.072 726.078 L276.036 633.643  Z\n",
       "  \" fill=\"#e26f46\" fill-rule=\"evenodd\" fill-opacity=\"0.5\"/>\n",
       "<polyline clip-path=\"url(#clip442)\" style=\"stroke:#e26f46; stroke-width:4; stroke-opacity:1; fill:none\" points=\"\n",
       "  276.036,825.063 278.072,897.276 280.108,880.743 282.144,865.557 284.18,886.567 286.216,873.863 288.252,879.688 290.288,942.889 292.324,685.914 294.36,857.596 \n",
       "  296.396,581.052 298.433,897.325 300.469,885.927 302.505,928.959 304.541,896.073 306.577,883.565 308.613,913.174 310.649,946.69 312.685,902.607 314.721,1126.56 \n",
       "  316.757,878.147 318.793,902.919 320.829,889.882 322.865,861.82 324.901,876.59 326.937,879.466 328.973,883.064 331.009,844.288 333.046,898.969 335.082,890.804 \n",
       "  337.118,908.249 339.154,895.721 341.19,919.14 343.226,880.668 345.262,809.075 347.298,869.777 349.334,805.645 351.37,894.121 353.406,875.318 355.442,878.803 \n",
       "  357.478,898.75 359.514,922.495 361.55,880.62 363.586,934.478 365.623,861.143 367.659,820.552 369.695,860.431 371.731,837.227 373.767,889.684 375.803,875.463 \n",
       "  377.839,888.81 379.875,860.704 381.911,893.281 383.947,1059.02 385.983,879.633 388.019,517.461 390.055,1007.32 392.091,850.397 394.127,898.862 396.163,873.563 \n",
       "  398.199,918.968 400.236,887.551 402.272,824.008 404.308,813.435 406.344,893.514 408.38,914.46 410.416,872.507 412.452,869.127 414.488,858.1 416.524,920.286 \n",
       "  418.56,1000.33 420.596,870.416 422.632,903.682 424.668,889.442 426.704,902.93 428.74,984.287 430.776,890.348 432.812,996.565 434.849,504.936 436.885,932.55 \n",
       "  438.921,879.801 440.957,902.579 442.993,900.51 445.029,895.536 447.065,848.155 449.101,898.493 451.137,875.144 453.173,856.133 455.209,899.691 457.245,916.825 \n",
       "  459.281,826.911 461.317,894.904 463.353,869.217 465.389,873.838 467.426,1024.28 469.462,861.327 471.498,632.852 473.534,901.773 475.57,761.255 477.606,913.264 \n",
       "  479.642,885.017 481.678,879.821 483.714,812.892 485.75,948.045 487.786,836.781 489.822,892.168 491.858,881.7 493.894,887.484 495.93,976.849 497.966,910.877 \n",
       "  500.002,896.119 502.039,823.687 504.075,904.385 506.111,918.644 508.147,883.383 510.183,658.936 512.219,903.822 514.255,884.329 516.291,977.419 518.327,680.09 \n",
       "  520.363,742.847 522.399,872.004 524.435,868.485 526.471,859.809 528.507,859.194 530.543,885.627 532.579,867.423 534.615,919.836 536.652,889.928 538.688,995.208 \n",
       "  540.724,853.276 \n",
       "  \"/>\n",
       "<path clip-path=\"url(#clip440)\" d=\"\n",
       "M1989.74 312.204 L2280.76 312.204 L2280.76 130.764 L1989.74 130.764  Z\n",
       "  \" fill=\"#ffffff\" fill-rule=\"evenodd\" fill-opacity=\"1\"/>\n",
       "<polyline clip-path=\"url(#clip440)\" style=\"stroke:#000000; stroke-width:4; stroke-opacity:1; fill:none\" points=\"\n",
       "  1989.74,312.204 2280.76,312.204 2280.76,130.764 1989.74,130.764 1989.74,312.204 \n",
       "  \"/>\n",
       "<polyline clip-path=\"url(#clip440)\" style=\"stroke:#009af9; stroke-width:4; stroke-opacity:1; fill:none\" points=\"\n",
       "  2013.74,191.244 2157.74,191.244 \n",
       "  \"/>\n",
       "<path clip-path=\"url(#clip440)\" d=\"M 0 0 M2195.58 210.931 Q2193.77 215.561 2192.06 216.973 Q2190.35 218.385 2187.48 218.385 L2184.08 218.385 L2184.08 214.82 L2186.58 214.82 Q2188.33 214.82 2189.31 213.987 Q2190.28 213.154 2191.46 210.052 L2192.22 208.107 L2181.74 182.598 L2186.25 182.598 L2194.35 202.876 L2202.46 182.598 L2206.97 182.598 L2195.58 210.931 Z\" fill=\"#000000\" fill-rule=\"evenodd\" fill-opacity=\"1\" /><path clip-path=\"url(#clip440)\" d=\"M 0 0 M2212.85 204.589 L2220.49 204.589 L2220.49 178.223 L2212.18 179.89 L2212.18 175.631 L2220.44 173.964 L2225.12 173.964 L2225.12 204.589 L2232.76 204.589 L2232.76 208.524 L2212.85 208.524 L2212.85 204.589 Z\" fill=\"#000000\" fill-rule=\"evenodd\" fill-opacity=\"1\" /><polyline clip-path=\"url(#clip440)\" style=\"stroke:#e26f46; stroke-width:4; stroke-opacity:1; fill:none\" points=\"\n",
       "  2013.74,251.724 2157.74,251.724 \n",
       "  \"/>\n",
       "<path clip-path=\"url(#clip440)\" d=\"M 0 0 M2195.58 271.411 Q2193.77 276.041 2192.06 277.453 Q2190.35 278.865 2187.48 278.865 L2184.08 278.865 L2184.08 275.3 L2186.58 275.3 Q2188.33 275.3 2189.31 274.467 Q2190.28 273.634 2191.46 270.532 L2192.22 268.587 L2181.74 243.078 L2186.25 243.078 L2194.35 263.356 L2202.46 243.078 L2206.97 243.078 L2195.58 271.411 Z\" fill=\"#000000\" fill-rule=\"evenodd\" fill-opacity=\"1\" /><path clip-path=\"url(#clip440)\" d=\"M 0 0 M2216.07 265.069 L2232.39 265.069 L2232.39 269.004 L2210.44 269.004 L2210.44 265.069 Q2213.1 262.314 2217.69 257.685 Q2222.29 253.032 2223.47 251.689 Q2225.72 249.166 2226.6 247.43 Q2227.5 245.671 2227.5 243.981 Q2227.5 241.226 2225.56 239.49 Q2223.64 237.754 2220.53 237.754 Q2218.33 237.754 2215.88 238.518 Q2213.45 239.282 2210.67 240.833 L2210.67 236.111 Q2213.5 234.976 2215.95 234.398 Q2218.4 233.819 2220.44 233.819 Q2225.81 233.819 2229.01 236.504 Q2232.2 239.189 2232.2 243.68 Q2232.2 245.81 2231.39 247.731 Q2230.6 249.629 2228.5 252.222 Q2227.92 252.893 2224.82 256.111 Q2221.71 259.305 2216.07 265.069 Z\" fill=\"#000000\" fill-rule=\"evenodd\" fill-opacity=\"1\" /></svg>\n"
      ]
     },
     "execution_count": 13,
     "metadata": {},
     "output_type": "execute_result"
    }
   ],
   "source": [
    "nhl_inference_plot(latent_variables[1:1000, :], inferred_variables, :i)"
   ]
  },
  {
   "cell_type": "code",
   "execution_count": 14,
   "metadata": {},
   "outputs": [
    {
     "data": {
      "image/svg+xml": [
       "<?xml version=\"1.0\" encoding=\"utf-8\"?>\n",
       "<svg xmlns=\"http://www.w3.org/2000/svg\" xmlns:xlink=\"http://www.w3.org/1999/xlink\" width=\"600\" height=\"400\" viewBox=\"0 0 2400 1600\">\n",
       "<defs>\n",
       "  <clipPath id=\"clip480\">\n",
       "    <rect x=\"0\" y=\"0\" width=\"2400\" height=\"1600\"/>\n",
       "  </clipPath>\n",
       "</defs>\n",
       "<path clip-path=\"url(#clip480)\" d=\"\n",
       "M0 1600 L2400 1600 L2400 0 L0 0  Z\n",
       "  \" fill=\"#ffffff\" fill-rule=\"evenodd\" fill-opacity=\"1\"/>\n",
       "<defs>\n",
       "  <clipPath id=\"clip481\">\n",
       "    <rect x=\"480\" y=\"0\" width=\"1681\" height=\"1600\"/>\n",
       "  </clipPath>\n",
       "</defs>\n",
       "<path clip-path=\"url(#clip480)\" d=\"\n",
       "M189.144 1486.45 L2352.76 1486.45 L2352.76 47.2441 L189.144 47.2441  Z\n",
       "  \" fill=\"#ffffff\" fill-rule=\"evenodd\" fill-opacity=\"1\"/>\n",
       "<defs>\n",
       "  <clipPath id=\"clip482\">\n",
       "    <rect x=\"189\" y=\"47\" width=\"2165\" height=\"1440\"/>\n",
       "  </clipPath>\n",
       "</defs>\n",
       "<polyline clip-path=\"url(#clip482)\" style=\"stroke:#000000; stroke-width:2; stroke-opacity:0.1; fill:none\" points=\"\n",
       "  248.335,1486.45 248.335,47.2441 \n",
       "  \"/>\n",
       "<polyline clip-path=\"url(#clip482)\" style=\"stroke:#000000; stroke-width:2; stroke-opacity:0.1; fill:none\" points=\"\n",
       "  759.132,1486.45 759.132,47.2441 \n",
       "  \"/>\n",
       "<polyline clip-path=\"url(#clip482)\" style=\"stroke:#000000; stroke-width:2; stroke-opacity:0.1; fill:none\" points=\"\n",
       "  1269.93,1486.45 1269.93,47.2441 \n",
       "  \"/>\n",
       "<polyline clip-path=\"url(#clip482)\" style=\"stroke:#000000; stroke-width:2; stroke-opacity:0.1; fill:none\" points=\"\n",
       "  1780.73,1486.45 1780.73,47.2441 \n",
       "  \"/>\n",
       "<polyline clip-path=\"url(#clip482)\" style=\"stroke:#000000; stroke-width:2; stroke-opacity:0.1; fill:none\" points=\"\n",
       "  2291.52,1486.45 2291.52,47.2441 \n",
       "  \"/>\n",
       "<polyline clip-path=\"url(#clip482)\" style=\"stroke:#000000; stroke-width:2; stroke-opacity:0.1; fill:none\" points=\"\n",
       "  189.144,1480.31 2352.76,1480.31 \n",
       "  \"/>\n",
       "<polyline clip-path=\"url(#clip482)\" style=\"stroke:#000000; stroke-width:2; stroke-opacity:0.1; fill:none\" points=\"\n",
       "  189.144,1237.43 2352.76,1237.43 \n",
       "  \"/>\n",
       "<polyline clip-path=\"url(#clip482)\" style=\"stroke:#000000; stroke-width:2; stroke-opacity:0.1; fill:none\" points=\"\n",
       "  189.144,994.545 2352.76,994.545 \n",
       "  \"/>\n",
       "<polyline clip-path=\"url(#clip482)\" style=\"stroke:#000000; stroke-width:2; stroke-opacity:0.1; fill:none\" points=\"\n",
       "  189.144,751.665 2352.76,751.665 \n",
       "  \"/>\n",
       "<polyline clip-path=\"url(#clip482)\" style=\"stroke:#000000; stroke-width:2; stroke-opacity:0.1; fill:none\" points=\"\n",
       "  189.144,508.784 2352.76,508.784 \n",
       "  \"/>\n",
       "<polyline clip-path=\"url(#clip482)\" style=\"stroke:#000000; stroke-width:2; stroke-opacity:0.1; fill:none\" points=\"\n",
       "  189.144,265.904 2352.76,265.904 \n",
       "  \"/>\n",
       "<polyline clip-path=\"url(#clip480)\" style=\"stroke:#000000; stroke-width:4; stroke-opacity:1; fill:none\" points=\"\n",
       "  189.144,1486.45 2352.76,1486.45 \n",
       "  \"/>\n",
       "<polyline clip-path=\"url(#clip480)\" style=\"stroke:#000000; stroke-width:4; stroke-opacity:1; fill:none\" points=\"\n",
       "  189.144,1486.45 189.144,47.2441 \n",
       "  \"/>\n",
       "<polyline clip-path=\"url(#clip480)\" style=\"stroke:#000000; stroke-width:4; stroke-opacity:1; fill:none\" points=\"\n",
       "  248.335,1486.45 248.335,1469.18 \n",
       "  \"/>\n",
       "<polyline clip-path=\"url(#clip480)\" style=\"stroke:#000000; stroke-width:4; stroke-opacity:1; fill:none\" points=\"\n",
       "  759.132,1486.45 759.132,1469.18 \n",
       "  \"/>\n",
       "<polyline clip-path=\"url(#clip480)\" style=\"stroke:#000000; stroke-width:4; stroke-opacity:1; fill:none\" points=\"\n",
       "  1269.93,1486.45 1269.93,1469.18 \n",
       "  \"/>\n",
       "<polyline clip-path=\"url(#clip480)\" style=\"stroke:#000000; stroke-width:4; stroke-opacity:1; fill:none\" points=\"\n",
       "  1780.73,1486.45 1780.73,1469.18 \n",
       "  \"/>\n",
       "<polyline clip-path=\"url(#clip480)\" style=\"stroke:#000000; stroke-width:4; stroke-opacity:1; fill:none\" points=\"\n",
       "  2291.52,1486.45 2291.52,1469.18 \n",
       "  \"/>\n",
       "<polyline clip-path=\"url(#clip480)\" style=\"stroke:#000000; stroke-width:4; stroke-opacity:1; fill:none\" points=\"\n",
       "  189.144,1480.31 215.108,1480.31 \n",
       "  \"/>\n",
       "<polyline clip-path=\"url(#clip480)\" style=\"stroke:#000000; stroke-width:4; stroke-opacity:1; fill:none\" points=\"\n",
       "  189.144,1237.43 215.108,1237.43 \n",
       "  \"/>\n",
       "<polyline clip-path=\"url(#clip480)\" style=\"stroke:#000000; stroke-width:4; stroke-opacity:1; fill:none\" points=\"\n",
       "  189.144,994.545 215.108,994.545 \n",
       "  \"/>\n",
       "<polyline clip-path=\"url(#clip480)\" style=\"stroke:#000000; stroke-width:4; stroke-opacity:1; fill:none\" points=\"\n",
       "  189.144,751.665 215.108,751.665 \n",
       "  \"/>\n",
       "<polyline clip-path=\"url(#clip480)\" style=\"stroke:#000000; stroke-width:4; stroke-opacity:1; fill:none\" points=\"\n",
       "  189.144,508.784 215.108,508.784 \n",
       "  \"/>\n",
       "<polyline clip-path=\"url(#clip480)\" style=\"stroke:#000000; stroke-width:4; stroke-opacity:1; fill:none\" points=\"\n",
       "  189.144,265.904 215.108,265.904 \n",
       "  \"/>\n",
       "<path clip-path=\"url(#clip480)\" d=\"M 0 0 M248.335 1508.44 Q244.724 1508.44 242.896 1512 Q241.09 1515.55 241.09 1522.67 Q241.09 1529.78 242.896 1533.35 Q244.724 1536.89 248.335 1536.89 Q251.97 1536.89 253.775 1533.35 Q255.604 1529.78 255.604 1522.67 Q255.604 1515.55 253.775 1512 Q251.97 1508.44 248.335 1508.44 M248.335 1504.73 Q254.146 1504.73 257.201 1509.34 Q260.28 1513.92 260.28 1522.67 Q260.28 1531.4 257.201 1536.01 Q254.146 1540.59 248.335 1540.59 Q242.525 1540.59 239.447 1536.01 Q236.391 1531.4 236.391 1522.67 Q236.391 1513.92 239.447 1509.34 Q242.525 1504.73 248.335 1504.73 Z\" fill=\"#000000\" fill-rule=\"evenodd\" fill-opacity=\"1\" /><path clip-path=\"url(#clip480)\" d=\"M 0 0 M727.269 1535.98 L743.588 1535.98 L743.588 1539.92 L721.644 1539.92 L721.644 1535.98 Q724.306 1533.23 728.889 1528.6 Q733.496 1523.95 734.676 1522.61 Q736.921 1520.08 737.801 1518.35 Q738.704 1516.59 738.704 1514.9 Q738.704 1512.14 736.759 1510.41 Q734.838 1508.67 731.736 1508.67 Q729.537 1508.67 727.084 1509.43 Q724.653 1510.2 721.875 1511.75 L721.875 1507.03 Q724.699 1505.89 727.153 1505.31 Q729.607 1504.73 731.644 1504.73 Q737.014 1504.73 740.208 1507.42 Q743.403 1510.11 743.403 1514.6 Q743.403 1516.73 742.593 1518.65 Q741.806 1520.54 739.699 1523.14 Q739.121 1523.81 736.019 1527.03 Q732.917 1530.22 727.269 1535.98 Z\" fill=\"#000000\" fill-rule=\"evenodd\" fill-opacity=\"1\" /><path clip-path=\"url(#clip480)\" d=\"M 0 0 M748.704 1505.36 L767.06 1505.36 L767.06 1509.3 L752.986 1509.3 L752.986 1517.77 Q754.005 1517.42 755.023 1517.26 Q756.042 1517.07 757.06 1517.07 Q762.847 1517.07 766.227 1520.24 Q769.606 1523.42 769.606 1528.83 Q769.606 1534.41 766.134 1537.51 Q762.662 1540.59 756.343 1540.59 Q754.167 1540.59 751.898 1540.22 Q749.653 1539.85 747.245 1539.11 L747.245 1534.41 Q749.329 1535.54 751.551 1536.1 Q753.773 1536.66 756.25 1536.66 Q760.255 1536.66 762.593 1534.55 Q764.931 1532.44 764.931 1528.83 Q764.931 1525.22 762.593 1523.11 Q760.255 1521.01 756.25 1521.01 Q754.375 1521.01 752.5 1521.42 Q750.648 1521.84 748.704 1522.72 L748.704 1505.36 Z\" fill=\"#000000\" fill-rule=\"evenodd\" fill-opacity=\"1\" /><path clip-path=\"url(#clip480)\" d=\"M 0 0 M784.676 1508.44 Q781.065 1508.44 779.236 1512 Q777.431 1515.55 777.431 1522.67 Q777.431 1529.78 779.236 1533.35 Q781.065 1536.89 784.676 1536.89 Q788.31 1536.89 790.116 1533.35 Q791.944 1529.78 791.944 1522.67 Q791.944 1515.55 790.116 1512 Q788.31 1508.44 784.676 1508.44 M784.676 1504.73 Q790.486 1504.73 793.542 1509.34 Q796.62 1513.92 796.62 1522.67 Q796.62 1531.4 793.542 1536.01 Q790.486 1540.59 784.676 1540.59 Q778.866 1540.59 775.787 1536.01 Q772.731 1531.4 772.731 1522.67 Q772.731 1513.92 775.787 1509.34 Q778.866 1504.73 784.676 1504.73 Z\" fill=\"#000000\" fill-rule=\"evenodd\" fill-opacity=\"1\" /><path clip-path=\"url(#clip480)\" d=\"M 0 0 M1233.19 1505.36 L1251.55 1505.36 L1251.55 1509.3 L1237.48 1509.3 L1237.48 1517.77 Q1238.49 1517.42 1239.51 1517.26 Q1240.53 1517.07 1241.55 1517.07 Q1247.34 1517.07 1250.72 1520.24 Q1254.1 1523.42 1254.1 1528.83 Q1254.1 1534.41 1250.62 1537.51 Q1247.15 1540.59 1240.83 1540.59 Q1238.66 1540.59 1236.39 1540.22 Q1234.14 1539.85 1231.73 1539.11 L1231.73 1534.41 Q1233.82 1535.54 1236.04 1536.1 Q1238.26 1536.66 1240.74 1536.66 Q1244.74 1536.66 1247.08 1534.55 Q1249.42 1532.44 1249.42 1528.83 Q1249.42 1525.22 1247.08 1523.11 Q1244.74 1521.01 1240.74 1521.01 Q1238.86 1521.01 1236.99 1521.42 Q1235.14 1521.84 1233.19 1522.72 L1233.19 1505.36 Z\" fill=\"#000000\" fill-rule=\"evenodd\" fill-opacity=\"1\" /><path clip-path=\"url(#clip480)\" d=\"M 0 0 M1269.16 1508.44 Q1265.55 1508.44 1263.72 1512 Q1261.92 1515.55 1261.92 1522.67 Q1261.92 1529.78 1263.72 1533.35 Q1265.55 1536.89 1269.16 1536.89 Q1272.8 1536.89 1274.6 1533.35 Q1276.43 1529.78 1276.43 1522.67 Q1276.43 1515.55 1274.6 1512 Q1272.8 1508.44 1269.16 1508.44 M1269.16 1504.73 Q1274.97 1504.73 1278.03 1509.34 Q1281.11 1513.92 1281.11 1522.67 Q1281.11 1531.4 1278.03 1536.01 Q1274.97 1540.59 1269.16 1540.59 Q1263.35 1540.59 1260.28 1536.01 Q1257.22 1531.4 1257.22 1522.67 Q1257.22 1513.92 1260.28 1509.34 Q1263.35 1504.73 1269.16 1504.73 Z\" fill=\"#000000\" fill-rule=\"evenodd\" fill-opacity=\"1\" /><path clip-path=\"url(#clip480)\" d=\"M 0 0 M1296.18 1508.44 Q1292.57 1508.44 1290.74 1512 Q1288.93 1515.55 1288.93 1522.67 Q1288.93 1529.78 1290.74 1533.35 Q1292.57 1536.89 1296.18 1536.89 Q1299.81 1536.89 1301.62 1533.35 Q1303.45 1529.78 1303.45 1522.67 Q1303.45 1515.55 1301.62 1512 Q1299.81 1508.44 1296.18 1508.44 M1296.18 1504.73 Q1301.99 1504.73 1305.04 1509.34 Q1308.12 1513.92 1308.12 1522.67 Q1308.12 1531.4 1305.04 1536.01 Q1301.99 1540.59 1296.18 1540.59 Q1290.37 1540.59 1287.29 1536.01 Q1284.23 1531.4 1284.23 1522.67 Q1284.23 1513.92 1287.29 1509.34 Q1290.37 1504.73 1296.18 1504.73 Z\" fill=\"#000000\" fill-rule=\"evenodd\" fill-opacity=\"1\" /><path clip-path=\"url(#clip480)\" d=\"M 0 0 M1743.1 1505.36 L1765.32 1505.36 L1765.32 1507.35 L1752.77 1539.92 L1747.89 1539.92 L1759.7 1509.3 L1743.1 1509.3 L1743.1 1505.36 Z\" fill=\"#000000\" fill-rule=\"evenodd\" fill-opacity=\"1\" /><path clip-path=\"url(#clip480)\" d=\"M 0 0 M1770.44 1505.36 L1788.79 1505.36 L1788.79 1509.3 L1774.72 1509.3 L1774.72 1517.77 Q1775.74 1517.42 1776.76 1517.26 Q1777.77 1517.07 1778.79 1517.07 Q1784.58 1517.07 1787.96 1520.24 Q1791.34 1523.42 1791.34 1528.83 Q1791.34 1534.41 1787.87 1537.51 Q1784.39 1540.59 1778.07 1540.59 Q1775.9 1540.59 1773.63 1540.22 Q1771.38 1539.85 1768.98 1539.11 L1768.98 1534.41 Q1771.06 1535.54 1773.28 1536.1 Q1775.51 1536.66 1777.98 1536.66 Q1781.99 1536.66 1784.32 1534.55 Q1786.66 1532.44 1786.66 1528.83 Q1786.66 1525.22 1784.32 1523.11 Q1781.99 1521.01 1777.98 1521.01 Q1776.11 1521.01 1774.23 1521.42 Q1772.38 1521.84 1770.44 1522.72 L1770.44 1505.36 Z\" fill=\"#000000\" fill-rule=\"evenodd\" fill-opacity=\"1\" /><path clip-path=\"url(#clip480)\" d=\"M 0 0 M1806.41 1508.44 Q1802.8 1508.44 1800.97 1512 Q1799.16 1515.55 1799.16 1522.67 Q1799.16 1529.78 1800.97 1533.35 Q1802.8 1536.89 1806.41 1536.89 Q1810.04 1536.89 1811.85 1533.35 Q1813.68 1529.78 1813.68 1522.67 Q1813.68 1515.55 1811.85 1512 Q1810.04 1508.44 1806.41 1508.44 M1806.41 1504.73 Q1812.22 1504.73 1815.27 1509.34 Q1818.35 1513.92 1818.35 1522.67 Q1818.35 1531.4 1815.27 1536.01 Q1812.22 1540.59 1806.41 1540.59 Q1800.6 1540.59 1797.52 1536.01 Q1794.46 1531.4 1794.46 1522.67 Q1794.46 1513.92 1797.52 1509.34 Q1800.6 1504.73 1806.41 1504.73 Z\" fill=\"#000000\" fill-rule=\"evenodd\" fill-opacity=\"1\" /><path clip-path=\"url(#clip480)\" d=\"M 0 0 M2241.38 1535.98 L2249.02 1535.98 L2249.02 1509.62 L2240.71 1511.29 L2240.71 1507.03 L2248.98 1505.36 L2253.65 1505.36 L2253.65 1535.98 L2261.29 1535.98 L2261.29 1539.92 L2241.38 1539.92 L2241.38 1535.98 Z\" fill=\"#000000\" fill-rule=\"evenodd\" fill-opacity=\"1\" /><path clip-path=\"url(#clip480)\" d=\"M 0 0 M2276.36 1508.44 Q2272.75 1508.44 2270.92 1512 Q2269.11 1515.55 2269.11 1522.67 Q2269.11 1529.78 2270.92 1533.35 Q2272.75 1536.89 2276.36 1536.89 Q2279.99 1536.89 2281.8 1533.35 Q2283.63 1529.78 2283.63 1522.67 Q2283.63 1515.55 2281.8 1512 Q2279.99 1508.44 2276.36 1508.44 M2276.36 1504.73 Q2282.17 1504.73 2285.23 1509.34 Q2288.3 1513.92 2288.3 1522.67 Q2288.3 1531.4 2285.23 1536.01 Q2282.17 1540.59 2276.36 1540.59 Q2270.55 1540.59 2267.47 1536.01 Q2264.42 1531.4 2264.42 1522.67 Q2264.42 1513.92 2267.47 1509.34 Q2270.55 1504.73 2276.36 1504.73 Z\" fill=\"#000000\" fill-rule=\"evenodd\" fill-opacity=\"1\" /><path clip-path=\"url(#clip480)\" d=\"M 0 0 M2303.37 1508.44 Q2299.76 1508.44 2297.93 1512 Q2296.13 1515.55 2296.13 1522.67 Q2296.13 1529.78 2297.93 1533.35 Q2299.76 1536.89 2303.37 1536.89 Q2307.01 1536.89 2308.81 1533.35 Q2310.64 1529.78 2310.64 1522.67 Q2310.64 1515.55 2308.81 1512 Q2307.01 1508.44 2303.37 1508.44 M2303.37 1504.73 Q2309.18 1504.73 2312.24 1509.34 Q2315.32 1513.92 2315.32 1522.67 Q2315.32 1531.4 2312.24 1536.01 Q2309.18 1540.59 2303.37 1540.59 Q2297.56 1540.59 2294.48 1536.01 Q2291.43 1531.4 2291.43 1522.67 Q2291.43 1513.92 2294.48 1509.34 Q2297.56 1504.73 2303.37 1504.73 Z\" fill=\"#000000\" fill-rule=\"evenodd\" fill-opacity=\"1\" /><path clip-path=\"url(#clip480)\" d=\"M 0 0 M2330.39 1508.44 Q2326.78 1508.44 2324.95 1512 Q2323.14 1515.55 2323.14 1522.67 Q2323.14 1529.78 2324.95 1533.35 Q2326.78 1536.89 2330.39 1536.89 Q2334.02 1536.89 2335.83 1533.35 Q2337.66 1529.78 2337.66 1522.67 Q2337.66 1515.55 2335.83 1512 Q2334.02 1508.44 2330.39 1508.44 M2330.39 1504.73 Q2336.2 1504.73 2339.25 1509.34 Q2342.33 1513.92 2342.33 1522.67 Q2342.33 1531.4 2339.25 1536.01 Q2336.2 1540.59 2330.39 1540.59 Q2324.58 1540.59 2321.5 1536.01 Q2318.44 1531.4 2318.44 1522.67 Q2318.44 1513.92 2321.5 1509.34 Q2324.58 1504.73 2330.39 1504.73 Z\" fill=\"#000000\" fill-rule=\"evenodd\" fill-opacity=\"1\" /><path clip-path=\"url(#clip480)\" d=\"M 0 0 M64.8671 1482.7 L77.3439 1482.7 L77.3439 1486.5 L64.8671 1486.5 L64.8671 1482.7 Z\" fill=\"#000000\" fill-rule=\"evenodd\" fill-opacity=\"1\" /><path clip-path=\"url(#clip480)\" d=\"M 0 0 M92.4133 1466.1 Q88.8022 1466.1 86.9735 1469.67 Q85.1679 1473.21 85.1679 1480.34 Q85.1679 1487.45 86.9735 1491.01 Q88.8022 1494.55 92.4133 1494.55 Q96.0475 1494.55 97.8531 1491.01 Q99.6817 1487.45 99.6817 1480.34 Q99.6817 1473.21 97.8531 1469.67 Q96.0475 1466.1 92.4133 1466.1 M92.4133 1462.4 Q98.2234 1462.4 101.279 1467.01 Q104.358 1471.59 104.358 1480.34 Q104.358 1489.07 101.279 1493.67 Q98.2234 1498.26 92.4133 1498.26 Q86.6031 1498.26 83.5244 1493.67 Q80.4689 1489.07 80.4689 1480.34 Q80.4689 1471.59 83.5244 1467.01 Q86.6031 1462.4 92.4133 1462.4 Z\" fill=\"#000000\" fill-rule=\"evenodd\" fill-opacity=\"1\" /><path clip-path=\"url(#clip480)\" d=\"M 0 0 M109.427 1491.71 L114.311 1491.71 L114.311 1497.59 L109.427 1497.59 L109.427 1491.71 Z\" fill=\"#000000\" fill-rule=\"evenodd\" fill-opacity=\"1\" /><path clip-path=\"url(#clip480)\" d=\"M 0 0 M123.408 1493.65 L139.728 1493.65 L139.728 1497.59 L117.783 1497.59 L117.783 1493.65 Q120.446 1490.9 125.029 1486.27 Q129.635 1481.61 130.816 1480.27 Q133.061 1477.75 133.941 1476.01 Q134.844 1474.25 134.844 1472.56 Q134.844 1469.81 132.899 1468.07 Q130.978 1466.34 127.876 1466.34 Q125.677 1466.34 123.223 1467.1 Q120.793 1467.86 118.015 1469.41 L118.015 1464.69 Q120.839 1463.56 123.293 1462.98 Q125.746 1462.4 127.783 1462.4 Q133.154 1462.4 136.348 1465.09 Q139.543 1467.77 139.543 1472.26 Q139.543 1474.39 138.732 1476.31 Q137.945 1478.21 135.839 1480.8 Q135.26 1481.47 132.158 1484.69 Q129.057 1487.89 123.408 1493.65 Z\" fill=\"#000000\" fill-rule=\"evenodd\" fill-opacity=\"1\" /><path clip-path=\"url(#clip480)\" d=\"M 0 0 M148.825 1493.65 L165.144 1493.65 L165.144 1497.59 L143.2 1497.59 L143.2 1493.65 Q145.862 1490.9 150.445 1486.27 Q155.052 1481.61 156.232 1480.27 Q158.478 1477.75 159.357 1476.01 Q160.26 1474.25 160.26 1472.56 Q160.26 1469.81 158.316 1468.07 Q156.394 1466.34 153.293 1466.34 Q151.094 1466.34 148.64 1467.1 Q146.209 1467.86 143.432 1469.41 L143.432 1464.69 Q146.256 1463.56 148.709 1462.98 Q151.163 1462.4 153.2 1462.4 Q158.57 1462.4 161.765 1465.09 Q164.959 1467.77 164.959 1472.26 Q164.959 1474.39 164.149 1476.31 Q163.362 1478.21 161.255 1480.8 Q160.677 1481.47 157.575 1484.69 Q154.473 1487.89 148.825 1493.65 Z\" fill=\"#000000\" fill-rule=\"evenodd\" fill-opacity=\"1\" /><path clip-path=\"url(#clip480)\" d=\"M 0 0 M64.4967 1239.82 L76.9735 1239.82 L76.9735 1243.62 L64.4967 1243.62 L64.4967 1239.82 Z\" fill=\"#000000\" fill-rule=\"evenodd\" fill-opacity=\"1\" /><path clip-path=\"url(#clip480)\" d=\"M 0 0 M92.0429 1223.22 Q88.4318 1223.22 86.6031 1226.79 Q84.7976 1230.33 84.7976 1237.46 Q84.7976 1244.57 86.6031 1248.13 Q88.4318 1251.67 92.0429 1251.67 Q95.6771 1251.67 97.4827 1248.13 Q99.3114 1244.57 99.3114 1237.46 Q99.3114 1230.33 97.4827 1226.79 Q95.6771 1223.22 92.0429 1223.22 M92.0429 1219.52 Q97.8531 1219.52 100.909 1224.13 Q103.987 1228.71 103.987 1237.46 Q103.987 1246.19 100.909 1250.79 Q97.8531 1255.38 92.0429 1255.38 Q86.2327 1255.38 83.1541 1250.79 Q80.0985 1246.19 80.0985 1237.46 Q80.0985 1228.71 83.1541 1224.13 Q86.2327 1219.52 92.0429 1219.52 Z\" fill=\"#000000\" fill-rule=\"evenodd\" fill-opacity=\"1\" /><path clip-path=\"url(#clip480)\" d=\"M 0 0 M109.057 1248.83 L113.941 1248.83 L113.941 1254.71 L109.057 1254.71 L109.057 1248.83 Z\" fill=\"#000000\" fill-rule=\"evenodd\" fill-opacity=\"1\" /><path clip-path=\"url(#clip480)\" d=\"M 0 0 M123.038 1250.77 L139.357 1250.77 L139.357 1254.71 L117.413 1254.71 L117.413 1250.77 Q120.075 1248.02 124.658 1243.39 Q129.265 1238.73 130.445 1237.39 Q132.691 1234.87 133.57 1233.13 Q134.473 1231.37 134.473 1229.68 Q134.473 1226.93 132.529 1225.19 Q130.608 1223.46 127.506 1223.46 Q125.307 1223.46 122.853 1224.22 Q120.422 1224.98 117.645 1226.53 L117.645 1221.81 Q120.469 1220.68 122.922 1220.1 Q125.376 1219.52 127.413 1219.52 Q132.783 1219.52 135.978 1222.21 Q139.172 1224.89 139.172 1229.38 Q139.172 1231.51 138.362 1233.43 Q137.575 1235.33 135.469 1237.92 Q134.89 1238.59 131.788 1241.81 Q128.686 1245.01 123.038 1250.77 Z\" fill=\"#000000\" fill-rule=\"evenodd\" fill-opacity=\"1\" /><path clip-path=\"url(#clip480)\" d=\"M 0 0 M145.237 1250.77 L152.876 1250.77 L152.876 1224.4 L144.566 1226.07 L144.566 1221.81 L152.83 1220.15 L157.506 1220.15 L157.506 1250.77 L165.144 1250.77 L165.144 1254.71 L145.237 1254.71 L145.237 1250.77 Z\" fill=\"#000000\" fill-rule=\"evenodd\" fill-opacity=\"1\" /><path clip-path=\"url(#clip480)\" d=\"M 0 0 M63.2699 996.941 L75.7467 996.941 L75.7467 1000.74 L63.2699 1000.74 L63.2699 996.941 Z\" fill=\"#000000\" fill-rule=\"evenodd\" fill-opacity=\"1\" /><path clip-path=\"url(#clip480)\" d=\"M 0 0 M90.8161 980.344 Q87.205 980.344 85.3763 983.908 Q83.5707 987.45 83.5707 994.58 Q83.5707 1001.69 85.3763 1005.25 Q87.205 1008.79 90.8161 1008.79 Q94.4503 1008.79 96.2558 1005.25 Q98.0845 1001.69 98.0845 994.58 Q98.0845 987.45 96.2558 983.908 Q94.4503 980.344 90.8161 980.344 M90.8161 976.64 Q96.6262 976.64 99.6817 981.246 Q102.76 985.83 102.76 994.58 Q102.76 1003.31 99.6817 1007.91 Q96.6262 1012.5 90.8161 1012.5 Q85.0059 1012.5 81.9272 1007.91 Q78.8717 1003.31 78.8717 994.58 Q78.8717 985.83 81.9272 981.246 Q85.0059 976.64 90.8161 976.64 Z\" fill=\"#000000\" fill-rule=\"evenodd\" fill-opacity=\"1\" /><path clip-path=\"url(#clip480)\" d=\"M 0 0 M107.83 1005.95 L112.714 1005.95 L112.714 1011.82 L107.83 1011.82 L107.83 1005.95 Z\" fill=\"#000000\" fill-rule=\"evenodd\" fill-opacity=\"1\" /><path clip-path=\"url(#clip480)\" d=\"M 0 0 M121.811 1007.89 L138.131 1007.89 L138.131 1011.82 L116.186 1011.82 L116.186 1007.89 Q118.848 1005.14 123.432 1000.51 Q128.038 995.853 129.219 994.51 Q131.464 991.987 132.344 990.251 Q133.246 988.492 133.246 986.802 Q133.246 984.047 131.302 982.311 Q129.381 980.575 126.279 980.575 Q124.08 980.575 121.626 981.339 Q119.196 982.103 116.418 983.654 L116.418 978.932 Q119.242 977.797 121.696 977.219 Q124.149 976.64 126.186 976.64 Q131.557 976.64 134.751 979.325 Q137.945 982.01 137.945 986.501 Q137.945 988.631 137.135 990.552 Q136.348 992.45 134.242 995.043 Q133.663 995.714 130.561 998.931 Q127.459 1002.13 121.811 1007.89 Z\" fill=\"#000000\" fill-rule=\"evenodd\" fill-opacity=\"1\" /><path clip-path=\"url(#clip480)\" d=\"M 0 0 M153.2 980.344 Q149.589 980.344 147.76 983.908 Q145.955 987.45 145.955 994.58 Q145.955 1001.69 147.76 1005.25 Q149.589 1008.79 153.2 1008.79 Q156.834 1008.79 158.64 1005.25 Q160.468 1001.69 160.468 994.58 Q160.468 987.45 158.64 983.908 Q156.834 980.344 153.2 980.344 M153.2 976.64 Q159.01 976.64 162.066 981.246 Q165.144 985.83 165.144 994.58 Q165.144 1003.31 162.066 1007.91 Q159.01 1012.5 153.2 1012.5 Q147.39 1012.5 144.311 1007.91 Q141.256 1003.31 141.256 994.58 Q141.256 985.83 144.311 981.246 Q147.39 976.64 153.2 976.64 Z\" fill=\"#000000\" fill-rule=\"evenodd\" fill-opacity=\"1\" /><path clip-path=\"url(#clip480)\" d=\"M 0 0 M63.0847 754.06 L75.5615 754.06 L75.5615 757.857 L63.0847 757.857 L63.0847 754.06 Z\" fill=\"#000000\" fill-rule=\"evenodd\" fill-opacity=\"1\" /><path clip-path=\"url(#clip480)\" d=\"M 0 0 M90.6309 737.463 Q87.0198 737.463 85.1911 741.028 Q83.3855 744.57 83.3855 751.699 Q83.3855 758.806 85.1911 762.37 Q87.0198 765.912 90.6309 765.912 Q94.2651 765.912 96.0707 762.37 Q97.8993 758.806 97.8993 751.699 Q97.8993 744.57 96.0707 741.028 Q94.2651 737.463 90.6309 737.463 M90.6309 733.76 Q96.441 733.76 99.4966 738.366 Q102.575 742.949 102.575 751.699 Q102.575 760.426 99.4966 765.033 Q96.441 769.616 90.6309 769.616 Q84.8207 769.616 81.742 765.033 Q78.6865 760.426 78.6865 751.699 Q78.6865 742.949 81.742 738.366 Q84.8207 733.76 90.6309 733.76 Z\" fill=\"#000000\" fill-rule=\"evenodd\" fill-opacity=\"1\" /><path clip-path=\"url(#clip480)\" d=\"M 0 0 M107.645 763.065 L112.529 763.065 L112.529 768.945 L107.645 768.945 L107.645 763.065 Z\" fill=\"#000000\" fill-rule=\"evenodd\" fill-opacity=\"1\" /><path clip-path=\"url(#clip480)\" d=\"M 0 0 M118.408 765.009 L126.047 765.009 L126.047 738.644 L117.737 740.31 L117.737 736.051 L126.001 734.385 L130.677 734.385 L130.677 765.009 L138.316 765.009 L138.316 768.945 L118.408 768.945 L118.408 765.009 Z\" fill=\"#000000\" fill-rule=\"evenodd\" fill-opacity=\"1\" /><path clip-path=\"url(#clip480)\" d=\"M 0 0 M143.524 768.227 L143.524 763.968 Q145.283 764.801 147.089 765.241 Q148.894 765.681 150.631 765.681 Q155.26 765.681 157.691 762.579 Q160.144 759.454 160.492 753.111 Q159.149 755.102 157.089 756.167 Q155.029 757.232 152.529 757.232 Q147.344 757.232 144.311 754.107 Q141.302 750.959 141.302 745.519 Q141.302 740.195 144.45 736.977 Q147.598 733.76 152.83 733.76 Q158.825 733.76 161.973 738.366 Q165.144 742.949 165.144 751.699 Q165.144 759.87 161.255 764.755 Q157.39 769.616 150.839 769.616 Q149.08 769.616 147.274 769.269 Q145.469 768.921 143.524 768.227 M152.83 753.574 Q155.978 753.574 157.806 751.421 Q159.658 749.269 159.658 745.519 Q159.658 741.792 157.806 739.639 Q155.978 737.463 152.83 737.463 Q149.681 737.463 147.83 739.639 Q146.001 741.792 146.001 745.519 Q146.001 749.269 147.83 751.421 Q149.681 753.574 152.83 753.574 Z\" fill=\"#000000\" fill-rule=\"evenodd\" fill-opacity=\"1\" /><path clip-path=\"url(#clip480)\" d=\"M 0 0 M62.9921 511.18 L75.4689 511.18 L75.4689 514.976 L62.9921 514.976 L62.9921 511.18 Z\" fill=\"#000000\" fill-rule=\"evenodd\" fill-opacity=\"1\" /><path clip-path=\"url(#clip480)\" d=\"M 0 0 M90.5383 494.583 Q86.9272 494.583 85.0985 498.148 Q83.2929 501.689 83.2929 508.819 Q83.2929 515.925 85.0985 519.49 Q86.9272 523.032 90.5383 523.032 Q94.1725 523.032 95.9781 519.49 Q97.8068 515.925 97.8068 508.819 Q97.8068 501.689 95.9781 498.148 Q94.1725 494.583 90.5383 494.583 M90.5383 490.879 Q96.3484 490.879 99.404 495.486 Q102.483 500.069 102.483 508.819 Q102.483 517.546 99.404 522.152 Q96.3484 526.735 90.5383 526.735 Q84.7281 526.735 81.6494 522.152 Q78.5939 517.546 78.5939 508.819 Q78.5939 500.069 81.6494 495.486 Q84.7281 490.879 90.5383 490.879 Z\" fill=\"#000000\" fill-rule=\"evenodd\" fill-opacity=\"1\" /><path clip-path=\"url(#clip480)\" d=\"M 0 0 M107.552 520.185 L112.436 520.185 L112.436 526.064 L107.552 526.064 L107.552 520.185 Z\" fill=\"#000000\" fill-rule=\"evenodd\" fill-opacity=\"1\" /><path clip-path=\"url(#clip480)\" d=\"M 0 0 M118.316 522.129 L125.955 522.129 L125.955 495.763 L117.645 497.43 L117.645 493.171 L125.908 491.504 L130.584 491.504 L130.584 522.129 L138.223 522.129 L138.223 526.064 L118.316 526.064 L118.316 522.129 Z\" fill=\"#000000\" fill-rule=\"evenodd\" fill-opacity=\"1\" /><path clip-path=\"url(#clip480)\" d=\"M 0 0 M153.293 509.652 Q149.959 509.652 148.038 511.435 Q146.14 513.217 146.14 516.342 Q146.14 519.467 148.038 521.249 Q149.959 523.032 153.293 523.032 Q156.626 523.032 158.547 521.249 Q160.468 519.444 160.468 516.342 Q160.468 513.217 158.547 511.435 Q156.649 509.652 153.293 509.652 M148.617 507.661 Q145.607 506.921 143.918 504.861 Q142.251 502.8 142.251 499.837 Q142.251 495.694 145.191 493.287 Q148.154 490.879 153.293 490.879 Q158.455 490.879 161.394 493.287 Q164.334 495.694 164.334 499.837 Q164.334 502.8 162.644 504.861 Q160.978 506.921 157.992 507.661 Q161.371 508.448 163.246 510.74 Q165.144 513.032 165.144 516.342 Q165.144 521.365 162.066 524.05 Q159.01 526.735 153.293 526.735 Q147.575 526.735 144.496 524.05 Q141.441 521.365 141.441 516.342 Q141.441 513.032 143.339 510.74 Q145.237 508.448 148.617 507.661 M146.904 500.277 Q146.904 502.962 148.57 504.467 Q150.26 505.972 153.293 505.972 Q156.302 505.972 157.992 504.467 Q159.705 502.962 159.705 500.277 Q159.705 497.592 157.992 496.087 Q156.302 494.583 153.293 494.583 Q150.26 494.583 148.57 496.087 Q146.904 497.592 146.904 500.277 Z\" fill=\"#000000\" fill-rule=\"evenodd\" fill-opacity=\"1\" /><path clip-path=\"url(#clip480)\" d=\"M 0 0 M63.8023 268.3 L76.2791 268.3 L76.2791 272.096 L63.8023 272.096 L63.8023 268.3 Z\" fill=\"#000000\" fill-rule=\"evenodd\" fill-opacity=\"1\" /><path clip-path=\"url(#clip480)\" d=\"M 0 0 M91.3485 251.702 Q87.7374 251.702 85.9087 255.267 Q84.1031 258.809 84.1031 265.938 Q84.1031 273.045 85.9087 276.61 Q87.7374 280.151 91.3485 280.151 Q94.9827 280.151 96.7882 276.61 Q98.6169 273.045 98.6169 265.938 Q98.6169 258.809 96.7882 255.267 Q94.9827 251.702 91.3485 251.702 M91.3485 247.999 Q97.1586 247.999 100.214 252.605 Q103.293 257.188 103.293 265.938 Q103.293 274.665 100.214 279.272 Q97.1586 283.855 91.3485 283.855 Q85.5383 283.855 82.4596 279.272 Q79.4041 274.665 79.4041 265.938 Q79.4041 257.188 82.4596 252.605 Q85.5383 247.999 91.3485 247.999 Z\" fill=\"#000000\" fill-rule=\"evenodd\" fill-opacity=\"1\" /><path clip-path=\"url(#clip480)\" d=\"M 0 0 M108.362 277.304 L113.246 277.304 L113.246 283.184 L108.362 283.184 L108.362 277.304 Z\" fill=\"#000000\" fill-rule=\"evenodd\" fill-opacity=\"1\" /><path clip-path=\"url(#clip480)\" d=\"M 0 0 M119.126 279.249 L126.765 279.249 L126.765 252.883 L118.455 254.55 L118.455 250.29 L126.719 248.624 L131.395 248.624 L131.395 279.249 L139.033 279.249 L139.033 283.184 L119.126 283.184 L119.126 279.249 Z\" fill=\"#000000\" fill-rule=\"evenodd\" fill-opacity=\"1\" /><path clip-path=\"url(#clip480)\" d=\"M 0 0 M142.922 248.624 L165.144 248.624 L165.144 250.614 L152.598 283.184 L147.714 283.184 L159.519 252.559 L142.922 252.559 L142.922 248.624 Z\" fill=\"#000000\" fill-rule=\"evenodd\" fill-opacity=\"1\" /><polyline clip-path=\"url(#clip482)\" style=\"stroke:#009af9; stroke-width:4; stroke-opacity:1; fill:none\" points=\"\n",
       "  250.379,424.975 252.422,333.237 254.465,396.995 256.508,404.002 258.551,397.352 260.595,446.218 262.638,394.045 264.681,331.552 266.724,363.554 268.767,376.632 \n",
       "  270.811,479.317 272.854,467.216 274.897,362.747 276.94,315.774 278.983,345.147 281.026,316.482 283.07,412.342 285.113,395.625 287.156,396.922 289.199,448.953 \n",
       "  291.242,423.455 293.286,350.106 295.329,404.648 297.372,419.849 299.415,436.275 301.458,401.194 303.501,415.86 305.545,383.976 307.588,358.936 309.631,372.088 \n",
       "  311.674,420.029 313.717,492.693 315.761,472.779 317.804,458.753 319.847,427.025 321.89,488.649 323.933,543.564 325.977,547.212 328.02,535.894 330.063,505.141 \n",
       "  332.106,515.095 334.149,537.098 336.192,530.304 338.236,541.894 340.279,484.985 342.322,529.679 344.365,552.021 346.408,534.227 348.452,510.925 350.495,551.348 \n",
       "  352.538,630.309 354.581,594.922 356.624,625.18 358.668,600.452 360.711,629.054 362.754,677.341 364.797,586.762 366.84,602.667 368.883,526.528 370.927,609.52 \n",
       "  372.97,649.483 375.013,586.95 377.056,649.441 379.099,589.386 381.143,623.376 383.186,575.92 385.229,620.96 387.272,653.264 389.315,625.117 391.358,702.992 \n",
       "  393.402,782.909 395.445,846.04 397.488,839.546 399.531,892.302 401.574,936.638 403.618,986.875 405.661,1055.9 407.704,1061.45 409.747,1111.46 411.79,1066.82 \n",
       "  413.834,1065.81 415.877,1108.25 417.92,1074.78 419.963,1108.61 422.006,1148.66 424.049,1154.82 426.093,1128.34 428.136,1061.51 430.179,1068.78 432.222,1054.31 \n",
       "  434.265,1010.57 436.309,991.557 438.352,1002.13 440.395,1052.12 442.438,1101.47 444.481,1085.86 446.525,1052.81 448.568,1058.55 450.611,1061.9 452.654,1079.84 \n",
       "  454.697,1069.39 456.74,1028.71 458.784,1003.08 460.827,909.562 462.87,887.58 464.913,901.375 466.956,926.022 469,976.755 471.043,1042.3 473.086,1123.39 \n",
       "  475.129,1108.46 477.172,1107.61 479.215,1150.45 481.259,1131.6 483.302,1131.68 485.345,1085.05 487.388,1046.82 489.431,999.133 491.475,919.794 493.518,919.971 \n",
       "  495.561,866.117 497.604,904.858 499.647,884.514 501.691,937.298 503.734,879.379 505.777,860.022 507.82,839.362 509.863,855.481 511.906,844.366 513.95,841.923 \n",
       "  515.993,872.777 518.036,910.217 520.079,995.077 522.122,1023.56 524.166,1055.64 526.209,1020.32 528.252,1014.06 530.295,1034.5 532.338,1057.01 534.382,1070.04 \n",
       "  536.425,1167.02 538.468,1224.01 540.511,1175.02 542.554,1190.83 544.597,1195.27 546.641,1082.59 548.684,1135.46 550.727,1097.74 552.77,1115.71 554.813,1199.59 \n",
       "  556.857,1302.37 558.9,1268.71 560.943,1330.14 562.986,1392.07 565.029,1382.49 567.072,1345.18 569.116,1335.1 571.159,1309.51 573.202,1287.92 575.245,1205.75 \n",
       "  577.288,1197.53 579.332,1215.28 581.375,1199.84 583.418,1169.45 585.461,1163.65 587.504,1180.29 589.548,1173.37 591.591,1118.5 593.634,1161.37 595.677,1185.17 \n",
       "  597.72,1153.01 599.763,1207.52 601.807,1152.07 603.85,1173.03 605.893,1134.13 607.936,1161.76 609.979,1204.4 612.023,1244.35 614.066,1270.96 616.109,1313.55 \n",
       "  618.152,1337.99 620.195,1382.79 622.239,1335.37 624.282,1321.29 626.325,1436.9 628.368,1353.13 630.411,1343.91 632.454,1369.14 634.498,1292.1 636.541,1267.92 \n",
       "  638.584,1267.13 640.627,1319.19 642.67,1336.49 644.714,1400.04 646.757,1430.46 648.8,1382.01 650.843,1445.72 652.886,1442.13 654.93,1351.49 656.973,1377.01 \n",
       "  659.016,1316.46 661.059,1337.19 663.102,1343.88 665.145,1441.98 667.189,1330.37 669.232,1295.28 671.275,1342.79 673.318,1332.7 675.361,1333.96 677.405,1312.9 \n",
       "  679.448,1301.82 681.491,1269.06 683.534,1187.95 685.577,1217.14 687.62,1209.43 689.664,1161.91 691.707,1075.47 693.75,1102.86 695.793,1140.79 697.836,1172.1 \n",
       "  699.88,1140.75 701.923,1079.11 703.966,1081.12 706.009,1002.66 708.052,1063.89 710.096,1051.68 712.139,1022.04 714.182,1103.28 716.225,1103.96 718.268,1153.97 \n",
       "  720.311,1106.41 722.355,1145.19 724.398,1181.58 726.441,1228.79 728.484,1242.18 730.527,1272.34 732.571,1289.3 734.614,1293.31 736.657,1326.9 738.7,1315 \n",
       "  740.743,1287.23 742.787,1367.76 744.83,1434.17 746.873,1432.41 748.916,1342.22 750.959,1397.82 753.002,1412.56 755.046,1396.9 757.089,1333.4 759.132,1376.12 \n",
       "  761.175,1353.93 763.218,1342.88 765.262,1404.99 767.305,1407.22 769.348,1418.38 771.391,1365.85 773.434,1342.61 775.477,1374.42 777.521,1297.58 779.564,1250.8 \n",
       "  781.607,1217.19 783.65,1263.43 785.693,1246.74 787.737,1266.27 789.78,1266.52 791.823,1315.71 793.866,1332.39 795.909,1325.04 797.953,1253.66 799.996,1337.95 \n",
       "  802.039,1314.64 804.082,1339.14 806.125,1288.42 808.168,1304.97 810.212,1349.59 812.255,1302.24 814.298,1256.4 816.341,1216.49 818.384,1168.47 820.428,1158.7 \n",
       "  822.471,1111.73 824.514,1095.37 826.557,1159.38 828.6,1137.37 830.644,1188.54 832.687,1216.31 834.73,1200.71 836.773,1217.4 838.816,1212.47 840.859,1181.72 \n",
       "  842.903,1145.45 844.946,1077.33 846.989,1089.41 849.032,1077.71 851.075,1129.15 853.119,1151.36 855.162,1063.76 857.205,1054.54 859.248,1058.51 861.291,1074.58 \n",
       "  863.334,1132.31 865.378,1083.35 867.421,1125.41 869.464,1085.11 871.507,1015.62 873.55,1070.32 875.594,1109.06 877.637,1072.02 879.68,1030.79 881.723,966.359 \n",
       "  883.766,925.799 885.81,925.366 887.853,868.076 889.896,850.826 891.939,852.503 893.982,826.708 896.025,863.357 898.069,899.372 900.112,894.867 902.155,913.375 \n",
       "  904.198,972.416 906.241,984.981 908.285,946.476 910.328,1008.29 912.371,908.386 914.414,883.25 916.457,840.425 918.501,832.334 920.544,823.642 922.587,876.131 \n",
       "  924.63,893.928 926.673,938.235 928.716,947.996 930.76,896.141 932.803,825.787 934.846,884.965 936.889,910.402 938.932,967.686 940.976,979.171 943.019,880.923 \n",
       "  945.062,939.253 947.105,919.544 949.148,995.139 951.191,993.675 953.235,1004.74 955.278,950.588 957.321,1001.71 959.364,1000.36 961.407,985.77 963.451,972.005 \n",
       "  965.494,922.066 967.537,977.116 969.58,981.199 971.623,910.825 973.667,941.203 975.71,876.392 977.753,786.688 979.796,800.384 981.839,849.777 983.882,781.367 \n",
       "  985.926,736.22 987.969,736.068 990.012,817.122 992.055,809.656 994.098,754.115 996.142,702.949 998.185,776.933 1000.23,834.628 1002.27,821.962 1004.31,801.976 \n",
       "  1006.36,727.596 1008.4,765.342 1010.44,815.455 1012.49,824.81 1014.53,808.975 1016.57,720.253 1018.62,719.61 1020.66,761.945 1022.7,745.339 1024.75,711.605 \n",
       "  1026.79,719.338 1028.83,805.611 1030.88,951.047 1032.92,990.628 1034.96,903.424 1037.01,873.098 1039.05,840.782 1041.09,860.029 1043.13,853.399 1045.18,821.501 \n",
       "  1047.22,867.425 1049.26,927.578 1051.31,910.679 1053.35,883.848 1055.39,814.622 1057.44,886.913 1059.48,855.503 1061.52,832.001 1063.57,846.028 1065.61,907.91 \n",
       "  1067.65,886.368 1069.7,832.201 1071.74,819.081 1073.78,856.808 1075.83,863.249 1077.87,922.483 1079.91,936.365 1081.96,911.168 1084,864.815 1086.04,808.897 \n",
       "  1088.08,889.445 1090.13,831.09 1092.17,817.844 1094.21,837.174 1096.26,833.197 1098.3,813.579 1100.34,742.426 1102.39,727.826 1104.43,708.59 1106.47,701.325 \n",
       "  1108.52,703.64 1110.56,716.956 1112.6,777.584 1114.65,759.684 1116.69,781.944 1118.73,740.471 1120.78,743.546 1122.82,687.413 1124.86,769.41 1126.91,741.851 \n",
       "  1128.95,725.952 1130.99,715.512 1133.04,676.645 1135.08,712.818 1137.12,688.534 1139.16,573.326 1141.21,532.284 1143.25,593.179 1145.29,653.568 1147.34,649.516 \n",
       "  1149.38,654.007 1151.42,631.233 1153.47,627.921 1155.51,673.137 1157.55,681.059 1159.6,593.655 1161.64,565.528 1163.68,539.713 1165.73,578.819 1167.77,630.336 \n",
       "  1169.81,615.165 1171.86,554.003 1173.9,525.868 1175.94,515.8 1177.99,564.616 1180.03,544.367 1182.07,549.044 1184.11,535.726 1186.16,588.623 1188.2,557.548 \n",
       "  1190.24,536.915 1192.29,504.195 1194.33,513.421 1196.37,528.51 1198.42,486.432 1200.46,533.526 1202.5,574.189 1204.55,591.614 1206.59,598.513 1208.63,652.947 \n",
       "  1210.68,639.675 1212.72,692.051 1214.76,701.04 1216.81,691.632 1218.85,700.56 1220.89,631.139 1222.94,622.02 1224.98,560.039 1227.02,542.652 1229.06,588.544 \n",
       "  1231.11,610.155 1233.15,685.203 1235.19,686.383 1237.24,651.085 1239.28,609.09 1241.32,620.412 1243.37,671.076 1245.41,574.471 1247.45,617.591 1249.5,626.324 \n",
       "  1251.54,662.474 1253.58,612.173 1255.63,649.554 1257.67,609.569 1259.71,621.82 1261.76,691.606 1263.8,694.582 1265.84,645.893 1267.89,664.882 1269.93,678.539 \n",
       "  1271.97,715.037 1274.01,741.665 1276.06,708.03 1278.1,749.504 1280.14,686.606 1282.19,653.96 1284.23,624.636 1286.27,629.9 1288.32,616.073 1290.36,587.027 \n",
       "  1292.4,600.571 1294.45,574.754 1296.49,578.888 1298.53,616.456 1300.58,628.265 1302.62,550.559 1304.66,588.964 1306.71,587.577 1308.75,614.574 1310.79,608.224 \n",
       "  1312.84,600.988 1314.88,604.938 1316.92,558.217 1318.97,587.038 1321.01,550.813 1323.05,551.233 1325.09,582.651 1327.14,603.842 1329.18,658.363 1331.22,677.26 \n",
       "  1333.27,773.529 1335.31,809.997 1337.35,823.849 1339.4,859.644 1341.44,834.638 1343.48,810.666 1345.53,841.204 1347.57,924.493 1349.61,842.279 1351.66,857.52 \n",
       "  1353.7,891.464 1355.74,910.522 1357.79,950.539 1359.83,980.904 1361.87,908.634 1363.92,911.34 1365.96,851.015 1368,958.378 1370.04,861.737 1372.09,902.393 \n",
       "  1374.13,916.217 1376.17,835.846 1378.22,898.072 1380.26,927.303 1382.3,900.268 1384.35,900.699 1386.39,888.008 1388.43,879.166 1390.48,936.763 1392.52,930.753 \n",
       "  1394.56,923.591 1396.61,920.85 1398.65,821.7 1400.69,870.852 1402.74,802.961 1404.78,795.748 1406.82,804.806 1408.87,764.141 1410.91,734.614 1412.95,640.33 \n",
       "  1414.99,632.962 1417.04,611.778 1419.08,643.382 1421.12,685.37 1423.17,643.939 1425.21,598.729 1427.25,581.544 1429.3,602.572 1431.34,604.214 1433.38,612.969 \n",
       "  1435.43,617.899 1437.47,574.363 1439.51,555.706 1441.56,552.136 1443.6,501.961 1445.64,466.436 1447.69,492.727 1449.73,437.244 1451.77,493.443 1453.82,477.549 \n",
       "  1455.86,488.04 1457.9,558.921 1459.94,530.995 1461.99,477.792 1464.03,463.709 1466.07,544.18 1468.12,544.454 1470.16,552.087 1472.2,612.985 1474.25,622.189 \n",
       "  1476.29,608.689 1478.33,622.15 1480.38,640.305 1482.42,751.058 1484.46,702.633 1486.51,699.277 1488.55,749.287 1490.59,697.782 1492.64,709.866 1494.68,720.656 \n",
       "  1496.72,742.374 1498.77,734.645 1500.81,752.686 1502.85,696.214 1504.89,647.304 1506.94,571.918 1508.98,585.511 1511.02,554.96 1513.07,616.385 1515.11,763.508 \n",
       "  1517.15,810.291 1519.2,794.319 1521.24,793.881 1523.28,846.831 1525.33,813.27 1527.37,783.375 1529.41,773.983 1531.46,717.272 1533.5,638.151 1535.54,627.301 \n",
       "  1537.59,623.794 1539.63,534.259 1541.67,565.307 1543.72,531.086 1545.76,454.606 1547.8,434.835 1549.85,390.356 1551.89,425.066 1553.93,469.299 1555.97,397.25 \n",
       "  1558.02,411.861 1560.06,317.8 1562.1,351.831 1564.15,313.777 1566.19,293.788 1568.23,222.314 1570.28,263.036 1572.32,301.591 1574.36,253.972 1576.41,236.785 \n",
       "  1578.45,285.502 1580.49,281.166 1582.54,299.598 1584.58,354.487 1586.62,394.487 1588.67,351.478 1590.71,306.319 1592.75,317.598 1594.8,345.853 1596.84,404.891 \n",
       "  1598.88,371.183 1600.92,450.449 1602.97,415.63 1605.01,401.914 1607.05,516.018 1609.1,514.505 1611.14,540.925 1613.18,500.713 1615.23,471.359 1617.27,413.271 \n",
       "  1619.31,491.797 1621.36,529.22 1623.4,528.391 1625.44,496.352 1627.49,507.937 1629.53,502.869 1631.57,567.382 1633.62,605.387 1635.66,600.365 1637.7,542.307 \n",
       "  1639.75,573.353 1641.79,548.407 1643.83,514.04 1645.87,531.513 1647.92,529.631 1649.96,557.407 1652,536.691 1654.05,520.232 1656.09,463.708 1658.13,408.571 \n",
       "  1660.18,440.028 1662.22,409.913 1664.26,409.147 1666.31,372.274 1668.35,419.744 1670.39,456.871 1672.44,487.622 1674.48,516.156 1676.52,492.298 1678.57,503.728 \n",
       "  1680.61,502.806 1682.65,427.08 1684.7,476.629 1686.74,486.742 1688.78,418.23 1690.82,386.952 1692.87,386.726 1694.91,359.965 1696.95,382.006 1699,350.607 \n",
       "  1701.04,381.118 1703.08,387.214 1705.13,336.767 1707.17,325.142 1709.21,398.542 1711.26,393.285 1713.3,443.805 1715.34,446.667 1717.39,446.895 1719.43,378.695 \n",
       "  1721.47,376.819 1723.52,391.271 1725.56,353.891 1727.6,346.343 1729.65,280.323 1731.69,341.888 1733.73,362.183 1735.77,335.871 1737.82,374.62 1739.86,439.084 \n",
       "  1741.9,399.487 1743.95,391.596 1745.99,462.236 1748.03,419.857 1750.08,428.086 1752.12,455.967 1754.16,451.907 1756.21,469.336 1758.25,434.474 1760.29,429.349 \n",
       "  1762.34,450.638 1764.38,453.149 1766.42,538.687 1768.47,515.647 1770.51,477.802 1772.55,525.415 1774.6,522.161 1776.64,502.58 1778.68,555.647 1780.73,585.503 \n",
       "  1782.77,563.958 1784.81,583.591 1786.85,517.376 1788.9,538.784 1790.94,575.631 1792.98,580.563 1795.03,597.43 1797.07,510.479 1799.11,524.271 1801.16,496.067 \n",
       "  1803.2,541.642 1805.24,571.589 1807.29,596.649 1809.33,602.86 1811.37,507.22 1813.42,531.669 1815.46,551.816 1817.5,549.319 1819.55,537.256 1821.59,584.68 \n",
       "  1823.63,576.984 1825.68,590.4 1827.72,564.54 1829.76,583.68 1831.8,531.104 1833.85,487.147 1835.89,429.44 1837.93,501.497 1839.98,502.092 1842.02,438.189 \n",
       "  1844.06,361.178 1846.11,355.886 1848.15,298.581 1850.19,291.452 1852.24,384.972 1854.28,443.727 1856.32,473.134 1858.37,481.211 1860.41,453.816 1862.45,457.582 \n",
       "  1864.5,440.299 1866.54,404.882 1868.58,386.779 1870.63,505.011 1872.67,500.706 1874.71,515.189 1876.75,492.041 1878.8,469.778 1880.84,463.709 1882.88,492.742 \n",
       "  1884.93,441.334 1886.97,522.301 1889.01,492.074 1891.06,517.024 1893.1,572.085 1895.14,574.333 1897.19,588.007 1899.23,587.868 1901.27,651.165 1903.32,661.513 \n",
       "  1905.36,684.721 1907.4,696.459 1909.45,656.149 1911.49,602.606 1913.53,609.187 1915.58,622.102 1917.62,624.373 1919.66,602.518 1921.7,576.505 1923.75,597.681 \n",
       "  1925.79,565.821 1927.83,521.709 1929.88,676.487 1931.92,709.374 1933.96,799.079 1936.01,840.007 1938.05,890.401 1940.09,888.121 1942.14,759.377 1944.18,770.328 \n",
       "  1946.22,801.575 1948.27,792.335 1950.31,801.612 1952.35,743.466 1954.4,715.206 1956.44,725.699 1958.48,718.862 1960.53,717.182 1962.57,749.44 1964.61,726.772 \n",
       "  1966.66,701.449 1968.7,699.4 1970.74,660.329 1972.78,695.172 1974.83,668.777 1976.87,665.87 1978.91,670.462 1980.96,693.961 1983,704.834 1985.04,662.516 \n",
       "  1987.09,671.827 1989.13,737.274 1991.17,716.574 1993.22,711.417 1995.26,773.355 1997.3,828.193 1999.35,850.782 2001.39,839.696 2003.43,790.154 2005.48,776.705 \n",
       "  2007.52,848.519 2009.56,907.595 2011.61,977.296 2013.65,1027.05 2015.69,982.14 2017.73,957.633 2019.78,1056.28 2021.82,1052.34 2023.86,1115.01 2025.91,1099.05 \n",
       "  2027.95,1059.18 2029.99,1030.18 2032.04,1017.91 2034.08,962.993 2036.12,957.017 2038.17,996.613 2040.21,1017.42 2042.25,969.435 2044.3,1020.01 2046.34,1011.42 \n",
       "  2048.38,984.225 2050.43,969.965 2052.47,972.636 2054.51,942.503 2056.56,945.827 2058.6,904.63 2060.64,932.823 2062.68,886.464 2064.73,896.999 2066.77,871.259 \n",
       "  2068.81,938.181 2070.86,955.553 2072.9,969.556 2074.94,966.749 2076.99,936.807 2079.03,981.987 2081.07,923.223 2083.12,983.67 2085.16,966.854 2087.2,958.226 \n",
       "  2089.25,1060.33 2091.29,984.976 2093.33,975.988 2095.38,976.502 2097.42,944.866 2099.46,962.973 2101.51,1007.7 2103.55,1028.28 2105.59,984.225 2107.63,1029.04 \n",
       "  2109.68,968.939 2111.72,1079.97 2113.76,1029.53 2115.81,1000.02 2117.85,990.338 2119.89,1029.21 2121.94,1103.84 2123.98,1133.35 2126.02,1194.22 2128.07,1164.77 \n",
       "  2130.11,1137.6 2132.15,1071.16 2134.2,1060.83 2136.24,1023.11 2138.28,1013.56 2140.33,986.356 2142.37,1008.51 2144.41,1052.61 2146.46,977.966 2148.5,942.547 \n",
       "  2150.54,949.592 2152.58,898.36 2154.63,865.602 2156.67,836.56 2158.71,858.754 2160.76,834.228 2162.8,845.931 2164.84,861.288 2166.89,896.972 2168.93,917.646 \n",
       "  2170.97,915.928 2173.02,883.67 2175.06,977.997 2177.1,944.84 2179.15,982.94 2181.19,921.384 2183.23,866.334 2185.28,868.35 2187.32,878.857 2189.36,910.115 \n",
       "  2191.41,966.355 2193.45,960.698 2195.49,952.707 2197.54,898.007 2199.58,924.887 2201.62,886.02 2203.66,881.944 2205.71,839.061 2207.75,817.769 2209.79,757.227 \n",
       "  2211.84,742.828 2213.88,748.202 2215.92,755.674 2217.97,692.316 2220.01,651.306 2222.05,715.801 2224.1,705.818 2226.14,737.469 2228.18,764.597 2230.23,754.155 \n",
       "  2232.27,757.181 2234.31,719.767 2236.36,654.442 2238.4,651.73 2240.44,661.306 2242.49,604.572 2244.53,641.64 2246.57,704.216 2248.61,685.512 2250.66,740.622 \n",
       "  2252.7,710.909 2254.74,677.128 2256.79,690.699 2258.83,631.513 2260.87,628.342 2262.92,629.997 2264.96,618.376 2267,553.256 2269.05,544.889 2271.09,480.444 \n",
       "  2273.13,516.931 2275.18,509.76 2277.22,401.47 2279.26,386.06 2281.31,366.149 2283.35,400.178 2285.39,317.946 2287.44,284.637 2289.48,317.585 2291.52,283.376 \n",
       "  \n",
       "  \"/>\n",
       "<path clip-path=\"url(#clip482)\" d=\"\n",
       "M268.767 573.924 L270.811 611.31 L272.854 559.677 L274.897 597.943 L276.94 605.903 L278.983 579.386 L281.026 570.568 L283.07 604.772 L285.113 164.685 L287.156 586.389 \n",
       "  L289.199 429.373 L291.242 587.73 L293.286 564.713 L295.329 650.196 L297.372 621.387 L299.415 587.244 L301.458 584.505 L303.501 271.911 L305.545 586.913 L307.588 260.48 \n",
       "  L309.631 588.308 L311.674 562.72 L313.717 600.432 L315.761 587.349 L317.804 567.405 L319.847 524.048 L321.89 554.551 L323.933 561.284 L325.977 568.06 L328.02 584.642 \n",
       "  L330.063 602.974 L332.106 596.184 L334.149 400.9 L336.192 332.522 L338.236 545.49 L340.279 622.244 L342.322 512.074 L344.365 544.653 L346.408 612.744 L348.452 582.731 \n",
       "  L350.495 541.987 L352.538 589.001 L354.581 574.941 L356.624 578.585 L358.668 572.958 L360.711 422.436 L362.754 581.768 L364.797 558.758 L366.84 569.619 L368.883 563.362 \n",
       "  L370.927 548.478 L372.97 570.933 L375.013 561.169 L377.056 264.947 L379.099 634.449 L381.143 428.175 L383.186 628.993 L385.229 597.006 L387.272 619.925 L389.315 575.081 \n",
       "  L391.358 589.937 L393.402 571.524 L395.445 581.793 L397.488 364.207 L399.531 550.602 L401.574 571.434 L403.618 572.404 L405.661 572.479 L407.704 567.985 L409.747 464.95 \n",
       "  L411.79 569.42 L413.834 586.879 L415.877 567.277 L417.92 614.479 L419.963 570.038 L422.006 571.071 L424.049 614.165 L426.093 335.421 L428.136 420.528 L430.179 290.971 \n",
       "  L432.222 571.664 L434.265 583.3 L436.309 597.69 L438.352 593.247 L440.395 561.595 L442.438 549.601 L444.481 608.976 L446.525 571.276 L448.568 583.748 L450.611 578.063 \n",
       "  L452.654 448.547 L454.697 589.051 L456.74 583.995 L458.784 594.809 L460.827 678.78 L462.87 564.165 L464.913 452.945 L466.956 548.891 L469 652.468 L471.043 594.079 \n",
       "  L473.086 546.253 L475.129 791.222 L477.172 386.664 L479.215 546.374 L481.259 544.181 L483.302 589.607 L485.345 579.34 L487.388 590.532 L489.431 603.83 L491.475 545.903 \n",
       "  L493.518 612.244 L495.561 396.435 L497.604 546.896 L499.647 617.597 L501.691 594.891 L503.734 571.116 L505.777 603.532 L507.82 572.808 L509.863 638.14 L511.906 312.067 \n",
       "  L513.95 426.024 L515.993 571.816 L518.036 611.336 L520.079 551.938 L522.122 616.507 L524.166 593.27 L526.209 555.191 L528.252 590.382 L530.295 580.484 L532.338 496.45 \n",
       "  L534.382 580.517 L534.382 302.107 L532.338 436.176 L530.295 302.088 L528.252 302.547 L526.209 314.004 L524.166 307.082 L522.122 310.295 L520.079 234.78 L518.036 254.585 \n",
       "  L515.993 333.402 L513.95 308.176 L511.906 205.28 L509.863 566.604 L507.82 322.206 L505.777 279.014 L503.734 291.603 L501.691 318.34 L499.647 315.932 L497.604 330.249 \n",
       "  L495.561 363.655 L493.518 301.322 L491.475 343.871 L489.431 515.579 L487.388 343.486 L485.345 275.066 L483.302 332.719 L481.259 478.977 L479.215 347.316 L477.172 354.438 \n",
       "  L475.129 663.168 L473.086 305.288 L471.043 310.3 L469 501.047 L466.956 322.872 L464.913 391.996 L462.87 339.031 L460.827 532.63 L458.784 334.873 L456.74 301.659 \n",
       "  L454.697 312 L452.654 387.581 L450.611 321.663 L448.568 282.862 L446.525 299.022 L444.481 318.109 L442.438 325.595 L440.395 308.334 L438.352 309.256 L436.309 307.464 \n",
       "  L434.265 280.82 L432.222 304.275 L430.179 213.136 L428.136 239.024 L426.093 283.232 L424.049 311.259 L422.006 261.584 L419.963 315.799 L417.92 307.083 L415.877 320.796 \n",
       "  L413.834 309.145 L411.79 410.869 L409.747 407.911 L407.704 331.417 L405.661 306.615 L403.618 305.418 L401.574 332.189 L399.531 327.057 L397.488 336.566 L395.445 265.455 \n",
       "  L393.402 304.756 L391.358 303.026 L389.315 241.307 L387.272 259.773 L385.229 292.793 L383.186 543.251 L381.143 365.026 L379.099 301.22 L377.056 236.852 L375.013 332.403 \n",
       "  L372.97 296.145 L370.927 319.613 L368.883 323.879 L366.84 304.327 L364.797 251.545 L362.754 288.726 L360.711 344.893 L358.668 343.761 L356.624 318.324 L354.581 294.042 \n",
       "  L352.538 302.758 L350.495 299.491 L348.452 331.184 L346.408 262.783 L344.365 326.739 L342.322 402.008 L340.279 295.468 L338.236 322.545 L336.192 198.587 L334.149 247.073 \n",
       "  L332.106 274.842 L330.063 281.198 L328.02 304.541 L325.977 300.57 L323.933 311.859 L321.89 320.808 L319.847 521.821 L317.804 310.816 L315.761 329.157 L313.717 320.008 \n",
       "  L311.674 332.991 L309.631 291.593 L307.588 200.701 L305.545 297.445 L303.501 147.333 L301.458 322.057 L299.415 331.66 L297.372 279.537 L295.329 503.38 L293.286 303.372 \n",
       "  L291.242 322 L289.199 250.033 L287.156 307.792 L285.113 87.9763 L283.07 548.373 L281.026 263.915 L278.983 297.371 L276.94 290.997 L274.897 301.208 L272.854 334.338 \n",
       "  L270.811 310.325 L268.767 296.881  Z\n",
       "  \" fill=\"#e26f46\" fill-rule=\"evenodd\" fill-opacity=\"0.5\"/>\n",
       "<polyline clip-path=\"url(#clip482)\" style=\"stroke:#e26f46; stroke-width:4; stroke-opacity:1; fill:none\" points=\"\n",
       "  268.767,435.403 270.811,460.818 272.854,447.008 274.897,449.576 276.94,448.45 278.983,438.378 281.026,417.242 283.07,576.572 285.113,126.331 287.156,447.091 \n",
       "  289.199,339.703 291.242,454.865 293.286,434.043 295.329,576.788 297.372,450.462 299.415,459.452 301.458,453.281 303.501,209.622 305.545,442.179 307.588,230.59 \n",
       "  309.631,439.951 311.674,447.855 313.717,460.22 315.761,458.253 317.804,439.11 319.847,522.934 321.89,437.68 323.933,436.571 325.977,434.315 328.02,444.592 \n",
       "  330.063,442.086 332.106,435.513 334.149,323.986 336.192,265.555 338.236,434.017 340.279,458.856 342.322,457.041 344.365,435.696 346.408,437.763 348.452,456.957 \n",
       "  350.495,420.739 352.538,445.88 354.581,434.492 356.624,448.454 358.668,458.359 360.711,383.665 362.754,435.247 364.797,405.152 366.84,436.973 368.883,443.62 \n",
       "  370.927,434.045 372.97,433.539 375.013,446.786 377.056,250.899 379.099,467.834 381.143,396.6 383.186,586.122 385.229,444.899 387.272,439.849 389.315,408.194 \n",
       "  391.358,446.481 393.402,438.14 395.445,423.624 397.488,350.387 399.531,438.83 401.574,451.812 403.618,438.911 405.661,439.547 407.704,449.701 409.747,436.43 \n",
       "  411.79,490.145 413.834,448.012 415.877,444.036 417.92,460.781 419.963,442.919 422.006,416.328 424.049,462.712 426.093,309.326 428.136,329.776 430.179,252.053 \n",
       "  432.222,437.97 434.265,432.06 436.309,452.577 438.352,451.251 440.395,434.965 442.438,437.598 444.481,463.543 446.525,435.149 448.568,433.305 450.611,449.863 \n",
       "  452.654,418.064 454.697,450.525 456.74,442.827 458.784,464.841 460.827,605.705 462.87,451.598 464.913,422.471 466.956,435.881 469,576.757 471.043,452.19 \n",
       "  473.086,425.771 475.129,727.195 477.172,370.551 479.215,446.845 481.259,511.579 483.302,461.163 485.345,427.203 487.388,467.009 489.431,559.704 491.475,444.887 \n",
       "  493.518,456.783 495.561,380.045 497.604,438.573 499.647,466.764 501.691,456.616 503.734,431.359 505.777,441.273 507.82,447.507 509.863,602.372 511.906,258.674 \n",
       "  513.95,367.1 515.993,452.609 518.036,432.96 520.079,393.359 522.122,463.401 524.166,450.176 526.209,434.598 528.252,446.465 530.295,441.286 532.338,466.313 \n",
       "  534.382,441.312 \n",
       "  \"/>\n",
       "<path clip-path=\"url(#clip480)\" d=\"\n",
       "M1989.74 312.204 L2280.76 312.204 L2280.76 130.764 L1989.74 130.764  Z\n",
       "  \" fill=\"#ffffff\" fill-rule=\"evenodd\" fill-opacity=\"1\"/>\n",
       "<polyline clip-path=\"url(#clip480)\" style=\"stroke:#000000; stroke-width:4; stroke-opacity:1; fill:none\" points=\"\n",
       "  1989.74,312.204 2280.76,312.204 2280.76,130.764 1989.74,130.764 1989.74,312.204 \n",
       "  \"/>\n",
       "<polyline clip-path=\"url(#clip480)\" style=\"stroke:#009af9; stroke-width:4; stroke-opacity:1; fill:none\" points=\"\n",
       "  2013.74,191.244 2157.74,191.244 \n",
       "  \"/>\n",
       "<path clip-path=\"url(#clip480)\" d=\"M 0 0 M2195.58 210.931 Q2193.77 215.561 2192.06 216.973 Q2190.35 218.385 2187.48 218.385 L2184.08 218.385 L2184.08 214.82 L2186.58 214.82 Q2188.33 214.82 2189.31 213.987 Q2190.28 213.154 2191.46 210.052 L2192.22 208.107 L2181.74 182.598 L2186.25 182.598 L2194.35 202.876 L2202.46 182.598 L2206.97 182.598 L2195.58 210.931 Z\" fill=\"#000000\" fill-rule=\"evenodd\" fill-opacity=\"1\" /><path clip-path=\"url(#clip480)\" d=\"M 0 0 M2212.85 204.589 L2220.49 204.589 L2220.49 178.223 L2212.18 179.89 L2212.18 175.631 L2220.44 173.964 L2225.12 173.964 L2225.12 204.589 L2232.76 204.589 L2232.76 208.524 L2212.85 208.524 L2212.85 204.589 Z\" fill=\"#000000\" fill-rule=\"evenodd\" fill-opacity=\"1\" /><polyline clip-path=\"url(#clip480)\" style=\"stroke:#e26f46; stroke-width:4; stroke-opacity:1; fill:none\" points=\"\n",
       "  2013.74,251.724 2157.74,251.724 \n",
       "  \"/>\n",
       "<path clip-path=\"url(#clip480)\" d=\"M 0 0 M2195.58 271.411 Q2193.77 276.041 2192.06 277.453 Q2190.35 278.865 2187.48 278.865 L2184.08 278.865 L2184.08 275.3 L2186.58 275.3 Q2188.33 275.3 2189.31 274.467 Q2190.28 273.634 2191.46 270.532 L2192.22 268.587 L2181.74 243.078 L2186.25 243.078 L2194.35 263.356 L2202.46 243.078 L2206.97 243.078 L2195.58 271.411 Z\" fill=\"#000000\" fill-rule=\"evenodd\" fill-opacity=\"1\" /><path clip-path=\"url(#clip480)\" d=\"M 0 0 M2216.07 265.069 L2232.39 265.069 L2232.39 269.004 L2210.44 269.004 L2210.44 265.069 Q2213.1 262.314 2217.69 257.685 Q2222.29 253.032 2223.47 251.689 Q2225.72 249.166 2226.6 247.43 Q2227.5 245.671 2227.5 243.981 Q2227.5 241.226 2225.56 239.49 Q2223.64 237.754 2220.53 237.754 Q2218.33 237.754 2215.88 238.518 Q2213.45 239.282 2210.67 240.833 L2210.67 236.111 Q2213.5 234.976 2215.95 234.398 Q2218.4 233.819 2220.44 233.819 Q2225.81 233.819 2229.01 236.504 Q2232.2 239.189 2232.2 243.68 Q2232.2 245.81 2231.39 247.731 Q2230.6 249.629 2228.5 252.222 Q2227.92 252.893 2224.82 256.111 Q2221.71 259.305 2216.07 265.069 Z\" fill=\"#000000\" fill-rule=\"evenodd\" fill-opacity=\"1\" /></svg>\n"
      ]
     },
     "execution_count": 14,
     "metadata": {},
     "output_type": "execute_result"
    }
   ],
   "source": [
    "nhl_inference_plot(latent_variables[1:1000, :], inferred_variables, :o4)"
   ]
  },
  {
   "cell_type": "code",
   "execution_count": 15,
   "metadata": {},
   "outputs": [
    {
     "data": {
      "image/svg+xml": [
       "<?xml version=\"1.0\" encoding=\"utf-8\"?>\n",
       "<svg xmlns=\"http://www.w3.org/2000/svg\" xmlns:xlink=\"http://www.w3.org/1999/xlink\" width=\"600\" height=\"400\" viewBox=\"0 0 2400 1600\">\n",
       "<defs>\n",
       "  <clipPath id=\"clip520\">\n",
       "    <rect x=\"0\" y=\"0\" width=\"2400\" height=\"1600\"/>\n",
       "  </clipPath>\n",
       "</defs>\n",
       "<path clip-path=\"url(#clip520)\" d=\"\n",
       "M0 1600 L2400 1600 L2400 0 L0 0  Z\n",
       "  \" fill=\"#ffffff\" fill-rule=\"evenodd\" fill-opacity=\"1\"/>\n",
       "<defs>\n",
       "  <clipPath id=\"clip521\">\n",
       "    <rect x=\"480\" y=\"0\" width=\"1681\" height=\"1600\"/>\n",
       "  </clipPath>\n",
       "</defs>\n",
       "<path clip-path=\"url(#clip520)\" d=\"\n",
       "M175.348 1486.45 L2352.76 1486.45 L2352.76 47.2441 L175.348 47.2441  Z\n",
       "  \" fill=\"#ffffff\" fill-rule=\"evenodd\" fill-opacity=\"1\"/>\n",
       "<defs>\n",
       "  <clipPath id=\"clip522\">\n",
       "    <rect x=\"175\" y=\"47\" width=\"2178\" height=\"1440\"/>\n",
       "  </clipPath>\n",
       "</defs>\n",
       "<polyline clip-path=\"url(#clip522)\" style=\"stroke:#000000; stroke-width:2; stroke-opacity:0.1; fill:none\" points=\"\n",
       "  234.917,1486.45 234.917,47.2441 \n",
       "  \"/>\n",
       "<polyline clip-path=\"url(#clip522)\" style=\"stroke:#000000; stroke-width:2; stroke-opacity:0.1; fill:none\" points=\"\n",
       "  748.97,1486.45 748.97,47.2441 \n",
       "  \"/>\n",
       "<polyline clip-path=\"url(#clip522)\" style=\"stroke:#000000; stroke-width:2; stroke-opacity:0.1; fill:none\" points=\"\n",
       "  1263.02,1486.45 1263.02,47.2441 \n",
       "  \"/>\n",
       "<polyline clip-path=\"url(#clip522)\" style=\"stroke:#000000; stroke-width:2; stroke-opacity:0.1; fill:none\" points=\"\n",
       "  1777.08,1486.45 1777.08,47.2441 \n",
       "  \"/>\n",
       "<polyline clip-path=\"url(#clip522)\" style=\"stroke:#000000; stroke-width:2; stroke-opacity:0.1; fill:none\" points=\"\n",
       "  2291.13,1486.45 2291.13,47.2441 \n",
       "  \"/>\n",
       "<polyline clip-path=\"url(#clip522)\" style=\"stroke:#000000; stroke-width:2; stroke-opacity:0.1; fill:none\" points=\"\n",
       "  175.348,1243.3 2352.76,1243.3 \n",
       "  \"/>\n",
       "<polyline clip-path=\"url(#clip522)\" style=\"stroke:#000000; stroke-width:2; stroke-opacity:0.1; fill:none\" points=\"\n",
       "  175.348,978.258 2352.76,978.258 \n",
       "  \"/>\n",
       "<polyline clip-path=\"url(#clip522)\" style=\"stroke:#000000; stroke-width:2; stroke-opacity:0.1; fill:none\" points=\"\n",
       "  175.348,713.22 2352.76,713.22 \n",
       "  \"/>\n",
       "<polyline clip-path=\"url(#clip522)\" style=\"stroke:#000000; stroke-width:2; stroke-opacity:0.1; fill:none\" points=\"\n",
       "  175.348,448.183 2352.76,448.183 \n",
       "  \"/>\n",
       "<polyline clip-path=\"url(#clip522)\" style=\"stroke:#000000; stroke-width:2; stroke-opacity:0.1; fill:none\" points=\"\n",
       "  175.348,183.146 2352.76,183.146 \n",
       "  \"/>\n",
       "<polyline clip-path=\"url(#clip520)\" style=\"stroke:#000000; stroke-width:4; stroke-opacity:1; fill:none\" points=\"\n",
       "  175.348,1486.45 2352.76,1486.45 \n",
       "  \"/>\n",
       "<polyline clip-path=\"url(#clip520)\" style=\"stroke:#000000; stroke-width:4; stroke-opacity:1; fill:none\" points=\"\n",
       "  175.348,1486.45 175.348,47.2441 \n",
       "  \"/>\n",
       "<polyline clip-path=\"url(#clip520)\" style=\"stroke:#000000; stroke-width:4; stroke-opacity:1; fill:none\" points=\"\n",
       "  234.917,1486.45 234.917,1469.18 \n",
       "  \"/>\n",
       "<polyline clip-path=\"url(#clip520)\" style=\"stroke:#000000; stroke-width:4; stroke-opacity:1; fill:none\" points=\"\n",
       "  748.97,1486.45 748.97,1469.18 \n",
       "  \"/>\n",
       "<polyline clip-path=\"url(#clip520)\" style=\"stroke:#000000; stroke-width:4; stroke-opacity:1; fill:none\" points=\"\n",
       "  1263.02,1486.45 1263.02,1469.18 \n",
       "  \"/>\n",
       "<polyline clip-path=\"url(#clip520)\" style=\"stroke:#000000; stroke-width:4; stroke-opacity:1; fill:none\" points=\"\n",
       "  1777.08,1486.45 1777.08,1469.18 \n",
       "  \"/>\n",
       "<polyline clip-path=\"url(#clip520)\" style=\"stroke:#000000; stroke-width:4; stroke-opacity:1; fill:none\" points=\"\n",
       "  2291.13,1486.45 2291.13,1469.18 \n",
       "  \"/>\n",
       "<polyline clip-path=\"url(#clip520)\" style=\"stroke:#000000; stroke-width:4; stroke-opacity:1; fill:none\" points=\"\n",
       "  175.348,1243.3 201.477,1243.3 \n",
       "  \"/>\n",
       "<polyline clip-path=\"url(#clip520)\" style=\"stroke:#000000; stroke-width:4; stroke-opacity:1; fill:none\" points=\"\n",
       "  175.348,978.258 201.477,978.258 \n",
       "  \"/>\n",
       "<polyline clip-path=\"url(#clip520)\" style=\"stroke:#000000; stroke-width:4; stroke-opacity:1; fill:none\" points=\"\n",
       "  175.348,713.22 201.477,713.22 \n",
       "  \"/>\n",
       "<polyline clip-path=\"url(#clip520)\" style=\"stroke:#000000; stroke-width:4; stroke-opacity:1; fill:none\" points=\"\n",
       "  175.348,448.183 201.477,448.183 \n",
       "  \"/>\n",
       "<polyline clip-path=\"url(#clip520)\" style=\"stroke:#000000; stroke-width:4; stroke-opacity:1; fill:none\" points=\"\n",
       "  175.348,183.146 201.477,183.146 \n",
       "  \"/>\n",
       "<path clip-path=\"url(#clip520)\" d=\"M 0 0 M234.917 1508.44 Q231.306 1508.44 229.477 1512 Q227.671 1515.55 227.671 1522.67 Q227.671 1529.78 229.477 1533.35 Q231.306 1536.89 234.917 1536.89 Q238.551 1536.89 240.356 1533.35 Q242.185 1529.78 242.185 1522.67 Q242.185 1515.55 240.356 1512 Q238.551 1508.44 234.917 1508.44 M234.917 1504.73 Q240.727 1504.73 243.782 1509.34 Q246.861 1513.92 246.861 1522.67 Q246.861 1531.4 243.782 1536.01 Q240.727 1540.59 234.917 1540.59 Q229.107 1540.59 226.028 1536.01 Q222.972 1531.4 222.972 1522.67 Q222.972 1513.92 226.028 1509.34 Q229.107 1504.73 234.917 1504.73 Z\" fill=\"#000000\" fill-rule=\"evenodd\" fill-opacity=\"1\" /><path clip-path=\"url(#clip520)\" d=\"M 0 0 M717.107 1535.98 L733.426 1535.98 L733.426 1539.92 L711.482 1539.92 L711.482 1535.98 Q714.144 1533.23 718.727 1528.6 Q723.334 1523.95 724.514 1522.61 Q726.76 1520.08 727.639 1518.35 Q728.542 1516.59 728.542 1514.9 Q728.542 1512.14 726.598 1510.41 Q724.676 1508.67 721.575 1508.67 Q719.376 1508.67 716.922 1509.43 Q714.491 1510.2 711.714 1511.75 L711.714 1507.03 Q714.538 1505.89 716.991 1505.31 Q719.445 1504.73 721.482 1504.73 Q726.852 1504.73 730.047 1507.42 Q733.241 1510.11 733.241 1514.6 Q733.241 1516.73 732.431 1518.65 Q731.644 1520.54 729.538 1523.14 Q728.959 1523.81 725.857 1527.03 Q722.755 1530.22 717.107 1535.98 Z\" fill=\"#000000\" fill-rule=\"evenodd\" fill-opacity=\"1\" /><path clip-path=\"url(#clip520)\" d=\"M 0 0 M738.542 1505.36 L756.898 1505.36 L756.898 1509.3 L742.824 1509.3 L742.824 1517.77 Q743.843 1517.42 744.862 1517.26 Q745.88 1517.07 746.899 1517.07 Q752.686 1517.07 756.065 1520.24 Q759.445 1523.42 759.445 1528.83 Q759.445 1534.41 755.973 1537.51 Q752.5 1540.59 746.181 1540.59 Q744.005 1540.59 741.737 1540.22 Q739.491 1539.85 737.084 1539.11 L737.084 1534.41 Q739.167 1535.54 741.389 1536.1 Q743.612 1536.66 746.088 1536.66 Q750.093 1536.66 752.431 1534.55 Q754.769 1532.44 754.769 1528.83 Q754.769 1525.22 752.431 1523.11 Q750.093 1521.01 746.088 1521.01 Q744.213 1521.01 742.338 1521.42 Q740.487 1521.84 738.542 1522.72 L738.542 1505.36 Z\" fill=\"#000000\" fill-rule=\"evenodd\" fill-opacity=\"1\" /><path clip-path=\"url(#clip520)\" d=\"M 0 0 M774.514 1508.44 Q770.903 1508.44 769.074 1512 Q767.269 1515.55 767.269 1522.67 Q767.269 1529.78 769.074 1533.35 Q770.903 1536.89 774.514 1536.89 Q778.148 1536.89 779.954 1533.35 Q781.783 1529.78 781.783 1522.67 Q781.783 1515.55 779.954 1512 Q778.148 1508.44 774.514 1508.44 M774.514 1504.73 Q780.324 1504.73 783.38 1509.34 Q786.459 1513.92 786.459 1522.67 Q786.459 1531.4 783.38 1536.01 Q780.324 1540.59 774.514 1540.59 Q768.704 1540.59 765.625 1536.01 Q762.57 1531.4 762.57 1522.67 Q762.57 1513.92 765.625 1509.34 Q768.704 1504.73 774.514 1504.73 Z\" fill=\"#000000\" fill-rule=\"evenodd\" fill-opacity=\"1\" /><path clip-path=\"url(#clip520)\" d=\"M 0 0 M1226.29 1505.36 L1244.64 1505.36 L1244.64 1509.3 L1230.57 1509.3 L1230.57 1517.77 Q1231.59 1517.42 1232.61 1517.26 Q1233.63 1517.07 1234.64 1517.07 Q1240.43 1517.07 1243.81 1520.24 Q1247.19 1523.42 1247.19 1528.83 Q1247.19 1534.41 1243.72 1537.51 Q1240.25 1540.59 1233.93 1540.59 Q1231.75 1540.59 1229.48 1540.22 Q1227.24 1539.85 1224.83 1539.11 L1224.83 1534.41 Q1226.91 1535.54 1229.14 1536.1 Q1231.36 1536.66 1233.83 1536.66 Q1237.84 1536.66 1240.18 1534.55 Q1242.51 1532.44 1242.51 1528.83 Q1242.51 1525.22 1240.18 1523.11 Q1237.84 1521.01 1233.83 1521.01 Q1231.96 1521.01 1230.08 1521.42 Q1228.23 1521.84 1226.29 1522.72 L1226.29 1505.36 Z\" fill=\"#000000\" fill-rule=\"evenodd\" fill-opacity=\"1\" /><path clip-path=\"url(#clip520)\" d=\"M 0 0 M1262.26 1508.44 Q1258.65 1508.44 1256.82 1512 Q1255.01 1515.55 1255.01 1522.67 Q1255.01 1529.78 1256.82 1533.35 Q1258.65 1536.89 1262.26 1536.89 Q1265.89 1536.89 1267.7 1533.35 Q1269.53 1529.78 1269.53 1522.67 Q1269.53 1515.55 1267.7 1512 Q1265.89 1508.44 1262.26 1508.44 M1262.26 1504.73 Q1268.07 1504.73 1271.13 1509.34 Q1274.2 1513.92 1274.2 1522.67 Q1274.2 1531.4 1271.13 1536.01 Q1268.07 1540.59 1262.26 1540.59 Q1256.45 1540.59 1253.37 1536.01 Q1250.32 1531.4 1250.32 1522.67 Q1250.32 1513.92 1253.37 1509.34 Q1256.45 1504.73 1262.26 1504.73 Z\" fill=\"#000000\" fill-rule=\"evenodd\" fill-opacity=\"1\" /><path clip-path=\"url(#clip520)\" d=\"M 0 0 M1289.27 1508.44 Q1285.66 1508.44 1283.83 1512 Q1282.03 1515.55 1282.03 1522.67 Q1282.03 1529.78 1283.83 1533.35 Q1285.66 1536.89 1289.27 1536.89 Q1292.91 1536.89 1294.71 1533.35 Q1296.54 1529.78 1296.54 1522.67 Q1296.54 1515.55 1294.71 1512 Q1292.91 1508.44 1289.27 1508.44 M1289.27 1504.73 Q1295.08 1504.73 1298.14 1509.34 Q1301.22 1513.92 1301.22 1522.67 Q1301.22 1531.4 1298.14 1536.01 Q1295.08 1540.59 1289.27 1540.59 Q1283.46 1540.59 1280.38 1536.01 Q1277.33 1531.4 1277.33 1522.67 Q1277.33 1513.92 1280.38 1509.34 Q1283.46 1504.73 1289.27 1504.73 Z\" fill=\"#000000\" fill-rule=\"evenodd\" fill-opacity=\"1\" /><path clip-path=\"url(#clip520)\" d=\"M 0 0 M1739.45 1505.36 L1761.67 1505.36 L1761.67 1507.35 L1749.13 1539.92 L1744.24 1539.92 L1756.05 1509.3 L1739.45 1509.3 L1739.45 1505.36 Z\" fill=\"#000000\" fill-rule=\"evenodd\" fill-opacity=\"1\" /><path clip-path=\"url(#clip520)\" d=\"M 0 0 M1766.79 1505.36 L1785.14 1505.36 L1785.14 1509.3 L1771.07 1509.3 L1771.07 1517.77 Q1772.09 1517.42 1773.11 1517.26 Q1774.13 1517.07 1775.14 1517.07 Q1780.93 1517.07 1784.31 1520.24 Q1787.69 1523.42 1787.69 1528.83 Q1787.69 1534.41 1784.22 1537.51 Q1780.75 1540.59 1774.43 1540.59 Q1772.25 1540.59 1769.98 1540.22 Q1767.74 1539.85 1765.33 1539.11 L1765.33 1534.41 Q1767.41 1535.54 1769.64 1536.1 Q1771.86 1536.66 1774.33 1536.66 Q1778.34 1536.66 1780.68 1534.55 Q1783.02 1532.44 1783.02 1528.83 Q1783.02 1525.22 1780.68 1523.11 Q1778.34 1521.01 1774.33 1521.01 Q1772.46 1521.01 1770.58 1521.42 Q1768.73 1521.84 1766.79 1522.72 L1766.79 1505.36 Z\" fill=\"#000000\" fill-rule=\"evenodd\" fill-opacity=\"1\" /><path clip-path=\"url(#clip520)\" d=\"M 0 0 M1802.76 1508.44 Q1799.15 1508.44 1797.32 1512 Q1795.51 1515.55 1795.51 1522.67 Q1795.51 1529.78 1797.32 1533.35 Q1799.15 1536.89 1802.76 1536.89 Q1806.39 1536.89 1808.2 1533.35 Q1810.03 1529.78 1810.03 1522.67 Q1810.03 1515.55 1808.2 1512 Q1806.39 1508.44 1802.76 1508.44 M1802.76 1504.73 Q1808.57 1504.73 1811.63 1509.34 Q1814.7 1513.92 1814.7 1522.67 Q1814.7 1531.4 1811.63 1536.01 Q1808.57 1540.59 1802.76 1540.59 Q1796.95 1540.59 1793.87 1536.01 Q1790.82 1531.4 1790.82 1522.67 Q1790.82 1513.92 1793.87 1509.34 Q1796.95 1504.73 1802.76 1504.73 Z\" fill=\"#000000\" fill-rule=\"evenodd\" fill-opacity=\"1\" /><path clip-path=\"url(#clip520)\" d=\"M 0 0 M2240.99 1535.98 L2248.63 1535.98 L2248.63 1509.62 L2240.32 1511.29 L2240.32 1507.03 L2248.59 1505.36 L2253.26 1505.36 L2253.26 1535.98 L2260.9 1535.98 L2260.9 1539.92 L2240.99 1539.92 L2240.99 1535.98 Z\" fill=\"#000000\" fill-rule=\"evenodd\" fill-opacity=\"1\" /><path clip-path=\"url(#clip520)\" d=\"M 0 0 M2275.97 1508.44 Q2272.36 1508.44 2270.53 1512 Q2268.72 1515.55 2268.72 1522.67 Q2268.72 1529.78 2270.53 1533.35 Q2272.36 1536.89 2275.97 1536.89 Q2279.6 1536.89 2281.41 1533.35 Q2283.24 1529.78 2283.24 1522.67 Q2283.24 1515.55 2281.41 1512 Q2279.6 1508.44 2275.97 1508.44 M2275.97 1504.73 Q2281.78 1504.73 2284.83 1509.34 Q2287.91 1513.92 2287.91 1522.67 Q2287.91 1531.4 2284.83 1536.01 Q2281.78 1540.59 2275.97 1540.59 Q2270.16 1540.59 2267.08 1536.01 Q2264.02 1531.4 2264.02 1522.67 Q2264.02 1513.92 2267.08 1509.34 Q2270.16 1504.73 2275.97 1504.73 Z\" fill=\"#000000\" fill-rule=\"evenodd\" fill-opacity=\"1\" /><path clip-path=\"url(#clip520)\" d=\"M 0 0 M2302.98 1508.44 Q2299.37 1508.44 2297.54 1512 Q2295.74 1515.55 2295.74 1522.67 Q2295.74 1529.78 2297.54 1533.35 Q2299.37 1536.89 2302.98 1536.89 Q2306.62 1536.89 2308.42 1533.35 Q2310.25 1529.78 2310.25 1522.67 Q2310.25 1515.55 2308.42 1512 Q2306.62 1508.44 2302.98 1508.44 M2302.98 1504.73 Q2308.79 1504.73 2311.85 1509.34 Q2314.93 1513.92 2314.93 1522.67 Q2314.93 1531.4 2311.85 1536.01 Q2308.79 1540.59 2302.98 1540.59 Q2297.17 1540.59 2294.09 1536.01 Q2291.04 1531.4 2291.04 1522.67 Q2291.04 1513.92 2294.09 1509.34 Q2297.17 1504.73 2302.98 1504.73 Z\" fill=\"#000000\" fill-rule=\"evenodd\" fill-opacity=\"1\" /><path clip-path=\"url(#clip520)\" d=\"M 0 0 M2330 1508.44 Q2326.39 1508.44 2324.56 1512 Q2322.75 1515.55 2322.75 1522.67 Q2322.75 1529.78 2324.56 1533.35 Q2326.39 1536.89 2330 1536.89 Q2333.63 1536.89 2335.44 1533.35 Q2337.27 1529.78 2337.27 1522.67 Q2337.27 1515.55 2335.44 1512 Q2333.63 1508.44 2330 1508.44 M2330 1504.73 Q2335.81 1504.73 2338.86 1509.34 Q2341.94 1513.92 2341.94 1522.67 Q2341.94 1531.4 2338.86 1536.01 Q2335.81 1540.59 2330 1540.59 Q2324.19 1540.59 2321.11 1536.01 Q2318.05 1531.4 2318.05 1522.67 Q2318.05 1513.92 2321.11 1509.34 Q2324.19 1504.73 2330 1504.73 Z\" fill=\"#000000\" fill-rule=\"evenodd\" fill-opacity=\"1\" /><path clip-path=\"url(#clip520)\" d=\"M 0 0 M74.9365 1229.09 Q71.3254 1229.09 69.4967 1232.66 Q67.6912 1236.2 67.6912 1243.33 Q67.6912 1250.44 69.4967 1254 Q71.3254 1257.54 74.9365 1257.54 Q78.5707 1257.54 80.3763 1254 Q82.205 1250.44 82.205 1243.33 Q82.205 1236.2 80.3763 1232.66 Q78.5707 1229.09 74.9365 1229.09 M74.9365 1225.39 Q80.7467 1225.39 83.8022 1230 Q86.8809 1234.58 86.8809 1243.33 Q86.8809 1252.06 83.8022 1256.66 Q80.7467 1261.25 74.9365 1261.25 Q69.1264 1261.25 66.0477 1256.66 Q62.9921 1252.06 62.9921 1243.33 Q62.9921 1234.58 66.0477 1230 Q69.1264 1225.39 74.9365 1225.39 Z\" fill=\"#000000\" fill-rule=\"evenodd\" fill-opacity=\"1\" /><path clip-path=\"url(#clip520)\" d=\"M 0 0 M91.9503 1254.7 L96.8345 1254.7 L96.8345 1260.58 L91.9503 1260.58 L91.9503 1254.7 Z\" fill=\"#000000\" fill-rule=\"evenodd\" fill-opacity=\"1\" /><path clip-path=\"url(#clip520)\" d=\"M 0 0 M111.904 1229.09 Q108.293 1229.09 106.464 1232.66 Q104.659 1236.2 104.659 1243.33 Q104.659 1250.44 106.464 1254 Q108.293 1257.54 111.904 1257.54 Q115.538 1257.54 117.344 1254 Q119.172 1250.44 119.172 1243.33 Q119.172 1236.2 117.344 1232.66 Q115.538 1229.09 111.904 1229.09 M111.904 1225.39 Q117.714 1225.39 120.77 1230 Q123.848 1234.58 123.848 1243.33 Q123.848 1252.06 120.77 1256.66 Q117.714 1261.25 111.904 1261.25 Q106.094 1261.25 103.015 1256.66 Q99.9595 1252.06 99.9595 1243.33 Q99.9595 1234.58 103.015 1230 Q106.094 1225.39 111.904 1225.39 Z\" fill=\"#000000\" fill-rule=\"evenodd\" fill-opacity=\"1\" /><path clip-path=\"url(#clip520)\" d=\"M 0 0 M141.765 1230.09 L129.959 1248.54 L141.765 1248.54 L141.765 1230.09 M140.538 1226.02 L146.418 1226.02 L146.418 1248.54 L151.348 1248.54 L151.348 1252.43 L146.418 1252.43 L146.418 1260.58 L141.765 1260.58 L141.765 1252.43 L126.163 1252.43 L126.163 1247.91 L140.538 1226.02 Z\" fill=\"#000000\" fill-rule=\"evenodd\" fill-opacity=\"1\" /><path clip-path=\"url(#clip520)\" d=\"M 0 0 M75.2606 964.056 Q71.6495 964.056 69.8208 967.621 Q68.0152 971.163 68.0152 978.293 Q68.0152 985.399 69.8208 988.964 Q71.6495 992.505 75.2606 992.505 Q78.8948 992.505 80.7004 988.964 Q82.5291 985.399 82.5291 978.293 Q82.5291 971.163 80.7004 967.621 Q78.8948 964.056 75.2606 964.056 M75.2606 960.353 Q81.0707 960.353 84.1263 964.959 Q87.205 969.543 87.205 978.293 Q87.205 987.019 84.1263 991.626 Q81.0707 996.209 75.2606 996.209 Q69.4504 996.209 66.3717 991.626 Q63.3162 987.019 63.3162 978.293 Q63.3162 969.543 66.3717 964.959 Q69.4504 960.353 75.2606 960.353 Z\" fill=\"#000000\" fill-rule=\"evenodd\" fill-opacity=\"1\" /><path clip-path=\"url(#clip520)\" d=\"M 0 0 M92.2744 989.658 L97.1586 989.658 L97.1586 995.538 L92.2744 995.538 L92.2744 989.658 Z\" fill=\"#000000\" fill-rule=\"evenodd\" fill-opacity=\"1\" /><path clip-path=\"url(#clip520)\" d=\"M 0 0 M112.228 964.056 Q108.617 964.056 106.788 967.621 Q104.983 971.163 104.983 978.293 Q104.983 985.399 106.788 988.964 Q108.617 992.505 112.228 992.505 Q115.862 992.505 117.668 988.964 Q119.496 985.399 119.496 978.293 Q119.496 971.163 117.668 967.621 Q115.862 964.056 112.228 964.056 M112.228 960.353 Q118.038 960.353 121.094 964.959 Q124.172 969.543 124.172 978.293 Q124.172 987.019 121.094 991.626 Q118.038 996.209 112.228 996.209 Q106.418 996.209 103.339 991.626 Q100.284 987.019 100.284 978.293 Q100.284 969.543 103.339 964.959 Q106.418 960.353 112.228 960.353 Z\" fill=\"#000000\" fill-rule=\"evenodd\" fill-opacity=\"1\" /><path clip-path=\"url(#clip520)\" d=\"M 0 0 M139.82 976.394 Q136.672 976.394 134.82 978.547 Q132.992 980.7 132.992 984.45 Q132.992 988.177 134.82 990.353 Q136.672 992.505 139.82 992.505 Q142.969 992.505 144.797 990.353 Q146.649 988.177 146.649 984.45 Q146.649 980.7 144.797 978.547 Q142.969 976.394 139.82 976.394 M149.103 961.742 L149.103 966.001 Q147.344 965.168 145.538 964.728 Q143.756 964.288 141.996 964.288 Q137.367 964.288 134.913 967.413 Q132.482 970.538 132.135 976.857 Q133.501 974.843 135.561 973.779 Q137.621 972.691 140.098 972.691 Q145.306 972.691 148.316 975.862 Q151.348 979.01 151.348 984.45 Q151.348 989.774 148.2 992.992 Q145.052 996.209 139.82 996.209 Q133.825 996.209 130.654 991.626 Q127.483 987.019 127.483 978.293 Q127.483 970.098 131.371 965.237 Q135.26 960.353 141.811 960.353 Q143.57 960.353 145.353 960.7 Q147.158 961.047 149.103 961.742 Z\" fill=\"#000000\" fill-rule=\"evenodd\" fill-opacity=\"1\" /><path clip-path=\"url(#clip520)\" d=\"M 0 0 M75.5152 699.019 Q71.9041 699.019 70.0754 702.584 Q68.2699 706.126 68.2699 713.255 Q68.2699 720.362 70.0754 723.926 Q71.9041 727.468 75.5152 727.468 Q79.1494 727.468 80.955 723.926 Q82.7837 720.362 82.7837 713.255 Q82.7837 706.126 80.955 702.584 Q79.1494 699.019 75.5152 699.019 M75.5152 695.315 Q81.3254 695.315 84.3809 699.922 Q87.4596 704.505 87.4596 713.255 Q87.4596 721.982 84.3809 726.588 Q81.3254 731.172 75.5152 731.172 Q69.7051 731.172 66.6264 726.588 Q63.5708 721.982 63.5708 713.255 Q63.5708 704.505 66.6264 699.922 Q69.7051 695.315 75.5152 695.315 Z\" fill=\"#000000\" fill-rule=\"evenodd\" fill-opacity=\"1\" /><path clip-path=\"url(#clip520)\" d=\"M 0 0 M92.529 724.621 L97.4132 724.621 L97.4132 730.5 L92.529 730.5 L92.529 724.621 Z\" fill=\"#000000\" fill-rule=\"evenodd\" fill-opacity=\"1\" /><path clip-path=\"url(#clip520)\" d=\"M 0 0 M112.483 699.019 Q108.872 699.019 107.043 702.584 Q105.237 706.126 105.237 713.255 Q105.237 720.362 107.043 723.926 Q108.872 727.468 112.483 727.468 Q116.117 727.468 117.922 723.926 Q119.751 720.362 119.751 713.255 Q119.751 706.126 117.922 702.584 Q116.117 699.019 112.483 699.019 M112.483 695.315 Q118.293 695.315 121.348 699.922 Q124.427 704.505 124.427 713.255 Q124.427 721.982 121.348 726.588 Q118.293 731.172 112.483 731.172 Q106.672 731.172 103.594 726.588 Q100.538 721.982 100.538 713.255 Q100.538 704.505 103.594 699.922 Q106.672 695.315 112.483 695.315 Z\" fill=\"#000000\" fill-rule=\"evenodd\" fill-opacity=\"1\" /><path clip-path=\"url(#clip520)\" d=\"M 0 0 M139.496 714.088 Q136.163 714.088 134.242 715.871 Q132.344 717.653 132.344 720.778 Q132.344 723.903 134.242 725.686 Q136.163 727.468 139.496 727.468 Q142.83 727.468 144.751 725.686 Q146.672 723.88 146.672 720.778 Q146.672 717.653 144.751 715.871 Q142.853 714.088 139.496 714.088 M134.82 712.098 Q131.811 711.357 130.121 709.297 Q128.455 707.237 128.455 704.274 Q128.455 700.13 131.395 697.723 Q134.357 695.315 139.496 695.315 Q144.658 695.315 147.598 697.723 Q150.538 700.13 150.538 704.274 Q150.538 707.237 148.848 709.297 Q147.181 711.357 144.195 712.098 Q147.575 712.885 149.45 715.176 Q151.348 717.468 151.348 720.778 Q151.348 725.801 148.269 728.487 Q145.214 731.172 139.496 731.172 Q133.779 731.172 130.7 728.487 Q127.645 725.801 127.645 720.778 Q127.645 717.468 129.543 715.176 Q131.441 712.885 134.82 712.098 M133.107 704.713 Q133.107 707.399 134.774 708.903 Q136.464 710.408 139.496 710.408 Q142.506 710.408 144.195 708.903 Q145.908 707.399 145.908 704.713 Q145.908 702.028 144.195 700.524 Q142.506 699.019 139.496 699.019 Q136.464 699.019 134.774 700.524 Q133.107 702.028 133.107 704.713 Z\" fill=\"#000000\" fill-rule=\"evenodd\" fill-opacity=\"1\" /><path clip-path=\"url(#clip520)\" d=\"M 0 0 M76.6495 433.982 Q73.0384 433.982 71.2097 437.546 Q69.4041 441.088 69.4041 448.218 Q69.4041 455.324 71.2097 458.889 Q73.0384 462.431 76.6495 462.431 Q80.2837 462.431 82.0892 458.889 Q83.9179 455.324 83.9179 448.218 Q83.9179 441.088 82.0892 437.546 Q80.2837 433.982 76.6495 433.982 M76.6495 430.278 Q82.4596 430.278 85.5152 434.884 Q88.5938 439.468 88.5938 448.218 Q88.5938 456.945 85.5152 461.551 Q82.4596 466.134 76.6495 466.134 Q70.8393 466.134 67.7606 461.551 Q64.7051 456.945 64.7051 448.218 Q64.7051 439.468 67.7606 434.884 Q70.8393 430.278 76.6495 430.278 Z\" fill=\"#000000\" fill-rule=\"evenodd\" fill-opacity=\"1\" /><path clip-path=\"url(#clip520)\" d=\"M 0 0 M93.6633 459.583 L98.5475 459.583 L98.5475 465.463 L93.6633 465.463 L93.6633 459.583 Z\" fill=\"#000000\" fill-rule=\"evenodd\" fill-opacity=\"1\" /><path clip-path=\"url(#clip520)\" d=\"M 0 0 M104.427 461.528 L112.066 461.528 L112.066 435.162 L103.756 436.829 L103.756 432.57 L112.02 430.903 L116.696 430.903 L116.696 461.528 L124.334 461.528 L124.334 465.463 L104.427 465.463 L104.427 461.528 Z\" fill=\"#000000\" fill-rule=\"evenodd\" fill-opacity=\"1\" /><path clip-path=\"url(#clip520)\" d=\"M 0 0 M139.404 433.982 Q135.793 433.982 133.964 437.546 Q132.158 441.088 132.158 448.218 Q132.158 455.324 133.964 458.889 Q135.793 462.431 139.404 462.431 Q143.038 462.431 144.844 458.889 Q146.672 455.324 146.672 448.218 Q146.672 441.088 144.844 437.546 Q143.038 433.982 139.404 433.982 M139.404 430.278 Q145.214 430.278 148.269 434.884 Q151.348 439.468 151.348 448.218 Q151.348 456.945 148.269 461.551 Q145.214 466.134 139.404 466.134 Q133.594 466.134 130.515 461.551 Q127.459 456.945 127.459 448.218 Q127.459 439.468 130.515 434.884 Q133.594 430.278 139.404 430.278 Z\" fill=\"#000000\" fill-rule=\"evenodd\" fill-opacity=\"1\" /><path clip-path=\"url(#clip520)\" d=\"M 0 0 M78.2467 168.944 Q74.6356 168.944 72.8069 172.509 Q71.0013 176.051 71.0013 183.18 Q71.0013 190.287 72.8069 193.852 Q74.6356 197.393 78.2467 197.393 Q81.8809 197.393 83.6865 193.852 Q85.5152 190.287 85.5152 183.18 Q85.5152 176.051 83.6865 172.509 Q81.8809 168.944 78.2467 168.944 M78.2467 165.241 Q84.0568 165.241 87.1124 169.847 Q90.1911 174.43 90.1911 183.18 Q90.1911 191.907 87.1124 196.514 Q84.0568 201.097 78.2467 201.097 Q72.4365 201.097 69.3578 196.514 Q66.3023 191.907 66.3023 183.18 Q66.3023 174.43 69.3578 169.847 Q72.4365 165.241 78.2467 165.241 Z\" fill=\"#000000\" fill-rule=\"evenodd\" fill-opacity=\"1\" /><path clip-path=\"url(#clip520)\" d=\"M 0 0 M95.2605 194.546 L100.145 194.546 L100.145 200.426 L95.2605 200.426 L95.2605 194.546 Z\" fill=\"#000000\" fill-rule=\"evenodd\" fill-opacity=\"1\" /><path clip-path=\"url(#clip520)\" d=\"M 0 0 M106.024 196.49 L113.663 196.49 L113.663 170.125 L105.353 171.791 L105.353 167.532 L113.617 165.866 L118.293 165.866 L118.293 196.49 L125.932 196.49 L125.932 200.426 L106.024 200.426 L106.024 196.49 Z\" fill=\"#000000\" fill-rule=\"evenodd\" fill-opacity=\"1\" /><path clip-path=\"url(#clip520)\" d=\"M 0 0 M135.029 196.49 L151.348 196.49 L151.348 200.426 L129.404 200.426 L129.404 196.49 Q132.066 193.736 136.649 189.106 Q141.256 184.453 142.436 183.111 Q144.682 180.588 145.561 178.852 Q146.464 177.092 146.464 175.403 Q146.464 172.648 144.519 170.912 Q142.598 169.176 139.496 169.176 Q137.297 169.176 134.844 169.94 Q132.413 170.704 129.635 172.254 L129.635 167.532 Q132.459 166.398 134.913 165.819 Q137.367 165.241 139.404 165.241 Q144.774 165.241 147.969 167.926 Q151.163 170.611 151.163 175.102 Q151.163 177.231 150.353 179.153 Q149.566 181.051 147.459 183.643 Q146.881 184.315 143.779 187.532 Q140.677 190.727 135.029 196.49 Z\" fill=\"#000000\" fill-rule=\"evenodd\" fill-opacity=\"1\" /><polyline clip-path=\"url(#clip522)\" style=\"stroke:#009af9; stroke-width:4; stroke-opacity:1; fill:none\" points=\"\n",
       "  236.973,594.088 239.029,615.763 241.085,617.361 243.142,654.134 245.198,675.764 247.254,643.257 249.31,656.807 251.366,686.387 253.423,674.832 255.479,637.111 \n",
       "  257.535,634.434 259.591,619.111 261.647,641.149 263.704,678.783 265.76,641.895 267.816,647.784 269.872,610.258 271.929,586.204 273.985,587.781 276.041,579.16 \n",
       "  278.097,608.114 280.153,638.804 282.21,636.879 284.266,630.075 286.322,637.903 288.378,655.682 290.434,657.776 292.491,663.823 294.547,660.266 296.603,656.811 \n",
       "  298.659,672.85 300.716,654.356 302.772,665.268 304.828,676.172 306.884,669.819 308.94,625.802 310.997,605.353 313.053,584.491 315.109,583.01 317.165,577.411 \n",
       "  319.221,556.51 321.278,579.908 323.334,610.59 325.39,599.309 327.446,606.181 329.503,573.547 331.559,598.349 333.615,643.609 335.671,629.371 337.727,588.543 \n",
       "  339.784,568.253 341.84,595.196 343.896,598.402 345.952,563.958 348.008,586.878 350.065,576.226 352.121,598.593 354.177,616.512 356.233,611.457 358.29,602.985 \n",
       "  360.346,590.162 362.402,560.243 364.458,577.802 366.514,574.487 368.571,521.519 370.627,523.959 372.683,474.072 374.739,442.276 376.795,440.449 378.852,456.606 \n",
       "  380.908,457.289 382.964,457.938 385.02,486.961 387.077,493.408 389.133,489.399 391.189,521.872 393.245,536.848 395.301,501.993 397.358,534.023 399.414,561.221 \n",
       "  401.47,578.943 403.526,547.21 405.582,550.213 407.639,539.355 409.695,556.895 411.751,545.4 413.807,547.426 415.864,491.265 417.92,497.996 419.976,471.74 \n",
       "  422.032,443.032 424.088,476.154 426.145,465.678 428.201,443.915 430.257,417.175 432.313,468.478 434.369,471.515 436.426,469.661 438.482,454.258 440.538,399.073 \n",
       "  442.594,397.37 444.651,414.813 446.707,372.27 448.763,337.793 450.819,350.661 452.875,351.876 454.932,363.191 456.988,346.96 459.044,352.168 461.1,302.228 \n",
       "  463.156,313.766 465.213,327.901 467.269,312.961 469.325,278.483 471.381,273.814 473.438,315.13 475.494,295.696 477.55,330.587 479.606,308.614 481.662,272.381 \n",
       "  483.719,252.609 485.775,220.322 487.831,267.151 489.887,247.562 491.943,237.061 494,209.605 496.056,212.26 498.112,183.95 500.168,192.594 502.225,198.574 \n",
       "  504.281,156.614 506.337,158.495 508.393,170.635 510.449,153.336 512.506,152.864 514.562,198.213 516.618,185.437 518.674,222.902 520.73,244.601 522.787,248.445 \n",
       "  524.843,230.762 526.899,238.98 528.955,223.523 531.012,173.485 533.068,190.629 535.124,179.4 537.18,222.658 539.236,233.362 541.293,242.924 543.349,231.738 \n",
       "  545.405,216.44 547.461,270.393 549.517,271.455 551.574,268.206 553.63,272.18 555.686,249.938 557.742,267.761 559.799,278.052 561.855,288.818 563.911,283.675 \n",
       "  565.967,313.999 568.023,283.352 570.08,287.479 572.136,253.153 574.192,219.358 576.248,200.522 578.304,246.878 580.361,265.713 582.417,278.248 584.473,268.801 \n",
       "  586.529,249.468 588.586,275.047 590.642,286.724 592.698,273.497 594.754,246.197 596.81,270.928 598.867,293.501 600.923,266.149 602.979,226.694 605.035,225.912 \n",
       "  607.091,184.471 609.148,186.029 611.204,181.787 613.26,188.405 615.316,170.212 617.373,153.417 619.429,144.117 621.485,130.114 623.541,143.593 625.597,111.242 \n",
       "  627.654,131.635 629.71,107.942 631.766,122.847 633.822,135.696 635.878,101.974 637.935,112.992 639.991,116.279 642.047,98.0997 644.103,87.9763 646.16,114.503 \n",
       "  648.216,133.824 650.272,181.658 652.328,184.247 654.384,177.742 656.441,205.32 658.497,209.594 660.553,200.065 662.609,240.139 664.665,260.675 666.722,256.84 \n",
       "  668.778,247.735 670.834,223.295 672.89,222.972 674.947,213.013 677.003,237.164 679.059,267.713 681.115,265.741 683.171,259.518 685.228,261.744 687.284,255.872 \n",
       "  689.34,321.048 691.396,298.447 693.452,302.452 695.509,269.438 697.565,230.961 699.621,220.42 701.677,249.515 703.734,265.163 705.79,257.65 707.846,302.576 \n",
       "  709.902,317.331 711.958,264.347 714.015,268.723 716.071,266.424 718.127,285.079 720.183,242.829 722.24,201.692 724.296,203.681 726.352,200.447 728.408,181.712 \n",
       "  730.464,190.107 732.521,221.759 734.577,245.574 736.633,261.554 738.689,240.855 740.745,256.62 742.802,229.162 744.858,219.948 746.914,225.484 748.97,223.737 \n",
       "  751.027,255.645 753.083,262.61 755.139,249.267 757.195,245.544 759.251,252.26 761.308,238.725 763.364,250.38 765.42,287.266 767.476,286.698 769.532,270.169 \n",
       "  771.589,277.896 773.645,282.244 775.701,285.77 777.757,237.303 779.814,220.996 781.87,258.923 783.926,288.358 785.982,266.758 788.038,291.23 790.095,325.733 \n",
       "  792.151,348.681 794.207,353.424 796.263,333.194 798.319,322.096 800.376,304.816 802.432,334.909 804.488,409.122 806.544,420.724 808.601,429.888 810.657,462.285 \n",
       "  812.713,470.325 814.769,499.265 816.825,500.153 818.882,510.275 820.938,502.781 822.994,486.906 825.05,508.145 827.106,517.12 829.163,513.251 831.219,499.556 \n",
       "  833.275,528.609 835.331,525.842 837.388,532.629 839.444,533.18 841.5,543.782 843.556,533.926 845.612,547.686 847.669,534.92 849.725,503.436 851.781,496.856 \n",
       "  853.837,507.675 855.893,499.678 857.95,501.846 860.006,477.01 862.062,458.336 864.118,453.609 866.175,442.106 868.231,432.902 870.287,453.736 872.343,444.144 \n",
       "  874.399,439.964 876.456,422.232 878.512,412.203 880.568,400.663 882.624,391.243 884.68,414.482 886.737,418.562 888.793,392.911 890.849,423.394 892.905,408.445 \n",
       "  894.962,396.688 897.018,433.183 899.074,459.363 901.13,455.644 903.186,459.1 905.243,455.209 907.299,489.094 909.355,514.588 911.411,548.034 913.467,562.427 \n",
       "  915.524,563.383 917.58,555.544 919.636,541.089 921.692,535.232 923.749,511.231 925.805,519.943 927.861,521.112 929.917,527.692 931.973,536.639 934.03,524.296 \n",
       "  936.086,462.873 938.142,458.722 940.198,460.522 942.254,506.613 944.311,481.124 946.367,482.854 948.423,417.559 950.479,449.511 952.536,448.463 954.592,418.981 \n",
       "  956.648,437.88 958.704,435.109 960.76,417.329 962.817,416.655 964.873,396.34 966.929,391.186 968.985,374.352 971.041,403.287 973.098,399.011 975.154,421.033 \n",
       "  977.21,403.523 979.266,414.853 981.323,384.824 983.379,360.745 985.435,378.781 987.491,380.053 989.547,339.286 991.604,361.724 993.66,385.321 995.716,399.044 \n",
       "  997.772,448.83 999.828,434.641 1001.88,448.588 1003.94,469.806 1006,493.051 1008.05,519.202 1010.11,555.821 1012.17,552.252 1014.22,536.684 1016.28,535.965 \n",
       "  1018.33,588.581 1020.39,593.042 1022.45,523.318 1024.5,494.775 1026.56,481.793 1028.62,461.321 1030.67,478.627 1032.73,479.54 1034.78,486.375 1036.84,498.416 \n",
       "  1038.9,485.719 1040.95,462.265 1043.01,470.26 1045.07,485.438 1047.12,524.577 1049.18,520.024 1051.23,515.67 1053.29,494.239 1055.35,485.093 1057.4,491.467 \n",
       "  1059.46,517.127 1061.51,504.286 1063.57,528.054 1065.63,546.884 1067.68,575.498 1069.74,560.496 1071.8,568.495 1073.85,609.699 1075.91,604.047 1077.96,614.152 \n",
       "  1080.02,607.422 1082.08,659.173 1084.13,648.41 1086.19,667.439 1088.25,665.638 1090.3,655.648 1092.36,683.94 1094.41,721.901 1096.47,727.038 1098.53,695.043 \n",
       "  1100.58,703.991 1102.64,722.189 1104.7,724.815 1106.75,705.39 1108.81,717.072 1110.86,743.656 1112.92,730.794 1114.98,733.149 1117.03,742.487 1119.09,718.04 \n",
       "  1121.15,725.666 1123.2,685.631 1125.26,692.017 1127.31,706.925 1129.37,714.228 1131.43,742.454 1133.48,748.854 1135.54,753.159 1137.59,730.381 1139.65,728.37 \n",
       "  1141.71,686.516 1143.76,675.876 1145.82,714.57 1147.88,677.444 1149.93,676.571 1151.99,682.139 1154.04,698.055 1156.1,715.742 1158.16,750.26 1160.21,764.737 \n",
       "  1162.27,769.589 1164.33,794.897 1166.38,801.818 1168.44,782.715 1170.49,781.242 1172.55,766.171 1174.61,768.801 1176.66,752.578 1178.72,733.273 1180.78,779.737 \n",
       "  1182.83,762.228 1184.89,767.385 1186.94,759.766 1189,764.875 1191.06,765.389 1193.11,769.196 1195.17,777.345 1197.23,763.603 1199.28,750.512 1201.34,732.838 \n",
       "  1203.39,706.014 1205.45,686.725 1207.51,740.027 1209.56,741.702 1211.62,744.399 1213.67,715.293 1215.73,663.534 1217.79,676.267 1219.84,706.609 1221.9,705.254 \n",
       "  1223.96,693.307 1226.01,654.114 1228.07,649.304 1230.12,681.218 1232.18,687.258 1234.24,685.992 1236.29,710.503 1238.35,710.676 1240.41,736.053 1242.46,735.45 \n",
       "  1244.52,756.294 1246.57,737.46 1248.63,729.769 1250.69,735.975 1252.74,774.603 1254.8,768.893 1256.86,757.709 1258.91,794.169 1260.97,792.428 1263.02,768.775 \n",
       "  1265.08,759.871 1267.14,756.046 1269.19,761.324 1271.25,735.109 1273.3,738.781 1275.36,697.119 1277.42,679.528 1279.47,681.726 1281.53,665.991 1283.59,651.689 \n",
       "  1285.64,639.249 1287.7,675.587 1289.75,692.809 1291.81,736.853 1293.87,749.183 1295.92,764.618 1297.98,736.88 1300.04,715.846 1302.09,715.297 1304.15,703.762 \n",
       "  1306.2,747.583 1308.26,749.035 1310.32,703.945 1312.37,697.556 1314.43,719.385 1316.49,718.657 1318.54,721.692 1320.6,698.189 1322.65,683.299 1324.71,688.244 \n",
       "  1326.77,679.298 1328.82,655.186 1330.88,660.077 1332.94,667.817 1334.99,705.771 1337.05,738.684 1339.1,711.709 1341.16,732.52 1343.22,750.626 1345.27,761.047 \n",
       "  1347.33,810.637 1349.38,816.909 1351.44,796.413 1353.5,788.282 1355.55,798.972 1357.61,795.042 1359.67,796.566 1361.72,786.175 1363.78,802.221 1365.83,823.227 \n",
       "  1367.89,863.127 1369.95,859.668 1372,841.078 1374.06,832.306 1376.12,816.834 1378.17,795.666 1380.23,782.23 1382.28,791.58 1384.34,775.729 1386.4,806.639 \n",
       "  1388.45,804.643 1390.51,785.212 1392.57,820.861 1394.62,795.301 1396.68,801.033 1398.73,785.667 1400.79,781.45 1402.85,779.607 1404.9,768.954 1406.96,811.213 \n",
       "  1409.02,792.845 1411.07,749.068 1413.13,744.833 1415.18,768.884 1417.24,806.422 1419.3,822.345 1421.35,805.385 1423.41,815.871 1425.46,794.04 1427.52,799.204 \n",
       "  1429.58,801.678 1431.63,804.933 1433.69,813.902 1435.75,809.739 1437.8,843.643 1439.86,847.471 1441.91,846.317 1443.97,866.71 1446.03,834.438 1448.08,836.929 \n",
       "  1450.14,869.407 1452.2,854.834 1454.25,825.747 1456.31,835.72 1458.36,843.948 1460.42,797.959 1462.48,836.012 1464.53,815.674 1466.59,780.459 1468.65,829.259 \n",
       "  1470.7,824.305 1472.76,806.861 1474.81,848.321 1476.87,842.028 1478.93,821.268 1480.98,865.308 1483.04,846.738 1485.1,836.101 1487.15,822.167 1489.21,834.095 \n",
       "  1491.26,854.534 1493.32,885.329 1495.38,861.275 1497.43,856.837 1499.49,852.471 1501.54,863.267 1503.6,857.071 1505.66,906.965 1507.71,911.322 1509.77,897.562 \n",
       "  1511.83,873.512 1513.88,906.326 1515.94,884.245 1517.99,863.92 1520.05,847.644 1522.11,829.513 1524.16,791.982 1526.22,806.862 1528.28,768.093 1530.33,761.987 \n",
       "  1532.39,760.411 1534.44,760.767 1536.5,795.132 1538.56,775.271 1540.61,794.584 1542.67,755.622 1544.73,793.86 1546.78,789.266 1548.84,775.767 1550.89,779.683 \n",
       "  1552.95,764.293 1555.01,774.534 1557.06,758.861 1559.12,789.219 1561.18,774.425 1563.23,771.864 1565.29,754.172 1567.34,746.99 1569.4,748.084 1571.46,767.121 \n",
       "  1573.51,780.763 1575.57,760.594 1577.62,747.473 1579.68,729.889 1581.74,733.16 1583.79,729.77 1585.85,761.224 1587.91,764.834 1589.96,774.023 1592.02,767.815 \n",
       "  1594.07,752.049 1596.13,755.789 1598.19,761.06 1600.24,754.663 1602.3,713.478 1604.36,714.343 1606.41,715.526 1608.47,710.416 1610.52,760.209 1612.58,788.602 \n",
       "  1614.64,811.344 1616.69,785.746 1618.75,807.649 1620.81,831.074 1622.86,799.408 1624.92,790.574 1626.97,754.711 1629.03,700.632 1631.09,681.98 1633.14,664.478 \n",
       "  1635.2,624.23 1637.25,646.058 1639.31,655.533 1641.37,639.012 1643.42,671.278 1645.48,663.629 1647.54,657.613 1649.59,630.273 1651.65,654.805 1653.7,694.583 \n",
       "  1655.76,706.952 1657.82,670.013 1659.87,665.317 1661.93,668.466 1663.99,658.865 1666.04,673.681 1668.1,669.538 1670.15,657.619 1672.21,670.005 1674.27,660.152 \n",
       "  1676.32,646.7 1678.38,656.867 1680.44,675.271 1682.49,688.029 1684.55,712.721 1686.6,738.998 1688.66,736.68 1690.72,694.773 1692.77,665.91 1694.83,672.956 \n",
       "  1696.89,683.277 1698.94,717.918 1701,705.943 1703.05,679.884 1705.11,703.184 1707.17,648.457 1709.22,653.738 1711.28,624.527 1713.33,627.82 1715.39,605.092 \n",
       "  1717.45,603.89 1719.5,616.71 1721.56,641.722 1723.62,588.329 1725.67,608.005 1727.73,619.147 1729.78,632.585 1731.84,629.628 1733.9,606.424 1735.95,622.019 \n",
       "  1738.01,615.952 1740.07,636.49 1742.12,630.724 1744.18,665.565 1746.23,721.183 1748.29,731.949 1750.35,763.725 1752.4,734.952 1754.46,755.734 1756.52,734.47 \n",
       "  1758.57,714.69 1760.63,743.023 1762.68,767.752 1764.74,805.865 1766.8,810.988 1768.85,750.461 1770.91,756.011 1772.97,752.494 1775.02,752.319 1777.08,728.157 \n",
       "  1779.13,726.164 1781.19,707.006 1783.25,707.929 1785.3,715.979 1787.36,750.631 1789.41,751.168 1791.47,713.228 1793.53,713.221 1795.58,744.446 1797.64,759.079 \n",
       "  1799.7,696.873 1801.75,701.653 1803.81,715.509 1805.86,745.927 1807.92,812.649 1809.98,783.187 1812.03,818.176 1814.09,827.926 1816.15,838.298 1818.2,836.419 \n",
       "  1820.26,882.911 1822.31,871.208 1824.37,861.744 1826.43,868.714 1828.48,865.037 1830.54,873.262 1832.6,890.993 1834.65,922.875 1836.71,951.694 1838.76,1020.61 \n",
       "  1840.82,1053.77 1842.88,1013.86 1844.93,984.583 1846.99,967.141 1849.05,963.388 1851.1,981.257 1853.16,949.476 1855.21,951.287 1857.27,940.02 1859.33,874.879 \n",
       "  1861.38,842.001 1863.44,840.993 1865.49,824.346 1867.55,821.18 1869.61,820.558 1871.66,832.042 1873.72,841.981 1875.78,893.852 1877.83,929.418 1879.89,898.455 \n",
       "  1881.94,874.1 1884,863.105 1886.06,868.659 1888.11,815.032 1890.17,786.234 1892.23,779.136 1894.28,802.109 1896.34,817.984 1898.39,805.433 1900.45,822.043 \n",
       "  1902.51,797.723 1904.56,767.921 1906.62,825.045 1908.68,825.837 1910.73,819.472 1912.79,809.876 1914.84,791.411 1916.9,796.249 1918.96,837.299 1921.01,853.829 \n",
       "  1923.07,833.132 1925.12,834.618 1927.18,819.696 1929.24,819.224 1931.29,817.708 1933.35,825.258 1935.41,835.708 1937.46,868.419 1939.52,939.263 1941.57,915.048 \n",
       "  1943.63,890.899 1945.69,925.597 1947.74,927.464 1949.8,953.543 1951.86,946.496 1953.91,941.014 1955.97,911.252 1958.02,926.87 1960.08,895.981 1962.14,892.651 \n",
       "  1964.19,884.055 1966.25,852.647 1968.31,840.811 1970.36,817.336 1972.42,787.547 1974.47,801.346 1976.53,826.973 1978.59,875.761 1980.64,929.092 1982.7,959.503 \n",
       "  1984.76,917.779 1986.81,905.015 1988.87,921.979 1990.92,948.687 1992.98,942.186 1995.04,958.876 1997.09,997.486 1999.15,1031.22 2001.2,1029.42 2003.26,1048.23 \n",
       "  2005.32,1055.95 2007.37,1056.08 2009.43,1033.48 2011.49,1015 2013.54,998.345 2015.6,970.362 2017.65,954.644 2019.71,980.133 2021.77,985.629 2023.82,1003.52 \n",
       "  2025.88,1000.6 2027.94,1009.37 2029.99,1035.76 2032.05,1065.14 2034.1,1065.07 2036.16,1061.65 2038.22,1074.67 2040.27,1116 2042.33,1145.72 2044.39,1112.89 \n",
       "  2046.44,1136.9 2048.5,1191.26 2050.55,1167.85 2052.61,1180.66 2054.67,1187.41 2056.72,1188.63 2058.78,1187.48 2060.84,1219.36 2062.89,1218.75 2064.95,1150.12 \n",
       "  2067,1147.04 2069.06,1158.02 2071.12,1168.46 2073.17,1160.81 2075.23,1188.14 2077.28,1183.93 2079.34,1176.14 2081.4,1178.88 2083.45,1190.78 2085.51,1176.38 \n",
       "  2087.57,1119.79 2089.62,1146.58 2091.68,1192 2093.73,1209.51 2095.79,1200.49 2097.85,1183.76 2099.9,1211.31 2101.96,1238.37 2104.02,1253.15 2106.07,1215.63 \n",
       "  2108.13,1206.29 2110.18,1254.22 2112.24,1246.74 2114.3,1241.62 2116.35,1248.09 2118.41,1234.98 2120.47,1196.95 2122.52,1177.46 2124.58,1212.26 2126.63,1199.65 \n",
       "  2128.69,1224.24 2130.75,1227.57 2132.8,1221.71 2134.86,1267.82 2136.92,1279.9 2138.97,1282.85 2141.03,1292.93 2143.08,1270.9 2145.14,1296.45 2147.2,1289.61 \n",
       "  2149.25,1303.9 2151.31,1309.03 2153.36,1284.05 2155.42,1324.28 2157.48,1331.56 2159.53,1343.07 2161.59,1356.62 2163.65,1343.05 2165.7,1322.65 2167.76,1310.93 \n",
       "  2169.81,1298 2171.87,1264.2 2173.93,1227.07 2175.98,1225.39 2178.04,1278.55 2180.1,1319.4 2182.15,1331.27 2184.21,1299.88 2186.26,1269.37 2188.32,1272.81 \n",
       "  2190.38,1259.92 2192.43,1265.27 2194.49,1270.59 2196.55,1231.4 2198.6,1180.16 2200.66,1210.14 2202.71,1247.13 2204.77,1247.93 2206.83,1243.61 2208.88,1244.21 \n",
       "  2210.94,1268.01 2213,1278.26 2215.05,1232.09 2217.11,1223.07 2219.16,1219.47 2221.22,1217.79 2223.28,1241.83 2225.33,1230.78 2227.39,1298.05 2229.44,1311.18 \n",
       "  2231.5,1319.88 2233.56,1322.23 2235.61,1346.92 2237.67,1344.6 2239.73,1262.2 2241.78,1311.81 2243.84,1294.64 2245.89,1307.49 2247.95,1305.93 2250.01,1324.38 \n",
       "  2252.06,1375.14 2254.12,1385.3 2256.18,1379.73 2258.23,1409.49 2260.29,1445.72 2262.34,1412.94 2264.4,1383.9 2266.46,1414.84 2268.51,1366.66 2270.57,1366.36 \n",
       "  2272.63,1345 2274.68,1371.61 2276.74,1380.2 2278.79,1338.82 2280.85,1348.32 2282.91,1341.22 2284.96,1372.57 2287.02,1384.54 2289.07,1427.85 2291.13,1427.28 \n",
       "  \n",
       "  \"/>\n",
       "<path clip-path=\"url(#clip522)\" d=\"\n",
       "M255.479 654.719 L257.535 639.886 L259.591 674.466 L261.647 663.349 L263.704 639.176 L265.76 642.631 L267.816 660.795 L269.872 562.402 L271.929 439.995 L273.985 649.639 \n",
       "  L276.041 646.834 L278.097 645.285 L280.153 654.748 L282.21 694.759 L284.266 646.405 L286.322 668.929 L288.378 644.975 L290.434 614.011 L292.491 646.48 L294.547 620.603 \n",
       "  L296.603 658.409 L298.659 668.648 L300.716 659.554 L302.772 589.33 L304.828 659.519 L306.884 573.035 L308.94 652.204 L310.997 651.456 L313.053 643.851 L315.109 666.734 \n",
       "  L317.165 635.626 L319.221 651.152 L321.278 505.904 L323.334 636.24 L325.39 635.922 L327.446 641.823 L329.503 683.336 L331.559 664.643 L333.615 651.696 L335.671 634.425 \n",
       "  L337.727 634.221 L339.784 666.842 L341.84 633.825 L343.896 649.005 L345.952 629.25 L348.008 521.071 L350.065 651.779 L352.121 663.375 L354.177 653.52 L356.233 640.455 \n",
       "  L358.29 650.158 L360.346 681.395 L362.402 655.262 L364.458 512.232 L366.514 642.813 L368.571 506.855 L370.627 661.237 L372.683 653.503 L374.739 656.564 L376.795 649.704 \n",
       "  L378.852 647.976 L380.908 653.675 L382.964 658.038 L385.02 731.21 L387.077 644.496 L389.133 659.637 L391.189 638.559 L393.245 643.024 L395.301 638.439 L397.358 615.117 \n",
       "  L399.414 532.915 L401.47 654.943 L403.526 657.292 L405.582 668.608 L407.639 647.855 L409.695 675.222 L411.751 637.351 L413.807 623.498 L415.864 615.871 L417.92 672.073 \n",
       "  L419.976 642.892 L422.032 677.445 L424.088 641.564 L426.145 634.745 L428.201 652.08 L430.257 649.566 L432.313 637.297 L434.369 654.18 L436.426 649.73 L438.482 654.232 \n",
       "  L440.538 760.678 L442.594 643.572 L444.651 650.029 L446.707 665.019 L448.763 594.138 L450.819 655.211 L452.875 722.896 L454.932 655.509 L456.988 637.436 L459.044 656.835 \n",
       "  L461.1 666.023 L463.156 595.553 L465.213 613.131 L467.269 626.538 L469.325 603.134 L471.381 650.865 L473.438 641.279 L475.494 635.571 L477.55 667.01 L479.606 656.544 \n",
       "  L481.662 666.282 L483.719 557.517 L485.775 646.342 L487.831 645.271 L489.887 670.991 L491.943 641.175 L494 643.048 L496.056 623.947 L498.112 703.941 L500.168 608.506 \n",
       "  L502.225 630.346 L504.281 642.485 L506.337 661.903 L508.393 651.46 L510.449 647.894 L512.506 662.376 L514.562 640.815 L516.618 639.91 L518.674 665.252 L520.73 444.695 \n",
       "  L522.787 641.481 L522.787 525.719 L520.73 367.203 L518.674 485.926 L516.618 499.582 L514.562 482.39 L512.506 521.64 L510.449 513.854 L508.393 511.283 L506.337 518.532 \n",
       "  L504.281 502.195 L502.225 534.638 L500.168 498.995 L498.112 698.445 L496.056 515.352 L494 508.322 L491.943 565.535 L489.887 514.367 L487.831 519.415 L485.775 519.617 \n",
       "  L483.719 528.38 L481.662 528.821 L479.606 518.862 L477.55 588.371 L475.494 517.978 L473.438 512.039 L471.381 529.329 L469.325 510.554 L467.269 515.151 L465.213 578.693 \n",
       "  L463.156 549.386 L461.1 516.249 L459.044 534.172 L456.988 600.241 L454.932 509.868 L452.875 659.83 L450.819 516.314 L448.763 539.07 L446.707 516.172 L444.651 517.133 \n",
       "  L442.594 516.615 L440.538 739.944 L438.482 505.319 L436.426 497.795 L434.369 520.33 L432.313 517.047 L430.257 523.064 L428.201 520.184 L426.145 513.104 L424.088 532.053 \n",
       "  L422.032 496.716 L419.976 526.239 L417.92 643.449 L415.864 555.871 L413.807 579.126 L411.751 517.005 L409.695 527.88 L407.639 520.492 L405.582 495.225 L403.526 525.378 \n",
       "  L401.47 520.352 L399.414 472.3 L397.358 558.764 L395.301 512.88 L393.245 525.206 L391.189 524.037 L389.133 536.407 L387.077 512.22 L385.02 692.067 L382.964 522.168 \n",
       "  L380.908 510.84 L378.852 512.095 L376.795 521.682 L374.739 491.054 L372.683 518.394 L370.627 646.112 L368.571 459.038 L366.514 513.167 L364.458 490.225 L362.402 508.26 \n",
       "  L360.346 492.102 L358.29 526.314 L356.233 534.35 L354.177 504.694 L352.121 528.88 L350.065 505.01 L348.008 493.457 L345.952 508.524 L343.896 515.904 L341.84 510.572 \n",
       "  L339.784 500.894 L337.727 524.056 L335.671 510.48 L333.615 528.671 L331.559 518.922 L329.503 553.682 L327.446 520.543 L325.39 523.278 L323.334 559.522 L321.278 417.756 \n",
       "  L319.221 530.241 L317.165 509.52 L315.109 529.335 L313.053 539.995 L310.997 529.314 L308.94 515.913 L306.884 542.163 L304.828 510.29 L302.772 498.048 L300.716 520.811 \n",
       "  L298.659 506.784 L296.603 508.27 L294.547 556.258 L292.491 509.35 L290.434 540.479 L288.378 509.041 L286.322 511.377 L284.266 514.547 L282.21 614.107 L280.153 515.81 \n",
       "  L278.097 511.432 L276.041 593.128 L273.985 500.61 L271.929 401.919 L269.872 499.287 L267.816 520.339 L265.76 520.035 L263.704 519.185 L261.647 511.962 L259.591 498.446 \n",
       "  L257.535 515.584 L255.479 520.017  Z\n",
       "  \" fill=\"#e26f46\" fill-rule=\"evenodd\" fill-opacity=\"0.5\"/>\n",
       "<polyline clip-path=\"url(#clip522)\" style=\"stroke:#e26f46; stroke-width:4; stroke-opacity:1; fill:none\" points=\"\n",
       "  255.479,587.368 257.535,577.735 259.591,586.456 261.647,587.655 263.704,579.181 265.76,581.333 267.816,590.567 269.872,530.844 271.929,420.957 273.985,575.125 \n",
       "  276.041,619.981 278.097,578.358 280.153,585.279 282.21,654.433 284.266,580.476 286.322,590.153 288.378,577.008 290.434,577.245 292.491,577.915 294.547,588.43 \n",
       "  296.603,583.339 298.659,587.716 300.716,590.182 302.772,543.689 304.828,584.905 306.884,557.599 308.94,584.058 310.997,590.385 313.053,591.923 315.109,598.035 \n",
       "  317.165,572.573 319.221,590.697 321.278,461.83 323.334,597.881 325.39,579.6 327.446,581.183 329.503,618.509 331.559,591.783 333.615,590.184 335.671,572.453 \n",
       "  337.727,579.139 339.784,583.868 341.84,572.198 343.896,582.454 345.952,568.887 348.008,507.264 350.065,578.395 352.121,596.127 354.177,579.107 356.233,587.402 \n",
       "  358.29,588.236 360.346,586.749 362.402,581.761 364.458,501.228 366.514,577.99 368.571,482.946 370.627,653.674 372.683,585.948 374.739,573.809 376.795,585.693 \n",
       "  378.852,580.035 380.908,582.258 382.964,590.103 385.02,711.638 387.077,578.358 389.133,598.022 391.189,581.298 393.245,584.115 395.301,575.659 397.358,586.941 \n",
       "  399.414,502.607 401.47,587.647 403.526,591.335 405.582,581.916 407.639,584.173 409.695,601.551 411.751,577.178 413.807,601.312 415.864,585.871 417.92,657.761 \n",
       "  419.976,584.565 422.032,587.081 424.088,586.808 426.145,573.924 428.201,586.132 430.257,586.315 432.313,577.172 434.369,587.255 436.426,573.763 438.482,579.775 \n",
       "  440.538,750.311 442.594,580.094 444.651,583.581 446.707,590.595 448.763,566.604 450.819,585.763 452.875,691.363 454.932,582.688 456.988,618.839 459.044,595.503 \n",
       "  461.1,591.136 463.156,572.47 465.213,595.912 467.269,570.845 469.325,556.844 471.381,590.097 473.438,576.659 475.494,576.775 477.55,627.69 479.606,587.703 \n",
       "  481.662,597.551 483.719,542.949 485.775,582.98 487.831,582.343 489.887,592.679 491.943,603.355 494,575.685 496.056,569.649 498.112,701.193 500.168,553.75 \n",
       "  502.225,582.492 504.281,572.34 506.337,590.218 508.393,581.372 510.449,580.874 512.506,592.008 514.562,561.602 516.618,569.746 518.674,575.589 520.73,405.949 \n",
       "  522.787,583.6 \n",
       "  \"/>\n",
       "<path clip-path=\"url(#clip520)\" d=\"\n",
       "M1989.74 312.204 L2280.76 312.204 L2280.76 130.764 L1989.74 130.764  Z\n",
       "  \" fill=\"#ffffff\" fill-rule=\"evenodd\" fill-opacity=\"1\"/>\n",
       "<polyline clip-path=\"url(#clip520)\" style=\"stroke:#000000; stroke-width:4; stroke-opacity:1; fill:none\" points=\"\n",
       "  1989.74,312.204 2280.76,312.204 2280.76,130.764 1989.74,130.764 1989.74,312.204 \n",
       "  \"/>\n",
       "<polyline clip-path=\"url(#clip520)\" style=\"stroke:#009af9; stroke-width:4; stroke-opacity:1; fill:none\" points=\"\n",
       "  2013.74,191.244 2157.74,191.244 \n",
       "  \"/>\n",
       "<path clip-path=\"url(#clip520)\" d=\"M 0 0 M2195.58 210.931 Q2193.77 215.561 2192.06 216.973 Q2190.35 218.385 2187.48 218.385 L2184.08 218.385 L2184.08 214.82 L2186.58 214.82 Q2188.33 214.82 2189.31 213.987 Q2190.28 213.154 2191.46 210.052 L2192.22 208.107 L2181.74 182.598 L2186.25 182.598 L2194.35 202.876 L2202.46 182.598 L2206.97 182.598 L2195.58 210.931 Z\" fill=\"#000000\" fill-rule=\"evenodd\" fill-opacity=\"1\" /><path clip-path=\"url(#clip520)\" d=\"M 0 0 M2212.85 204.589 L2220.49 204.589 L2220.49 178.223 L2212.18 179.89 L2212.18 175.631 L2220.44 173.964 L2225.12 173.964 L2225.12 204.589 L2232.76 204.589 L2232.76 208.524 L2212.85 208.524 L2212.85 204.589 Z\" fill=\"#000000\" fill-rule=\"evenodd\" fill-opacity=\"1\" /><polyline clip-path=\"url(#clip520)\" style=\"stroke:#e26f46; stroke-width:4; stroke-opacity:1; fill:none\" points=\"\n",
       "  2013.74,251.724 2157.74,251.724 \n",
       "  \"/>\n",
       "<path clip-path=\"url(#clip520)\" d=\"M 0 0 M2195.58 271.411 Q2193.77 276.041 2192.06 277.453 Q2190.35 278.865 2187.48 278.865 L2184.08 278.865 L2184.08 275.3 L2186.58 275.3 Q2188.33 275.3 2189.31 274.467 Q2190.28 273.634 2191.46 270.532 L2192.22 268.587 L2181.74 243.078 L2186.25 243.078 L2194.35 263.356 L2202.46 243.078 L2206.97 243.078 L2195.58 271.411 Z\" fill=\"#000000\" fill-rule=\"evenodd\" fill-opacity=\"1\" /><path clip-path=\"url(#clip520)\" d=\"M 0 0 M2216.07 265.069 L2232.39 265.069 L2232.39 269.004 L2210.44 269.004 L2210.44 265.069 Q2213.1 262.314 2217.69 257.685 Q2222.29 253.032 2223.47 251.689 Q2225.72 249.166 2226.6 247.43 Q2227.5 245.671 2227.5 243.981 Q2227.5 241.226 2225.56 239.49 Q2223.64 237.754 2220.53 237.754 Q2218.33 237.754 2215.88 238.518 Q2213.45 239.282 2210.67 240.833 L2210.67 236.111 Q2213.5 234.976 2215.95 234.398 Q2218.4 233.819 2220.44 233.819 Q2225.81 233.819 2229.01 236.504 Q2232.2 239.189 2232.2 243.68 Q2232.2 245.81 2231.39 247.731 Q2230.6 249.629 2228.5 252.222 Q2227.92 252.893 2224.82 256.111 Q2221.71 259.305 2216.07 265.069 Z\" fill=\"#000000\" fill-rule=\"evenodd\" fill-opacity=\"1\" /></svg>\n"
      ]
     },
     "execution_count": 15,
     "metadata": {},
     "output_type": "execute_result"
    }
   ],
   "source": [
    "nhl_inference_plot(latent_variables[1:1000, :], inferred_variables, :o1)"
   ]
  },
  {
   "cell_type": "code",
   "execution_count": null,
   "metadata": {},
   "outputs": [],
   "source": []
  }
 ],
 "metadata": {
  "kernelspec": {
   "display_name": "Julia 1.4.1",
   "language": "julia",
   "name": "julia-1.4"
  },
  "language_info": {
   "file_extension": ".jl",
   "mimetype": "application/julia",
   "name": "julia",
   "version": "1.4.2"
  }
 },
 "nbformat": 4,
 "nbformat_minor": 4
}
