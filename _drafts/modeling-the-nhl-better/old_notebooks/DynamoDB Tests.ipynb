{
 "cells": [
  {
   "cell_type": "code",
   "execution_count": 21,
   "metadata": {},
   "outputs": [],
   "source": [
    "from pprint import pprint\n",
    "import boto3"
   ]
  },
  {
   "cell_type": "code",
   "execution_count": 18,
   "metadata": {},
   "outputs": [],
   "source": [
    "test_item = {\n",
    "    'League': 'ideal-hockey',\n",
    "    'PredictionDate': '2020-07-21',\n",
    "    'ModelMetadata': {\n",
    "        'fw':'PyMC3',\n",
    "        'model':'v1',\n",
    "        'f':'1.001',\n",
    "        'ws':'60'\n",
    "    },\n",
    "    'ModelVariables': {\n",
    "        'Current': {\n",
    "            'i': ['1.1200', '0.0100'],\n",
    "            'h': ['0.2500', '0.0100'],\n",
    "            'o': {\n",
    "                'team_A': ['0.0000', '0.1500'],\n",
    "                'team_B': ['0.0000', '0.1500'],\n",
    "                'team_C': ['0.0000', '0.1500'],\n",
    "                'team_D': ['0.0000', '0.1500'],\n",
    "                'team_E': ['0.0000', '0.1500'],\n",
    "                'team_F': ['0.0000', '0.1500']\n",
    "            },\n",
    "            'd': {\n",
    "                'team_A': ['0.0000', '0.1500'],\n",
    "                'team_B': ['0.0000', '0.1500'],\n",
    "                'team_C': ['0.0000', '0.1500'],\n",
    "                'team_D': ['0.0000', '0.1500'],\n",
    "                'team_E': ['0.0000', '0.1500'],\n",
    "                'team_F': ['0.0000', '0.1500']\n",
    "            }\n",
    "        },\n",
    "        'Historical': {\n",
    "            \n",
    "        }\n",
    "    },\n",
    "    'GamePredictions': [\n",
    "        {\n",
    "            'gamepk':'gamepk1',\n",
    "            'WinPercentages':['0.4','0.1','0.1','0.4'],\n",
    "            'ScoreProbabilities': {\n",
    "                'home':['0','1','2','3','4','5','6','7','8','9','10',\n",
    "                        '11','12','13','14','15','16','17','18','19','20+'],\n",
    "                'away':['0','1','2','3','4','5','6','7','8','9','10',\n",
    "                        '11','12','13','14','15','16','17','18','19','20+'],\n",
    "            }\n",
    "        },\n",
    "        {\n",
    "            'gamepk':'gamepk2',\n",
    "            'WinPercentages':['0.4','0.1','0.1','0.4'],\n",
    "            'ScoreProbabilities': {\n",
    "                'home':['0','1','2','3','4','5','6','7','8','9','10',\n",
    "                        '11','12','13','14','15','16','17','18','19','20+'],\n",
    "                'away':['0','1','2','3','4','5','6','7','8','9','10',\n",
    "                        '11','12','13','14','15','16','17','18','19','20+'],\n",
    "            }\n",
    "        }\n",
    "    ],\n",
    "    'ModelPerformance': {\n",
    "        'PredAccuracy': '1.00',\n",
    "        'PredLoss': '0.0'\n",
    "    }\n",
    "}"
   ]
  },
  {
   "cell_type": "code",
   "execution_count": 19,
   "metadata": {},
   "outputs": [
    {
     "name": "stdout",
     "output_type": "stream",
     "text": [
      "Put item succeeded:\n"
     ]
    }
   ],
   "source": [
    "dynamodb = boto3.resource('dynamodb')\n",
    "table = dynamodb.Table('bayes-bet-table')\n",
    "\n",
    "response = table.put_item(Item=test_item)\n",
    "print(\"Put item succeeded:\")"
   ]
  },
  {
   "cell_type": "code",
   "execution_count": 20,
   "metadata": {},
   "outputs": [
    {
     "name": "stdout",
     "output_type": "stream",
     "text": [
      "{'ResponseMetadata': {'RequestId': 'OBORMM2TRJ47HUD9REI6V9TEERVV4KQNSO5AEMVJF66Q9ASUAAJG',\n",
      "                      'HTTPStatusCode': 200,\n",
      "                      'HTTPHeaders': {'server': 'Server',\n",
      "                                      'date': 'Thu, 23 Jul 2020 03:10:57 GMT',\n",
      "                                      'content-type': 'application/x-amz-json-1.0',\n",
      "                                      'content-length': '2',\n",
      "                                      'connection': 'keep-alive',\n",
      "                                      'x-amzn-requestid': 'OBORMM2TRJ47HUD9REI6V9TEERVV4KQNSO5AEMVJF66Q9ASUAAJG',\n",
      "                                      'x-amz-crc32': '2745614147'},\n",
      "                      'RetryAttempts': 0}}\n"
     ]
    }
   ],
   "source": [
    "pprint(response, sort_dicts=False)"
   ]
  },
  {
   "cell_type": "code",
   "execution_count": null,
   "metadata": {},
   "outputs": [],
   "source": []
  }
 ],
 "metadata": {
  "kernelspec": {
   "display_name": "Python 3",
   "language": "python",
   "name": "python3"
  },
  "language_info": {
   "codemirror_mode": {
    "name": "ipython",
    "version": 3
   },
   "file_extension": ".py",
   "mimetype": "text/x-python",
   "name": "python",
   "nbconvert_exporter": "python",
   "pygments_lexer": "ipython3",
   "version": "3.8.3"
  }
 },
 "nbformat": 4,
 "nbformat_minor": 4
}
