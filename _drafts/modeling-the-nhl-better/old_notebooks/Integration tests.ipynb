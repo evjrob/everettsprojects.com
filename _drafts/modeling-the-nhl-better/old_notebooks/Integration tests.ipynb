{
 "cells": [
  {
   "cell_type": "code",
   "execution_count": 2,
   "metadata": {},
   "outputs": [
    {
     "data": {
      "text/plain": [
       "(1.6666666666666667, 1.8503717077085944e-14)"
      ]
     },
     "execution_count": 2,
     "metadata": {},
     "output_type": "execute_result"
    }
   ],
   "source": [
    "from scipy.integrate import quad, dblquad\n",
    "from math import factorial, exp, sqrt, pi\n",
    "import numpy as np\n",
    "import matplotlib.pyplot as plt\n",
    "\n",
    "def integrand(x, a, b):\n",
    "    return a*x**2 + b\n",
    "\n",
    "a = 2\n",
    "b = 1\n",
    "I = quad(integrand, 0, 1, args=(a,b))\n",
    "I"
   ]
  },
  {
   "cell_type": "code",
   "execution_count": 3,
   "metadata": {},
   "outputs": [
    {
     "data": {
      "text/plain": [
       "(0.004177039294506781, 1.2136816324931148e-09)"
      ]
     },
     "execution_count": 3,
     "metadata": {},
     "output_type": "execute_result"
    }
   ],
   "source": [
    "def integrand(x, y, s, m):\n",
    "    pois = exp(x*y)*exp(-exp(x))/factorial(y)\n",
    "    norm = exp(-0.5*((x-m)/s)**2)/(s * sqrt(2*pi))\n",
    "    return  pois * norm\n",
    "\n",
    "y = 0\n",
    "m = 1.75\n",
    "s = 0.15\n",
    "I = quad(integrand, -10, 10, args=(y,s,m))\n",
    "I"
   ]
  },
  {
   "cell_type": "code",
   "execution_count": 4,
   "metadata": {},
   "outputs": [],
   "source": [
    "y = np.arange(0,21)\n",
    "p = []\n",
    "for yi in y:\n",
    "    I = quad(integrand, -10, 10, args=(yi,s,m))\n",
    "    p.append(I[0])"
   ]
  },
  {
   "cell_type": "code",
   "execution_count": 5,
   "metadata": {},
   "outputs": [
    {
     "data": {
      "text/plain": [
       "<function matplotlib.pyplot.plot(*args, scalex=True, scaley=True, data=None, **kwargs)>"
      ]
     },
     "execution_count": 5,
     "metadata": {},
     "output_type": "execute_result"
    },
    {
     "data": {
      "image/png": "[encoded data removed]",
      "text/plain": [
       "<Figure size 432x288 with 1 Axes>"
      ]
     },
     "metadata": {
      "needs_background": "light"
     },
     "output_type": "display_data"
    }
   ],
   "source": [
    "plt.bar(y, p, color='b')\n",
    "plt.plot"
   ]
  },
  {
   "cell_type": "code",
   "execution_count": 6,
   "metadata": {},
   "outputs": [],
   "source": [
    "lamb = np.sum([y[i]*p[i] for i in range(len(y))])"
   ]
  },
  {
   "cell_type": "code",
   "execution_count": 7,
   "metadata": {},
   "outputs": [
    {
     "data": {
      "text/plain": [
       "5.8195370497570895"
      ]
     },
     "execution_count": 7,
     "metadata": {},
     "output_type": "execute_result"
    }
   ],
   "source": [
    "lamb"
   ]
  },
  {
   "cell_type": "code",
   "execution_count": 8,
   "metadata": {},
   "outputs": [],
   "source": [
    "real_pois = []\n",
    "for yi in y:\n",
    "    I = (lamb**yi) * exp(-lamb) / factorial(yi)\n",
    "    real_pois.append(I)"
   ]
  },
  {
   "cell_type": "code",
   "execution_count": 12,
   "metadata": {},
   "outputs": [
    {
     "data": {
      "text/plain": [
       "<function matplotlib.pyplot.plot(*args, scalex=True, scaley=True, data=None, **kwargs)>"
      ]
     },
     "execution_count": 12,
     "metadata": {},
     "output_type": "execute_result"
    },
    {
     "data": {
      "image/png": "[encoded data removed]",
      "text/plain": [
       "<Figure size 432x288 with 1 Axes>"
      ]
     },
     "metadata": {
      "needs_background": "light"
     },
     "output_type": "display_data"
    }
   ],
   "source": [
    "plt.bar(y, p, color='b', alpha = 0.4)\n",
    "plt.bar(y, real_pois, color='r', alpha = 0.4)\n",
    "plt.plot"
   ]
  },
  {
   "cell_type": "code",
   "execution_count": 201,
   "metadata": {},
   "outputs": [
    {
     "data": {
      "text/plain": [
       "(0.3943896909286598, 1.4724357315562116e-08)"
      ]
     },
     "execution_count": 201,
     "metadata": {},
     "output_type": "execute_result"
    }
   ],
   "source": [
    "def dblintegrand(y, x, log_λₕ_μ, log_λₕ_σ, log_λₐ_μ, log_λₐ_σ):\n",
    "    normₕ = exp(-0.5*((x-log_λₕ_μ)/log_λₕ_σ)**2)/(log_λₕ_σ * sqrt(2*pi))\n",
    "    normₐ = exp(-0.5*((y-log_λₐ_μ)/log_λₐ_σ)**2)/(log_λₐ_σ * sqrt(2*pi))\n",
    "    λₕ = exp(x)\n",
    "    λₐ = exp(y)\n",
    "    p = normₐ*normₕ*λₕ/(λₕ + λₐ)\n",
    "    return p\n",
    "\n",
    "log_λₕ_μ = 1.0 + 0.2 + -0.249 - 0.028\n",
    "log_λₕ_σ = 0.15\n",
    "log_λₐ_μ = 1.0 + 0.1758 - -0.1808\n",
    "log_λₐ_σ = 0.15\n",
    "\n",
    "lwr = -10\n",
    "upr = 10\n",
    "\n",
    "I = dblquad(dblintegrand, lwr, upr, lwr, upr, args=(log_λₕ_μ, log_λₕ_σ, log_λₐ_μ, log_λₐ_σ))\n",
    "I"
   ]
  },
  {
   "cell_type": "code",
   "execution_count": 203,
   "metadata": {},
   "outputs": [
    {
     "data": {
      "text/plain": [
       "(0.4158698581813421, 1.2575018799979517e-08)"
      ]
     },
     "execution_count": 203,
     "metadata": {},
     "output_type": "execute_result"
    }
   ],
   "source": [
    "def dblintegrand(y, x, log_λₕ_μ, log_λₕ_σ, log_λₐ_μ, log_λₐ_σ):\n",
    "    normₕ = exp(-0.5*((x-log_λₕ_μ)/log_λₕ_σ)**2)/(log_λₕ_σ * sqrt(2*pi))\n",
    "    normₐ = exp(-0.5*((y-log_λₐ_μ)/log_λₐ_σ)**2)/(log_λₐ_σ * sqrt(2*pi))\n",
    "    λₕ = exp(x)\n",
    "    λₐ = exp(y)\n",
    "    p = normₐ*normₕ*(1 - exp(-1*(λₕ*t + λₐ*t)))\n",
    "    return p\n",
    "\n",
    "log_λₕ_μ = 1.0 + 0.2 + -0.249 - 0.028\n",
    "log_λₕ_σ = 0.15\n",
    "log_λₐ_μ = 1.0 + 0.1758 - -0.1808\n",
    "log_λₐ_σ = 0.15\n",
    "t = 5/60\n",
    "\n",
    "lwr = -10\n",
    "upr = 10\n",
    "\n",
    "I = dblquad(dblintegrand, lwr, upr, lwr, upr, args=(log_λₕ_μ, log_λₕ_σ, log_λₐ_μ, log_λₐ_σ))\n",
    "I"
   ]
  },
  {
   "cell_type": "code",
   "execution_count": null,
   "metadata": {},
   "outputs": [],
   "source": []
  },
  {
   "cell_type": "code",
   "execution_count": null,
   "metadata": {},
   "outputs": [],
   "source": []
  }
 ],
 "metadata": {
  "kernelspec": {
   "display_name": "Python 3",
   "language": "python",
   "name": "python3"
  },
  "language_info": {
   "codemirror_mode": {
    "name": "ipython",
    "version": 3
   },
   "file_extension": ".py",
   "mimetype": "text/x-python",
   "name": "python",
   "nbconvert_exporter": "python",
   "pygments_lexer": "ipython3",
   "version": "3.8.3"
  }
 },
 "nbformat": 4,
 "nbformat_minor": 2
}
