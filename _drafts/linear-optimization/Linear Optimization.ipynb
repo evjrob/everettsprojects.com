{
 "cells": [
  {
   "cell_type": "code",
   "execution_count": 4,
   "metadata": {},
   "outputs": [
    {
     "data": {
      "image/png": "[encoded data removed]",
      "text/plain": [
       "<matplotlib.figure.Figure at 0x7f484c65c9d0>"
      ]
     },
     "metadata": {},
     "output_type": "display_data"
    }
   ],
   "source": [
    "import networkx as nx\n",
    "import matplotlib.pyplot as plt\n",
    "\n",
    "G=nx.Graph()\n",
    "G.add_node(\"CPF\")\n",
    "\n",
    "G.add_nodes_from([\"Pad1\",\n",
    "                  \"Pad2\",\n",
    "                  \"Pad3\",\n",
    "                  \"Pad4\",\n",
    "                  \"Pad5\",\n",
    "                  \"Pad6\"])\n",
    "\n",
    "G.add_edges_from([(\"CPF\",\"Pad1\"),\n",
    "                  (\"CPF\",\"Pad2\"),\n",
    "                  (\"Pad1\",\"Pad3\"),\n",
    "                  (\"Pad1\",\"Pad4\"),\n",
    "                  (\"Pad2\",\"Pad5\"),\n",
    "                  (\"Pad2\",\"Pad6\")])\n",
    "nx.draw(G)\n",
    "plt.show()"
   ]
  },
  {
   "cell_type": "code",
   "execution_count": null,
   "metadata": {},
   "outputs": [],
   "source": []
  },
  {
   "cell_type": "code",
   "execution_count": null,
   "metadata": {},
   "outputs": [],
   "source": []
  },
  {
   "cell_type": "code",
   "execution_count": null,
   "metadata": {},
   "outputs": [],
   "source": []
  }
 ],
 "metadata": {
  "kernelspec": {
   "display_name": "python3",
   "language": "python",
   "name": "python3"
  },
  "language_info": {
   "codemirror_mode": {
    "name": "ipython",
    "version": 2
   },
   "file_extension": ".py",
   "mimetype": "text/x-python",
   "name": "python",
   "nbconvert_exporter": "python",
   "pygments_lexer": "ipython2",
   "version": "2.7.12"
  }
 },
 "nbformat": 4,
 "nbformat_minor": 2
}
