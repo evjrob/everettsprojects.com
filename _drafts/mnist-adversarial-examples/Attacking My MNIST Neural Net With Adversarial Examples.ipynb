{
 "cells": [
  {
   "cell_type": "markdown",
   "metadata": {},
   "source": [
    "Convolutional neural networks appear to be wildly successful at image recognition tasks, but they are far from perfect despite their success in this area. They are known to be susceptible to attacks called adversarial examples, in which an image that is clearly of one class to a human observer can be imperceptably modified in such a way that the neural network begins to misclassify the example when a human would not.\n",
    "\n",
    "In this post  will explore the topic of adversrial examples using the [Convolutional Neural Network I created for a Kaggle competition](http://everettsprojects.com/2018/01/13/MNIST-CNN.html) and then later [visualized](http://everettsprojects.com/2018/01/17/mnist-visualization.html). To do so I will use new hand drawn digits that the neural network has never seen before, and show that the neural network correctly classifies them. I will then use a library called [CleverHans](https://github.com/tensorflow/cleverhans) to compute the necessary perturbations to push the model into classifing that digit as each of the other nine possible digits. These perturbed examples will be visualized to show that the changes required for misclassification are often not as significant as you might expect."
   ]
  },
  {
   "cell_type": "code",
   "execution_count": 1,
   "metadata": {
    "collapsed": false
   },
   "outputs": [],
   "source": [
    "from sklearn.model_selection import train_test_split\n",
    "import pandas as pd\n",
    "\n",
    "'''\n",
    "Split the provided training data to create a new training\n",
    "data set and a new validation data set. These will be used\n",
    "or hyper-parameter tuning.\n",
    "'''\n",
    "\n",
    "# For reproducibility\n",
    "seed = 27\n",
    "\n",
    "raw_data = pd.read_csv(\"input/train.csv\")\n",
    "\n",
    "train, validate = train_test_split(raw_data, test_size=0.1, random_state = seed, stratify = raw_data['label'])\n",
    "\n",
    "# Split into input (X) and output (Y) variables\n",
    "x_validation = validate.values[:,1:].reshape(4200,28,28, 1)\n",
    "y_validation = validate.values[:,0]"
   ]
  },
  {
   "cell_type": "code",
   "execution_count": 2,
   "metadata": {
    "collapsed": false
   },
   "outputs": [
    {
     "name": "stderr",
     "output_type": "stream",
     "text": [
      "/home/everett/.local/lib/python3.6/site-packages/h5py/__init__.py:36: FutureWarning: Conversion of the second argument of issubdtype from `float` to `np.floating` is deprecated. In future, it will be treated as `np.float64 == np.dtype(float).type`.\n",
      "  from ._conv import register_converters as _register_converters\n",
      "Using TensorFlow backend.\n",
      "/usr/lib/python3.6/importlib/_bootstrap.py:219: RuntimeWarning: compiletime version 3.5 of module 'tensorflow.python.framework.fast_tensor_util' does not match runtime version 3.6\n",
      "  return f(*args, **kwds)\n"
     ]
    }
   ],
   "source": [
    "from __future__ import absolute_import\n",
    "from __future__ import division\n",
    "from __future__ import print_function\n",
    "from __future__ import unicode_literals\n",
    "\n",
    "import numpy as np\n",
    "import keras\n",
    "from keras import backend\n",
    "from keras.models import load_model\n",
    "import tensorflow as tf\n",
    "from tensorflow.python.platform import flags\n",
    "\n",
    "from cleverhans.utils_mnist import data_mnist\n",
    "from cleverhans.utils_tf import model_train, model_eval\n",
    "from cleverhans.attacks import FastGradientMethod\n",
    "from cleverhans.utils import AccuracyReport\n",
    "from cleverhans.utils_keras import cnn_model\n",
    "from cleverhans.utils_keras import KerasModelWrapper\n",
    "\n",
    "# Set the learning phase to false, the model is pre-trained.\n",
    "backend.set_learning_phase(False)\n",
    "keras_model = load_model('models/Jan-13-2018.hdf5')"
   ]
  },
  {
   "cell_type": "code",
   "execution_count": 3,
   "metadata": {
    "collapsed": false
   },
   "outputs": [
    {
     "name": "stdout",
     "output_type": "stream",
     "text": [
      "The normal validation accuracy is: 0.9973809523809524\n"
     ]
    }
   ],
   "source": [
    "testing = False\n",
    "train_start = 0\n",
    "train_end = 60000\n",
    "test_start = 0\n",
    "test_end=10000\n",
    "batch_size = 512\n",
    "\n",
    "# Object used to keep track of (and return) key accuracies\n",
    "report = AccuracyReport()\n",
    "\n",
    "# Set TF random seed to improve reproducibility\n",
    "tf.set_random_seed(1234)\n",
    "\n",
    "if not hasattr(backend, \"tf\"):\n",
    "    raise RuntimeError(\"This tutorial requires keras to be configured\"\n",
    "                       \" to use the TensorFlow backend.\")\n",
    "\n",
    "if keras.backend.image_dim_ordering() != 'tf':\n",
    "    keras.backend.set_image_dim_ordering('tf')\n",
    "    print(\"INFO: '~/.keras/keras.json' sets 'image_dim_ordering' to \"\n",
    "          \"'th', temporarily setting to 'tf'\")\n",
    "\n",
    "# Retrieve the tensorflow session\n",
    "sess =  backend.get_session()\n",
    "\n",
    "# Define input TF placeholder\n",
    "x = tf.placeholder(tf.float32, shape=(None, 28, 28, 1))\n",
    "y = tf.placeholder(tf.float32, shape=(None, 10))\n",
    "\n",
    "# Evaluate the model's accuracy on the validation data used in training\n",
    "x_validation = x_validation.astype('float32')\n",
    "x_validation /= 255\n",
    "\n",
    "pred = np.argmax(keras_model.predict(x_validation), axis = 1)\n",
    "validation_accuracy =  np.mean(np.equal(pred, y_validation))\n",
    "\n",
    "print(\"The normal validation accuracy is: {}\".format(validation_accuracy))"
   ]
  },
  {
   "cell_type": "code",
   "execution_count": 7,
   "metadata": {
    "collapsed": false
   },
   "outputs": [
    {
     "name": "stdout",
     "output_type": "stream",
     "text": [
      "The adversarial validation accuracy is: 0.2007142857142857\n"
     ]
    }
   ],
   "source": [
    "# Initialize the Fast Gradient Sign Method (FGSM) attack object and \n",
    "# use it to create adversarial examples as numpy arrays.\n",
    "wrap = KerasModelWrapper(keras_model)\n",
    "fgsm = FastGradientMethod(wrap, sess=sess)\n",
    "fgsm_params = {'eps': 0.3,\n",
    "               'clip_min': 0.,\n",
    "               'clip_max': 1.}\n",
    "adv_x = fgsm.generate_np(x_validation, **fgsm_params)\n",
    "\n",
    "adv_pred = np.argmax(keras_model.predict(adv_x), axis = 1)\n",
    "adv_accuracy =  np.mean(np.equal(adv_pred, y_validation))\n",
    "\n",
    "print(\"The adversarial validation accuracy is: {}\".format(adv_accuracy))"
   ]
  },
  {
   "cell_type": "code",
   "execution_count": 33,
   "metadata": {
    "collapsed": false
   },
   "outputs": [
    {
     "data": {
      "image/png": "[encoded data removed]",
      "text/plain": [
       "<matplotlib.figure.Figure at 0x7fa6c1301748>"
      ]
     },
     "metadata": {},
     "output_type": "display_data"
    }
   ],
   "source": [
    "from matplotlib import pyplot as plt\n",
    "\n",
    "# Set the matplotlib figure size\n",
    "plt.rc('figure', figsize = (12.0, 12.0))\n",
    "\n",
    "# Dimensions of the images\n",
    "img_width = 28\n",
    "img_height = 28\n",
    "\n",
    "# Define a function that stitches the 28 * 28 numpy arrays\n",
    "# together into a collage.\n",
    "def stitch_images(images, y_img_count, x_img_count):\n",
    "    margin = 2\n",
    "    width = y_img_count * img_width + (y_img_count - 1) * margin\n",
    "    height = x_img_count * img_height + (x_img_count - 1) * margin\n",
    "    stitched_images = np.zeros((width, height))\n",
    "\n",
    "    # Fill the picture with our saved filters\n",
    "    for i in range(y_img_count):\n",
    "        for j in range(x_img_count):\n",
    "            img = images[i * x_img_count + j]\n",
    "            stitched_images[(img_width + margin) * i: (img_width + margin) * i + img_width,\n",
    "                            (img_height + margin) * j: (img_height + margin) * j + img_height] = img\n",
    "\n",
    "    return stitched_images\n",
    "\n",
    "x_sample = x_validation[4].reshape(28, 28)\n",
    "adv_x_sample = adv_x[4].reshape(28, 28)\n",
    "\n",
    "adv_comparison = stitch_images([x_sample, adv_x_sample], 1, 2)\n",
    "\n",
    "plt.imshow(adv_comparison, cmap = 'gray')\n",
    "plt.show()"
   ]
  },
  {
   "cell_type": "code",
   "execution_count": 34,
   "metadata": {
    "collapsed": false
   },
   "outputs": [
    {
     "name": "stdout",
     "output_type": "stream",
     "text": [
      "[0]\n",
      "[9]\n"
     ]
    }
   ],
   "source": [
    "print(np.argmax(keras_model.predict(x_sample.reshape(1, 28, 28, 1)), axis = 1))\n",
    "print(np.argmax(keras_model.predict(adv_x_sample.reshape(1, 28, 28, 1)), axis = 1))"
   ]
  },
  {
   "cell_type": "code",
   "execution_count": null,
   "metadata": {
    "collapsed": false
   },
   "outputs": [],
   "source": []
  },
  {
   "cell_type": "code",
   "execution_count": null,
   "metadata": {
    "collapsed": true
   },
   "outputs": [],
   "source": []
  }
 ],
 "metadata": {
  "kernelspec": {
   "display_name": "Python 3",
   "language": "python",
   "name": "python3"
  },
  "language_info": {
   "codemirror_mode": {
    "name": "ipython",
    "version": 3
   },
   "file_extension": ".py",
   "mimetype": "text/x-python",
   "name": "python",
   "nbconvert_exporter": "python",
   "pygments_lexer": "ipython3",
   "version": "3.6.3"
  }
 },
 "nbformat": 4,
 "nbformat_minor": 2
}
