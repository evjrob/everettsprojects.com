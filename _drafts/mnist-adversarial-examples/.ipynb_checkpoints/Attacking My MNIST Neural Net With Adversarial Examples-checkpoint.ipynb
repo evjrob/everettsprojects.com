{
 "cells": [
  {
   "cell_type": "markdown",
   "metadata": {},
   "source": [
    "Convolutional neural networks appear to be wildly successful at image recognition tasks, but they are far from perfect despite their success in this area. They are known to be susceptible to attacks called adversarial examples, in which an image that is clearly of one class to a human observer can be imperceptably modified in such a way that the neural network begins to misclassify the example when a human would not.\n",
    "\n",
    "In this post  will explore the topic of adversrial examples using the [Convolutional Neural Network I created for a Kaggle competition](http://everettsprojects.com/2018/01/13/MNIST-CNN.html) and then later [visualized](http://everettsprojects.com/2018/01/17/mnist-visualization.html). To do so I will use new hand drawn digits that the neural network has never seen before, and show that the neural network correctly classifies them. I will then compute the necessary perturbations to push the model into classifing that digit as each of the other nine possible digits. These perturbed examples will be visualized to show that the changes required for misclassification are often not as significant as you might expect."
   ]
  },
  {
   "cell_type": "code",
   "execution_count": null,
   "metadata": {
    "collapsed": true
   },
   "outputs": [],
   "source": []
  },
  {
   "cell_type": "code",
   "execution_count": null,
   "metadata": {
    "collapsed": false
   },
   "outputs": [],
   "source": []
  },
  {
   "cell_type": "code",
   "execution_count": null,
   "metadata": {
    "collapsed": true
   },
   "outputs": [],
   "source": []
  }
 ],
 "metadata": {
  "kernelspec": {
   "display_name": "Python 3",
   "language": "python",
   "name": "python3"
  },
  "language_info": {
   "codemirror_mode": {
    "name": "ipython",
    "version": 3
   },
   "file_extension": ".py",
   "mimetype": "text/x-python",
   "name": "python",
   "nbconvert_exporter": "python",
   "pygments_lexer": "ipython3",
   "version": "3.6.3"
  }
 },
 "nbformat": 4,
 "nbformat_minor": 2
}
